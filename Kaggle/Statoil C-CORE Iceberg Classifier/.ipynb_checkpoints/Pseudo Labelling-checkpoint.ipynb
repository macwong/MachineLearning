{
 "cells": [
  {
   "cell_type": "markdown",
   "metadata": {},
   "source": [
    "Pseudo labelling and splitting data by angle"
   ]
  },
  {
   "cell_type": "code",
   "execution_count": 29,
   "metadata": {},
   "outputs": [
    {
     "name": "stdout",
     "output_type": "stream",
     "text": [
      "The autoreload extension is already loaded. To reload it, use:\n",
      "  %reload_ext autoreload\n"
     ]
    }
   ],
   "source": [
    "%load_ext autoreload\n",
    "%autoreload 2\n",
    "\n",
    "import numpy as np # linear algebra\n",
    "import pandas as pd # data processing, CSV file I/O (e.g. pd.read_csv)\n",
    "import pdb\n",
    "from sklearn.model_selection import train_test_split\n",
    "from keras.utils.np_utils import to_categorical\n",
    "from keras import backend as K\n",
    "from matplotlib import pyplot as plt\n",
    "%matplotlib inline\n",
    "import scipy\n",
    "from scipy import misc, ndimage\n",
    "from scipy.ndimage.interpolation import zoom\n",
    "from scipy.ndimage import imread\n",
    "import helpers\n",
    "from models import DaveModel\n"
   ]
  },
  {
   "cell_type": "code",
   "execution_count": 10,
   "metadata": {
    "collapsed": true
   },
   "outputs": [],
   "source": [
    "train = pd.read_json(\"_RawData/train.json/data/processed/train.json\")\n",
    "test = pd.read_json(\"_RawData/test.json/data/processed/test.json\")"
   ]
  },
  {
   "cell_type": "code",
   "execution_count": 11,
   "metadata": {
    "collapsed": true
   },
   "outputs": [],
   "source": [
    "X = helpers.get_images(train)"
   ]
  },
  {
   "cell_type": "code",
   "execution_count": 12,
   "metadata": {
    "collapsed": true
   },
   "outputs": [],
   "source": [
    "y = to_categorical(train.is_iceberg.values,num_classes=2)"
   ]
  },
  {
   "cell_type": "code",
   "execution_count": 13,
   "metadata": {
    "collapsed": true
   },
   "outputs": [],
   "source": [
    "Xtr, Xv, ytr, yv = train_test_split(X, y, shuffle=False, test_size=0.20)"
   ]
  },
  {
   "cell_type": "code",
   "execution_count": 30,
   "metadata": {},
   "outputs": [
    {
     "name": "stdout",
     "output_type": "stream",
     "text": [
      "test\n"
     ]
    }
   ],
   "source": [
    "# Create the model and compile\n",
    "model = DaveModel(Xtr, ytr, Xv, yv)"
   ]
  },
  {
   "cell_type": "code",
   "execution_count": 31,
   "metadata": {},
   "outputs": [
    {
     "name": "stdout",
     "output_type": "stream",
     "text": [
      "Batch Size: 32\n",
      "Epochs: 50\n",
      "Epoch 1/50\n",
      "41/40 [==============================] - 2s - loss: 0.5683 - acc: 0.6957 - val_loss: 0.6852 - val_acc: 0.6573\n",
      "Epoch 2/50\n",
      "41/40 [==============================] - 1s - loss: 0.4775 - acc: 0.7434 - val_loss: 0.6739 - val_acc: 0.6573\n",
      "Epoch 3/50\n",
      "41/40 [==============================] - 1s - loss: 0.4483 - acc: 0.7735 - val_loss: 0.6474 - val_acc: 0.6573\n",
      "Epoch 4/50\n",
      "41/40 [==============================] - 1s - loss: 0.4227 - acc: 0.7918 - val_loss: 0.6387 - val_acc: 0.6573\n",
      "Epoch 5/50\n",
      "41/40 [==============================] - 1s - loss: 0.3960 - acc: 0.8038 - val_loss: 0.6297 - val_acc: 0.6573\n",
      "Epoch 6/50\n",
      "41/40 [==============================] - 1s - loss: 0.3881 - acc: 0.7950 - val_loss: 0.6221 - val_acc: 0.6573\n",
      "Epoch 7/50\n",
      "41/40 [==============================] - 1s - loss: 0.3521 - acc: 0.8399 - val_loss: 0.6936 - val_acc: 0.6573\n",
      "Epoch 8/50\n",
      "41/40 [==============================] - 2s - loss: 0.3472 - acc: 0.8380 - val_loss: 0.7239 - val_acc: 0.6511\n",
      "Epoch 9/50\n",
      "41/40 [==============================] - 2s - loss: 0.3680 - acc: 0.8110 - val_loss: 0.7223 - val_acc: 0.6542\n",
      "Epoch 10/50\n",
      "41/40 [==============================] - 2s - loss: 0.3488 - acc: 0.8288 - val_loss: 0.7466 - val_acc: 0.6511\n",
      "Epoch 11/50\n",
      "41/40 [==============================] - 1s - loss: 0.3173 - acc: 0.8521 - val_loss: 0.5936 - val_acc: 0.6947\n",
      "Epoch 12/50\n",
      "41/40 [==============================] - 1s - loss: 0.3423 - acc: 0.8415 - val_loss: 0.4807 - val_acc: 0.7726\n",
      "Epoch 13/50\n",
      "41/40 [==============================] - 1s - loss: 0.3161 - acc: 0.8536 - val_loss: 0.3627 - val_acc: 0.8037\n",
      "Epoch 14/50\n",
      "41/40 [==============================] - 1s - loss: 0.3081 - acc: 0.8502 - val_loss: 0.3823 - val_acc: 0.7850\n",
      "Epoch 15/50\n",
      "41/40 [==============================] - 1s - loss: 0.3000 - acc: 0.8604 - val_loss: 0.3491 - val_acc: 0.8318\n",
      "Epoch 16/50\n",
      "41/40 [==============================] - 1s - loss: 0.3000 - acc: 0.8540 - val_loss: 0.3448 - val_acc: 0.8318\n",
      "Epoch 17/50\n",
      "41/40 [==============================] - 1s - loss: 0.3241 - acc: 0.8343 - val_loss: 0.3259 - val_acc: 0.8349\n",
      "Epoch 18/50\n",
      "41/40 [==============================] - 1s - loss: 0.3174 - acc: 0.8586 - val_loss: 0.3366 - val_acc: 0.8287\n",
      "Epoch 19/50\n",
      "41/40 [==============================] - 1s - loss: 0.3124 - acc: 0.8522 - val_loss: 0.3432 - val_acc: 0.8349\n",
      "Epoch 20/50\n",
      "41/40 [==============================] - 1s - loss: 0.3072 - acc: 0.8540 - val_loss: 0.3505 - val_acc: 0.8162\n",
      "Epoch 21/50\n",
      "41/40 [==============================] - 1s - loss: 0.2830 - acc: 0.8658 - val_loss: 0.3191 - val_acc: 0.86600.8\n",
      "Epoch 22/50\n",
      "41/40 [==============================] - 1s - loss: 0.2916 - acc: 0.8620 - val_loss: 0.3119 - val_acc: 0.8567\n",
      "Epoch 23/50\n",
      "41/40 [==============================] - 1s - loss: 0.2829 - acc: 0.8670 - val_loss: 0.3330 - val_acc: 0.8349\n",
      "Epoch 24/50\n",
      "41/40 [==============================] - 1s - loss: 0.2727 - acc: 0.8772 - val_loss: 0.3326 - val_acc: 0.8131\n",
      "Epoch 25/50\n",
      "41/40 [==============================] - 1s - loss: 0.2916 - acc: 0.8601 - val_loss: 0.3027 - val_acc: 0.8972\n",
      "Epoch 26/50\n",
      "41/40 [==============================] - 1s - loss: 0.2715 - acc: 0.8749 - val_loss: 0.2927 - val_acc: 0.8785\n",
      "Epoch 27/50\n",
      "41/40 [==============================] - 1s - loss: 0.2886 - acc: 0.8583 - val_loss: 0.3286 - val_acc: 0.8785\n",
      "Epoch 28/50\n",
      "41/40 [==============================] - 1s - loss: 0.3007 - acc: 0.8635 - val_loss: 0.3542 - val_acc: 0.8131\n",
      "Epoch 29/50\n",
      "41/40 [==============================] - 1s - loss: 0.2829 - acc: 0.8537 - val_loss: 0.3472 - val_acc: 0.8162\n",
      "Epoch 30/50\n",
      "41/40 [==============================] - 1s - loss: 0.2948 - acc: 0.8658 - val_loss: 0.3034 - val_acc: 0.8847\n",
      "Epoch 31/50\n",
      "41/40 [==============================] - 1s - loss: 0.2655 - acc: 0.8719 - val_loss: 0.3120 - val_acc: 0.8660\n",
      "Epoch 32/50\n",
      "41/40 [==============================] - 1s - loss: 0.2789 - acc: 0.8746 - val_loss: 0.3342 - val_acc: 0.8193\n",
      "Epoch 33/50\n",
      "41/40 [==============================] - 1s - loss: 0.2714 - acc: 0.8826 - val_loss: 0.3089 - val_acc: 0.8629\n",
      "Epoch 34/50\n",
      "41/40 [==============================] - 1s - loss: 0.2747 - acc: 0.8708 - val_loss: 0.3393 - val_acc: 0.8536\n",
      "Epoch 35/50\n",
      "41/40 [==============================] - 1s - loss: 0.2754 - acc: 0.8689 - val_loss: 0.3092 - val_acc: 0.8536\n",
      "Epoch 36/50\n",
      "41/40 [==============================] - 1s - loss: 0.2752 - acc: 0.8742 - val_loss: 0.3620 - val_acc: 0.8193\n",
      "Epoch 37/50\n",
      "41/40 [==============================] - 1s - loss: 0.2708 - acc: 0.8677 - val_loss: 0.3029 - val_acc: 0.8847\n",
      "Epoch 38/50\n",
      "41/40 [==============================] - 1s - loss: 0.2647 - acc: 0.8795 - val_loss: 0.2949 - val_acc: 0.8692\n",
      "Epoch 39/50\n",
      "41/40 [==============================] - 1s - loss: 0.2753 - acc: 0.8784 - val_loss: 0.3265 - val_acc: 0.8380\n",
      "Epoch 40/50\n",
      "41/40 [==============================] - 1s - loss: 0.2562 - acc: 0.8864 - val_loss: 0.3444 - val_acc: 0.8069\n",
      "Epoch 41/50\n",
      "41/40 [==============================] - 1s - loss: 0.2499 - acc: 0.8940 - val_loss: 0.3308 - val_acc: 0.8193\n",
      "Epoch 42/50\n",
      "41/40 [==============================] - 1s - loss: 0.2611 - acc: 0.8815 - val_loss: 0.3018 - val_acc: 0.8629\n",
      "Epoch 43/50\n",
      "41/40 [==============================] - 1s - loss: 0.2421 - acc: 0.8879 - val_loss: 0.3079 - val_acc: 0.8411\n",
      "Epoch 44/50\n",
      "41/40 [==============================] - 1s - loss: 0.2336 - acc: 0.8940 - val_loss: 0.2817 - val_acc: 0.8941\n",
      "Epoch 45/50\n",
      "41/40 [==============================] - 1s - loss: 0.2568 - acc: 0.8697 - val_loss: 0.3249 - val_acc: 0.8318\n",
      "Epoch 46/50\n",
      "41/40 [==============================] - 1s - loss: 0.2729 - acc: 0.8761 - val_loss: 0.3144 - val_acc: 0.8754\n",
      "Epoch 47/50\n",
      "41/40 [==============================] - 1s - loss: 0.2700 - acc: 0.8716 - val_loss: 0.3286 - val_acc: 0.8505\n",
      "Epoch 48/50\n",
      "41/40 [==============================] - 1s - loss: 0.2464 - acc: 0.8948 - val_loss: 0.3538 - val_acc: 0.8255\n",
      "Epoch 49/50\n",
      "41/40 [==============================] - 1s - loss: 0.2435 - acc: 0.8894 - val_loss: 0.3862 - val_acc: 0.7975\n",
      "Epoch 50/50\n",
      "41/40 [==============================] - 1s - loss: 0.2575 - acc: 0.8792 - val_loss: 0.2925 - val_acc: 0.8879\n"
     ]
    }
   ],
   "source": [
    "model.train(32, 50)"
   ]
  },
  {
   "cell_type": "code",
   "execution_count": null,
   "metadata": {
    "collapsed": true
   },
   "outputs": [],
   "source": []
  }
 ],
 "metadata": {
  "kernelspec": {
   "display_name": "Python 3",
   "language": "python",
   "name": "python3"
  },
  "language_info": {
   "codemirror_mode": {
    "name": "ipython",
    "version": 3
   },
   "file_extension": ".py",
   "mimetype": "text/x-python",
   "name": "python",
   "nbconvert_exporter": "python",
   "pygments_lexer": "ipython3",
   "version": "3.5.2"
  }
 },
 "nbformat": 4,
 "nbformat_minor": 2
}
