{
 "cells": [
  {
   "cell_type": "code",
   "execution_count": 7,
   "metadata": {},
   "outputs": [
    {
     "name": "stdout",
     "output_type": "stream",
     "text": [
      "The autoreload extension is already loaded. To reload it, use:\n",
      "  %reload_ext autoreload\n"
     ]
    }
   ],
   "source": [
    "%load_ext autoreload\n",
    "%autoreload 2\n",
    "\n",
    "import numpy as np # linear algebra\n",
    "import pandas as pd # data processing, CSV file I/O (e.g. pd.read_csv)\n",
    "import pdb\n",
    "from sklearn.model_selection import train_test_split\n",
    "from keras.utils.np_utils import to_categorical\n",
    "from keras import backend as K\n",
    "from matplotlib import pyplot as plt\n",
    "%matplotlib inline\n",
    "import scipy\n",
    "from scipy import misc, ndimage\n",
    "from scipy.ndimage.interpolation import zoom\n",
    "from scipy.ndimage import imread\n",
    "import helpers\n",
    "from models import DaveModel, DaveVGG, DaveVGG19, SimpleModel, LeNetModel\n",
    "from trainer import Trainer"
   ]
  },
  {
   "cell_type": "code",
   "execution_count": 2,
   "metadata": {
    "collapsed": true
   },
   "outputs": [],
   "source": [
    "train = pd.read_json(\"_RawData/train.json/data/processed/train.json\")\n",
    "test = pd.read_json(\"_RawData/test.json/data/processed/test.json\")"
   ]
  },
  {
   "cell_type": "code",
   "execution_count": 3,
   "metadata": {
    "collapsed": true
   },
   "outputs": [],
   "source": [
    "X = helpers.get_images(train)\n",
    "X_test = helpers.get_images(test)"
   ]
  },
  {
   "cell_type": "code",
   "execution_count": 4,
   "metadata": {
    "collapsed": true
   },
   "outputs": [],
   "source": [
    "y = to_categorical(train.is_iceberg.values,num_classes=2)"
   ]
  },
  {
   "cell_type": "code",
   "execution_count": 60,
   "metadata": {
    "collapsed": true
   },
   "outputs": [],
   "source": [
    "# Xtr, Xv, ytr, yv = train_test_split(X, y, shuffle=False, test_size=0.20)\n",
    "Xtr, Xv, ytr, yv = train_test_split(train, y, shuffle=False, test_size=0.20)\n",
    "X_angle = Xtr[\"inc_angle\"]\n",
    "Xtr = helpers.get_images(Xtr)\n",
    "Xv = helpers.get_images(Xv)"
   ]
  },
  {
   "cell_type": "code",
   "execution_count": 52,
   "metadata": {},
   "outputs": [],
   "source": [
    "from keras.layers import Input, concatenate, Dense, Dropout\n",
    "from keras.models import Model\n",
    "from keras.optimizers import Adam\n",
    "from models import DaveBaseModel\n",
    "\n",
    "class DaveModelAngle(DaveBaseModel):\n",
    "    def get_model(self):\n",
    "        \n",
    "        model = DaveModel(self.Xtr, self.ytr, self.Xv, self.yv)\n",
    "        model.model.layers.pop()\n",
    "        x = model.model.output\n",
    "\n",
    "        input_2 = Input(shape=[1], name=\"angle\")\n",
    "        angle_layer = Dense(1, )(input_2)\n",
    "        x = concatenate([x, angle_layer])\n",
    "        x = Dense(512, activation='relu', name='fc2')(x)\n",
    "        x = Dropout(0.3)(x)\n",
    "        x = Dense(512, activation='relu', name='fc3')(x)\n",
    "        x = Dropout(0.3)(x)\n",
    "        \n",
    "        predictions = Dense(2, activation='softmax')(x)\n",
    "\n",
    "        new_model = Model(inputs=[model.model.input, input_2], outputs=predictions)\n",
    "        print(new_model.summary())\n",
    "\n",
    "        new_model.compile(loss='categorical_crossentropy', optimizer=Adam(lr=0.0001), metrics=['accuracy'])\n",
    "        return new_model\n",
    "        \n",
    "    def get_name(self):\n",
    "        return \"davemodelangle\""
   ]
  },
  {
   "cell_type": "code",
   "execution_count": 53,
   "metadata": {},
   "outputs": [
    {
     "name": "stdout",
     "output_type": "stream",
     "text": [
      "____________________________________________________________________________________________________\n",
      "Layer (type)                     Output Shape          Param #     Connected to                     \n",
      "====================================================================================================\n",
      "lambda_21_input (InputLayer)     (None, 75, 75, 3)     0                                            \n",
      "____________________________________________________________________________________________________\n",
      "lambda_21 (Lambda)               (None, 75, 75, 3)     0           lambda_21_input[0][0]            \n",
      "____________________________________________________________________________________________________\n",
      "zero_padding2d_101 (ZeroPadding2 (None, 77, 77, 3)     0           lambda_21[0][0]                  \n",
      "____________________________________________________________________________________________________\n",
      "conv2d_101 (Conv2D)              (None, 75, 75, 32)    896         zero_padding2d_101[0][0]         \n",
      "____________________________________________________________________________________________________\n",
      "batch_normalization_81 (BatchNor (None, 75, 75, 32)    128         conv2d_101[0][0]                 \n",
      "____________________________________________________________________________________________________\n",
      "max_pooling2d_81 (MaxPooling2D)  (None, 37, 37, 32)    0           batch_normalization_81[0][0]     \n",
      "____________________________________________________________________________________________________\n",
      "zero_padding2d_102 (ZeroPadding2 (None, 39, 39, 32)    0           max_pooling2d_81[0][0]           \n",
      "____________________________________________________________________________________________________\n",
      "conv2d_102 (Conv2D)              (None, 37, 37, 64)    18496       zero_padding2d_102[0][0]         \n",
      "____________________________________________________________________________________________________\n",
      "batch_normalization_82 (BatchNor (None, 37, 37, 64)    256         conv2d_102[0][0]                 \n",
      "____________________________________________________________________________________________________\n",
      "max_pooling2d_82 (MaxPooling2D)  (None, 18, 18, 64)    0           batch_normalization_82[0][0]     \n",
      "____________________________________________________________________________________________________\n",
      "zero_padding2d_103 (ZeroPadding2 (None, 20, 20, 64)    0           max_pooling2d_82[0][0]           \n",
      "____________________________________________________________________________________________________\n",
      "conv2d_103 (Conv2D)              (None, 18, 18, 128)   73856       zero_padding2d_103[0][0]         \n",
      "____________________________________________________________________________________________________\n",
      "batch_normalization_83 (BatchNor (None, 18, 18, 128)   512         conv2d_103[0][0]                 \n",
      "____________________________________________________________________________________________________\n",
      "max_pooling2d_83 (MaxPooling2D)  (None, 9, 9, 128)     0           batch_normalization_83[0][0]     \n",
      "____________________________________________________________________________________________________\n",
      "zero_padding2d_104 (ZeroPadding2 (None, 11, 11, 128)   0           max_pooling2d_83[0][0]           \n",
      "____________________________________________________________________________________________________\n",
      "conv2d_104 (Conv2D)              (None, 9, 9, 128)     147584      zero_padding2d_104[0][0]         \n",
      "____________________________________________________________________________________________________\n",
      "batch_normalization_84 (BatchNor (None, 9, 9, 128)     512         conv2d_104[0][0]                 \n",
      "____________________________________________________________________________________________________\n",
      "max_pooling2d_84 (MaxPooling2D)  (None, 4, 4, 128)     0           batch_normalization_84[0][0]     \n",
      "____________________________________________________________________________________________________\n",
      "zero_padding2d_105 (ZeroPadding2 (None, 6, 6, 128)     0           max_pooling2d_84[0][0]           \n",
      "____________________________________________________________________________________________________\n",
      "conv2d_105 (Conv2D)              (None, 4, 4, 2)       2306        zero_padding2d_105[0][0]         \n",
      "____________________________________________________________________________________________________\n",
      "global_average_pooling2d_21 (Glo (None, 2)             0           conv2d_105[0][0]                 \n",
      "____________________________________________________________________________________________________\n",
      "angle (InputLayer)               (None, 1)             0                                            \n",
      "____________________________________________________________________________________________________\n",
      "activation_21 (Activation)       (None, 2)             0           global_average_pooling2d_21[0][0]\n",
      "____________________________________________________________________________________________________\n",
      "dense_18 (Dense)                 (None, 1)             2           angle[0][0]                      \n",
      "____________________________________________________________________________________________________\n",
      "concatenate_7 (Concatenate)      (None, 3)             0           activation_21[0][0]              \n",
      "                                                                   dense_18[0][0]                   \n",
      "____________________________________________________________________________________________________\n",
      "fc2 (Dense)                      (None, 512)           2048        concatenate_7[0][0]              \n",
      "____________________________________________________________________________________________________\n",
      "dropout_17 (Dropout)             (None, 512)           0           fc2[0][0]                        \n",
      "____________________________________________________________________________________________________\n",
      "fc3 (Dense)                      (None, 512)           262656      dropout_17[0][0]                 \n",
      "____________________________________________________________________________________________________\n",
      "dropout_18 (Dropout)             (None, 512)           0           fc3[0][0]                        \n",
      "____________________________________________________________________________________________________\n",
      "dense_19 (Dense)                 (None, 2)             1026        dropout_18[0][0]                 \n",
      "====================================================================================================\n",
      "Total params: 510,278\n",
      "Trainable params: 509,574\n",
      "Non-trainable params: 704\n",
      "____________________________________________________________________________________________________\n",
      "None\n"
     ]
    }
   ],
   "source": [
    "\n",
    "model = DaveModelAngle(Xtr, ytr, Xv, yv)\n"
   ]
  },
  {
   "cell_type": "code",
   "execution_count": 61,
   "metadata": {},
   "outputs": [
    {
     "name": "stdout",
     "output_type": "stream",
     "text": [
      "Epoch 1/20\n"
     ]
    },
    {
     "name": "stderr",
     "output_type": "stream",
     "text": [
      "Exception in thread Thread-9:\n",
      "Traceback (most recent call last):\n",
      "  File \"C:\\Users\\Dave\\Anaconda3\\envs\\tensorflow-gpu\\lib\\threading.py\", line 914, in _bootstrap_inner\n",
      "    self.run()\n",
      "  File \"C:\\Users\\Dave\\Anaconda3\\envs\\tensorflow-gpu\\lib\\threading.py\", line 862, in run\n",
      "    self._target(*self._args, **self._kwargs)\n",
      "  File \"C:\\Users\\Dave\\Anaconda3\\envs\\tensorflow-gpu\\lib\\site-packages\\keras\\utils\\data_utils.py\", line 560, in data_generator_task\n",
      "    generator_output = next(self._generator)\n",
      "TypeError: 'list' object is not an iterator\n",
      "\n"
     ]
    },
    {
     "ename": "StopIteration",
     "evalue": "",
     "output_type": "error",
     "traceback": [
      "\u001b[1;31m---------------------------------------------------------------------------\u001b[0m",
      "\u001b[1;31mStopIteration\u001b[0m                             Traceback (most recent call last)",
      "\u001b[1;32m<ipython-input-61-bcdd5fac795b>\u001b[0m in \u001b[0;36m<module>\u001b[1;34m()\u001b[0m\n\u001b[0;32m      1\u001b[0m model.model.fit_generator([model.data_gen.flow(model.Xtr, model.ytr, batch_size=model.batch_size), X_angle],\n\u001b[0;32m      2\u001b[0m                          \u001b[0msteps_per_epoch\u001b[0m\u001b[1;33m=\u001b[0m\u001b[0mlen\u001b[0m\u001b[1;33m(\u001b[0m\u001b[0mmodel\u001b[0m\u001b[1;33m.\u001b[0m\u001b[0mXtr\u001b[0m\u001b[1;33m)\u001b[0m \u001b[1;33m/\u001b[0m \u001b[0mmodel\u001b[0m\u001b[1;33m.\u001b[0m\u001b[0mbatch_size\u001b[0m\u001b[1;33m,\u001b[0m\u001b[1;33m\u001b[0m\u001b[0m\n\u001b[1;32m----> 3\u001b[1;33m                          \u001b[0mepochs\u001b[0m\u001b[1;33m=\u001b[0m\u001b[0mmodel\u001b[0m\u001b[1;33m.\u001b[0m\u001b[0mepochs\u001b[0m\u001b[1;33m\u001b[0m\u001b[0m\n\u001b[0m\u001b[0;32m      4\u001b[0m \u001b[1;31m#                           ,\u001b[0m\u001b[1;33m\u001b[0m\u001b[1;33m\u001b[0m\u001b[0m\n\u001b[0;32m      5\u001b[0m \u001b[1;31m#                          validation_data=model.val_gen.flow(model.Xv, model.yv, batch_size=model.batch_size, shuffle=False),\u001b[0m\u001b[1;33m\u001b[0m\u001b[1;33m\u001b[0m\u001b[0m\n",
      "\u001b[1;32m~\\Anaconda3\\envs\\tensorflow-gpu\\lib\\site-packages\\keras\\legacy\\interfaces.py\u001b[0m in \u001b[0;36mwrapper\u001b[1;34m(*args, **kwargs)\u001b[0m\n\u001b[0;32m     85\u001b[0m                 warnings.warn('Update your `' + object_name +\n\u001b[0;32m     86\u001b[0m                               '` call to the Keras 2 API: ' + signature, stacklevel=2)\n\u001b[1;32m---> 87\u001b[1;33m             \u001b[1;32mreturn\u001b[0m \u001b[0mfunc\u001b[0m\u001b[1;33m(\u001b[0m\u001b[1;33m*\u001b[0m\u001b[0margs\u001b[0m\u001b[1;33m,\u001b[0m \u001b[1;33m**\u001b[0m\u001b[0mkwargs\u001b[0m\u001b[1;33m)\u001b[0m\u001b[1;33m\u001b[0m\u001b[0m\n\u001b[0m\u001b[0;32m     88\u001b[0m         \u001b[0mwrapper\u001b[0m\u001b[1;33m.\u001b[0m\u001b[0m_original_function\u001b[0m \u001b[1;33m=\u001b[0m \u001b[0mfunc\u001b[0m\u001b[1;33m\u001b[0m\u001b[0m\n\u001b[0;32m     89\u001b[0m         \u001b[1;32mreturn\u001b[0m \u001b[0mwrapper\u001b[0m\u001b[1;33m\u001b[0m\u001b[0m\n",
      "\u001b[1;32m~\\Anaconda3\\envs\\tensorflow-gpu\\lib\\site-packages\\keras\\engine\\training.py\u001b[0m in \u001b[0;36mfit_generator\u001b[1;34m(self, generator, steps_per_epoch, epochs, verbose, callbacks, validation_data, validation_steps, class_weight, max_queue_size, workers, use_multiprocessing, initial_epoch)\u001b[0m\n\u001b[0;32m   1807\u001b[0m                 \u001b[0mbatch_index\u001b[0m \u001b[1;33m=\u001b[0m \u001b[1;36m0\u001b[0m\u001b[1;33m\u001b[0m\u001b[0m\n\u001b[0;32m   1808\u001b[0m                 \u001b[1;32mwhile\u001b[0m \u001b[0msteps_done\u001b[0m \u001b[1;33m<\u001b[0m \u001b[0msteps_per_epoch\u001b[0m\u001b[1;33m:\u001b[0m\u001b[1;33m\u001b[0m\u001b[0m\n\u001b[1;32m-> 1809\u001b[1;33m                     \u001b[0mgenerator_output\u001b[0m \u001b[1;33m=\u001b[0m \u001b[0mnext\u001b[0m\u001b[1;33m(\u001b[0m\u001b[0moutput_generator\u001b[0m\u001b[1;33m)\u001b[0m\u001b[1;33m\u001b[0m\u001b[0m\n\u001b[0m\u001b[0;32m   1810\u001b[0m \u001b[1;33m\u001b[0m\u001b[0m\n\u001b[0;32m   1811\u001b[0m                     \u001b[1;32mif\u001b[0m \u001b[1;32mnot\u001b[0m \u001b[0mhasattr\u001b[0m\u001b[1;33m(\u001b[0m\u001b[0mgenerator_output\u001b[0m\u001b[1;33m,\u001b[0m \u001b[1;34m'__len__'\u001b[0m\u001b[1;33m)\u001b[0m\u001b[1;33m:\u001b[0m\u001b[1;33m\u001b[0m\u001b[0m\n",
      "\u001b[1;31mStopIteration\u001b[0m: "
     ]
    }
   ],
   "source": [
    "model.model.fit_generator([model.data_gen.flow(model.Xtr, model.ytr, batch_size=model.batch_size), X_angle],\n",
    "                         steps_per_epoch=len(model.Xtr) / model.batch_size,\n",
    "                         epochs=model.epochs\n",
    "#                           ,\n",
    "#                          validation_data=model.val_gen.flow(model.Xv, model.yv, batch_size=model.batch_size, shuffle=False),\n",
    "#                          validation_steps = len(model.Xv) / model.batch_size\n",
    "                         )"
   ]
  },
  {
   "cell_type": "code",
   "execution_count": null,
   "metadata": {
    "collapsed": true
   },
   "outputs": [],
   "source": []
  }
 ],
 "metadata": {
  "kernelspec": {
   "display_name": "Python 3",
   "language": "python",
   "name": "python3"
  },
  "language_info": {
   "codemirror_mode": {
    "name": "ipython",
    "version": 3
   },
   "file_extension": ".py",
   "mimetype": "text/x-python",
   "name": "python",
   "nbconvert_exporter": "python",
   "pygments_lexer": "ipython3",
   "version": "3.5.2"
  }
 },
 "nbformat": 4,
 "nbformat_minor": 2
}
