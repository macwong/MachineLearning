{
 "cells": [
  {
   "cell_type": "markdown",
   "metadata": {},
   "source": [
    "Inspired by https://www.kaggle.com/bluevalhalla/fully-convolutional-network-lb-0-193"
   ]
  },
  {
   "cell_type": "code",
   "execution_count": 30,
   "metadata": {},
   "outputs": [],
   "source": [
    "import numpy as np # linear algebra\n",
    "import pandas as pd # data processing, CSV file I/O (e.g. pd.read_csv)\n",
    "import pdb\n",
    "from sklearn.model_selection import train_test_split\n",
    "from keras.utils.np_utils import to_categorical\n",
    "from keras.models import Sequential\n",
    "from keras.layers import Dense, Dropout, Flatten, Lambda, Activation\n",
    "from keras.layers import Conv2D, MaxPooling2D, ZeroPadding2D, GlobalAveragePooling2D\n",
    "from keras.layers.normalization import BatchNormalization\n",
    "from keras.preprocessing.image import ImageDataGenerator\n",
    "from keras.optimizers import Adam\n",
    "from keras import backend as K\n",
    "from matplotlib import pyplot as plt\n",
    "%matplotlib inline\n",
    "import scipy\n",
    "from scipy import misc, ndimage\n",
    "from scipy.ndimage.interpolation import zoom\n",
    "from scipy.ndimage import imread"
   ]
  },
  {
   "cell_type": "code",
   "execution_count": 2,
   "metadata": {
    "collapsed": true
   },
   "outputs": [],
   "source": [
    "train = pd.read_json(\"_RawData/train.json/data/processed/train.json\")\n",
    "test = pd.read_json(\"_RawData/test.json/data/processed/test.json\")"
   ]
  },
  {
   "cell_type": "code",
   "execution_count": 3,
   "metadata": {
    "collapsed": true
   },
   "outputs": [],
   "source": [
    "def get_images(df):\n",
    "    '''Create 3-channel 'images'. Return rescale-normalised images.'''\n",
    "    images = []\n",
    "    for i, row in df.iterrows():\n",
    "        # Formulate the bands as 75x75 arrays\n",
    "        band_1 = np.array(row['band_1']).reshape(75, 75)\n",
    "        band_2 = np.array(row['band_2']).reshape(75, 75)\n",
    "        band_3 = band_1 / band_2\n",
    "\n",
    "        # Rescale\n",
    "        r = (band_1 - band_1.min()) / (band_1.max() - band_1.min())\n",
    "        g = (band_2 - band_2.min()) / (band_2.max() - band_2.min())\n",
    "        b = (band_3 - band_3.min()) / (band_3.max() - band_3.min())\n",
    "\n",
    "        rgb = np.dstack((r, g, b))\n",
    "        images.append(rgb)\n",
    "    return np.array(images)"
   ]
  },
  {
   "cell_type": "code",
   "execution_count": 4,
   "metadata": {
    "collapsed": true
   },
   "outputs": [],
   "source": [
    "X = get_images(train)"
   ]
  },
  {
   "cell_type": "code",
   "execution_count": 5,
   "metadata": {
    "collapsed": true
   },
   "outputs": [],
   "source": [
    "y = to_categorical(train.is_iceberg.values,num_classes=2)"
   ]
  },
  {
   "cell_type": "code",
   "execution_count": 6,
   "metadata": {
    "collapsed": true
   },
   "outputs": [],
   "source": [
    "Xtr, Xv, ytr, yv = train_test_split(X, y, shuffle=False, test_size=0.20)"
   ]
  },
  {
   "cell_type": "code",
   "execution_count": 110,
   "metadata": {},
   "outputs": [],
   "source": [
    "data_gen = ImageDataGenerator(\n",
    "            shear_range=0.1,\n",
    "            zoom_range=0.1,\n",
    "            rotation_range=10,\n",
    "            width_shift_range=0.05,\n",
    "            height_shift_range=0.05,\n",
    "            vertical_flip=True,\n",
    "            horizontal_flip=True)\n",
    "\n",
    "data_gen.fit(Xtr)\n",
    "\n",
    "val_gen = ImageDataGenerator()\n",
    "val_gen.fit(Xv)"
   ]
  },
  {
   "cell_type": "code",
   "execution_count": 7,
   "metadata": {
    "collapsed": true
   },
   "outputs": [],
   "source": [
    "def ConvBlock(model, layers, filters):\n",
    "    '''Create [layers] layers consisting of zero padding, a convolution with [filters] 3x3 filters and batch normalization. Perform max pooling after the last layer.'''\n",
    "    for i in range(layers):\n",
    "        model.add(ZeroPadding2D((1, 1)))\n",
    "        model.add(Conv2D(filters, (3, 3), activation='relu'))\n",
    "        model.add(BatchNormalization(axis=3))\n",
    "    model.add(MaxPooling2D((2, 2), strides=(2, 2)))"
   ]
  },
  {
   "cell_type": "code",
   "execution_count": 8,
   "metadata": {
    "collapsed": true
   },
   "outputs": [],
   "source": [
    "def create_model():\n",
    "    '''Create the FCN and return a keras model.'''\n",
    "\n",
    "    model = Sequential()\n",
    "\n",
    "    # Input image: 75x75x3\n",
    "    model.add(Lambda(lambda x: x, input_shape=(75, 75, 3)))\n",
    "    ConvBlock(model, 1, 32)\n",
    "    # 37x37x32\n",
    "    ConvBlock(model, 1, 64)\n",
    "    # 18x18x64\n",
    "    ConvBlock(model, 1, 128)\n",
    "    # 9x9x128\n",
    "    ConvBlock(model, 1, 128)\n",
    "    # 4x4x128\n",
    "    model.add(ZeroPadding2D((1, 1)))\n",
    "    model.add(Conv2D(2, (3, 3), activation='relu'))\n",
    "    model.add(GlobalAveragePooling2D())\n",
    "    # 4x4x2\n",
    "    model.add(Activation('softmax'))\n",
    "    \n",
    "    return model"
   ]
  },
  {
   "cell_type": "code",
   "execution_count": 111,
   "metadata": {
    "collapsed": true
   },
   "outputs": [],
   "source": [
    "# Create the model and compile\n",
    "model = create_model()\n",
    "model.compile(loss='categorical_crossentropy', optimizer=Adam(lr=0.0001), metrics=['accuracy'])"
   ]
  },
  {
   "cell_type": "code",
   "execution_count": 73,
   "metadata": {},
   "outputs": [
    {
     "name": "stdout",
     "output_type": "stream",
     "text": [
      "_________________________________________________________________\n",
      "Layer (type)                 Output Shape              Param #   \n",
      "=================================================================\n",
      "lambda_11 (Lambda)           (None, 75, 75, 3)         0         \n",
      "_________________________________________________________________\n",
      "zero_padding2d_51 (ZeroPaddi (None, 77, 77, 3)         0         \n",
      "_________________________________________________________________\n",
      "conv2d_51 (Conv2D)           (None, 75, 75, 32)        896       \n",
      "_________________________________________________________________\n",
      "batch_normalization_41 (Batc (None, 75, 75, 32)        128       \n",
      "_________________________________________________________________\n",
      "max_pooling2d_41 (MaxPooling (None, 37, 37, 32)        0         \n",
      "_________________________________________________________________\n",
      "zero_padding2d_52 (ZeroPaddi (None, 39, 39, 32)        0         \n",
      "_________________________________________________________________\n",
      "conv2d_52 (Conv2D)           (None, 37, 37, 64)        18496     \n",
      "_________________________________________________________________\n",
      "batch_normalization_42 (Batc (None, 37, 37, 64)        256       \n",
      "_________________________________________________________________\n",
      "max_pooling2d_42 (MaxPooling (None, 18, 18, 64)        0         \n",
      "_________________________________________________________________\n",
      "zero_padding2d_53 (ZeroPaddi (None, 20, 20, 64)        0         \n",
      "_________________________________________________________________\n",
      "conv2d_53 (Conv2D)           (None, 18, 18, 128)       73856     \n",
      "_________________________________________________________________\n",
      "batch_normalization_43 (Batc (None, 18, 18, 128)       512       \n",
      "_________________________________________________________________\n",
      "max_pooling2d_43 (MaxPooling (None, 9, 9, 128)         0         \n",
      "_________________________________________________________________\n",
      "zero_padding2d_54 (ZeroPaddi (None, 11, 11, 128)       0         \n",
      "_________________________________________________________________\n",
      "conv2d_54 (Conv2D)           (None, 9, 9, 128)         147584    \n",
      "_________________________________________________________________\n",
      "batch_normalization_44 (Batc (None, 9, 9, 128)         512       \n",
      "_________________________________________________________________\n",
      "max_pooling2d_44 (MaxPooling (None, 4, 4, 128)         0         \n",
      "_________________________________________________________________\n",
      "zero_padding2d_55 (ZeroPaddi (None, 6, 6, 128)         0         \n",
      "_________________________________________________________________\n",
      "conv2d_55 (Conv2D)           (None, 4, 4, 2)           2306      \n",
      "_________________________________________________________________\n",
      "global_average_pooling2d_11  (None, 2)                 0         \n",
      "_________________________________________________________________\n",
      "activation_11 (Activation)   (None, 2)                 0         \n",
      "=================================================================\n",
      "Total params: 244,546\n",
      "Trainable params: 243,842\n",
      "Non-trainable params: 704\n",
      "_________________________________________________________________\n"
     ]
    }
   ],
   "source": [
    "model.summary()"
   ]
  },
  {
   "cell_type": "code",
   "execution_count": 79,
   "metadata": {
    "collapsed": true
   },
   "outputs": [],
   "source": [
    "init_epo = 0\n",
    "num_epo = 30\n",
    "end_epo = init_epo + num_epo"
   ]
  },
  {
   "cell_type": "code",
   "execution_count": 115,
   "metadata": {
    "scrolled": false
   },
   "outputs": [
    {
     "name": "stdout",
     "output_type": "stream",
     "text": [
      "Epoch 1/20\n",
      "41/40 [==============================] - 2s - loss: 0.1936 - acc: 0.9165 - val_loss: 0.4022 - val_acc: 0.8224\n",
      "Epoch 2/20\n",
      "41/40 [==============================] - 1s - loss: 0.1882 - acc: 0.9184 - val_loss: 0.2720 - val_acc: 0.8785\n",
      "Epoch 3/20\n",
      "41/40 [==============================] - 2s - loss: 0.1866 - acc: 0.9184 - val_loss: 0.2887 - val_acc: 0.8598\n",
      "Epoch 4/20\n",
      "41/40 [==============================] - 2s - loss: 0.1851 - acc: 0.9181 - val_loss: 0.2520 - val_acc: 0.8847\n",
      "Epoch 5/20\n",
      "41/40 [==============================] - 1s - loss: 0.2041 - acc: 0.9082 - val_loss: 0.2386 - val_acc: 0.8941\n",
      "Epoch 6/20\n",
      "41/40 [==============================] - 2s - loss: 0.2266 - acc: 0.9127 - val_loss: 0.2914 - val_acc: 0.8629\n",
      "Epoch 7/20\n",
      "41/40 [==============================] - 2s - loss: 0.1874 - acc: 0.9207 - val_loss: 0.2870 - val_acc: 0.8567\n",
      "Epoch 8/20\n",
      "41/40 [==============================] - 2s - loss: 0.1816 - acc: 0.9176 - val_loss: 0.3130 - val_acc: 0.8660\n",
      "Epoch 9/20\n",
      "41/40 [==============================] - 2s - loss: 0.1861 - acc: 0.9173 - val_loss: 0.2672 - val_acc: 0.8910\n",
      "Epoch 10/20\n",
      "41/40 [==============================] - 2s - loss: 0.1882 - acc: 0.9169 - val_loss: 0.3151 - val_acc: 0.8536\n",
      "Epoch 11/20\n",
      "41/40 [==============================] - 2s - loss: 0.1841 - acc: 0.9211 - val_loss: 0.3493 - val_acc: 0.8474\n",
      "Epoch 12/20\n",
      "41/40 [==============================] - 2s - loss: 0.1917 - acc: 0.9207 - val_loss: 0.3271 - val_acc: 0.8505\n",
      "Epoch 13/20\n",
      "41/40 [==============================] - 2s - loss: 0.1930 - acc: 0.9173 - val_loss: 0.3181 - val_acc: 0.8536\n",
      "Epoch 14/20\n",
      "41/40 [==============================] - 1s - loss: 0.1904 - acc: 0.9165 - val_loss: 0.2777 - val_acc: 0.8598\n",
      "Epoch 15/20\n",
      "41/40 [==============================] - 2s - loss: 0.1780 - acc: 0.9176 - val_loss: 0.3228 - val_acc: 0.8474\n",
      "Epoch 16/20\n",
      "41/40 [==============================] - 2s - loss: 0.1794 - acc: 0.9245 - val_loss: 0.3102 - val_acc: 0.8598\n",
      "Epoch 17/20\n",
      "41/40 [==============================] - 2s - loss: 0.1794 - acc: 0.9291 - val_loss: 0.2600 - val_acc: 0.8816\n",
      "Epoch 18/20\n",
      "41/40 [==============================] - 2s - loss: 0.1659 - acc: 0.9344 - val_loss: 0.3113 - val_acc: 0.8692\n",
      "Epoch 19/20\n",
      "41/40 [==============================] - 2s - loss: 0.1734 - acc: 0.9276 - val_loss: 0.2738 - val_acc: 0.8910\n",
      "Epoch 20/20\n",
      "41/40 [==============================] - 2s - loss: 0.1803 - acc: 0.9242 - val_loss: 0.2768 - val_acc: 0.8879\n"
     ]
    }
   ],
   "source": [
    "history = model.fit_generator(data_gen.flow(Xtr, ytr, batch_size=32),\n",
    "                     steps_per_epoch=len(Xtr) / 32,\n",
    "                     epochs=20,\n",
    "                     validation_data=val_gen.flow(Xv, yv, batch_size=32, shuffle=False),\n",
    "                     validation_steps = len(Xv) / 32)"
   ]
  },
  {
   "cell_type": "code",
   "execution_count": 116,
   "metadata": {},
   "outputs": [
    {
     "data": {
      "image/png": "[encoded data removed]",
      "text/plain": [
       "<matplotlib.figure.Figure at 0x1fdfc5fac18>"
      ]
     },
     "metadata": {},
     "output_type": "display_data"
    },
    {
     "data": {
      "image/png": "[encoded data removed]",
      "text/plain": [
       "<matplotlib.figure.Figure at 0x1fdfcca1e48>"
      ]
     },
     "metadata": {},
     "output_type": "display_data"
    }
   ],
   "source": [
    "import matplotlib.pyplot as plt\n",
    "%matplotlib inline\n",
    "\n",
    "plt.plot(history.history['acc'])\n",
    "plt.plot(history.history['val_acc'])\n",
    "plt.title('model accuracy')\n",
    "plt.ylabel('accuracy')\n",
    "plt.xlabel('epoch')\n",
    "plt.legend(['train', 'test'], loc='upper left')\n",
    "plt.show()\n",
    "# summarize history for loss\n",
    "plt.plot(history.history['loss'])\n",
    "plt.plot(history.history['val_loss'])\n",
    "plt.title('model loss')\n",
    "plt.ylabel('loss')\n",
    "plt.xlabel('epoch')\n",
    "plt.legend(['train', 'test'], loc='upper left')\n",
    "plt.show()"
   ]
  },
  {
   "cell_type": "code",
   "execution_count": 28,
   "metadata": {},
   "outputs": [
    {
     "name": "stdout",
     "output_type": "stream",
     "text": [
      "lr = 9.999999747378752e-05\n",
      "Train on 1283 samples, validate on 321 samples\n",
      "Epoch 1/30\n",
      "1283/1283 [==============================] - 3s - loss: 0.5444 - acc: 0.7163 - val_loss: 0.7084 - val_acc: 0.3427\n",
      "Epoch 2/30\n",
      "1283/1283 [==============================] - 1s - loss: 0.4575 - acc: 0.7615 - val_loss: 0.6808 - val_acc: 0.6542\n",
      "Epoch 3/30\n",
      "1283/1283 [==============================] - 1s - loss: 0.3990 - acc: 0.8051 - val_loss: 0.6477 - val_acc: 0.6573\n",
      "Epoch 4/30\n",
      "1283/1283 [==============================] - 1s - loss: 0.3491 - acc: 0.8316 - val_loss: 0.6334 - val_acc: 0.6573\n",
      "Epoch 5/30\n",
      "1283/1283 [==============================] - 1s - loss: 0.3018 - acc: 0.8769 - val_loss: 0.6350 - val_acc: 0.6573\n",
      "Epoch 6/30\n",
      "1283/1283 [==============================] - 1s - loss: 0.2843 - acc: 0.8769 - val_loss: 0.6305 - val_acc: 0.6573\n",
      "Epoch 7/30\n",
      "1283/1283 [==============================] - 1s - loss: 0.2389 - acc: 0.9034 - val_loss: 0.6432 - val_acc: 0.6573\n",
      "Epoch 8/30\n",
      "1283/1283 [==============================] - 1s - loss: 0.2172 - acc: 0.9158 - val_loss: 0.7113 - val_acc: 0.6573\n",
      "Epoch 9/30\n",
      "1283/1283 [==============================] - 1s - loss: 0.1948 - acc: 0.9275 - val_loss: 0.7244 - val_acc: 0.6604\n",
      "Epoch 10/30\n",
      "1283/1283 [==============================] - 1s - loss: 0.1543 - acc: 0.9548 - val_loss: 0.7519 - val_acc: 0.6604\n",
      "Epoch 11/30\n",
      "1283/1283 [==============================] - 1s - loss: 0.1562 - acc: 0.9548 - val_loss: 0.5987 - val_acc: 0.6760\n",
      "Epoch 12/30\n",
      "1283/1283 [==============================] - 1s - loss: 0.1306 - acc: 0.9665 - val_loss: 0.6177 - val_acc: 0.6885\n",
      "Epoch 13/30\n",
      "1283/1283 [==============================] - 1s - loss: 0.1056 - acc: 0.9774 - val_loss: 0.5094 - val_acc: 0.7570\n",
      "Epoch 14/30\n",
      "1283/1283 [==============================] - 1s - loss: 0.1175 - acc: 0.9704 - val_loss: 0.4162 - val_acc: 0.8131\n",
      "Epoch 15/30\n",
      "1283/1283 [==============================] - 1s - loss: 0.0836 - acc: 0.9852 - val_loss: 0.4274 - val_acc: 0.8100\n",
      "Epoch 16/30\n",
      "1283/1283 [==============================] - 1s - loss: 0.0645 - acc: 0.9953 - val_loss: 0.2845 - val_acc: 0.8910\n",
      "Epoch 17/30\n",
      "1283/1283 [==============================] - 1s - loss: 0.0574 - acc: 0.9953 - val_loss: 0.3302 - val_acc: 0.8442\n",
      "Epoch 18/30\n",
      "1283/1283 [==============================] - 1s - loss: 0.0406 - acc: 0.9977 - val_loss: 0.2767 - val_acc: 0.9003\n",
      "Epoch 19/30\n",
      "1283/1283 [==============================] - 1s - loss: 0.0455 - acc: 0.9945 - val_loss: 0.2875 - val_acc: 0.8879\n",
      "Epoch 20/30\n",
      "1283/1283 [==============================] - 1s - loss: 0.0333 - acc: 1.0000 - val_loss: 0.2531 - val_acc: 0.9097\n",
      "Epoch 21/30\n",
      "1283/1283 [==============================] - 1s - loss: 0.0346 - acc: 0.9969 - val_loss: 0.2483 - val_acc: 0.8972\n",
      "Epoch 22/30\n",
      "1283/1283 [==============================] - 1s - loss: 0.0682 - acc: 0.9821 - val_loss: 0.5050 - val_acc: 0.7757\n",
      "Epoch 23/30\n",
      "1283/1283 [==============================] - 1s - loss: 0.0298 - acc: 0.9992 - val_loss: 0.5722 - val_acc: 0.7695\n",
      "Epoch 24/30\n",
      "1283/1283 [==============================] - 1s - loss: 0.0807 - acc: 0.9758 - val_loss: 0.2961 - val_acc: 0.8816\n",
      "Epoch 25/30\n",
      "1283/1283 [==============================] - 1s - loss: 0.0293 - acc: 0.9992 - val_loss: 0.5084 - val_acc: 0.7882\n",
      "Epoch 26/30\n",
      "1283/1283 [==============================] - 1s - loss: 0.0227 - acc: 1.0000 - val_loss: 0.4783 - val_acc: 0.8037\n",
      "Epoch 27/30\n",
      "1283/1283 [==============================] - 1s - loss: 0.0204 - acc: 0.9992 - val_loss: 0.4648 - val_acc: 0.8037\n",
      "Epoch 28/30\n",
      "1283/1283 [==============================] - 1s - loss: 0.0155 - acc: 0.9992 - val_loss: 0.2579 - val_acc: 0.9003\n",
      "Epoch 29/30\n",
      "1283/1283 [==============================] - 1s - loss: 0.0163 - acc: 0.9992 - val_loss: 0.3598 - val_acc: 0.8349\n",
      "Epoch 30/30\n",
      "1283/1283 [==============================] - 1s - loss: 0.0128 - acc: 1.0000 - val_loss: 0.4028 - val_acc: 0.8287\n"
     ]
    }
   ],
   "source": [
    "print ('lr = {}'.format(K.get_value(model.optimizer.lr)))\n",
    "history = model.fit(Xtr, ytr, validation_data=(Xv, yv), batch_size=32, epochs=end_epo, initial_epoch=init_epo)\n",
    "init_epo += num_epo\n",
    "end_epo = init_epo + num_epo"
   ]
  },
  {
   "cell_type": "code",
   "execution_count": 87,
   "metadata": {},
   "outputs": [
    {
     "name": "stdout",
     "output_type": "stream",
     "text": [
      "Epoch 1/50\n",
      "51/50 [==============================] - 3s - loss: 0.5528 - acc: 0.6984     \n",
      "Epoch 2/50\n",
      "51/50 [==============================] - 2s - loss: 0.4744 - acc: 0.7567     \n",
      "Epoch 3/50\n",
      "51/50 [==============================] - 2s - loss: 0.4195 - acc: 0.7959     \n",
      "Epoch 4/50\n",
      "51/50 [==============================] - 2s - loss: 0.4030 - acc: 0.7973     \n",
      "Epoch 5/50\n",
      "51/50 [==============================] - 2s - loss: 0.3568 - acc: 0.8254     \n",
      "Epoch 6/50\n",
      "51/50 [==============================] - 2s - loss: 0.3546 - acc: 0.8187     \n",
      "Epoch 7/50\n",
      "51/50 [==============================] - 2s - loss: 0.3408 - acc: 0.8285     \n",
      "Epoch 8/50\n",
      "51/50 [==============================] - 2s - loss: 0.3390 - acc: 0.8383     \n",
      "Epoch 9/50\n",
      "51/50 [==============================] - 2s - loss: 0.3357 - acc: 0.8272     \n",
      "Epoch 10/50\n",
      "51/50 [==============================] - 2s - loss: 0.3210 - acc: 0.8449     \n",
      "Epoch 11/50\n",
      "51/50 [==============================] - 2s - loss: 0.3139 - acc: 0.8382     \n",
      "Epoch 12/50\n",
      "51/50 [==============================] - 2s - loss: 0.3121 - acc: 0.8524     \n",
      "Epoch 13/50\n",
      "51/50 [==============================] - 2s - loss: 0.2979 - acc: 0.8518     \n",
      "Epoch 14/50\n",
      "51/50 [==============================] - 2s - loss: 0.3121 - acc: 0.8505     - ETA: 2s\n",
      "Epoch 15/50\n",
      "51/50 [==============================] - 2s - loss: 0.2911 - acc: 0.8541     \n",
      "Epoch 16/50\n",
      "51/50 [==============================] - 2s - loss: 0.2875 - acc: 0.8621     \n",
      "Epoch 17/50\n",
      "51/50 [==============================] - 2s - loss: 0.2903 - acc: 0.8529     \n",
      "Epoch 18/50\n",
      "51/50 [==============================] - 2s - loss: 0.2812 - acc: 0.8664     \n",
      "Epoch 19/50\n",
      "51/50 [==============================] - 2s - loss: 0.2894 - acc: 0.8563     \n",
      "Epoch 20/50\n",
      "51/50 [==============================] - 2s - loss: 0.2998 - acc: 0.8584     \n",
      "Epoch 21/50\n",
      "51/50 [==============================] - 2s - loss: 0.2764 - acc: 0.8664     \n",
      "Epoch 22/50\n",
      "51/50 [==============================] - 2s - loss: 0.2714 - acc: 0.8591     \n",
      "Epoch 23/50\n",
      "51/50 [==============================] - 2s - loss: 0.2682 - acc: 0.8689     \n",
      "Epoch 24/50\n",
      "51/50 [==============================] - 2s - loss: 0.2799 - acc: 0.8623     \n",
      "Epoch 25/50\n",
      "51/50 [==============================] - 2s - loss: 0.2862 - acc: 0.8542     \n",
      "Epoch 26/50\n",
      "51/50 [==============================] - 2s - loss: 0.2765 - acc: 0.8707     \n",
      "Epoch 27/50\n",
      "51/50 [==============================] - 2s - loss: 0.2724 - acc: 0.8682     \n",
      "Epoch 28/50\n",
      "51/50 [==============================] - 2s - loss: 0.2610 - acc: 0.8683     \n",
      "Epoch 29/50\n",
      "51/50 [==============================] - 2s - loss: 0.2570 - acc: 0.8786     \n",
      "Epoch 30/50\n",
      "51/50 [==============================] - 2s - loss: 0.2626 - acc: 0.8750     \n",
      "Epoch 31/50\n",
      "51/50 [==============================] - 2s - loss: 0.2644 - acc: 0.8750     \n",
      "Epoch 32/50\n",
      "51/50 [==============================] - 2s - loss: 0.2643 - acc: 0.8780     \n",
      "Epoch 33/50\n",
      "51/50 [==============================] - 2s - loss: 0.2560 - acc: 0.8750     \n",
      "Epoch 34/50\n",
      "51/50 [==============================] - 2s - loss: 0.2465 - acc: 0.8811     \n",
      "Epoch 35/50\n",
      "51/50 [==============================] - 2s - loss: 0.2579 - acc: 0.8836     - ETA: 1s - loss: \n",
      "Epoch 36/50\n",
      "51/50 [==============================] - 2s - loss: 0.2618 - acc: 0.8792     \n",
      "Epoch 37/50\n",
      "51/50 [==============================] - 2s - loss: 0.2514 - acc: 0.8891     \n",
      "Epoch 38/50\n",
      "51/50 [==============================] - 2s - loss: 0.2519 - acc: 0.8824     \n",
      "Epoch 39/50\n",
      "51/50 [==============================] - 2s - loss: 0.2460 - acc: 0.8721     \n",
      "Epoch 40/50\n",
      "51/50 [==============================] - 2s - loss: 0.2475 - acc: 0.8885     - ETA: 1s - loss: 0.22\n",
      "Epoch 41/50\n",
      "51/50 [==============================] - 2s - loss: 0.2438 - acc: 0.8848     \n",
      "Epoch 42/50\n",
      "51/50 [==============================] - 2s - loss: 0.2459 - acc: 0.8898     \n",
      "Epoch 43/50\n",
      "51/50 [==============================] - 2s - loss: 0.2362 - acc: 0.8947     \n",
      "Epoch 44/50\n",
      "51/50 [==============================] - 2s - loss: 0.2389 - acc: 0.8933     \n",
      "Epoch 45/50\n",
      "51/50 [==============================] - 2s - loss: 0.2334 - acc: 0.8923     \n",
      "Epoch 46/50\n",
      "51/50 [==============================] - 2s - loss: 0.2372 - acc: 0.9013     \n",
      "Epoch 47/50\n",
      "51/50 [==============================] - 2s - loss: 0.2308 - acc: 0.9019     \n",
      "Epoch 48/50\n",
      "51/50 [==============================] - 2s - loss: 0.2360 - acc: 0.8922     \n",
      "Epoch 49/50\n",
      "51/50 [==============================] - 2s - loss: 0.2263 - acc: 0.9014     \n",
      "Epoch 50/50\n",
      "51/50 [==============================] - 2s - loss: 0.2279 - acc: 0.9007     \n"
     ]
    },
    {
     "data": {
      "text/plain": [
       "<keras.callbacks.History at 0x1fdfd9b5b70>"
      ]
     },
     "execution_count": 87,
     "metadata": {},
     "output_type": "execute_result"
    }
   ],
   "source": [
    "model.fit_generator(data_gen.flow(X, y, batch_size=32),\n",
    "                     steps_per_epoch=len(X) / 32,\n",
    "                     epochs=50)"
   ]
  },
  {
   "cell_type": "code",
   "execution_count": 88,
   "metadata": {
    "collapsed": true
   },
   "outputs": [],
   "source": [
    "X_test = get_images(test)\n",
    "predict = model.predict(X_test)"
   ]
  },
  {
   "cell_type": "code",
   "execution_count": 89,
   "metadata": {
    "collapsed": true
   },
   "outputs": [],
   "source": [
    "submission = pd.DataFrame(test, columns=[\"id\"])\n",
    "submission[\"is_iceberg\"] = predict[:, 1]\n",
    "\n",
    "# test_func = lambda p: round(p[\"is_iceberg\"], 4)\n",
    "# submission[\"is_iceberg\"] = test_func(submission)\n",
    "submission[\"is_iceberg\"] = submission[\"is_iceberg\"].round(4)\n",
    "submission.to_csv(\"submission_new.csv\", float_format='%g', index = False)"
   ]
  },
  {
   "cell_type": "code",
   "execution_count": 90,
   "metadata": {
    "collapsed": true
   },
   "outputs": [],
   "source": [
    "# model.save_weights(\"01 - 2137.h5\")"
   ]
  },
  {
   "cell_type": "code",
   "execution_count": 92,
   "metadata": {
    "collapsed": true
   },
   "outputs": [],
   "source": [
    "test_model = create_model()\n",
    "test_model.load_weights(\"01 - 2137.h5\")\n",
    "test_model.compile(loss='categorical_crossentropy', optimizer=Adam(lr=0.0001), metrics=['accuracy'])"
   ]
  },
  {
   "cell_type": "code",
   "execution_count": 93,
   "metadata": {},
   "outputs": [
    {
     "name": "stdout",
     "output_type": "stream",
     "text": [
      "Epoch 1/1\n",
      "51/50 [==============================] - 3s - loss: 0.2099 - acc: 0.9044     \n"
     ]
    },
    {
     "data": {
      "text/plain": [
       "<keras.callbacks.History at 0x1fe03c2b940>"
      ]
     },
     "execution_count": 93,
     "metadata": {},
     "output_type": "execute_result"
    }
   ],
   "source": [
    "test_model.fit_generator(data_gen.flow(X, y, batch_size=32),\n",
    "                     steps_per_epoch=len(X) / 32,\n",
    "                     epochs=1)"
   ]
  }
 ],
 "metadata": {
  "kernelspec": {
   "display_name": "Python 3",
   "language": "python",
   "name": "python3"
  },
  "language_info": {
   "codemirror_mode": {
    "name": "ipython",
    "version": 3
   },
   "file_extension": ".py",
   "mimetype": "text/x-python",
   "name": "python",
   "nbconvert_exporter": "python",
   "pygments_lexer": "ipython3",
   "version": "3.5.2"
  }
 },
 "nbformat": 4,
 "nbformat_minor": 2
}
