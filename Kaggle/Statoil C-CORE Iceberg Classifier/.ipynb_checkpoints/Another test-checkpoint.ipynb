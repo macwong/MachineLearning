{
 "cells": [
  {
   "cell_type": "markdown",
   "metadata": {},
   "source": [
    "Inspired by https://www.kaggle.com/bluevalhalla/fully-convolutional-network-lb-0-193"
   ]
  },
  {
   "cell_type": "code",
   "execution_count": 1,
   "metadata": {},
   "outputs": [
    {
     "name": "stderr",
     "output_type": "stream",
     "text": [
      "Using TensorFlow backend.\n"
     ]
    }
   ],
   "source": [
    "import numpy as np # linear algebra\n",
    "import pandas as pd # data processing, CSV file I/O (e.g. pd.read_csv)\n",
    "import pdb\n",
    "from sklearn.model_selection import train_test_split\n",
    "from keras.utils.np_utils import to_categorical\n",
    "from keras.models import Sequential\n",
    "from keras.layers import Dense, Dropout, Flatten, Lambda, Activation\n",
    "from keras.layers import Conv2D, MaxPooling2D, ZeroPadding2D, GlobalAveragePooling2D\n",
    "from keras.layers.normalization import BatchNormalization\n",
    "from keras.optimizers import Adam\n",
    "from keras import backend as K\n",
    "from matplotlib import pyplot as plt\n",
    "%matplotlib inline\n",
    "import scipy\n",
    "from scipy import misc, ndimage\n",
    "from scipy.ndimage.interpolation import zoom\n",
    "from scipy.ndimage import imread"
   ]
  },
  {
   "cell_type": "code",
   "execution_count": 2,
   "metadata": {
    "collapsed": true
   },
   "outputs": [],
   "source": [
    "train = pd.read_json(\"_RawData/train.json/data/processed/train.json\")\n",
    "test = pd.read_json(\"_RawData/test.json/data/processed/test.json\")"
   ]
  },
  {
   "cell_type": "code",
   "execution_count": 3,
   "metadata": {
    "collapsed": true
   },
   "outputs": [],
   "source": [
    "def get_images(df):\n",
    "    '''Create 3-channel 'images'. Return rescale-normalised images.'''\n",
    "    images = []\n",
    "    for i, row in df.iterrows():\n",
    "        # Formulate the bands as 75x75 arrays\n",
    "        band_1 = np.array(row['band_1']).reshape(75, 75)\n",
    "        band_2 = np.array(row['band_2']).reshape(75, 75)\n",
    "        band_3 = band_1 / band_2\n",
    "\n",
    "        # Rescale\n",
    "        r = (band_1 - band_1.min()) / (band_1.max() - band_1.min())\n",
    "        g = (band_2 - band_2.min()) / (band_2.max() - band_2.min())\n",
    "        b = (band_3 - band_3.min()) / (band_3.max() - band_3.min())\n",
    "\n",
    "        rgb = np.dstack((r, g, b))\n",
    "        images.append(rgb)\n",
    "    return np.array(images)"
   ]
  },
  {
   "cell_type": "code",
   "execution_count": 4,
   "metadata": {
    "collapsed": true
   },
   "outputs": [],
   "source": [
    "X = get_images(train)"
   ]
  },
  {
   "cell_type": "code",
   "execution_count": 5,
   "metadata": {
    "collapsed": true
   },
   "outputs": [],
   "source": [
    "y = to_categorical(train.is_iceberg.values,num_classes=2)"
   ]
  },
  {
   "cell_type": "code",
   "execution_count": 6,
   "metadata": {
    "collapsed": true
   },
   "outputs": [],
   "source": [
    "Xtr, Xv, ytr, yv = train_test_split(X, y, shuffle=False, test_size=0.20)"
   ]
  },
  {
   "cell_type": "code",
   "execution_count": 7,
   "metadata": {
    "collapsed": true
   },
   "outputs": [],
   "source": [
    "def ConvBlock(model, layers, filters):\n",
    "    '''Create [layers] layers consisting of zero padding, a convolution with [filters] 3x3 filters and batch normalization. Perform max pooling after the last layer.'''\n",
    "    for i in range(layers):\n",
    "        model.add(ZeroPadding2D((1, 1)))\n",
    "        model.add(Conv2D(filters, (3, 3), activation='relu'))\n",
    "        model.add(BatchNormalization(axis=3))\n",
    "    model.add(MaxPooling2D((2, 2), strides=(2, 2)))"
   ]
  },
  {
   "cell_type": "code",
   "execution_count": 8,
   "metadata": {
    "collapsed": true
   },
   "outputs": [],
   "source": [
    "def create_model():\n",
    "    '''Create the FCN and return a keras model.'''\n",
    "\n",
    "    model = Sequential()\n",
    "\n",
    "    # Input image: 75x75x3\n",
    "    model.add(Lambda(lambda x: x, input_shape=(75, 75, 3)))\n",
    "    ConvBlock(model, 1, 32)\n",
    "    # 37x37x32\n",
    "    ConvBlock(model, 1, 64)\n",
    "    # 18x18x64\n",
    "    ConvBlock(model, 1, 128)\n",
    "    # 9x9x128\n",
    "    ConvBlock(model, 1, 128)\n",
    "    # 4x4x128\n",
    "    model.add(ZeroPadding2D((1, 1)))\n",
    "    model.add(Conv2D(2, (3, 3), activation='relu'))\n",
    "    model.add(GlobalAveragePooling2D())\n",
    "    # 4x4x2\n",
    "    model.add(Activation('softmax'))\n",
    "    \n",
    "    return model"
   ]
  },
  {
   "cell_type": "code",
   "execution_count": 25,
   "metadata": {
    "collapsed": true
   },
   "outputs": [],
   "source": [
    "# Create the model and compile\n",
    "model = create_model()\n",
    "model.compile(loss='categorical_crossentropy', optimizer=Adam(lr=0.0001), metrics=['accuracy'])"
   ]
  },
  {
   "cell_type": "code",
   "execution_count": 26,
   "metadata": {},
   "outputs": [
    {
     "name": "stdout",
     "output_type": "stream",
     "text": [
      "_________________________________________________________________\n",
      "Layer (type)                 Output Shape              Param #   \n",
      "=================================================================\n",
      "lambda_5 (Lambda)            (None, 75, 75, 3)         0         \n",
      "_________________________________________________________________\n",
      "zero_padding2d_21 (ZeroPaddi (None, 77, 77, 3)         0         \n",
      "_________________________________________________________________\n",
      "conv2d_21 (Conv2D)           (None, 75, 75, 32)        896       \n",
      "_________________________________________________________________\n",
      "batch_normalization_17 (Batc (None, 75, 75, 32)        128       \n",
      "_________________________________________________________________\n",
      "max_pooling2d_17 (MaxPooling (None, 37, 37, 32)        0         \n",
      "_________________________________________________________________\n",
      "zero_padding2d_22 (ZeroPaddi (None, 39, 39, 32)        0         \n",
      "_________________________________________________________________\n",
      "conv2d_22 (Conv2D)           (None, 37, 37, 64)        18496     \n",
      "_________________________________________________________________\n",
      "batch_normalization_18 (Batc (None, 37, 37, 64)        256       \n",
      "_________________________________________________________________\n",
      "max_pooling2d_18 (MaxPooling (None, 18, 18, 64)        0         \n",
      "_________________________________________________________________\n",
      "zero_padding2d_23 (ZeroPaddi (None, 20, 20, 64)        0         \n",
      "_________________________________________________________________\n",
      "conv2d_23 (Conv2D)           (None, 18, 18, 128)       73856     \n",
      "_________________________________________________________________\n",
      "batch_normalization_19 (Batc (None, 18, 18, 128)       512       \n",
      "_________________________________________________________________\n",
      "max_pooling2d_19 (MaxPooling (None, 9, 9, 128)         0         \n",
      "_________________________________________________________________\n",
      "zero_padding2d_24 (ZeroPaddi (None, 11, 11, 128)       0         \n",
      "_________________________________________________________________\n",
      "conv2d_24 (Conv2D)           (None, 9, 9, 128)         147584    \n",
      "_________________________________________________________________\n",
      "batch_normalization_20 (Batc (None, 9, 9, 128)         512       \n",
      "_________________________________________________________________\n",
      "max_pooling2d_20 (MaxPooling (None, 4, 4, 128)         0         \n",
      "_________________________________________________________________\n",
      "zero_padding2d_25 (ZeroPaddi (None, 6, 6, 128)         0         \n",
      "_________________________________________________________________\n",
      "conv2d_25 (Conv2D)           (None, 4, 4, 2)           2306      \n",
      "_________________________________________________________________\n",
      "global_average_pooling2d_5 ( (None, 2)                 0         \n",
      "_________________________________________________________________\n",
      "activation_5 (Activation)    (None, 2)                 0         \n",
      "=================================================================\n",
      "Total params: 244,546\n",
      "Trainable params: 243,842\n",
      "Non-trainable params: 704\n",
      "_________________________________________________________________\n"
     ]
    }
   ],
   "source": [
    "model.summary()"
   ]
  },
  {
   "cell_type": "code",
   "execution_count": 27,
   "metadata": {
    "collapsed": true
   },
   "outputs": [],
   "source": [
    "init_epo = 0\n",
    "num_epo = 30\n",
    "end_epo = init_epo + num_epo"
   ]
  },
  {
   "cell_type": "code",
   "execution_count": 28,
   "metadata": {},
   "outputs": [
    {
     "name": "stdout",
     "output_type": "stream",
     "text": [
      "lr = 9.999999747378752e-05\n",
      "Train on 1283 samples, validate on 321 samples\n",
      "Epoch 1/30\n",
      "1283/1283 [==============================] - 3s - loss: 0.5444 - acc: 0.7163 - val_loss: 0.7084 - val_acc: 0.3427\n",
      "Epoch 2/30\n",
      "1283/1283 [==============================] - 1s - loss: 0.4575 - acc: 0.7615 - val_loss: 0.6808 - val_acc: 0.6542\n",
      "Epoch 3/30\n",
      "1283/1283 [==============================] - 1s - loss: 0.3990 - acc: 0.8051 - val_loss: 0.6477 - val_acc: 0.6573\n",
      "Epoch 4/30\n",
      "1283/1283 [==============================] - 1s - loss: 0.3491 - acc: 0.8316 - val_loss: 0.6334 - val_acc: 0.6573\n",
      "Epoch 5/30\n",
      "1283/1283 [==============================] - 1s - loss: 0.3018 - acc: 0.8769 - val_loss: 0.6350 - val_acc: 0.6573\n",
      "Epoch 6/30\n",
      "1283/1283 [==============================] - 1s - loss: 0.2843 - acc: 0.8769 - val_loss: 0.6305 - val_acc: 0.6573\n",
      "Epoch 7/30\n",
      "1283/1283 [==============================] - 1s - loss: 0.2389 - acc: 0.9034 - val_loss: 0.6432 - val_acc: 0.6573\n",
      "Epoch 8/30\n",
      "1283/1283 [==============================] - 1s - loss: 0.2172 - acc: 0.9158 - val_loss: 0.7113 - val_acc: 0.6573\n",
      "Epoch 9/30\n",
      "1283/1283 [==============================] - 1s - loss: 0.1948 - acc: 0.9275 - val_loss: 0.7244 - val_acc: 0.6604\n",
      "Epoch 10/30\n",
      "1283/1283 [==============================] - 1s - loss: 0.1543 - acc: 0.9548 - val_loss: 0.7519 - val_acc: 0.6604\n",
      "Epoch 11/30\n",
      "1283/1283 [==============================] - 1s - loss: 0.1562 - acc: 0.9548 - val_loss: 0.5987 - val_acc: 0.6760\n",
      "Epoch 12/30\n",
      "1283/1283 [==============================] - 1s - loss: 0.1306 - acc: 0.9665 - val_loss: 0.6177 - val_acc: 0.6885\n",
      "Epoch 13/30\n",
      "1283/1283 [==============================] - 1s - loss: 0.1056 - acc: 0.9774 - val_loss: 0.5094 - val_acc: 0.7570\n",
      "Epoch 14/30\n",
      "1283/1283 [==============================] - 1s - loss: 0.1175 - acc: 0.9704 - val_loss: 0.4162 - val_acc: 0.8131\n",
      "Epoch 15/30\n",
      "1283/1283 [==============================] - 1s - loss: 0.0836 - acc: 0.9852 - val_loss: 0.4274 - val_acc: 0.8100\n",
      "Epoch 16/30\n",
      "1283/1283 [==============================] - 1s - loss: 0.0645 - acc: 0.9953 - val_loss: 0.2845 - val_acc: 0.8910\n",
      "Epoch 17/30\n",
      "1283/1283 [==============================] - 1s - loss: 0.0574 - acc: 0.9953 - val_loss: 0.3302 - val_acc: 0.8442\n",
      "Epoch 18/30\n",
      "1283/1283 [==============================] - 1s - loss: 0.0406 - acc: 0.9977 - val_loss: 0.2767 - val_acc: 0.9003\n",
      "Epoch 19/30\n",
      "1283/1283 [==============================] - 1s - loss: 0.0455 - acc: 0.9945 - val_loss: 0.2875 - val_acc: 0.8879\n",
      "Epoch 20/30\n",
      "1283/1283 [==============================] - 1s - loss: 0.0333 - acc: 1.0000 - val_loss: 0.2531 - val_acc: 0.9097\n",
      "Epoch 21/30\n",
      "1283/1283 [==============================] - 1s - loss: 0.0346 - acc: 0.9969 - val_loss: 0.2483 - val_acc: 0.8972\n",
      "Epoch 22/30\n",
      "1283/1283 [==============================] - 1s - loss: 0.0682 - acc: 0.9821 - val_loss: 0.5050 - val_acc: 0.7757\n",
      "Epoch 23/30\n",
      "1283/1283 [==============================] - 1s - loss: 0.0298 - acc: 0.9992 - val_loss: 0.5722 - val_acc: 0.7695\n",
      "Epoch 24/30\n",
      "1283/1283 [==============================] - 1s - loss: 0.0807 - acc: 0.9758 - val_loss: 0.2961 - val_acc: 0.8816\n",
      "Epoch 25/30\n",
      "1283/1283 [==============================] - 1s - loss: 0.0293 - acc: 0.9992 - val_loss: 0.5084 - val_acc: 0.7882\n",
      "Epoch 26/30\n",
      "1283/1283 [==============================] - 1s - loss: 0.0227 - acc: 1.0000 - val_loss: 0.4783 - val_acc: 0.8037\n",
      "Epoch 27/30\n",
      "1283/1283 [==============================] - 1s - loss: 0.0204 - acc: 0.9992 - val_loss: 0.4648 - val_acc: 0.8037\n",
      "Epoch 28/30\n",
      "1283/1283 [==============================] - 1s - loss: 0.0155 - acc: 0.9992 - val_loss: 0.2579 - val_acc: 0.9003\n",
      "Epoch 29/30\n",
      "1283/1283 [==============================] - 1s - loss: 0.0163 - acc: 0.9992 - val_loss: 0.3598 - val_acc: 0.8349\n",
      "Epoch 30/30\n",
      "1283/1283 [==============================] - 1s - loss: 0.0128 - acc: 1.0000 - val_loss: 0.4028 - val_acc: 0.8287\n"
     ]
    }
   ],
   "source": [
    "print ('lr = {}'.format(K.get_value(model.optimizer.lr)))\n",
    "history = model.fit(Xtr, ytr, validation_data=(Xv, yv), batch_size=32, epochs=end_epo, initial_epoch=init_epo)\n",
    "init_epo += num_epo\n",
    "end_epo = init_epo + num_epo"
   ]
  },
  {
   "cell_type": "code",
   "execution_count": null,
   "metadata": {
    "collapsed": true
   },
   "outputs": [],
   "source": []
  }
 ],
 "metadata": {
  "kernelspec": {
   "display_name": "Python 3",
   "language": "python",
   "name": "python3"
  },
  "language_info": {
   "codemirror_mode": {
    "name": "ipython",
    "version": 3
   },
   "file_extension": ".py",
   "mimetype": "text/x-python",
   "name": "python",
   "nbconvert_exporter": "python",
   "pygments_lexer": "ipython3",
   "version": "3.5.2"
  }
 },
 "nbformat": 4,
 "nbformat_minor": 2
}
