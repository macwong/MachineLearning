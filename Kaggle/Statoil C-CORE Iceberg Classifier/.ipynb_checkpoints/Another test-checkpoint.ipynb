{
 "cells": [
  {
   "cell_type": "markdown",
   "metadata": {},
   "source": [
    "Inspired by https://www.kaggle.com/bluevalhalla/fully-convolutional-network-lb-0-193"
   ]
  },
  {
   "cell_type": "code",
   "execution_count": 30,
   "metadata": {},
   "outputs": [],
   "source": [
    "import numpy as np # linear algebra\n",
    "import pandas as pd # data processing, CSV file I/O (e.g. pd.read_csv)\n",
    "import pdb\n",
    "from sklearn.model_selection import train_test_split\n",
    "from keras.utils.np_utils import to_categorical\n",
    "from keras.models import Sequential\n",
    "from keras.layers import Dense, Dropout, Flatten, Lambda, Activation\n",
    "from keras.layers import Conv2D, MaxPooling2D, ZeroPadding2D, GlobalAveragePooling2D\n",
    "from keras.layers.normalization import BatchNormalization\n",
    "from keras.preprocessing.image import ImageDataGenerator\n",
    "from keras.optimizers import Adam\n",
    "from keras import backend as K\n",
    "from matplotlib import pyplot as plt\n",
    "%matplotlib inline\n",
    "import scipy\n",
    "from scipy import misc, ndimage\n",
    "from scipy.ndimage.interpolation import zoom\n",
    "from scipy.ndimage import imread"
   ]
  },
  {
   "cell_type": "code",
   "execution_count": 2,
   "metadata": {
    "collapsed": true
   },
   "outputs": [],
   "source": [
    "train = pd.read_json(\"_RawData/train.json/data/processed/train.json\")\n",
    "test = pd.read_json(\"_RawData/test.json/data/processed/test.json\")"
   ]
  },
  {
   "cell_type": "code",
   "execution_count": 3,
   "metadata": {
    "collapsed": true
   },
   "outputs": [],
   "source": [
    "def get_images(df):\n",
    "    '''Create 3-channel 'images'. Return rescale-normalised images.'''\n",
    "    images = []\n",
    "    for i, row in df.iterrows():\n",
    "        # Formulate the bands as 75x75 arrays\n",
    "        band_1 = np.array(row['band_1']).reshape(75, 75)\n",
    "        band_2 = np.array(row['band_2']).reshape(75, 75)\n",
    "        band_3 = band_1 / band_2\n",
    "\n",
    "        # Rescale\n",
    "        r = (band_1 - band_1.min()) / (band_1.max() - band_1.min())\n",
    "        g = (band_2 - band_2.min()) / (band_2.max() - band_2.min())\n",
    "        b = (band_3 - band_3.min()) / (band_3.max() - band_3.min())\n",
    "\n",
    "        rgb = np.dstack((r, g, b))\n",
    "        images.append(rgb)\n",
    "    return np.array(images)"
   ]
  },
  {
   "cell_type": "code",
   "execution_count": 4,
   "metadata": {
    "collapsed": true
   },
   "outputs": [],
   "source": [
    "X = get_images(train)"
   ]
  },
  {
   "cell_type": "code",
   "execution_count": 5,
   "metadata": {
    "collapsed": true
   },
   "outputs": [],
   "source": [
    "y = to_categorical(train.is_iceberg.values,num_classes=2)"
   ]
  },
  {
   "cell_type": "code",
   "execution_count": 6,
   "metadata": {
    "collapsed": true
   },
   "outputs": [],
   "source": [
    "Xtr, Xv, ytr, yv = train_test_split(X, y, shuffle=False, test_size=0.20)"
   ]
  },
  {
   "cell_type": "code",
   "execution_count": 38,
   "metadata": {},
   "outputs": [],
   "source": [
    "data_gen = ImageDataGenerator(\n",
    "#             shear_range=0.2,\n",
    "#             zoom_range=0.2,\n",
    "#             rotation_range=180,\n",
    "            vertical_flip=True,\n",
    "            horizontal_flip=True)\n",
    "\n",
    "data_gen.fit(Xtr)\n",
    "\n",
    "val_gen = ImageDataGenerator()\n",
    "val_gen.fit(Xv)"
   ]
  },
  {
   "cell_type": "code",
   "execution_count": 7,
   "metadata": {
    "collapsed": true
   },
   "outputs": [],
   "source": [
    "def ConvBlock(model, layers, filters):\n",
    "    '''Create [layers] layers consisting of zero padding, a convolution with [filters] 3x3 filters and batch normalization. Perform max pooling after the last layer.'''\n",
    "    for i in range(layers):\n",
    "        model.add(ZeroPadding2D((1, 1)))\n",
    "        model.add(Conv2D(filters, (3, 3), activation='relu'))\n",
    "        model.add(BatchNormalization(axis=3))\n",
    "    model.add(MaxPooling2D((2, 2), strides=(2, 2)))"
   ]
  },
  {
   "cell_type": "code",
   "execution_count": 8,
   "metadata": {
    "collapsed": true
   },
   "outputs": [],
   "source": [
    "def create_model():\n",
    "    '''Create the FCN and return a keras model.'''\n",
    "\n",
    "    model = Sequential()\n",
    "\n",
    "    # Input image: 75x75x3\n",
    "    model.add(Lambda(lambda x: x, input_shape=(75, 75, 3)))\n",
    "    ConvBlock(model, 1, 32)\n",
    "    # 37x37x32\n",
    "    ConvBlock(model, 1, 64)\n",
    "    # 18x18x64\n",
    "    ConvBlock(model, 1, 128)\n",
    "    # 9x9x128\n",
    "    ConvBlock(model, 1, 128)\n",
    "    # 4x4x128\n",
    "    model.add(ZeroPadding2D((1, 1)))\n",
    "    model.add(Conv2D(2, (3, 3), activation='relu'))\n",
    "    model.add(GlobalAveragePooling2D())\n",
    "    # 4x4x2\n",
    "    model.add(Activation('softmax'))\n",
    "    \n",
    "    return model"
   ]
  },
  {
   "cell_type": "code",
   "execution_count": 39,
   "metadata": {
    "collapsed": true
   },
   "outputs": [],
   "source": [
    "# Create the model and compile\n",
    "model = create_model()\n",
    "model.compile(loss='categorical_crossentropy', optimizer=Adam(lr=0.0001), metrics=['accuracy'])"
   ]
  },
  {
   "cell_type": "code",
   "execution_count": 40,
   "metadata": {},
   "outputs": [
    {
     "name": "stdout",
     "output_type": "stream",
     "text": [
      "_________________________________________________________________\n",
      "Layer (type)                 Output Shape              Param #   \n",
      "=================================================================\n",
      "lambda_6 (Lambda)            (None, 75, 75, 3)         0         \n",
      "_________________________________________________________________\n",
      "zero_padding2d_26 (ZeroPaddi (None, 77, 77, 3)         0         \n",
      "_________________________________________________________________\n",
      "conv2d_26 (Conv2D)           (None, 75, 75, 32)        896       \n",
      "_________________________________________________________________\n",
      "batch_normalization_21 (Batc (None, 75, 75, 32)        128       \n",
      "_________________________________________________________________\n",
      "max_pooling2d_21 (MaxPooling (None, 37, 37, 32)        0         \n",
      "_________________________________________________________________\n",
      "zero_padding2d_27 (ZeroPaddi (None, 39, 39, 32)        0         \n",
      "_________________________________________________________________\n",
      "conv2d_27 (Conv2D)           (None, 37, 37, 64)        18496     \n",
      "_________________________________________________________________\n",
      "batch_normalization_22 (Batc (None, 37, 37, 64)        256       \n",
      "_________________________________________________________________\n",
      "max_pooling2d_22 (MaxPooling (None, 18, 18, 64)        0         \n",
      "_________________________________________________________________\n",
      "zero_padding2d_28 (ZeroPaddi (None, 20, 20, 64)        0         \n",
      "_________________________________________________________________\n",
      "conv2d_28 (Conv2D)           (None, 18, 18, 128)       73856     \n",
      "_________________________________________________________________\n",
      "batch_normalization_23 (Batc (None, 18, 18, 128)       512       \n",
      "_________________________________________________________________\n",
      "max_pooling2d_23 (MaxPooling (None, 9, 9, 128)         0         \n",
      "_________________________________________________________________\n",
      "zero_padding2d_29 (ZeroPaddi (None, 11, 11, 128)       0         \n",
      "_________________________________________________________________\n",
      "conv2d_29 (Conv2D)           (None, 9, 9, 128)         147584    \n",
      "_________________________________________________________________\n",
      "batch_normalization_24 (Batc (None, 9, 9, 128)         512       \n",
      "_________________________________________________________________\n",
      "max_pooling2d_24 (MaxPooling (None, 4, 4, 128)         0         \n",
      "_________________________________________________________________\n",
      "zero_padding2d_30 (ZeroPaddi (None, 6, 6, 128)         0         \n",
      "_________________________________________________________________\n",
      "conv2d_30 (Conv2D)           (None, 4, 4, 2)           2306      \n",
      "_________________________________________________________________\n",
      "global_average_pooling2d_6 ( (None, 2)                 0         \n",
      "_________________________________________________________________\n",
      "activation_6 (Activation)    (None, 2)                 0         \n",
      "=================================================================\n",
      "Total params: 244,546\n",
      "Trainable params: 243,842\n",
      "Non-trainable params: 704\n",
      "_________________________________________________________________\n"
     ]
    }
   ],
   "source": [
    "model.summary()"
   ]
  },
  {
   "cell_type": "code",
   "execution_count": 41,
   "metadata": {
    "collapsed": true
   },
   "outputs": [],
   "source": [
    "init_epo = 0\n",
    "num_epo = 30\n",
    "end_epo = init_epo + num_epo"
   ]
  },
  {
   "cell_type": "code",
   "execution_count": 42,
   "metadata": {},
   "outputs": [
    {
     "name": "stdout",
     "output_type": "stream",
     "text": [
      "Epoch 1/30\n",
      "41/40 [==============================] - 4s - loss: 0.5380 - acc: 0.7163 - val_loss: 0.6896 - val_acc: 0.6293\n",
      "Epoch 2/30\n",
      "41/40 [==============================] - 1s - loss: 0.4868 - acc: 0.7453 - val_loss: 0.6600 - val_acc: 0.6573\n",
      "Epoch 3/30\n",
      "41/40 [==============================] - 1s - loss: 0.4405 - acc: 0.7705 - val_loss: 0.6469 - val_acc: 0.6573\n",
      "Epoch 4/30\n",
      "41/40 [==============================] - 1s - loss: 0.4005 - acc: 0.8098 - val_loss: 0.6279 - val_acc: 0.6573\n",
      "Epoch 5/30\n",
      "41/40 [==============================] - 1s - loss: 0.3729 - acc: 0.8292 - val_loss: 0.6166 - val_acc: 0.6573\n",
      "Epoch 6/30\n",
      "41/40 [==============================] - 1s - loss: 0.3620 - acc: 0.8243 - val_loss: 0.6371 - val_acc: 0.6573\n",
      "Epoch 7/30\n",
      "41/40 [==============================] - 1s - loss: 0.3262 - acc: 0.8444 - val_loss: 0.7137 - val_acc: 0.6573\n",
      "Epoch 8/30\n",
      "41/40 [==============================] - 1s - loss: 0.3055 - acc: 0.8571 - val_loss: 0.8010 - val_acc: 0.6573\n",
      "Epoch 9/30\n",
      "41/40 [==============================] - 1s - loss: 0.2968 - acc: 0.8635 - val_loss: 0.9188 - val_acc: 0.6573\n",
      "Epoch 10/30\n",
      "41/40 [==============================] - 1s - loss: 0.2812 - acc: 0.8696 - val_loss: 0.8236 - val_acc: 0.6604\n",
      "Epoch 11/30\n",
      "41/40 [==============================] - 1s - loss: 0.2713 - acc: 0.8772 - val_loss: 0.6437 - val_acc: 0.6791\n",
      "Epoch 12/30\n",
      "41/40 [==============================] - 1s - loss: 0.2819 - acc: 0.8731 - val_loss: 0.6735 - val_acc: 0.7290\n",
      "Epoch 13/30\n",
      "41/40 [==============================] - 1s - loss: 0.2744 - acc: 0.8552 - val_loss: 0.3797 - val_acc: 0.8287\n",
      "Epoch 14/30\n",
      "41/40 [==============================] - 1s - loss: 0.2595 - acc: 0.8700 - val_loss: 0.3578 - val_acc: 0.8318\n",
      "Epoch 15/30\n",
      "41/40 [==============================] - 1s - loss: 0.2437 - acc: 0.8894 - val_loss: 0.3600 - val_acc: 0.8474\n",
      "Epoch 16/30\n",
      "41/40 [==============================] - 1s - loss: 0.2361 - acc: 0.8902 - val_loss: 0.4044 - val_acc: 0.7601\n",
      "Epoch 17/30\n",
      "41/40 [==============================] - 1s - loss: 0.2303 - acc: 0.8978 - val_loss: 0.3141 - val_acc: 0.8941\n",
      "Epoch 18/30\n",
      "41/40 [==============================] - 1s - loss: 0.2222 - acc: 0.9085 - val_loss: 0.3570 - val_acc: 0.7913\n",
      "Epoch 19/30\n",
      "41/40 [==============================] - 1s - loss: 0.2171 - acc: 0.9024 - val_loss: 0.2882 - val_acc: 0.8598\n",
      "Epoch 20/30\n",
      "41/40 [==============================] - 1s - loss: 0.2065 - acc: 0.9047 - val_loss: 0.3094 - val_acc: 0.8442\n",
      "Epoch 21/30\n",
      "41/40 [==============================] - 1s - loss: 0.1889 - acc: 0.9154 - val_loss: 0.3149 - val_acc: 0.8287\n",
      "Epoch 22/30\n",
      "41/40 [==============================] - 1s - loss: 0.1974 - acc: 0.9100 - val_loss: 0.4912 - val_acc: 0.7726\n",
      "Epoch 23/30\n",
      "41/40 [==============================] - 1s - loss: 0.1828 - acc: 0.9291 - val_loss: 0.3088 - val_acc: 0.8879\n",
      "Epoch 24/30\n",
      "41/40 [==============================] - 1s - loss: 0.1784 - acc: 0.9230 - val_loss: 0.2750 - val_acc: 0.9034\n",
      "Epoch 25/30\n",
      "41/40 [==============================] - 1s - loss: 0.1589 - acc: 0.9398 - val_loss: 0.3206 - val_acc: 0.8411\n",
      "Epoch 26/30\n",
      "41/40 [==============================] - 1s - loss: 0.1773 - acc: 0.9303 - val_loss: 0.2788 - val_acc: 0.8941\n",
      "Epoch 27/30\n",
      "41/40 [==============================] - 1s - loss: 0.1587 - acc: 0.9352 - val_loss: 0.3441 - val_acc: 0.8287\n",
      "Epoch 28/30\n",
      "41/40 [==============================] - 1s - loss: 0.1537 - acc: 0.9364 - val_loss: 0.5489 - val_acc: 0.8006\n",
      "Epoch 29/30\n",
      "41/40 [==============================] - 1s - loss: 0.1551 - acc: 0.9390 - val_loss: 0.3484 - val_acc: 0.8442\n",
      "Epoch 30/30\n",
      "41/40 [==============================] - 1s - loss: 0.1640 - acc: 0.9402 - val_loss: 0.2775 - val_acc: 0.8754\n"
     ]
    },
    {
     "data": {
      "text/plain": [
       "<keras.callbacks.History at 0x1fdf0c77a90>"
      ]
     },
     "execution_count": 42,
     "metadata": {},
     "output_type": "execute_result"
    }
   ],
   "source": [
    "model.fit_generator(data_gen.flow(Xtr, ytr, batch_size=32),\n",
    "                     steps_per_epoch=len(Xtr) / 32,\n",
    "                     epochs=num_epo,\n",
    "                     validation_data=val_gen.flow(Xv, yv, batch_size=32, shuffle=False),\n",
    "                     validation_steps = len(Xv) / 32)"
   ]
  },
  {
   "cell_type": "code",
   "execution_count": 28,
   "metadata": {},
   "outputs": [
    {
     "name": "stdout",
     "output_type": "stream",
     "text": [
      "lr = 9.999999747378752e-05\n",
      "Train on 1283 samples, validate on 321 samples\n",
      "Epoch 1/30\n",
      "1283/1283 [==============================] - 3s - loss: 0.5444 - acc: 0.7163 - val_loss: 0.7084 - val_acc: 0.3427\n",
      "Epoch 2/30\n",
      "1283/1283 [==============================] - 1s - loss: 0.4575 - acc: 0.7615 - val_loss: 0.6808 - val_acc: 0.6542\n",
      "Epoch 3/30\n",
      "1283/1283 [==============================] - 1s - loss: 0.3990 - acc: 0.8051 - val_loss: 0.6477 - val_acc: 0.6573\n",
      "Epoch 4/30\n",
      "1283/1283 [==============================] - 1s - loss: 0.3491 - acc: 0.8316 - val_loss: 0.6334 - val_acc: 0.6573\n",
      "Epoch 5/30\n",
      "1283/1283 [==============================] - 1s - loss: 0.3018 - acc: 0.8769 - val_loss: 0.6350 - val_acc: 0.6573\n",
      "Epoch 6/30\n",
      "1283/1283 [==============================] - 1s - loss: 0.2843 - acc: 0.8769 - val_loss: 0.6305 - val_acc: 0.6573\n",
      "Epoch 7/30\n",
      "1283/1283 [==============================] - 1s - loss: 0.2389 - acc: 0.9034 - val_loss: 0.6432 - val_acc: 0.6573\n",
      "Epoch 8/30\n",
      "1283/1283 [==============================] - 1s - loss: 0.2172 - acc: 0.9158 - val_loss: 0.7113 - val_acc: 0.6573\n",
      "Epoch 9/30\n",
      "1283/1283 [==============================] - 1s - loss: 0.1948 - acc: 0.9275 - val_loss: 0.7244 - val_acc: 0.6604\n",
      "Epoch 10/30\n",
      "1283/1283 [==============================] - 1s - loss: 0.1543 - acc: 0.9548 - val_loss: 0.7519 - val_acc: 0.6604\n",
      "Epoch 11/30\n",
      "1283/1283 [==============================] - 1s - loss: 0.1562 - acc: 0.9548 - val_loss: 0.5987 - val_acc: 0.6760\n",
      "Epoch 12/30\n",
      "1283/1283 [==============================] - 1s - loss: 0.1306 - acc: 0.9665 - val_loss: 0.6177 - val_acc: 0.6885\n",
      "Epoch 13/30\n",
      "1283/1283 [==============================] - 1s - loss: 0.1056 - acc: 0.9774 - val_loss: 0.5094 - val_acc: 0.7570\n",
      "Epoch 14/30\n",
      "1283/1283 [==============================] - 1s - loss: 0.1175 - acc: 0.9704 - val_loss: 0.4162 - val_acc: 0.8131\n",
      "Epoch 15/30\n",
      "1283/1283 [==============================] - 1s - loss: 0.0836 - acc: 0.9852 - val_loss: 0.4274 - val_acc: 0.8100\n",
      "Epoch 16/30\n",
      "1283/1283 [==============================] - 1s - loss: 0.0645 - acc: 0.9953 - val_loss: 0.2845 - val_acc: 0.8910\n",
      "Epoch 17/30\n",
      "1283/1283 [==============================] - 1s - loss: 0.0574 - acc: 0.9953 - val_loss: 0.3302 - val_acc: 0.8442\n",
      "Epoch 18/30\n",
      "1283/1283 [==============================] - 1s - loss: 0.0406 - acc: 0.9977 - val_loss: 0.2767 - val_acc: 0.9003\n",
      "Epoch 19/30\n",
      "1283/1283 [==============================] - 1s - loss: 0.0455 - acc: 0.9945 - val_loss: 0.2875 - val_acc: 0.8879\n",
      "Epoch 20/30\n",
      "1283/1283 [==============================] - 1s - loss: 0.0333 - acc: 1.0000 - val_loss: 0.2531 - val_acc: 0.9097\n",
      "Epoch 21/30\n",
      "1283/1283 [==============================] - 1s - loss: 0.0346 - acc: 0.9969 - val_loss: 0.2483 - val_acc: 0.8972\n",
      "Epoch 22/30\n",
      "1283/1283 [==============================] - 1s - loss: 0.0682 - acc: 0.9821 - val_loss: 0.5050 - val_acc: 0.7757\n",
      "Epoch 23/30\n",
      "1283/1283 [==============================] - 1s - loss: 0.0298 - acc: 0.9992 - val_loss: 0.5722 - val_acc: 0.7695\n",
      "Epoch 24/30\n",
      "1283/1283 [==============================] - 1s - loss: 0.0807 - acc: 0.9758 - val_loss: 0.2961 - val_acc: 0.8816\n",
      "Epoch 25/30\n",
      "1283/1283 [==============================] - 1s - loss: 0.0293 - acc: 0.9992 - val_loss: 0.5084 - val_acc: 0.7882\n",
      "Epoch 26/30\n",
      "1283/1283 [==============================] - 1s - loss: 0.0227 - acc: 1.0000 - val_loss: 0.4783 - val_acc: 0.8037\n",
      "Epoch 27/30\n",
      "1283/1283 [==============================] - 1s - loss: 0.0204 - acc: 0.9992 - val_loss: 0.4648 - val_acc: 0.8037\n",
      "Epoch 28/30\n",
      "1283/1283 [==============================] - 1s - loss: 0.0155 - acc: 0.9992 - val_loss: 0.2579 - val_acc: 0.9003\n",
      "Epoch 29/30\n",
      "1283/1283 [==============================] - 1s - loss: 0.0163 - acc: 0.9992 - val_loss: 0.3598 - val_acc: 0.8349\n",
      "Epoch 30/30\n",
      "1283/1283 [==============================] - 1s - loss: 0.0128 - acc: 1.0000 - val_loss: 0.4028 - val_acc: 0.8287\n"
     ]
    }
   ],
   "source": [
    "print ('lr = {}'.format(K.get_value(model.optimizer.lr)))\n",
    "history = model.fit(Xtr, ytr, validation_data=(Xv, yv), batch_size=32, epochs=end_epo, initial_epoch=init_epo)\n",
    "init_epo += num_epo\n",
    "end_epo = init_epo + num_epo"
   ]
  },
  {
   "cell_type": "code",
   "execution_count": null,
   "metadata": {
    "collapsed": true
   },
   "outputs": [],
   "source": []
  }
 ],
 "metadata": {
  "kernelspec": {
   "display_name": "Python 3",
   "language": "python",
   "name": "python3"
  },
  "language_info": {
   "codemirror_mode": {
    "name": "ipython",
    "version": 3
   },
   "file_extension": ".py",
   "mimetype": "text/x-python",
   "name": "python",
   "nbconvert_exporter": "python",
   "pygments_lexer": "ipython3",
   "version": "3.5.2"
  }
 },
 "nbformat": 4,
 "nbformat_minor": 2
}
