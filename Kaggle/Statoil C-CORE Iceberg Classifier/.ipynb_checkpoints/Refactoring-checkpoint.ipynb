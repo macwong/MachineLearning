{
 "cells": [
  {
   "cell_type": "code",
   "execution_count": 1,
   "metadata": {},
   "outputs": [
    {
     "name": "stderr",
     "output_type": "stream",
     "text": [
      "Using TensorFlow backend.\n"
     ]
    }
   ],
   "source": [
    "%load_ext autoreload\n",
    "%autoreload 2\n",
    "\n",
    "import numpy as np # linear algebra\n",
    "import pandas as pd # data processing, CSV file I/O (e.g. pd.read_csv)\n",
    "import pdb\n",
    "from sklearn.model_selection import train_test_split\n",
    "from keras.utils.np_utils import to_categorical\n",
    "from keras import backend as K\n",
    "from matplotlib import pyplot as plt\n",
    "%matplotlib inline\n",
    "import scipy\n",
    "from scipy import misc, ndimage\n",
    "from scipy.ndimage.interpolation import zoom\n",
    "from scipy.ndimage import imread\n",
    "import helpers\n",
    "from models import DaveModel, DaveVGG, DaveVGG19, SimpleModel, LeNetModel\n",
    "from trainer import Trainer"
   ]
  },
  {
   "cell_type": "code",
   "execution_count": 2,
   "metadata": {
    "collapsed": true
   },
   "outputs": [],
   "source": [
    "train = pd.read_json(\"_RawData/train.json/data/processed/train.json\")\n",
    "test = pd.read_json(\"_RawData/test.json/data/processed/test.json\")\n",
    "\n",
    "X = helpers.get_images(train)\n",
    "X_test = helpers.get_images(test)\n",
    "\n",
    "y = to_categorical(train.is_iceberg.values,num_classes=2)"
   ]
  },
  {
   "cell_type": "code",
   "execution_count": 13,
   "metadata": {
    "collapsed": true
   },
   "outputs": [],
   "source": [
    "trainRunner = Trainer(X, y, [\n",
    "    DaveModel(),\n",
    "    DaveVGG(),\n",
    "    DaveVGG19(),\n",
    "    LeNetModel()\n",
    "])"
   ]
  },
  {
   "cell_type": "code",
   "execution_count": 12,
   "metadata": {},
   "outputs": [
    {
     "name": "stdout",
     "output_type": "stream",
     "text": [
      "Model: davemodel\n",
      "Batch Size: 32\n",
      "Epochs: 10\n",
      "Epoch 1/10\n",
      "41/40 [==============================] - 8s - loss: 0.5464 - acc: 0.7297 - val_loss: 0.6768 - val_acc: 0.6573\n",
      "Epoch 2/10\n",
      "41/40 [==============================] - 1s - loss: 0.5024 - acc: 0.7411 - val_loss: 0.6437 - val_acc: 0.6573\n",
      "Epoch 3/10\n",
      "41/40 [==============================] - 1s - loss: 0.4635 - acc: 0.7610 - val_loss: 0.6339 - val_acc: 0.6573\n",
      "Epoch 4/10\n",
      "41/40 [==============================] - 1s - loss: 0.4155 - acc: 0.7987 - val_loss: 0.6280 - val_acc: 0.6573\n",
      "Epoch 5/10\n",
      "41/40 [==============================] - 1s - loss: 0.3808 - acc: 0.8170 - val_loss: 0.6225 - val_acc: 0.6573\n",
      "Epoch 6/10\n",
      "41/40 [==============================] - 1s - loss: 0.3696 - acc: 0.8292 - val_loss: 0.6219 - val_acc: 0.6573\n",
      "Epoch 7/10\n",
      "41/40 [==============================] - 1s - loss: 0.3645 - acc: 0.8128 - val_loss: 0.6099 - val_acc: 0.6573\n",
      "Epoch 8/10\n",
      "41/40 [==============================] - 1s - loss: 0.3616 - acc: 0.8357 - val_loss: 0.6682 - val_acc: 0.6573\n",
      "Epoch 9/10\n",
      "41/40 [==============================] - 1s - loss: 0.3524 - acc: 0.8278 - val_loss: 0.6665 - val_acc: 0.6511\n",
      "Epoch 10/10\n",
      "41/40 [==============================] - 1s - loss: 0.3311 - acc: 0.8456 - val_loss: 0.5744 - val_acc: 0.6604\n",
      "Model: vgg\n",
      "Batch Size: 32\n",
      "Epochs: 10\n",
      "Epoch 1/10\n",
      "41/40 [==============================] - 9s - loss: 0.6948 - acc: 0.5342 - val_loss: 0.6885 - val_acc: 0.6511\n",
      "Epoch 2/10\n",
      "41/40 [==============================] - 5s - loss: 0.6528 - acc: 0.6287 - val_loss: 0.6173 - val_acc: 0.6044\n",
      "Epoch 3/10\n",
      "41/40 [==============================] - 5s - loss: 0.6068 - acc: 0.6736 - val_loss: 0.6756 - val_acc: 0.5576\n",
      "Epoch 4/10\n",
      "41/40 [==============================] - 5s - loss: 0.5963 - acc: 0.6969 - val_loss: 0.5734 - val_acc: 0.6417\n",
      "Epoch 5/10\n",
      "41/40 [==============================] - 5s - loss: 0.5986 - acc: 0.6904 - val_loss: 0.5946 - val_acc: 0.6293\n",
      "Epoch 6/10\n",
      "41/40 [==============================] - 5s - loss: 0.5829 - acc: 0.7064 - val_loss: 0.6210 - val_acc: 0.6386\n",
      "Epoch 7/10\n",
      "41/40 [==============================] - 5s - loss: 0.5907 - acc: 0.7106 - val_loss: 0.6957 - val_acc: 0.5639\n",
      "Epoch 8/10\n",
      "41/40 [==============================] - 5s - loss: 0.6123 - acc: 0.6550 - val_loss: 0.6314 - val_acc: 0.6449\n",
      "Epoch 9/10\n",
      "41/40 [==============================] - 5s - loss: 0.5871 - acc: 0.6954 - val_loss: 0.5862 - val_acc: 0.6231\n",
      "Epoch 10/10\n",
      "41/40 [==============================] - 5s - loss: 0.5741 - acc: 0.6931 - val_loss: 0.5732 - val_acc: 0.6293\n",
      "Model: vgg19\n",
      "Batch Size: 32\n",
      "Epochs: 10\n",
      "Epoch 1/10\n",
      "41/40 [==============================] - 7s - loss: 0.6933 - acc: 0.5025 - val_loss: 0.6924 - val_acc: 0.6573\n",
      "Epoch 2/10\n",
      "41/40 [==============================] - 6s - loss: 0.6921 - acc: 0.5303 - val_loss: 0.6839 - val_acc: 0.6573\n",
      "Epoch 3/10\n",
      "41/40 [==============================] - 6s - loss: 0.6931 - acc: 0.5025 - val_loss: 0.6854 - val_acc: 0.6573\n",
      "Epoch 4/10\n",
      "41/40 [==============================] - 6s - loss: 0.6806 - acc: 0.5505 - val_loss: 0.6799 - val_acc: 0.4953\n",
      "Epoch 5/10\n",
      "41/40 [==============================] - 6s - loss: 0.6911 - acc: 0.5562 - val_loss: 0.6982 - val_acc: 0.4984\n",
      "Epoch 6/10\n",
      "41/40 [==============================] - 6s - loss: 0.6694 - acc: 0.6123 - val_loss: 0.6522 - val_acc: 0.5327\n",
      "Epoch 7/10\n",
      "41/40 [==============================] - 6s - loss: 0.6169 - acc: 0.6702 - val_loss: 0.6079 - val_acc: 0.6324\n",
      "Epoch 8/10\n",
      "41/40 [==============================] - 6s - loss: 0.5619 - acc: 0.7148 - val_loss: 0.5902 - val_acc: 0.6417\n",
      "Epoch 9/10\n",
      "41/40 [==============================] - 6s - loss: 0.5940 - acc: 0.6904 - val_loss: 0.5899 - val_acc: 0.6386\n",
      "Epoch 10/10\n",
      "41/40 [==============================] - 6s - loss: 0.5843 - acc: 0.6885 - val_loss: 0.6380 - val_acc: 0.5857\n",
      "Model: lenet\n",
      "Batch Size: 32\n",
      "Epochs: 10\n",
      "Epoch 1/10\n",
      "41/40 [==============================] - 2s - loss: 0.6561 - acc: 0.5986 - val_loss: 0.6358 - val_acc: 0.6199\n",
      "Epoch 2/10\n",
      "41/40 [==============================] - 1s - loss: 0.5911 - acc: 0.6870 - val_loss: 0.7155 - val_acc: 0.5826\n",
      "Epoch 3/10\n",
      "41/40 [==============================] - 1s - loss: 0.5810 - acc: 0.6885 - val_loss: 0.6103 - val_acc: 0.6231\n",
      "Epoch 4/10\n",
      "41/40 [==============================] - 1s - loss: 0.5432 - acc: 0.7259 - val_loss: 0.5410 - val_acc: 0.6667\n",
      "Epoch 5/10\n",
      "41/40 [==============================] - 1s - loss: 0.5497 - acc: 0.7183 - val_loss: 0.5104 - val_acc: 0.7601\n",
      "Epoch 6/10\n",
      "41/40 [==============================] - 1s - loss: 0.5101 - acc: 0.7506 - val_loss: 0.5858 - val_acc: 0.6386\n",
      "Epoch 7/10\n",
      "41/40 [==============================] - 1s - loss: 0.4914 - acc: 0.7656 - val_loss: 0.4914 - val_acc: 0.7445\n",
      "Epoch 8/10\n",
      "41/40 [==============================] - 1s - loss: 0.4751 - acc: 0.7743 - val_loss: 0.5346 - val_acc: 0.6822\n",
      "Epoch 9/10\n",
      "41/40 [==============================] - 1s - loss: 0.4738 - acc: 0.7549 - val_loss: 0.4998 - val_acc: 0.7165\n",
      "Epoch 10/10\n",
      "41/40 [==============================] - 1s - loss: 0.4508 - acc: 0.8048 - val_loss: 0.4474 - val_acc: 0.8037\n"
     ]
    }
   ],
   "source": [
    "# trainRunner.train(32, 1, False)\n",
    "trainRunner.train_full(32, 1, False)\n"
   ]
  },
  {
   "cell_type": "code",
   "execution_count": null,
   "metadata": {
    "collapsed": true
   },
   "outputs": [],
   "source": []
  }
 ],
 "metadata": {
  "kernelspec": {
   "display_name": "Python 3",
   "language": "python",
   "name": "python3"
  },
  "language_info": {
   "codemirror_mode": {
    "name": "ipython",
    "version": 3
   },
   "file_extension": ".py",
   "mimetype": "text/x-python",
   "name": "python",
   "nbconvert_exporter": "python",
   "pygments_lexer": "ipython3",
   "version": "3.5.2"
  }
 },
 "nbformat": 4,
 "nbformat_minor": 2
}
