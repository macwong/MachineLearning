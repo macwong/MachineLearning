{
 "cells": [
  {
   "cell_type": "code",
   "execution_count": 12,
   "metadata": {},
   "outputs": [
    {
     "name": "stdout",
     "output_type": "stream",
     "text": [
      "The autoreload extension is already loaded. To reload it, use:\n",
      "  %reload_ext autoreload\n"
     ]
    }
   ],
   "source": [
    "%load_ext autoreload\n",
    "%autoreload 2\n",
    "\n",
    "import numpy as np # linear algebra\n",
    "import pandas as pd # data processing, CSV file I/O (e.g. pd.read_csv)\n",
    "import pdb\n",
    "from sklearn.model_selection import train_test_split\n",
    "from keras.utils.np_utils import to_categorical\n",
    "from keras import backend as K\n",
    "from matplotlib import pyplot as plt\n",
    "%matplotlib inline\n",
    "import scipy\n",
    "from scipy import misc, ndimage\n",
    "from scipy.ndimage.interpolation import zoom\n",
    "from scipy.ndimage import imread\n",
    "import helpers\n",
    "from models import DaveModel, DaveVGG, DaveVGG19, SimpleModel, LeNetModel, BestModel\n",
    "from trainer import Trainer\n",
    "from labeller import PseudoLabeller"
   ]
  },
  {
   "cell_type": "code",
   "execution_count": 2,
   "metadata": {
    "collapsed": true
   },
   "outputs": [],
   "source": [
    "train = pd.read_json(\"_RawData/train.json/data/processed/train.json\")\n",
    "test = pd.read_json(\"_RawData/test.json/data/processed/test.json\")\n",
    "\n",
    "X = helpers.get_images(train)\n",
    "X_test = helpers.get_images(test)\n",
    "\n",
    "y = to_categorical(train.is_iceberg.values,num_classes=2)\n",
    "\n",
    "ids = test[\"id\"]"
   ]
  },
  {
   "cell_type": "code",
   "execution_count": 17,
   "metadata": {
    "collapsed": true
   },
   "outputs": [],
   "source": [
    "trainRunner = Trainer(ids, X, y, X_test, [\n",
    "    DaveModel(ids),\n",
    "    DaveVGG(ids),\n",
    "    DaveVGG19(ids),\n",
    "    LeNetModel(ids),\n",
    "    BestModel(ids)\n",
    "])"
   ]
  },
  {
   "cell_type": "code",
   "execution_count": 20,
   "metadata": {
    "scrolled": false
   },
   "outputs": [
    {
     "name": "stdout",
     "output_type": "stream",
     "text": [
      "davemodel\n",
      "vgg\n",
      "vgg19\n",
      "lenet\n",
      "best\n",
      "           ids  definitive  davemodel       vgg     vgg19     lenet      best  \\\n",
      "0     5941774d       False   0.520363  0.497344  0.482392  0.316375  0.492205   \n",
      "1     4023181e       False   0.526906  0.498399  0.485281  0.453546  0.497889   \n",
      "2     b20200e4       False   0.536801  0.611857  0.492162  0.787945  0.513728   \n",
      "3     e7f018bb       False   0.525735  0.499015  0.485987  0.530830  0.497716   \n",
      "4     4371c8c3       False   0.528097  0.499891  0.486485  0.634003  0.498969   \n",
      "5     a8d9b1fd       False   0.528237  0.516178  0.486931  0.607975  0.545009   \n",
      "6     29e7727e       False   0.527876  0.499271  0.486889  0.537641  0.503387   \n",
      "7     92a51ffb       False   0.522518  0.497979  0.484065  0.383604  0.494073   \n",
      "8     c769ac97       False   0.532831  0.506960  0.489280  0.720549  0.656787   \n",
      "9     aee0547d       False   0.537215  0.500987  0.491417  0.660276  0.509159   \n",
      "10    565b28ac       False   0.535182  0.616670  0.492541  0.780268  0.516463   \n",
      "11    e04e9775       False   0.528448  0.498785  0.487121  0.477840  0.499822   \n",
      "12    8e8161d1       False   0.531435  0.642504  0.488935  0.901162  0.836094   \n",
      "13    4cf4d256       False   0.528342  0.499510  0.485661  0.718552  0.500208   \n",
      "14    139e5324       False   0.530001  0.577407  0.486818  0.838424  0.752536   \n",
      "15    f156976f       False   0.530812  0.594777  0.488812  0.851274  0.797710   \n",
      "16    68a117cc       False   0.533091  0.575578  0.491026  0.784016  0.512369   \n",
      "17    d9aa7a56       False   0.532423  0.500286  0.489167  0.646385  0.504012   \n",
      "18    9005b143        True   0.532435  0.647296  0.548421  0.884336  0.802538   \n",
      "19    5f6d3988       False   0.520526  0.497447  0.482776  0.314415  0.492463   \n",
      "20    9ad70954       False   0.528428  0.498637  0.486831  0.451126  0.498076   \n",
      "21    b9087b9e       False   0.523528  0.497975  0.484709  0.362650  0.497398   \n",
      "22    a39a1427       False   0.530973  0.551099  0.488109  0.704178  0.624890   \n",
      "23    82fbe8ed       False   0.525229  0.498989  0.486485  0.589041  0.499966   \n",
      "24    1fae4879       False   0.530609  0.500080  0.487984  0.657029  0.625029   \n",
      "25    6dd8f13d       False   0.540460  0.500493  0.492056  0.589675  0.508350   \n",
      "26    bbad5958       False   0.524421  0.497781  0.484034  0.345009  0.494163   \n",
      "27    54527583       False   0.536063  0.499857  0.489785  0.543664  0.504943   \n",
      "28    be8fa29c       False   0.528999  0.499126  0.487418  0.562988  0.500767   \n",
      "29    81a3328f       False   0.524551  0.499231  0.485782  0.556688  0.540849   \n",
      "...        ...         ...        ...       ...       ...       ...       ...   \n",
      "8394  8ae30ce6       False   0.531586  0.500380  0.488722  0.612401  0.556757   \n",
      "8395  de27ed88       False   0.532375  0.499638  0.488589  0.548579  0.503652   \n",
      "8396  66d5196f       False   0.532983  0.604720  0.492188  0.802672  0.514352   \n",
      "8397  d85f1858       False   0.527766  0.499372  0.484769  0.730070  0.498004   \n",
      "8398  16dcb33a       False   0.529628  0.500155  0.488374  0.765240  0.505547   \n",
      "8399  eca3158e       False   0.530849  0.525658  0.487860  0.684704  0.608917   \n",
      "8400  08daeee6       False   0.533873  0.500399  0.490345  0.652431  0.506862   \n",
      "8401  e9c513ee       False   0.530831  0.640643  0.488650  0.906425  0.849607   \n",
      "8402  b1519fa6       False   0.530540  0.500751  0.488756  0.795437  0.505100   \n",
      "8403  dfc89540       False   0.529208  0.499624  0.486940  0.653722  0.500699   \n",
      "8404  8fd8c0e9       False   0.530046  0.499405  0.486901  0.610395  0.499569   \n",
      "8405  45df6347       False   0.532375  0.678825  0.489754  0.926672  0.875560   \n",
      "8406  bf7928d7        True   0.539069  0.660160  0.954632  0.873256  0.832610   \n",
      "8407  7b587c05       False   0.530617  0.614963  0.488276  0.865857  0.811815   \n",
      "8408  c2834388       False   0.532968  0.528768  0.490588  0.761733  0.508787   \n",
      "8409  146143c3       False   0.523866  0.498564  0.484189  0.488232  0.517649   \n",
      "8410  d59aee00       False   0.532846  0.511074  0.489640  0.722617  0.667929   \n",
      "8411  cbc0b93b       False   0.532713  0.499883  0.489319  0.585253  0.566514   \n",
      "8412  088e2ff7       False   0.522903  0.498015  0.483719  0.385242  0.495194   \n",
      "8413  673d33cd       False   0.531818  0.499098  0.488584  0.480849  0.502783   \n",
      "8414  674b031e       False   0.540436  0.500043  0.491742  0.523654  0.508381   \n",
      "8415  43db4207       False   0.531501  0.499585  0.488407  0.641581  0.510141   \n",
      "8416  156855e1        True   0.537228  0.729604  0.989044  0.955584  0.912524   \n",
      "8417  ac96cfb0       False   0.533839  0.500075  0.489453  0.647894  0.504464   \n",
      "8418  fe45aef5       False   0.521377  0.498011  0.484762  0.362963  0.496855   \n",
      "8419  16ee9b50       False   0.532177  0.506682  0.488320  0.736235  0.677269   \n",
      "8420  5a599eb7       False   0.535567  0.500081  0.490393  0.625810  0.507190   \n",
      "8421  df30d6dd       False   0.524840  0.498138  0.484620  0.409741  0.499657   \n",
      "8422  18af95b1       False   0.524926  0.499405  0.484806  0.622776  0.593518   \n",
      "8423  27d788c8       False   0.541807  0.500573  0.493064  0.592026  0.509942   \n",
      "\n",
      "      label  \n",
      "0         0  \n",
      "1         0  \n",
      "2         1  \n",
      "3         0  \n",
      "4         0  \n",
      "5         1  \n",
      "6         1  \n",
      "7         0  \n",
      "8         1  \n",
      "9         1  \n",
      "10        1  \n",
      "11        0  \n",
      "12        1  \n",
      "13        1  \n",
      "14        1  \n",
      "15        1  \n",
      "16        1  \n",
      "17        1  \n",
      "18        1  \n",
      "19        0  \n",
      "20        0  \n",
      "21        0  \n",
      "22        1  \n",
      "23        0  \n",
      "24        1  \n",
      "25        1  \n",
      "26        0  \n",
      "27        1  \n",
      "28        1  \n",
      "29        1  \n",
      "...     ...  \n",
      "8394      1  \n",
      "8395      1  \n",
      "8396      1  \n",
      "8397      0  \n",
      "8398      1  \n",
      "8399      1  \n",
      "8400      1  \n",
      "8401      1  \n",
      "8402      1  \n",
      "8403      1  \n",
      "8404      0  \n",
      "8405      1  \n",
      "8406      1  \n",
      "8407      1  \n",
      "8408      1  \n",
      "8409      0  \n",
      "8410      1  \n",
      "8411      1  \n",
      "8412      0  \n",
      "8413      0  \n",
      "8414      1  \n",
      "8415      1  \n",
      "8416      1  \n",
      "8417      1  \n",
      "8418      0  \n",
      "8419      1  \n",
      "8420      1  \n",
      "8421      0  \n",
      "8422      1  \n",
      "8423      1  \n",
      "\n",
      "[8424 rows x 8 columns]\n"
     ]
    }
   ],
   "source": [
    "label_maker = PseudoLabeller(trainRunner)"
   ]
  },
  {
   "cell_type": "code",
   "execution_count": 21,
   "metadata": {},
   "outputs": [
    {
     "data": {
      "text/html": [
       "<div>\n",
       "<style>\n",
       "    .dataframe thead tr:only-child th {\n",
       "        text-align: right;\n",
       "    }\n",
       "\n",
       "    .dataframe thead th {\n",
       "        text-align: left;\n",
       "    }\n",
       "\n",
       "    .dataframe tbody tr th {\n",
       "        vertical-align: top;\n",
       "    }\n",
       "</style>\n",
       "<table border=\"1\" class=\"dataframe\">\n",
       "  <thead>\n",
       "    <tr style=\"text-align: right;\">\n",
       "      <th></th>\n",
       "      <th>ids</th>\n",
       "      <th>definitive</th>\n",
       "      <th>davemodel</th>\n",
       "      <th>vgg</th>\n",
       "      <th>vgg19</th>\n",
       "      <th>lenet</th>\n",
       "      <th>best</th>\n",
       "      <th>label</th>\n",
       "    </tr>\n",
       "  </thead>\n",
       "  <tbody>\n",
       "    <tr>\n",
       "      <th>0</th>\n",
       "      <td>5941774d</td>\n",
       "      <td>False</td>\n",
       "      <td>0.520363</td>\n",
       "      <td>0.497344</td>\n",
       "      <td>0.482392</td>\n",
       "      <td>0.316375</td>\n",
       "      <td>0.492205</td>\n",
       "      <td>0</td>\n",
       "    </tr>\n",
       "    <tr>\n",
       "      <th>1</th>\n",
       "      <td>4023181e</td>\n",
       "      <td>False</td>\n",
       "      <td>0.526906</td>\n",
       "      <td>0.498399</td>\n",
       "      <td>0.485281</td>\n",
       "      <td>0.453546</td>\n",
       "      <td>0.497889</td>\n",
       "      <td>0</td>\n",
       "    </tr>\n",
       "    <tr>\n",
       "      <th>2</th>\n",
       "      <td>b20200e4</td>\n",
       "      <td>False</td>\n",
       "      <td>0.536801</td>\n",
       "      <td>0.611857</td>\n",
       "      <td>0.492162</td>\n",
       "      <td>0.787945</td>\n",
       "      <td>0.513728</td>\n",
       "      <td>1</td>\n",
       "    </tr>\n",
       "    <tr>\n",
       "      <th>3</th>\n",
       "      <td>e7f018bb</td>\n",
       "      <td>False</td>\n",
       "      <td>0.525735</td>\n",
       "      <td>0.499015</td>\n",
       "      <td>0.485987</td>\n",
       "      <td>0.530830</td>\n",
       "      <td>0.497716</td>\n",
       "      <td>0</td>\n",
       "    </tr>\n",
       "    <tr>\n",
       "      <th>4</th>\n",
       "      <td>4371c8c3</td>\n",
       "      <td>False</td>\n",
       "      <td>0.528097</td>\n",
       "      <td>0.499891</td>\n",
       "      <td>0.486485</td>\n",
       "      <td>0.634003</td>\n",
       "      <td>0.498969</td>\n",
       "      <td>0</td>\n",
       "    </tr>\n",
       "  </tbody>\n",
       "</table>\n",
       "</div>"
      ],
      "text/plain": [
       "        ids  definitive  davemodel       vgg     vgg19     lenet      best  \\\n",
       "0  5941774d       False   0.520363  0.497344  0.482392  0.316375  0.492205   \n",
       "1  4023181e       False   0.526906  0.498399  0.485281  0.453546  0.497889   \n",
       "2  b20200e4       False   0.536801  0.611857  0.492162  0.787945  0.513728   \n",
       "3  e7f018bb       False   0.525735  0.499015  0.485987  0.530830  0.497716   \n",
       "4  4371c8c3       False   0.528097  0.499891  0.486485  0.634003  0.498969   \n",
       "\n",
       "   label  \n",
       "0      0  \n",
       "1      0  \n",
       "2      1  \n",
       "3      0  \n",
       "4      0  "
      ]
     },
     "execution_count": 21,
     "metadata": {},
     "output_type": "execute_result"
    }
   ],
   "source": [
    "label_maker.results.head()"
   ]
  },
  {
   "cell_type": "code",
   "execution_count": 85,
   "metadata": {},
   "outputs": [
    {
     "name": "stdout",
     "output_type": "stream",
     "text": [
      "(1283, 75, 75, 3)\n",
      "(1283, 2)\n",
      "(679, 75, 75, 3)\n",
      "(679, 2)\n",
      "(1962, 75, 75, 3)\n",
      "(1962, 2)\n"
     ]
    }
   ],
   "source": [
    "print(label_maker.trainer.X_train.shape)\n",
    "print(label_maker.trainer.y_train.shape)\n",
    "\n",
    "X_train_pseudo = label_maker.trainer.X_test[label_maker.results[\"definitive\"]]\n",
    "y_train_pseudo = label_maker.results[label_maker.results[\"definitive\"]][\"label\"]\n",
    "\n",
    "print(X_train_pseudo.shape)\n",
    "\n",
    "new_train_y = []\n",
    "\n",
    "for record in y_train_pseudo:\n",
    "    if record == 0:\n",
    "        new_train_y.append([0., 1.])\n",
    "    elif record == 1:\n",
    "        new_train_y.append([1., 0.])\n",
    "        \n",
    "y_train_pseudo = np.array(new_train_y)\n",
    "\n",
    "print(y_train_pseudo.shape)\n",
    "\n",
    "# Add definitive data to original training data\n",
    "orig_train = label_maker.trainer.X_train.copy()\n",
    "X_train_pseudo = np.append(orig_train, X_train_pseudo, axis = 0)\n",
    "\n",
    "orig_labels = label_maker.trainer.y_train.copy()\n",
    "y_train_pseudo = np.append(orig_labels, y_train_pseudo, axis = 0)\n",
    "\n",
    "print(X_train_pseudo.shape)\n",
    "print(y_train_pseudo.shape)\n",
    "\n",
    "# anotherRunner = Trainer(ids, X_train_pseudo, y_train_pseudo, X_test, [\n",
    "#     DaveModel(ids),\n",
    "#     DaveVGG(ids),\n",
    "#     DaveVGG19(ids),\n",
    "#     LeNetModel(ids),\n",
    "#     BestModel(ids)\n",
    "# ])\n",
    "\n"
   ]
  },
  {
   "cell_type": "code",
   "execution_count": 86,
   "metadata": {
    "collapsed": true
   },
   "outputs": [],
   "source": [
    "best = BestModel(ids)\n",
    "best.train(X_train_pseudo, y_train_pseudo, label_maker.trainer.X_val, label_maker.trainer.y_val, epochs = 25)"
   ]
  },
  {
   "cell_type": "code",
   "execution_count": null,
   "metadata": {
    "collapsed": true
   },
   "outputs": [],
   "source": [
    "label_maker"
   ]
  },
  {
   "cell_type": "code",
   "execution_count": null,
   "metadata": {
    "collapsed": true
   },
   "outputs": [],
   "source": [
    "# trainRunner.train(32, 1, False)\n",
    "# trainRunner.train_full(32, 1, False)\n"
   ]
  },
  {
   "cell_type": "code",
   "execution_count": 17,
   "metadata": {
    "collapsed": true
   },
   "outputs": [],
   "source": [
    "trainRunner.predict()"
   ]
  },
  {
   "cell_type": "code",
   "execution_count": 18,
   "metadata": {},
   "outputs": [
    {
     "data": {
      "text/plain": [
       "[array([[ 0.58547407,  0.41452599],\n",
       "        [ 0.57440114,  0.42559892],\n",
       "        [ 0.60632485,  0.39367515],\n",
       "        ..., \n",
       "        [ 0.59274668,  0.4072533 ],\n",
       "        [ 0.59482783,  0.40517214],\n",
       "        [ 0.62089276,  0.37910724]], dtype=float32),\n",
       " array([[ 0.51180393,  0.48819605],\n",
       "        [ 0.51168621,  0.48831385],\n",
       "        [ 0.51210481,  0.48789516],\n",
       "        ..., \n",
       "        [ 0.5117113 ,  0.4882887 ],\n",
       "        [ 0.51172554,  0.48827448],\n",
       "        [ 0.51198667,  0.48801333]], dtype=float32),\n",
       " array([[ 0.50135714,  0.49864292],\n",
       "        [ 0.50138915,  0.49861091],\n",
       "        [ 0.96230453,  0.03769542],\n",
       "        ..., \n",
       "        [ 0.50137621,  0.49862379],\n",
       "        [ 0.50154185,  0.49845815],\n",
       "        [ 0.50160444,  0.49839562]], dtype=float32),\n",
       " array([[ 0.24273774,  0.75726223],\n",
       "        [ 0.35269514,  0.64730477],\n",
       "        [ 0.88178951,  0.11821055],\n",
       "        ..., \n",
       "        [ 0.28946409,  0.71053594],\n",
       "        [ 0.28727075,  0.71272928],\n",
       "        [ 0.50449407,  0.4955059 ]], dtype=float32)]"
      ]
     },
     "execution_count": 18,
     "metadata": {},
     "output_type": "execute_result"
    }
   ],
   "source": [
    "trainRunner.predictions"
   ]
  },
  {
   "cell_type": "code",
   "execution_count": null,
   "metadata": {
    "collapsed": true
   },
   "outputs": [],
   "source": []
  }
 ],
 "metadata": {
  "kernelspec": {
   "display_name": "Python 3",
   "language": "python",
   "name": "python3"
  },
  "language_info": {
   "codemirror_mode": {
    "name": "ipython",
    "version": 3
   },
   "file_extension": ".py",
   "mimetype": "text/x-python",
   "name": "python",
   "nbconvert_exporter": "python",
   "pygments_lexer": "ipython3",
   "version": "3.5.2"
  }
 },
 "nbformat": 4,
 "nbformat_minor": 2
}
