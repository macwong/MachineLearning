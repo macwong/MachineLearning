{
 "cells": [
  {
   "cell_type": "code",
   "execution_count": 1,
   "metadata": {},
   "outputs": [
    {
     "name": "stderr",
     "output_type": "stream",
     "text": [
      "Using TensorFlow backend.\n"
     ]
    }
   ],
   "source": [
    "import numpy as np # linear algebra\n",
    "import pandas as pd # data processing, CSV file I/O (e.g. pd.read_csv)\n",
    "import pdb\n",
    "from sklearn.model_selection import train_test_split\n",
    "from keras.utils.np_utils import to_categorical\n",
    "from keras.models import Sequential\n",
    "from keras.layers import Dense, Dropout, Flatten, Lambda, Activation\n",
    "from keras.layers import Conv2D, MaxPooling2D, ZeroPadding2D, GlobalAveragePooling2D\n",
    "from keras.layers.normalization import BatchNormalization\n",
    "from keras.optimizers import Adam\n",
    "from keras import backend as K\n",
    "from matplotlib import pyplot as plt\n",
    "%matplotlib inline\n",
    "import scipy\n",
    "from scipy import misc, ndimage\n",
    "from scipy.ndimage.interpolation import zoom\n",
    "from scipy.ndimage import imread"
   ]
  },
  {
   "cell_type": "code",
   "execution_count": 2,
   "metadata": {
    "collapsed": true
   },
   "outputs": [],
   "source": [
    "train = pd.read_json('../_RawData/train.json/data/processed/train.json')"
   ]
  },
  {
   "cell_type": "code",
   "execution_count": 3,
   "metadata": {
    "collapsed": true
   },
   "outputs": [],
   "source": [
    "def get_images(df):\n",
    "    '''Create 3-channel 'images'. Return rescale-normalised images.'''\n",
    "    images = []\n",
    "    for i, row in df.iterrows():\n",
    "        # Formulate the bands as 75x75 arrays\n",
    "        band_1 = np.array(row['band_1']).reshape(75, 75)\n",
    "        band_2 = np.array(row['band_2']).reshape(75, 75)\n",
    "        band_3 = band_1 / band_2\n",
    "\n",
    "        # Rescale\n",
    "        r = (band_1 - band_1.min()) / (band_1.max() - band_1.min())\n",
    "        g = (band_2 - band_2.min()) / (band_2.max() - band_2.min())\n",
    "        b = (band_3 - band_3.min()) / (band_3.max() - band_3.min())\n",
    "\n",
    "        rgb = np.dstack((r, g, b))\n",
    "        images.append(rgb)\n",
    "    return np.array(images)"
   ]
  },
  {
   "cell_type": "code",
   "execution_count": 4,
   "metadata": {
    "collapsed": true
   },
   "outputs": [],
   "source": [
    "X = get_images(train)"
   ]
  },
  {
   "cell_type": "code",
   "execution_count": 5,
   "metadata": {
    "collapsed": true
   },
   "outputs": [],
   "source": [
    "y = to_categorical(train.is_iceberg.values,num_classes=2)"
   ]
  },
  {
   "cell_type": "code",
   "execution_count": 6,
   "metadata": {
    "collapsed": true
   },
   "outputs": [],
   "source": [
    "Xtr, Xv, ytr, yv = train_test_split(X, y, shuffle=False, test_size=0.20)"
   ]
  },
  {
   "cell_type": "code",
   "execution_count": 7,
   "metadata": {
    "collapsed": true
   },
   "outputs": [],
   "source": [
    "def ConvBlock(model, layers, filters):\n",
    "    '''Create [layers] layers consisting of zero padding, a convolution with [filters] 3x3 filters and batch normalization. Perform max pooling after the last layer.'''\n",
    "    for i in range(layers):\n",
    "        model.add(ZeroPadding2D((1, 1)))\n",
    "        model.add(Conv2D(filters, (3, 3), activation='relu'))\n",
    "        model.add(BatchNormalization(axis=3))\n",
    "    model.add(MaxPooling2D((2, 2), strides=(2, 2)))"
   ]
  },
  {
   "cell_type": "code",
   "execution_count": 8,
   "metadata": {
    "collapsed": true
   },
   "outputs": [],
   "source": [
    "def create_model():\n",
    "    '''Create the FCN and return a keras model.'''\n",
    "\n",
    "    model = Sequential()\n",
    "\n",
    "    # Input image: 75x75x3\n",
    "    model.add(Lambda(lambda x: x, input_shape=(75, 75, 3)))\n",
    "    ConvBlock(model, 1, 32)\n",
    "    # 37x37x32\n",
    "    ConvBlock(model, 1, 64)\n",
    "    # 18x18x64\n",
    "    ConvBlock(model, 1, 128)\n",
    "    # 9x9x128\n",
    "    ConvBlock(model, 1, 128)\n",
    "    # 4x4x128\n",
    "    model.add(ZeroPadding2D((1, 1)))\n",
    "    model.add(Conv2D(2, (3, 3), activation='relu'))\n",
    "    model.add(GlobalAveragePooling2D())\n",
    "    # 4x4x2\n",
    "    model.add(Activation('softmax'))\n",
    "    \n",
    "    return model"
   ]
  },
  {
   "cell_type": "code",
   "execution_count": 9,
   "metadata": {
    "collapsed": true
   },
   "outputs": [],
   "source": [
    "# Create the model and compile\n",
    "model = create_model()\n",
    "model.compile(loss='categorical_crossentropy', optimizer=Adam(lr=0.0001), metrics=['accuracy'])"
   ]
  },
  {
   "cell_type": "code",
   "execution_count": 10,
   "metadata": {},
   "outputs": [
    {
     "name": "stdout",
     "output_type": "stream",
     "text": [
      "_________________________________________________________________\n",
      "Layer (type)                 Output Shape              Param #   \n",
      "=================================================================\n",
      "lambda_1 (Lambda)            (None, 75, 75, 3)         0         \n",
      "_________________________________________________________________\n",
      "zero_padding2d_1 (ZeroPaddin (None, 77, 77, 3)         0         \n",
      "_________________________________________________________________\n",
      "conv2d_1 (Conv2D)            (None, 75, 75, 32)        896       \n",
      "_________________________________________________________________\n",
      "batch_normalization_1 (Batch (None, 75, 75, 32)        128       \n",
      "_________________________________________________________________\n",
      "max_pooling2d_1 (MaxPooling2 (None, 37, 37, 32)        0         \n",
      "_________________________________________________________________\n",
      "zero_padding2d_2 (ZeroPaddin (None, 39, 39, 32)        0         \n",
      "_________________________________________________________________\n",
      "conv2d_2 (Conv2D)            (None, 37, 37, 64)        18496     \n",
      "_________________________________________________________________\n",
      "batch_normalization_2 (Batch (None, 37, 37, 64)        256       \n",
      "_________________________________________________________________\n",
      "max_pooling2d_2 (MaxPooling2 (None, 18, 18, 64)        0         \n",
      "_________________________________________________________________\n",
      "zero_padding2d_3 (ZeroPaddin (None, 20, 20, 64)        0         \n",
      "_________________________________________________________________\n",
      "conv2d_3 (Conv2D)            (None, 18, 18, 128)       73856     \n",
      "_________________________________________________________________\n",
      "batch_normalization_3 (Batch (None, 18, 18, 128)       512       \n",
      "_________________________________________________________________\n",
      "max_pooling2d_3 (MaxPooling2 (None, 9, 9, 128)         0         \n",
      "_________________________________________________________________\n",
      "zero_padding2d_4 (ZeroPaddin (None, 11, 11, 128)       0         \n",
      "_________________________________________________________________\n",
      "conv2d_4 (Conv2D)            (None, 9, 9, 128)         147584    \n",
      "_________________________________________________________________\n",
      "batch_normalization_4 (Batch (None, 9, 9, 128)         512       \n",
      "_________________________________________________________________\n",
      "max_pooling2d_4 (MaxPooling2 (None, 4, 4, 128)         0         \n",
      "_________________________________________________________________\n",
      "zero_padding2d_5 (ZeroPaddin (None, 6, 6, 128)         0         \n",
      "_________________________________________________________________\n",
      "conv2d_5 (Conv2D)            (None, 4, 4, 2)           2306      \n",
      "_________________________________________________________________\n",
      "global_average_pooling2d_1 ( (None, 2)                 0         \n",
      "_________________________________________________________________\n",
      "activation_1 (Activation)    (None, 2)                 0         \n",
      "=================================================================\n",
      "Total params: 244,546\n",
      "Trainable params: 243,842\n",
      "Non-trainable params: 704\n",
      "_________________________________________________________________\n"
     ]
    }
   ],
   "source": [
    "model.summary()"
   ]
  },
  {
   "cell_type": "code",
   "execution_count": 11,
   "metadata": {
    "collapsed": true
   },
   "outputs": [],
   "source": [
    "init_epo = 0\n",
    "num_epo = 30\n",
    "end_epo = init_epo + num_epo"
   ]
  },
  {
   "cell_type": "code",
   "execution_count": 12,
   "metadata": {},
   "outputs": [
    {
     "name": "stdout",
     "output_type": "stream",
     "text": [
      "lr = 9.999999747378752e-05\n",
      "Train on 1283 samples, validate on 321 samples\n",
      "Epoch 1/30\n",
      "1283/1283 [==============================] - 4s - loss: 0.5371 - acc: 0.7256 - val_loss: 0.6695 - val_acc: 0.6355\n",
      "Epoch 2/30\n",
      "1283/1283 [==============================] - 1s - loss: 0.4422 - acc: 0.7763 - val_loss: 0.6327 - val_acc: 0.6573\n",
      "Epoch 3/30\n",
      "1283/1283 [==============================] - 1s - loss: 0.3778 - acc: 0.8020 - val_loss: 0.6420 - val_acc: 0.6573\n",
      "Epoch 4/30\n",
      "1283/1283 [==============================] - 1s - loss: 0.3203 - acc: 0.8581 - val_loss: 0.6992 - val_acc: 0.6573\n",
      "Epoch 5/30\n",
      "1283/1283 [==============================] - 1s - loss: 0.2917 - acc: 0.8659 - val_loss: 0.7398 - val_acc: 0.6573\n",
      "Epoch 6/30\n",
      "1283/1283 [==============================] - 1s - loss: 0.2701 - acc: 0.8784 - val_loss: 0.7977 - val_acc: 0.6573\n",
      "Epoch 7/30\n",
      "1283/1283 [==============================] - 1s - loss: 0.2525 - acc: 0.8870 - val_loss: 0.9761 - val_acc: 0.6573\n",
      "Epoch 8/30\n",
      "1283/1283 [==============================] - 1s - loss: 0.2041 - acc: 0.9166 - val_loss: 1.0112 - val_acc: 0.6573\n",
      "Epoch 9/30\n",
      "1283/1283 [==============================] - 1s - loss: 0.1837 - acc: 0.9299 - val_loss: 1.0872 - val_acc: 0.6573\n",
      "Epoch 10/30\n",
      "1283/1283 [==============================] - 1s - loss: 0.1729 - acc: 0.9337 - val_loss: 1.1595 - val_acc: 0.66040.9\n",
      "Epoch 11/30\n",
      "1283/1283 [==============================] - 1s - loss: 0.1465 - acc: 0.9540 - val_loss: 1.0035 - val_acc: 0.6604\n",
      "Epoch 12/30\n",
      "1283/1283 [==============================] - 1s - loss: 0.1216 - acc: 0.9657 - val_loss: 0.7072 - val_acc: 0.7072\n",
      "Epoch 13/30\n",
      "1283/1283 [==============================] - 1s - loss: 0.1097 - acc: 0.9719 - val_loss: 0.7117 - val_acc: 0.7196\n",
      "Epoch 14/30\n",
      "1283/1283 [==============================] - 1s - loss: 0.0851 - acc: 0.9821 - val_loss: 0.5223 - val_acc: 0.7788\n",
      "Epoch 15/30\n",
      "1283/1283 [==============================] - 1s - loss: 0.0941 - acc: 0.9774 - val_loss: 0.3282 - val_acc: 0.8754\n",
      "Epoch 16/30\n",
      "1283/1283 [==============================] - 1s - loss: 0.0668 - acc: 0.9899 - val_loss: 0.2966 - val_acc: 0.8754\n",
      "Epoch 17/30\n",
      "1283/1283 [==============================] - 1s - loss: 0.0652 - acc: 0.9867 - val_loss: 0.3634 - val_acc: 0.8536\n",
      "Epoch 18/30\n",
      "1283/1283 [==============================] - 1s - loss: 0.0443 - acc: 0.9961 - val_loss: 0.2854 - val_acc: 0.8847\n",
      "Epoch 19/30\n",
      "1283/1283 [==============================] - 1s - loss: 0.0579 - acc: 0.9891 - val_loss: 0.3081 - val_acc: 0.8660\n",
      "Epoch 20/30\n",
      "1283/1283 [==============================] - 1s - loss: 0.0369 - acc: 0.9961 - val_loss: 0.3944 - val_acc: 0.8224\n",
      "Epoch 21/30\n",
      "1283/1283 [==============================] - 1s - loss: 0.0456 - acc: 0.9938 - val_loss: 0.5145 - val_acc: 0.7975\n",
      "Epoch 22/30\n",
      "1283/1283 [==============================] - 1s - loss: 0.0661 - acc: 0.9829 - val_loss: 0.4323 - val_acc: 0.8255\n",
      "Epoch 23/30\n",
      "1283/1283 [==============================] - 1s - loss: 0.0313 - acc: 0.9977 - val_loss: 0.3962 - val_acc: 0.8380\n",
      "Epoch 24/30\n",
      "1283/1283 [==============================] - 1s - loss: 0.0253 - acc: 0.9984 - val_loss: 0.3178 - val_acc: 0.9065\n",
      "Epoch 25/30\n",
      "1283/1283 [==============================] - 1s - loss: 0.0558 - acc: 0.9829 - val_loss: 0.3310 - val_acc: 0.8754\n",
      "Epoch 26/30\n",
      "1283/1283 [==============================] - 1s - loss: 0.0258 - acc: 0.9977 - val_loss: 0.3407 - val_acc: 0.8723\n",
      "Epoch 27/30\n",
      "1283/1283 [==============================] - 1s - loss: 0.0206 - acc: 0.9984 - val_loss: 0.3232 - val_acc: 0.8879\n",
      "Epoch 28/30\n",
      "1283/1283 [==============================] - 1s - loss: 0.0143 - acc: 0.9992 - val_loss: 0.4675 - val_acc: 0.8287\n",
      "Epoch 29/30\n",
      "1283/1283 [==============================] - 1s - loss: 0.0401 - acc: 0.9914 - val_loss: 0.3563 - val_acc: 0.8536\n",
      "Epoch 30/30\n",
      "1283/1283 [==============================] - 1s - loss: 0.0282 - acc: 0.9961 - val_loss: 0.3810 - val_acc: 0.8567\n"
     ]
    }
   ],
   "source": [
    "print ('lr = {}'.format(K.get_value(model.optimizer.lr)))\n",
    "history = model.fit(Xtr, ytr, validation_data=(Xv, yv), batch_size=32, epochs=end_epo, initial_epoch=init_epo)\n",
    "init_epo += num_epo\n",
    "end_epo = init_epo + num_epo"
   ]
  },
  {
   "cell_type": "code",
   "execution_count": 14,
   "metadata": {},
   "outputs": [
    {
     "name": "stdout",
     "output_type": "stream",
     "text": [
      "8424/8424 [==============================] - 4s     \n"
     ]
    }
   ],
   "source": [
    "test = pd.read_json('../_RawData/test.json/data/processed/test.json')\n",
    "Xtest = get_images(test)\n",
    "test_predictions = model.predict_proba(Xtest)\n",
    "submission = pd.DataFrame({'id': test['id'], 'is_iceberg': test_predictions[:, 1]})\n",
    "submission.to_csv('submission3.csv', index=False)"
   ]
  },
  {
   "cell_type": "code",
   "execution_count": null,
   "metadata": {
    "collapsed": true
   },
   "outputs": [],
   "source": []
  }
 ],
 "metadata": {
  "kernelspec": {
   "display_name": "Python 3",
   "language": "python",
   "name": "python3"
  },
  "language_info": {
   "codemirror_mode": {
    "name": "ipython",
    "version": 3
   },
   "file_extension": ".py",
   "mimetype": "text/x-python",
   "name": "python",
   "nbconvert_exporter": "python",
   "pygments_lexer": "ipython3",
   "version": "3.5.2"
  }
 },
 "nbformat": 4,
 "nbformat_minor": 2
}
