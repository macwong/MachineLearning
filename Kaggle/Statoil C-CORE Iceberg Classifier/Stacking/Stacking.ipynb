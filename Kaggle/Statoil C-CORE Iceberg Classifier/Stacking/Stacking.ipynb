{
 "cells": [
  {
   "cell_type": "code",
   "execution_count": 1,
   "metadata": {
    "collapsed": true
   },
   "outputs": [],
   "source": [
    "import os\n",
    "import numpy as np \n",
    "import pandas as pd \n",
    "from subprocess import check_output"
   ]
  },
  {
   "cell_type": "code",
   "execution_count": 2,
   "metadata": {},
   "outputs": [
    {
     "data": {
      "text/html": [
       "<div>\n",
       "<style>\n",
       "    .dataframe thead tr:only-child th {\n",
       "        text-align: right;\n",
       "    }\n",
       "\n",
       "    .dataframe thead th {\n",
       "        text-align: left;\n",
       "    }\n",
       "\n",
       "    .dataframe tbody tr th {\n",
       "        vertical-align: top;\n",
       "    }\n",
       "</style>\n",
       "<table border=\"1\" class=\"dataframe\">\n",
       "  <thead>\n",
       "    <tr style=\"text-align: right;\">\n",
       "      <th></th>\n",
       "      <th>id</th>\n",
       "      <th>is_iceberg_0</th>\n",
       "      <th>is_iceberg_1</th>\n",
       "      <th>is_iceberg_2</th>\n",
       "      <th>is_iceberg_3</th>\n",
       "      <th>is_iceberg_4</th>\n",
       "    </tr>\n",
       "  </thead>\n",
       "  <tbody>\n",
       "    <tr>\n",
       "      <th>0</th>\n",
       "      <td>5941774d</td>\n",
       "      <td>2.138313e-02</td>\n",
       "      <td>0.010011</td>\n",
       "      <td>0.003657</td>\n",
       "      <td>0.016455</td>\n",
       "      <td>0.220130</td>\n",
       "    </tr>\n",
       "    <tr>\n",
       "      <th>1</th>\n",
       "      <td>4023181e</td>\n",
       "      <td>6.183937e-01</td>\n",
       "      <td>0.404991</td>\n",
       "      <td>0.020802</td>\n",
       "      <td>0.986631</td>\n",
       "      <td>0.014379</td>\n",
       "    </tr>\n",
       "    <tr>\n",
       "      <th>2</th>\n",
       "      <td>b20200e4</td>\n",
       "      <td>9.098931e-07</td>\n",
       "      <td>0.007189</td>\n",
       "      <td>0.001704</td>\n",
       "      <td>0.001559</td>\n",
       "      <td>0.000041</td>\n",
       "    </tr>\n",
       "    <tr>\n",
       "      <th>3</th>\n",
       "      <td>e7f018bb</td>\n",
       "      <td>9.738217e-01</td>\n",
       "      <td>0.997395</td>\n",
       "      <td>0.999148</td>\n",
       "      <td>0.999509</td>\n",
       "      <td>0.992729</td>\n",
       "    </tr>\n",
       "    <tr>\n",
       "      <th>4</th>\n",
       "      <td>4371c8c3</td>\n",
       "      <td>4.257437e-01</td>\n",
       "      <td>0.067517</td>\n",
       "      <td>0.001759</td>\n",
       "      <td>0.997644</td>\n",
       "      <td>0.074289</td>\n",
       "    </tr>\n",
       "  </tbody>\n",
       "</table>\n",
       "</div>"
      ],
      "text/plain": [
       "         id  is_iceberg_0  is_iceberg_1  is_iceberg_2  is_iceberg_3  \\\n",
       "0  5941774d  2.138313e-02      0.010011      0.003657      0.016455   \n",
       "1  4023181e  6.183937e-01      0.404991      0.020802      0.986631   \n",
       "2  b20200e4  9.098931e-07      0.007189      0.001704      0.001559   \n",
       "3  e7f018bb  9.738217e-01      0.997395      0.999148      0.999509   \n",
       "4  4371c8c3  4.257437e-01      0.067517      0.001759      0.997644   \n",
       "\n",
       "   is_iceberg_4  \n",
       "0      0.220130  \n",
       "1      0.014379  \n",
       "2      0.000041  \n",
       "3      0.992729  \n",
       "4      0.074289  "
      ]
     },
     "execution_count": 2,
     "metadata": {},
     "output_type": "execute_result"
    }
   ],
   "source": [
    "sub_path = \"Submissions\"\n",
    "all_files = os.listdir(sub_path)\n",
    "\n",
    "# Read and concatenate submissions\n",
    "outs = [pd.read_csv(os.path.join(sub_path, f), index_col=0) for f in all_files]\n",
    "concat_sub = pd.concat(outs, axis=1)\n",
    "cols = list(map(lambda x: \"is_iceberg_\" + str(x), range(len(concat_sub.columns))))\n",
    "concat_sub.columns = cols\n",
    "concat_sub.reset_index(inplace=True)\n",
    "concat_sub.head()"
   ]
  },
  {
   "cell_type": "code",
   "execution_count": 3,
   "metadata": {},
   "outputs": [
    {
     "data": {
      "text/html": [
       "<div>\n",
       "<style>\n",
       "    .dataframe thead tr:only-child th {\n",
       "        text-align: right;\n",
       "    }\n",
       "\n",
       "    .dataframe thead th {\n",
       "        text-align: left;\n",
       "    }\n",
       "\n",
       "    .dataframe tbody tr th {\n",
       "        vertical-align: top;\n",
       "    }\n",
       "</style>\n",
       "<table border=\"1\" class=\"dataframe\">\n",
       "  <thead>\n",
       "    <tr style=\"text-align: right;\">\n",
       "      <th></th>\n",
       "      <th>is_iceberg_0</th>\n",
       "      <th>is_iceberg_1</th>\n",
       "      <th>is_iceberg_2</th>\n",
       "      <th>is_iceberg_3</th>\n",
       "      <th>is_iceberg_4</th>\n",
       "    </tr>\n",
       "  </thead>\n",
       "  <tbody>\n",
       "    <tr>\n",
       "      <th>is_iceberg_0</th>\n",
       "      <td>1.000000</td>\n",
       "      <td>0.703407</td>\n",
       "      <td>0.630337</td>\n",
       "      <td>0.474636</td>\n",
       "      <td>0.601516</td>\n",
       "    </tr>\n",
       "    <tr>\n",
       "      <th>is_iceberg_1</th>\n",
       "      <td>0.703407</td>\n",
       "      <td>1.000000</td>\n",
       "      <td>0.834851</td>\n",
       "      <td>0.532091</td>\n",
       "      <td>0.843965</td>\n",
       "    </tr>\n",
       "    <tr>\n",
       "      <th>is_iceberg_2</th>\n",
       "      <td>0.630337</td>\n",
       "      <td>0.834851</td>\n",
       "      <td>1.000000</td>\n",
       "      <td>0.435538</td>\n",
       "      <td>0.842089</td>\n",
       "    </tr>\n",
       "    <tr>\n",
       "      <th>is_iceberg_3</th>\n",
       "      <td>0.474636</td>\n",
       "      <td>0.532091</td>\n",
       "      <td>0.435538</td>\n",
       "      <td>1.000000</td>\n",
       "      <td>0.409355</td>\n",
       "    </tr>\n",
       "    <tr>\n",
       "      <th>is_iceberg_4</th>\n",
       "      <td>0.601516</td>\n",
       "      <td>0.843965</td>\n",
       "      <td>0.842089</td>\n",
       "      <td>0.409355</td>\n",
       "      <td>1.000000</td>\n",
       "    </tr>\n",
       "  </tbody>\n",
       "</table>\n",
       "</div>"
      ],
      "text/plain": [
       "              is_iceberg_0  is_iceberg_1  is_iceberg_2  is_iceberg_3  \\\n",
       "is_iceberg_0      1.000000      0.703407      0.630337      0.474636   \n",
       "is_iceberg_1      0.703407      1.000000      0.834851      0.532091   \n",
       "is_iceberg_2      0.630337      0.834851      1.000000      0.435538   \n",
       "is_iceberg_3      0.474636      0.532091      0.435538      1.000000   \n",
       "is_iceberg_4      0.601516      0.843965      0.842089      0.409355   \n",
       "\n",
       "              is_iceberg_4  \n",
       "is_iceberg_0      0.601516  \n",
       "is_iceberg_1      0.843965  \n",
       "is_iceberg_2      0.842089  \n",
       "is_iceberg_3      0.409355  \n",
       "is_iceberg_4      1.000000  "
      ]
     },
     "execution_count": 3,
     "metadata": {},
     "output_type": "execute_result"
    }
   ],
   "source": [
    "# check correlation\n",
    "concat_sub.corr()"
   ]
  },
  {
   "cell_type": "code",
   "execution_count": 4,
   "metadata": {
    "collapsed": true
   },
   "outputs": [],
   "source": [
    "# get the data fields ready for stacking\n",
    "concat_sub['is_iceberg_max'] = concat_sub.iloc[:, 1:6].max(axis=1)\n",
    "concat_sub['is_iceberg_min'] = concat_sub.iloc[:, 1:6].min(axis=1)\n",
    "concat_sub['is_iceberg_mean'] = concat_sub.iloc[:, 1:6].mean(axis=1)\n",
    "concat_sub['is_iceberg_median'] = concat_sub.iloc[:, 1:6].median(axis=1)"
   ]
  },
  {
   "cell_type": "code",
   "execution_count": 5,
   "metadata": {
    "collapsed": true
   },
   "outputs": [],
   "source": [
    "# set up cutoff threshold for lower and upper bounds, easy to twist \n",
    "cutoff_lo = 0.8\n",
    "cutoff_hi = 0.2"
   ]
  },
  {
   "cell_type": "code",
   "execution_count": 6,
   "metadata": {
    "collapsed": true
   },
   "outputs": [],
   "source": [
    "# load the model with best base performance\n",
    "sub_base = pd.read_csv('Submissions/submission4_best.csv')"
   ]
  },
  {
   "cell_type": "code",
   "execution_count": 7,
   "metadata": {
    "collapsed": true
   },
   "outputs": [],
   "source": [
    "concat_sub['is_iceberg_base'] = sub_base['is_iceberg']\n",
    "concat_sub['is_iceberg'] = np.where(np.all(concat_sub.iloc[:,1:6] > cutoff_lo, axis=1), \n",
    "                                    concat_sub['is_iceberg_max'], \n",
    "                                    np.where(np.all(concat_sub.iloc[:,1:6] < cutoff_hi, axis=1),\n",
    "                                             concat_sub['is_iceberg_min'], \n",
    "                                             concat_sub['is_iceberg_base']))\n",
    "concat_sub[['id', 'is_iceberg']].to_csv('stack_minmax_bestbase.csv', \n",
    "                                        index=False, float_format='%.6f')"
   ]
  },
  {
   "cell_type": "code",
   "execution_count": null,
   "metadata": {
    "collapsed": true
   },
   "outputs": [],
   "source": []
  }
 ],
 "metadata": {
  "kernelspec": {
   "display_name": "Python 3",
   "language": "python",
   "name": "python3"
  },
  "language_info": {
   "codemirror_mode": {
    "name": "ipython",
    "version": 3
   },
   "file_extension": ".py",
   "mimetype": "text/x-python",
   "name": "python",
   "nbconvert_exporter": "python",
   "pygments_lexer": "ipython3",
   "version": "3.5.2"
  }
 },
 "nbformat": 4,
 "nbformat_minor": 2
}
