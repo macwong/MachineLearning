{
 "cells": [
  {
   "cell_type": "markdown",
   "metadata": {},
   "source": [
    "Inspired by https://www.kaggle.com/bluevalhalla/fully-convolutional-network-lb-0-193"
   ]
  },
  {
   "cell_type": "code",
   "execution_count": 30,
   "metadata": {},
   "outputs": [],
   "source": [
    "import numpy as np # linear algebra\n",
    "import pandas as pd # data processing, CSV file I/O (e.g. pd.read_csv)\n",
    "import pdb\n",
    "from sklearn.model_selection import train_test_split\n",
    "from keras.utils.np_utils import to_categorical\n",
    "from keras.models import Sequential\n",
    "from keras.layers import Dense, Dropout, Flatten, Lambda, Activation\n",
    "from keras.layers import Conv2D, MaxPooling2D, ZeroPadding2D, GlobalAveragePooling2D\n",
    "from keras.layers.normalization import BatchNormalization\n",
    "from keras.preprocessing.image import ImageDataGenerator\n",
    "from keras.optimizers import Adam\n",
    "from keras import backend as K\n",
    "from matplotlib import pyplot as plt\n",
    "%matplotlib inline\n",
    "import scipy\n",
    "from scipy import misc, ndimage\n",
    "from scipy.ndimage.interpolation import zoom\n",
    "from scipy.ndimage import imread"
   ]
  },
  {
   "cell_type": "code",
   "execution_count": 2,
   "metadata": {
    "collapsed": true
   },
   "outputs": [],
   "source": [
    "train = pd.read_json(\"_RawData/train.json/data/processed/train.json\")\n",
    "test = pd.read_json(\"_RawData/test.json/data/processed/test.json\")"
   ]
  },
  {
   "cell_type": "code",
   "execution_count": 3,
   "metadata": {
    "collapsed": true
   },
   "outputs": [],
   "source": [
    "def get_images(df):\n",
    "    '''Create 3-channel 'images'. Return rescale-normalised images.'''\n",
    "    images = []\n",
    "    for i, row in df.iterrows():\n",
    "        # Formulate the bands as 75x75 arrays\n",
    "        band_1 = np.array(row['band_1']).reshape(75, 75)\n",
    "        band_2 = np.array(row['band_2']).reshape(75, 75)\n",
    "        band_3 = band_1 / band_2\n",
    "\n",
    "        # Rescale\n",
    "        r = (band_1 - band_1.min()) / (band_1.max() - band_1.min())\n",
    "        g = (band_2 - band_2.min()) / (band_2.max() - band_2.min())\n",
    "        b = (band_3 - band_3.min()) / (band_3.max() - band_3.min())\n",
    "\n",
    "        rgb = np.dstack((r, g, b))\n",
    "        images.append(rgb)\n",
    "    return np.array(images)"
   ]
  },
  {
   "cell_type": "code",
   "execution_count": 4,
   "metadata": {
    "collapsed": true
   },
   "outputs": [],
   "source": [
    "X = get_images(train)"
   ]
  },
  {
   "cell_type": "code",
   "execution_count": 5,
   "metadata": {
    "collapsed": true
   },
   "outputs": [],
   "source": [
    "y = to_categorical(train.is_iceberg.values,num_classes=2)"
   ]
  },
  {
   "cell_type": "code",
   "execution_count": 6,
   "metadata": {
    "collapsed": true
   },
   "outputs": [],
   "source": [
    "Xtr, Xv, ytr, yv = train_test_split(X, y, shuffle=False, test_size=0.20)"
   ]
  },
  {
   "cell_type": "code",
   "execution_count": 82,
   "metadata": {},
   "outputs": [],
   "source": [
    "data_gen = ImageDataGenerator(\n",
    "            shear_range=0.1,\n",
    "            zoom_range=0.1,\n",
    "#             rotation_range=180,\n",
    "            width_shift_range=0.1,\n",
    "            height_shift_range=0.1,\n",
    "            vertical_flip=True,\n",
    "            horizontal_flip=True)\n",
    "\n",
    "data_gen.fit(Xtr)\n",
    "\n",
    "val_gen = ImageDataGenerator()\n",
    "val_gen.fit(Xv)"
   ]
  },
  {
   "cell_type": "code",
   "execution_count": 7,
   "metadata": {
    "collapsed": true
   },
   "outputs": [],
   "source": [
    "def ConvBlock(model, layers, filters):\n",
    "    '''Create [layers] layers consisting of zero padding, a convolution with [filters] 3x3 filters and batch normalization. Perform max pooling after the last layer.'''\n",
    "    for i in range(layers):\n",
    "        model.add(ZeroPadding2D((1, 1)))\n",
    "        model.add(Conv2D(filters, (3, 3), activation='relu'))\n",
    "        model.add(BatchNormalization(axis=3))\n",
    "    model.add(MaxPooling2D((2, 2), strides=(2, 2)))"
   ]
  },
  {
   "cell_type": "code",
   "execution_count": 8,
   "metadata": {
    "collapsed": true
   },
   "outputs": [],
   "source": [
    "def create_model():\n",
    "    '''Create the FCN and return a keras model.'''\n",
    "\n",
    "    model = Sequential()\n",
    "\n",
    "    # Input image: 75x75x3\n",
    "    model.add(Lambda(lambda x: x, input_shape=(75, 75, 3)))\n",
    "    ConvBlock(model, 1, 32)\n",
    "    # 37x37x32\n",
    "    ConvBlock(model, 1, 64)\n",
    "    # 18x18x64\n",
    "    ConvBlock(model, 1, 128)\n",
    "    # 9x9x128\n",
    "    ConvBlock(model, 1, 128)\n",
    "    # 4x4x128\n",
    "    model.add(ZeroPadding2D((1, 1)))\n",
    "    model.add(Conv2D(2, (3, 3), activation='relu'))\n",
    "    model.add(GlobalAveragePooling2D())\n",
    "    # 4x4x2\n",
    "    model.add(Activation('softmax'))\n",
    "    \n",
    "    return model"
   ]
  },
  {
   "cell_type": "code",
   "execution_count": 99,
   "metadata": {
    "collapsed": true
   },
   "outputs": [],
   "source": [
    "# Create the model and compile\n",
    "model = create_model()\n",
    "model.compile(loss='categorical_crossentropy', optimizer=Adam(lr=0.0001), metrics=['accuracy'])"
   ]
  },
  {
   "cell_type": "code",
   "execution_count": 73,
   "metadata": {},
   "outputs": [
    {
     "name": "stdout",
     "output_type": "stream",
     "text": [
      "_________________________________________________________________\n",
      "Layer (type)                 Output Shape              Param #   \n",
      "=================================================================\n",
      "lambda_11 (Lambda)           (None, 75, 75, 3)         0         \n",
      "_________________________________________________________________\n",
      "zero_padding2d_51 (ZeroPaddi (None, 77, 77, 3)         0         \n",
      "_________________________________________________________________\n",
      "conv2d_51 (Conv2D)           (None, 75, 75, 32)        896       \n",
      "_________________________________________________________________\n",
      "batch_normalization_41 (Batc (None, 75, 75, 32)        128       \n",
      "_________________________________________________________________\n",
      "max_pooling2d_41 (MaxPooling (None, 37, 37, 32)        0         \n",
      "_________________________________________________________________\n",
      "zero_padding2d_52 (ZeroPaddi (None, 39, 39, 32)        0         \n",
      "_________________________________________________________________\n",
      "conv2d_52 (Conv2D)           (None, 37, 37, 64)        18496     \n",
      "_________________________________________________________________\n",
      "batch_normalization_42 (Batc (None, 37, 37, 64)        256       \n",
      "_________________________________________________________________\n",
      "max_pooling2d_42 (MaxPooling (None, 18, 18, 64)        0         \n",
      "_________________________________________________________________\n",
      "zero_padding2d_53 (ZeroPaddi (None, 20, 20, 64)        0         \n",
      "_________________________________________________________________\n",
      "conv2d_53 (Conv2D)           (None, 18, 18, 128)       73856     \n",
      "_________________________________________________________________\n",
      "batch_normalization_43 (Batc (None, 18, 18, 128)       512       \n",
      "_________________________________________________________________\n",
      "max_pooling2d_43 (MaxPooling (None, 9, 9, 128)         0         \n",
      "_________________________________________________________________\n",
      "zero_padding2d_54 (ZeroPaddi (None, 11, 11, 128)       0         \n",
      "_________________________________________________________________\n",
      "conv2d_54 (Conv2D)           (None, 9, 9, 128)         147584    \n",
      "_________________________________________________________________\n",
      "batch_normalization_44 (Batc (None, 9, 9, 128)         512       \n",
      "_________________________________________________________________\n",
      "max_pooling2d_44 (MaxPooling (None, 4, 4, 128)         0         \n",
      "_________________________________________________________________\n",
      "zero_padding2d_55 (ZeroPaddi (None, 6, 6, 128)         0         \n",
      "_________________________________________________________________\n",
      "conv2d_55 (Conv2D)           (None, 4, 4, 2)           2306      \n",
      "_________________________________________________________________\n",
      "global_average_pooling2d_11  (None, 2)                 0         \n",
      "_________________________________________________________________\n",
      "activation_11 (Activation)   (None, 2)                 0         \n",
      "=================================================================\n",
      "Total params: 244,546\n",
      "Trainable params: 243,842\n",
      "Non-trainable params: 704\n",
      "_________________________________________________________________\n"
     ]
    }
   ],
   "source": [
    "model.summary()"
   ]
  },
  {
   "cell_type": "code",
   "execution_count": 79,
   "metadata": {
    "collapsed": true
   },
   "outputs": [],
   "source": [
    "init_epo = 0\n",
    "num_epo = 30\n",
    "end_epo = init_epo + num_epo"
   ]
  },
  {
   "cell_type": "code",
   "execution_count": 100,
   "metadata": {
    "scrolled": false
   },
   "outputs": [
    {
     "name": "stdout",
     "output_type": "stream",
     "text": [
      "Epoch 1/100\n",
      "41/40 [==============================] - 3s - loss: 0.5504 - acc: 0.7068 - val_loss: 0.6523 - val_acc: 0.6573\n",
      "Epoch 2/100\n",
      "41/40 [==============================] - 1s - loss: 0.4750 - acc: 0.7450 - val_loss: 0.6304 - val_acc: 0.6573\n",
      "Epoch 3/100\n",
      "41/40 [==============================] - 1s - loss: 0.4407 - acc: 0.7625 - val_loss: 0.6599 - val_acc: 0.6573\n",
      "Epoch 4/100\n",
      "41/40 [==============================] - 1s - loss: 0.4172 - acc: 0.7834 - val_loss: 0.6782 - val_acc: 0.6573\n",
      "Epoch 5/100\n",
      "41/40 [==============================] - 1s - loss: 0.3896 - acc: 0.8044 - val_loss: 0.7393 - val_acc: 0.6573\n",
      "Epoch 6/100\n",
      "41/40 [==============================] - 1s - loss: 0.3864 - acc: 0.8239 - val_loss: 0.7579 - val_acc: 0.6573\n",
      "Epoch 7/100\n",
      "41/40 [==============================] - 1s - loss: 0.3732 - acc: 0.8216 - val_loss: 0.9730 - val_acc: 0.6573\n",
      "Epoch 8/100\n",
      "41/40 [==============================] - 1s - loss: 0.3378 - acc: 0.8444 - val_loss: 0.8092 - val_acc: 0.6573\n",
      "Epoch 9/100\n",
      "41/40 [==============================] - 1s - loss: 0.3321 - acc: 0.8361 - val_loss: 0.8851 - val_acc: 0.6573\n",
      "Epoch 10/100\n",
      "41/40 [==============================] - 1s - loss: 0.3234 - acc: 0.8376 - val_loss: 0.6856 - val_acc: 0.6636\n",
      "Epoch 11/100\n",
      "41/40 [==============================] - 2s - loss: 0.3184 - acc: 0.8399 - val_loss: 0.6735 - val_acc: 0.6698\n",
      "Epoch 12/100\n",
      "41/40 [==============================] - 2s - loss: 0.3219 - acc: 0.8395 - val_loss: 0.5968 - val_acc: 0.7103\n",
      "Epoch 13/100\n",
      "41/40 [==============================] - 1s - loss: 0.3226 - acc: 0.8467 - val_loss: 0.3761 - val_acc: 0.8598\n",
      "Epoch 14/100\n",
      "41/40 [==============================] - 1s - loss: 0.2929 - acc: 0.8574 - val_loss: 0.4325 - val_acc: 0.8006\n",
      "Epoch 15/100\n",
      "41/40 [==============================] - 1s - loss: 0.3004 - acc: 0.8551 - val_loss: 0.3236 - val_acc: 0.9065\n",
      "Epoch 16/100\n",
      "41/40 [==============================] - 1s - loss: 0.3008 - acc: 0.8502 - val_loss: 0.3379 - val_acc: 0.9065\n",
      "Epoch 17/100\n",
      "41/40 [==============================] - 1s - loss: 0.2896 - acc: 0.8604 - val_loss: 0.3377 - val_acc: 0.8349\n",
      "Epoch 18/100\n",
      "41/40 [==============================] - 1s - loss: 0.3026 - acc: 0.8422 - val_loss: 0.3275 - val_acc: 0.8754\n",
      "Epoch 19/100\n",
      "41/40 [==============================] - 1s - loss: 0.3048 - acc: 0.8583 - val_loss: 0.3146 - val_acc: 0.8505\n",
      "Epoch 20/100\n",
      "41/40 [==============================] - 1s - loss: 0.3055 - acc: 0.8594 - val_loss: 0.3329 - val_acc: 0.8754\n",
      "Epoch 21/100\n",
      "41/40 [==============================] - 1s - loss: 0.2875 - acc: 0.8719 - val_loss: 0.3321 - val_acc: 0.8847\n",
      "Epoch 22/100\n",
      "41/40 [==============================] - 1s - loss: 0.2836 - acc: 0.8612 - val_loss: 0.3090 - val_acc: 0.8598\n",
      "Epoch 23/100\n",
      "41/40 [==============================] - 1s - loss: 0.2853 - acc: 0.8612 - val_loss: 0.3194 - val_acc: 0.8287\n",
      "Epoch 24/100\n",
      "41/40 [==============================] - 1s - loss: 0.2594 - acc: 0.8795 - val_loss: 0.2963 - val_acc: 0.8598\n",
      "Epoch 25/100\n",
      "41/40 [==============================] - 1s - loss: 0.2630 - acc: 0.8795 - val_loss: 0.2849 - val_acc: 0.8879\n",
      "Epoch 26/100\n",
      "41/40 [==============================] - 1s - loss: 0.2964 - acc: 0.8674 - val_loss: 0.3052 - val_acc: 0.8692\n",
      "Epoch 27/100\n",
      "41/40 [==============================] - 1s - loss: 0.3027 - acc: 0.8522 - val_loss: 0.4946 - val_acc: 0.7227\n",
      "Epoch 28/100\n",
      "41/40 [==============================] - 2s - loss: 0.3019 - acc: 0.8499 - val_loss: 0.3091 - val_acc: 0.8879\n",
      "Epoch 29/100\n",
      "41/40 [==============================] - 2s - loss: 0.2801 - acc: 0.8670 - val_loss: 0.3011 - val_acc: 0.8411\n",
      "Epoch 30/100\n",
      "41/40 [==============================] - 1s - loss: 0.2649 - acc: 0.8780 - val_loss: 0.3077 - val_acc: 0.8255\n",
      "Epoch 31/100\n",
      "41/40 [==============================] - 1s - loss: 0.2683 - acc: 0.8864 - val_loss: 0.3026 - val_acc: 0.8255\n",
      "Epoch 32/100\n",
      "41/40 [==============================] - 1s - loss: 0.2760 - acc: 0.8757 - val_loss: 0.2836 - val_acc: 0.8723\n",
      "Epoch 33/100\n",
      "41/40 [==============================] - 1s - loss: 0.2665 - acc: 0.8726 - val_loss: 0.2805 - val_acc: 0.8972\n",
      "Epoch 34/100\n",
      "41/40 [==============================] - 1s - loss: 0.2652 - acc: 0.8749 - val_loss: 0.2743 - val_acc: 0.8847\n",
      "Epoch 35/100\n",
      "41/40 [==============================] - 1s - loss: 0.2608 - acc: 0.8864 - val_loss: 0.3299 - val_acc: 0.8193\n",
      "Epoch 36/100\n",
      "41/40 [==============================] - 1s - loss: 0.2720 - acc: 0.8605 - val_loss: 0.2952 - val_acc: 0.8972\n",
      "Epoch 37/100\n",
      "41/40 [==============================] - 1s - loss: 0.2645 - acc: 0.8761 - val_loss: 0.3226 - val_acc: 0.8318\n",
      "Epoch 38/100\n",
      "41/40 [==============================] - 2s - loss: 0.2843 - acc: 0.8601 - val_loss: 0.2890 - val_acc: 0.8910\n",
      "Epoch 39/100\n",
      "41/40 [==============================] - 1s - loss: 0.2658 - acc: 0.8757 - val_loss: 0.3029 - val_acc: 0.8723\n",
      "Epoch 40/100\n",
      "41/40 [==============================] - 1s - loss: 0.2654 - acc: 0.8761 - val_loss: 0.3468 - val_acc: 0.8723\n",
      "Epoch 41/100\n",
      "41/40 [==============================] - 2s - loss: 0.2623 - acc: 0.8792 - val_loss: 0.3140 - val_acc: 0.8910\n",
      "Epoch 42/100\n",
      "41/40 [==============================] - 1s - loss: 0.2531 - acc: 0.8841 - val_loss: 0.3280 - val_acc: 0.8255\n",
      "Epoch 43/100\n",
      "41/40 [==============================] - 1s - loss: 0.2669 - acc: 0.8682 - val_loss: 0.2842 - val_acc: 0.9065\n",
      "Epoch 44/100\n",
      "41/40 [==============================] - 1s - loss: 0.2875 - acc: 0.8465 - val_loss: 0.2917 - val_acc: 0.8847\n",
      "Epoch 45/100\n",
      "41/40 [==============================] - 1s - loss: 0.2620 - acc: 0.8757 - val_loss: 0.3227 - val_acc: 0.8660\n",
      "Epoch 46/100\n",
      "41/40 [==============================] - 1s - loss: 0.2716 - acc: 0.8792 - val_loss: 0.3275 - val_acc: 0.8318\n",
      "Epoch 47/100\n",
      "41/40 [==============================] - 1s - loss: 0.2697 - acc: 0.8682 - val_loss: 0.2960 - val_acc: 0.8505\n",
      "Epoch 48/100\n",
      "41/40 [==============================] - 1s - loss: 0.2425 - acc: 0.8940 - val_loss: 0.2694 - val_acc: 0.8910\n",
      "Epoch 49/100\n",
      "41/40 [==============================] - 1s - loss: 0.2353 - acc: 0.8940 - val_loss: 0.2875 - val_acc: 0.8629\n",
      "Epoch 50/100\n",
      "41/40 [==============================] - 1s - loss: 0.2511 - acc: 0.8727 - val_loss: 0.3106 - val_acc: 0.8847\n",
      "Epoch 51/100\n",
      "41/40 [==============================] - 1s - loss: 0.2545 - acc: 0.8879 - val_loss: 0.3194 - val_acc: 0.8474\n",
      "Epoch 52/100\n",
      "41/40 [==============================] - 1s - loss: 0.2381 - acc: 0.8925 - val_loss: 0.2768 - val_acc: 0.8847\n",
      "Epoch 53/100\n",
      "41/40 [==============================] - 1s - loss: 0.2357 - acc: 0.8970 - val_loss: 0.2896 - val_acc: 0.8723\n",
      "Epoch 54/100\n",
      "41/40 [==============================] - 1s - loss: 0.2737 - acc: 0.8799 - val_loss: 0.2843 - val_acc: 0.8879\n",
      "Epoch 55/100\n",
      "41/40 [==============================] - 1s - loss: 0.2538 - acc: 0.8871 - val_loss: 0.3181 - val_acc: 0.8536\n",
      "Epoch 56/100\n",
      "41/40 [==============================] - 2s - loss: 0.2432 - acc: 0.8929 - val_loss: 0.3183 - val_acc: 0.8629\n",
      "Epoch 57/100\n",
      "41/40 [==============================] - 2s - loss: 0.2549 - acc: 0.8868 - val_loss: 0.4126 - val_acc: 0.7819\n",
      "Epoch 58/100\n",
      "41/40 [==============================] - 2s - loss: 0.2416 - acc: 0.8856 - val_loss: 0.2997 - val_acc: 0.8567\n",
      "Epoch 59/100\n",
      "41/40 [==============================] - 2s - loss: 0.2277 - acc: 0.8879 - val_loss: 0.2719 - val_acc: 0.8816\n",
      "Epoch 60/100\n",
      "41/40 [==============================] - 1s - loss: 0.2334 - acc: 0.9001 - val_loss: 0.2988 - val_acc: 0.8754\n",
      "Epoch 61/100\n",
      "41/40 [==============================] - 1s - loss: 0.2255 - acc: 0.9036 - val_loss: 0.4088 - val_acc: 0.8069\n",
      "Epoch 62/100\n",
      "41/40 [==============================] - 1s - loss: 0.2071 - acc: 0.9024 - val_loss: 0.3193 - val_acc: 0.8598\n",
      "Epoch 63/100\n",
      "41/40 [==============================] - 1s - loss: 0.2349 - acc: 0.8970 - val_loss: 0.2826 - val_acc: 0.8847\n",
      "Epoch 64/100\n",
      "41/40 [==============================] - 1s - loss: 0.2347 - acc: 0.8815 - val_loss: 0.3874 - val_acc: 0.8318\n",
      "Epoch 65/100\n",
      "41/40 [==============================] - 1s - loss: 0.2333 - acc: 0.9028 - val_loss: 0.2685 - val_acc: 0.8941\n",
      "Epoch 66/100\n",
      "41/40 [==============================] - 1s - loss: 0.2251 - acc: 0.9062 - val_loss: 0.3303 - val_acc: 0.8536\n",
      "Epoch 67/100\n"
     ]
    },
    {
     "name": "stdout",
     "output_type": "stream",
     "text": [
      "41/40 [==============================] - 1s - loss: 0.2227 - acc: 0.8986 - val_loss: 0.3204 - val_acc: 0.8442\n",
      "Epoch 68/100\n",
      "41/40 [==============================] - 1s - loss: 0.2255 - acc: 0.9070 - val_loss: 0.2850 - val_acc: 0.8816\n",
      "Epoch 69/100\n",
      "41/40 [==============================] - 1s - loss: 0.2076 - acc: 0.9070 - val_loss: 0.3039 - val_acc: 0.8629\n",
      "Epoch 70/100\n",
      "41/40 [==============================] - 1s - loss: 0.2121 - acc: 0.9077 - val_loss: 0.3523 - val_acc: 0.8536\n",
      "Epoch 71/100\n",
      "41/40 [==============================] - 1s - loss: 0.2140 - acc: 0.9001 - val_loss: 0.3062 - val_acc: 0.8723\n",
      "Epoch 72/100\n",
      "41/40 [==============================] - 1s - loss: 0.2310 - acc: 0.8986 - val_loss: 0.2653 - val_acc: 0.8910\n",
      "Epoch 73/100\n",
      "41/40 [==============================] - 1s - loss: 0.2188 - acc: 0.9092 - val_loss: 0.2724 - val_acc: 0.9003\n",
      "Epoch 74/100\n",
      "41/40 [==============================] - 1s - loss: 0.2179 - acc: 0.8975 - val_loss: 0.3008 - val_acc: 0.8723\n",
      "Epoch 75/100\n",
      "41/40 [==============================] - 1s - loss: 0.2187 - acc: 0.9097 - val_loss: 0.2704 - val_acc: 0.8847\n",
      "Epoch 76/100\n",
      "41/40 [==============================] - 1s - loss: 0.2040 - acc: 0.9039 - val_loss: 0.4446 - val_acc: 0.8069\n",
      "Epoch 77/100\n",
      "41/40 [==============================] - 1s - loss: 0.2171 - acc: 0.9062 - val_loss: 0.2827 - val_acc: 0.8847\n",
      "Epoch 78/100\n",
      "41/40 [==============================] - 1s - loss: 0.1979 - acc: 0.9161 - val_loss: 0.3576 - val_acc: 0.8411\n",
      "Epoch 79/100\n",
      "41/40 [==============================] - 1s - loss: 0.2396 - acc: 0.8888 - val_loss: 0.2820 - val_acc: 0.8692\n",
      "Epoch 80/100\n",
      "41/40 [==============================] - 1s - loss: 0.2384 - acc: 0.8876 - val_loss: 0.2941 - val_acc: 0.8660\n",
      "Epoch 81/100\n",
      "41/40 [==============================] - 1s - loss: 0.2010 - acc: 0.9138 - val_loss: 0.2909 - val_acc: 0.8660\n",
      "Epoch 82/100\n",
      "41/40 [==============================] - 2s - loss: 0.2202 - acc: 0.9021 - val_loss: 0.2827 - val_acc: 0.8816\n",
      "Epoch 83/100\n",
      "41/40 [==============================] - 2s - loss: 0.2079 - acc: 0.9100 - val_loss: 0.2774 - val_acc: 0.8816\n",
      "Epoch 84/100\n",
      "41/40 [==============================] - 1s - loss: 0.2081 - acc: 0.9100 - val_loss: 0.3044 - val_acc: 0.8692\n",
      "Epoch 85/100\n",
      "41/40 [==============================] - 1s - loss: 0.2121 - acc: 0.9089 - val_loss: 0.2946 - val_acc: 0.8754\n",
      "Epoch 86/100\n",
      "41/40 [==============================] - 1s - loss: 0.1980 - acc: 0.9108 - val_loss: 0.3418 - val_acc: 0.8411\n",
      "Epoch 87/100\n",
      "41/40 [==============================] - 1s - loss: 0.2017 - acc: 0.9074 - val_loss: 0.2897 - val_acc: 0.8567\n",
      "Epoch 88/100\n",
      "41/40 [==============================] - 1s - loss: 0.2082 - acc: 0.9028 - val_loss: 0.3565 - val_acc: 0.8474\n",
      "Epoch 89/100\n",
      "41/40 [==============================] - 2s - loss: 0.1978 - acc: 0.9215 - val_loss: 0.2590 - val_acc: 0.8879\n",
      "Epoch 90/100\n",
      "41/40 [==============================] - 1s - loss: 0.1962 - acc: 0.9021 - val_loss: 0.2847 - val_acc: 0.8785\n",
      "Epoch 91/100\n",
      "41/40 [==============================] - 1s - loss: 0.2120 - acc: 0.9013 - val_loss: 0.2747 - val_acc: 0.8910\n",
      "Epoch 92/100\n",
      "41/40 [==============================] - 1s - loss: 0.2078 - acc: 0.9123 - val_loss: 0.3125 - val_acc: 0.8536\n",
      "Epoch 93/100\n",
      "41/40 [==============================] - 1s - loss: 0.2022 - acc: 0.9074 - val_loss: 0.2551 - val_acc: 0.8847\n",
      "Epoch 94/100\n",
      "41/40 [==============================] - 1s - loss: 0.2021 - acc: 0.9097 - val_loss: 0.3533 - val_acc: 0.8474\n",
      "Epoch 95/100\n",
      "41/40 [==============================] - 1s - loss: 0.2045 - acc: 0.9169 - val_loss: 0.3404 - val_acc: 0.8567\n",
      "Epoch 96/100\n",
      "41/40 [==============================] - 1s - loss: 0.1883 - acc: 0.9321 - val_loss: 0.2702 - val_acc: 0.8785\n",
      "Epoch 97/100\n",
      "41/40 [==============================] - 1s - loss: 0.1937 - acc: 0.9188 - val_loss: 0.2852 - val_acc: 0.8785\n",
      "Epoch 98/100\n",
      "41/40 [==============================] - 1s - loss: 0.1848 - acc: 0.9215 - val_loss: 0.2630 - val_acc: 0.8847\n",
      "Epoch 99/100\n",
      "41/40 [==============================] - 2s - loss: 0.1829 - acc: 0.9222 - val_loss: 0.2820 - val_acc: 0.8847\n",
      "Epoch 100/100\n",
      "41/40 [==============================] - 1s - loss: 0.1832 - acc: 0.9237 - val_loss: 0.4077 - val_acc: 0.8505\n"
     ]
    }
   ],
   "source": [
    "history = model.fit_generator(data_gen.flow(Xtr, ytr, batch_size=32),\n",
    "                     steps_per_epoch=len(Xtr) / 32,\n",
    "                     epochs=100,\n",
    "                     validation_data=val_gen.flow(Xv, yv, batch_size=32, shuffle=False),\n",
    "                     validation_steps = len(Xv) / 32)"
   ]
  },
  {
   "cell_type": "code",
   "execution_count": 101,
   "metadata": {},
   "outputs": [
    {
     "data": {
      "image/png": "[encoded data removed]",
      "text/plain": [
       "<matplotlib.figure.Figure at 0x1fdf70fec50>"
      ]
     },
     "metadata": {},
     "output_type": "display_data"
    },
    {
     "data": {
      "image/png": "[encoded data removed]",
      "text/plain": [
       "<matplotlib.figure.Figure at 0x1fdf77068d0>"
      ]
     },
     "metadata": {},
     "output_type": "display_data"
    }
   ],
   "source": [
    "import matplotlib.pyplot as plt\n",
    "%matplotlib inline\n",
    "\n",
    "plt.plot(history.history['acc'])\n",
    "plt.plot(history.history['val_acc'])\n",
    "plt.title('model accuracy')\n",
    "plt.ylabel('accuracy')\n",
    "plt.xlabel('epoch')\n",
    "plt.legend(['train', 'test'], loc='upper left')\n",
    "plt.show()\n",
    "# summarize history for loss\n",
    "plt.plot(history.history['loss'])\n",
    "plt.plot(history.history['val_loss'])\n",
    "plt.title('model loss')\n",
    "plt.ylabel('loss')\n",
    "plt.xlabel('epoch')\n",
    "plt.legend(['train', 'test'], loc='upper left')\n",
    "plt.show()"
   ]
  },
  {
   "cell_type": "code",
   "execution_count": 28,
   "metadata": {},
   "outputs": [
    {
     "name": "stdout",
     "output_type": "stream",
     "text": [
      "lr = 9.999999747378752e-05\n",
      "Train on 1283 samples, validate on 321 samples\n",
      "Epoch 1/30\n",
      "1283/1283 [==============================] - 3s - loss: 0.5444 - acc: 0.7163 - val_loss: 0.7084 - val_acc: 0.3427\n",
      "Epoch 2/30\n",
      "1283/1283 [==============================] - 1s - loss: 0.4575 - acc: 0.7615 - val_loss: 0.6808 - val_acc: 0.6542\n",
      "Epoch 3/30\n",
      "1283/1283 [==============================] - 1s - loss: 0.3990 - acc: 0.8051 - val_loss: 0.6477 - val_acc: 0.6573\n",
      "Epoch 4/30\n",
      "1283/1283 [==============================] - 1s - loss: 0.3491 - acc: 0.8316 - val_loss: 0.6334 - val_acc: 0.6573\n",
      "Epoch 5/30\n",
      "1283/1283 [==============================] - 1s - loss: 0.3018 - acc: 0.8769 - val_loss: 0.6350 - val_acc: 0.6573\n",
      "Epoch 6/30\n",
      "1283/1283 [==============================] - 1s - loss: 0.2843 - acc: 0.8769 - val_loss: 0.6305 - val_acc: 0.6573\n",
      "Epoch 7/30\n",
      "1283/1283 [==============================] - 1s - loss: 0.2389 - acc: 0.9034 - val_loss: 0.6432 - val_acc: 0.6573\n",
      "Epoch 8/30\n",
      "1283/1283 [==============================] - 1s - loss: 0.2172 - acc: 0.9158 - val_loss: 0.7113 - val_acc: 0.6573\n",
      "Epoch 9/30\n",
      "1283/1283 [==============================] - 1s - loss: 0.1948 - acc: 0.9275 - val_loss: 0.7244 - val_acc: 0.6604\n",
      "Epoch 10/30\n",
      "1283/1283 [==============================] - 1s - loss: 0.1543 - acc: 0.9548 - val_loss: 0.7519 - val_acc: 0.6604\n",
      "Epoch 11/30\n",
      "1283/1283 [==============================] - 1s - loss: 0.1562 - acc: 0.9548 - val_loss: 0.5987 - val_acc: 0.6760\n",
      "Epoch 12/30\n",
      "1283/1283 [==============================] - 1s - loss: 0.1306 - acc: 0.9665 - val_loss: 0.6177 - val_acc: 0.6885\n",
      "Epoch 13/30\n",
      "1283/1283 [==============================] - 1s - loss: 0.1056 - acc: 0.9774 - val_loss: 0.5094 - val_acc: 0.7570\n",
      "Epoch 14/30\n",
      "1283/1283 [==============================] - 1s - loss: 0.1175 - acc: 0.9704 - val_loss: 0.4162 - val_acc: 0.8131\n",
      "Epoch 15/30\n",
      "1283/1283 [==============================] - 1s - loss: 0.0836 - acc: 0.9852 - val_loss: 0.4274 - val_acc: 0.8100\n",
      "Epoch 16/30\n",
      "1283/1283 [==============================] - 1s - loss: 0.0645 - acc: 0.9953 - val_loss: 0.2845 - val_acc: 0.8910\n",
      "Epoch 17/30\n",
      "1283/1283 [==============================] - 1s - loss: 0.0574 - acc: 0.9953 - val_loss: 0.3302 - val_acc: 0.8442\n",
      "Epoch 18/30\n",
      "1283/1283 [==============================] - 1s - loss: 0.0406 - acc: 0.9977 - val_loss: 0.2767 - val_acc: 0.9003\n",
      "Epoch 19/30\n",
      "1283/1283 [==============================] - 1s - loss: 0.0455 - acc: 0.9945 - val_loss: 0.2875 - val_acc: 0.8879\n",
      "Epoch 20/30\n",
      "1283/1283 [==============================] - 1s - loss: 0.0333 - acc: 1.0000 - val_loss: 0.2531 - val_acc: 0.9097\n",
      "Epoch 21/30\n",
      "1283/1283 [==============================] - 1s - loss: 0.0346 - acc: 0.9969 - val_loss: 0.2483 - val_acc: 0.8972\n",
      "Epoch 22/30\n",
      "1283/1283 [==============================] - 1s - loss: 0.0682 - acc: 0.9821 - val_loss: 0.5050 - val_acc: 0.7757\n",
      "Epoch 23/30\n",
      "1283/1283 [==============================] - 1s - loss: 0.0298 - acc: 0.9992 - val_loss: 0.5722 - val_acc: 0.7695\n",
      "Epoch 24/30\n",
      "1283/1283 [==============================] - 1s - loss: 0.0807 - acc: 0.9758 - val_loss: 0.2961 - val_acc: 0.8816\n",
      "Epoch 25/30\n",
      "1283/1283 [==============================] - 1s - loss: 0.0293 - acc: 0.9992 - val_loss: 0.5084 - val_acc: 0.7882\n",
      "Epoch 26/30\n",
      "1283/1283 [==============================] - 1s - loss: 0.0227 - acc: 1.0000 - val_loss: 0.4783 - val_acc: 0.8037\n",
      "Epoch 27/30\n",
      "1283/1283 [==============================] - 1s - loss: 0.0204 - acc: 0.9992 - val_loss: 0.4648 - val_acc: 0.8037\n",
      "Epoch 28/30\n",
      "1283/1283 [==============================] - 1s - loss: 0.0155 - acc: 0.9992 - val_loss: 0.2579 - val_acc: 0.9003\n",
      "Epoch 29/30\n",
      "1283/1283 [==============================] - 1s - loss: 0.0163 - acc: 0.9992 - val_loss: 0.3598 - val_acc: 0.8349\n",
      "Epoch 30/30\n",
      "1283/1283 [==============================] - 1s - loss: 0.0128 - acc: 1.0000 - val_loss: 0.4028 - val_acc: 0.8287\n"
     ]
    }
   ],
   "source": [
    "print ('lr = {}'.format(K.get_value(model.optimizer.lr)))\n",
    "history = model.fit(Xtr, ytr, validation_data=(Xv, yv), batch_size=32, epochs=end_epo, initial_epoch=init_epo)\n",
    "init_epo += num_epo\n",
    "end_epo = init_epo + num_epo"
   ]
  },
  {
   "cell_type": "code",
   "execution_count": 87,
   "metadata": {},
   "outputs": [
    {
     "name": "stdout",
     "output_type": "stream",
     "text": [
      "Epoch 1/50\n",
      "51/50 [==============================] - 3s - loss: 0.5528 - acc: 0.6984     \n",
      "Epoch 2/50\n",
      "51/50 [==============================] - 2s - loss: 0.4744 - acc: 0.7567     \n",
      "Epoch 3/50\n",
      "51/50 [==============================] - 2s - loss: 0.4195 - acc: 0.7959     \n",
      "Epoch 4/50\n",
      "51/50 [==============================] - 2s - loss: 0.4030 - acc: 0.7973     \n",
      "Epoch 5/50\n",
      "51/50 [==============================] - 2s - loss: 0.3568 - acc: 0.8254     \n",
      "Epoch 6/50\n",
      "51/50 [==============================] - 2s - loss: 0.3546 - acc: 0.8187     \n",
      "Epoch 7/50\n",
      "51/50 [==============================] - 2s - loss: 0.3408 - acc: 0.8285     \n",
      "Epoch 8/50\n",
      "51/50 [==============================] - 2s - loss: 0.3390 - acc: 0.8383     \n",
      "Epoch 9/50\n",
      "51/50 [==============================] - 2s - loss: 0.3357 - acc: 0.8272     \n",
      "Epoch 10/50\n",
      "51/50 [==============================] - 2s - loss: 0.3210 - acc: 0.8449     \n",
      "Epoch 11/50\n",
      "51/50 [==============================] - 2s - loss: 0.3139 - acc: 0.8382     \n",
      "Epoch 12/50\n",
      "51/50 [==============================] - 2s - loss: 0.3121 - acc: 0.8524     \n",
      "Epoch 13/50\n",
      "51/50 [==============================] - 2s - loss: 0.2979 - acc: 0.8518     \n",
      "Epoch 14/50\n",
      "51/50 [==============================] - 2s - loss: 0.3121 - acc: 0.8505     - ETA: 2s\n",
      "Epoch 15/50\n",
      "51/50 [==============================] - 2s - loss: 0.2911 - acc: 0.8541     \n",
      "Epoch 16/50\n",
      "51/50 [==============================] - 2s - loss: 0.2875 - acc: 0.8621     \n",
      "Epoch 17/50\n",
      "51/50 [==============================] - 2s - loss: 0.2903 - acc: 0.8529     \n",
      "Epoch 18/50\n",
      "51/50 [==============================] - 2s - loss: 0.2812 - acc: 0.8664     \n",
      "Epoch 19/50\n",
      "51/50 [==============================] - 2s - loss: 0.2894 - acc: 0.8563     \n",
      "Epoch 20/50\n",
      "51/50 [==============================] - 2s - loss: 0.2998 - acc: 0.8584     \n",
      "Epoch 21/50\n",
      "51/50 [==============================] - 2s - loss: 0.2764 - acc: 0.8664     \n",
      "Epoch 22/50\n",
      "51/50 [==============================] - 2s - loss: 0.2714 - acc: 0.8591     \n",
      "Epoch 23/50\n",
      "51/50 [==============================] - 2s - loss: 0.2682 - acc: 0.8689     \n",
      "Epoch 24/50\n",
      "51/50 [==============================] - 2s - loss: 0.2799 - acc: 0.8623     \n",
      "Epoch 25/50\n",
      "51/50 [==============================] - 2s - loss: 0.2862 - acc: 0.8542     \n",
      "Epoch 26/50\n",
      "51/50 [==============================] - 2s - loss: 0.2765 - acc: 0.8707     \n",
      "Epoch 27/50\n",
      "51/50 [==============================] - 2s - loss: 0.2724 - acc: 0.8682     \n",
      "Epoch 28/50\n",
      "51/50 [==============================] - 2s - loss: 0.2610 - acc: 0.8683     \n",
      "Epoch 29/50\n",
      "51/50 [==============================] - 2s - loss: 0.2570 - acc: 0.8786     \n",
      "Epoch 30/50\n",
      "51/50 [==============================] - 2s - loss: 0.2626 - acc: 0.8750     \n",
      "Epoch 31/50\n",
      "51/50 [==============================] - 2s - loss: 0.2644 - acc: 0.8750     \n",
      "Epoch 32/50\n",
      "51/50 [==============================] - 2s - loss: 0.2643 - acc: 0.8780     \n",
      "Epoch 33/50\n",
      "51/50 [==============================] - 2s - loss: 0.2560 - acc: 0.8750     \n",
      "Epoch 34/50\n",
      "51/50 [==============================] - 2s - loss: 0.2465 - acc: 0.8811     \n",
      "Epoch 35/50\n",
      "51/50 [==============================] - 2s - loss: 0.2579 - acc: 0.8836     - ETA: 1s - loss: \n",
      "Epoch 36/50\n",
      "51/50 [==============================] - 2s - loss: 0.2618 - acc: 0.8792     \n",
      "Epoch 37/50\n",
      "51/50 [==============================] - 2s - loss: 0.2514 - acc: 0.8891     \n",
      "Epoch 38/50\n",
      "51/50 [==============================] - 2s - loss: 0.2519 - acc: 0.8824     \n",
      "Epoch 39/50\n",
      "51/50 [==============================] - 2s - loss: 0.2460 - acc: 0.8721     \n",
      "Epoch 40/50\n",
      "51/50 [==============================] - 2s - loss: 0.2475 - acc: 0.8885     - ETA: 1s - loss: 0.22\n",
      "Epoch 41/50\n",
      "51/50 [==============================] - 2s - loss: 0.2438 - acc: 0.8848     \n",
      "Epoch 42/50\n",
      "51/50 [==============================] - 2s - loss: 0.2459 - acc: 0.8898     \n",
      "Epoch 43/50\n",
      "51/50 [==============================] - 2s - loss: 0.2362 - acc: 0.8947     \n",
      "Epoch 44/50\n",
      "51/50 [==============================] - 2s - loss: 0.2389 - acc: 0.8933     \n",
      "Epoch 45/50\n",
      "51/50 [==============================] - 2s - loss: 0.2334 - acc: 0.8923     \n",
      "Epoch 46/50\n",
      "51/50 [==============================] - 2s - loss: 0.2372 - acc: 0.9013     \n",
      "Epoch 47/50\n",
      "51/50 [==============================] - 2s - loss: 0.2308 - acc: 0.9019     \n",
      "Epoch 48/50\n",
      "51/50 [==============================] - 2s - loss: 0.2360 - acc: 0.8922     \n",
      "Epoch 49/50\n",
      "51/50 [==============================] - 2s - loss: 0.2263 - acc: 0.9014     \n",
      "Epoch 50/50\n",
      "51/50 [==============================] - 2s - loss: 0.2279 - acc: 0.9007     \n"
     ]
    },
    {
     "data": {
      "text/plain": [
       "<keras.callbacks.History at 0x1fdfd9b5b70>"
      ]
     },
     "execution_count": 87,
     "metadata": {},
     "output_type": "execute_result"
    }
   ],
   "source": [
    "model.fit_generator(data_gen.flow(X, y, batch_size=32),\n",
    "                     steps_per_epoch=len(X) / 32,\n",
    "                     epochs=50)"
   ]
  },
  {
   "cell_type": "code",
   "execution_count": 88,
   "metadata": {
    "collapsed": true
   },
   "outputs": [],
   "source": [
    "X_test = get_images(test)\n",
    "predict = model.predict(X_test)"
   ]
  },
  {
   "cell_type": "code",
   "execution_count": 89,
   "metadata": {
    "collapsed": true
   },
   "outputs": [],
   "source": [
    "submission = pd.DataFrame(test, columns=[\"id\"])\n",
    "submission[\"is_iceberg\"] = predict[:, 1]\n",
    "\n",
    "# test_func = lambda p: round(p[\"is_iceberg\"], 4)\n",
    "# submission[\"is_iceberg\"] = test_func(submission)\n",
    "submission[\"is_iceberg\"] = submission[\"is_iceberg\"].round(4)\n",
    "submission.to_csv(\"submission_new.csv\", float_format='%g', index = False)"
   ]
  },
  {
   "cell_type": "code",
   "execution_count": 90,
   "metadata": {
    "collapsed": true
   },
   "outputs": [],
   "source": [
    "# model.save_weights(\"01 - 2137.h5\")"
   ]
  },
  {
   "cell_type": "code",
   "execution_count": 92,
   "metadata": {
    "collapsed": true
   },
   "outputs": [],
   "source": [
    "test_model = create_model()\n",
    "test_model.load_weights(\"01 - 2137.h5\")\n",
    "test_model.compile(loss='categorical_crossentropy', optimizer=Adam(lr=0.0001), metrics=['accuracy'])"
   ]
  },
  {
   "cell_type": "code",
   "execution_count": 93,
   "metadata": {},
   "outputs": [
    {
     "name": "stdout",
     "output_type": "stream",
     "text": [
      "Epoch 1/1\n",
      "51/50 [==============================] - 3s - loss: 0.2099 - acc: 0.9044     \n"
     ]
    },
    {
     "data": {
      "text/plain": [
       "<keras.callbacks.History at 0x1fe03c2b940>"
      ]
     },
     "execution_count": 93,
     "metadata": {},
     "output_type": "execute_result"
    }
   ],
   "source": [
    "test_model.fit_generator(data_gen.flow(X, y, batch_size=32),\n",
    "                     steps_per_epoch=len(X) / 32,\n",
    "                     epochs=1)"
   ]
  }
 ],
 "metadata": {
  "kernelspec": {
   "display_name": "Python 3",
   "language": "python",
   "name": "python3"
  },
  "language_info": {
   "codemirror_mode": {
    "name": "ipython",
    "version": 3
   },
   "file_extension": ".py",
   "mimetype": "text/x-python",
   "name": "python",
   "nbconvert_exporter": "python",
   "pygments_lexer": "ipython3",
   "version": "3.5.2"
  }
 },
 "nbformat": 4,
 "nbformat_minor": 2
}
