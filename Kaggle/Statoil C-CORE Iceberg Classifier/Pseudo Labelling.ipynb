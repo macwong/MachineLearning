{
 "cells": [
  {
   "cell_type": "markdown",
   "metadata": {},
   "source": [
    "Pseudo labelling and splitting data by angle"
   ]
  },
  {
   "cell_type": "code",
   "execution_count": 121,
   "metadata": {},
   "outputs": [
    {
     "name": "stdout",
     "output_type": "stream",
     "text": [
      "The autoreload extension is already loaded. To reload it, use:\n",
      "  %reload_ext autoreload\n"
     ]
    }
   ],
   "source": [
    "%load_ext autoreload\n",
    "%autoreload 2\n",
    "\n",
    "import numpy as np # linear algebra\n",
    "import pandas as pd # data processing, CSV file I/O (e.g. pd.read_csv)\n",
    "import pdb\n",
    "from sklearn.model_selection import train_test_split\n",
    "from keras.utils.np_utils import to_categorical\n",
    "from keras import backend as K\n",
    "from matplotlib import pyplot as plt\n",
    "%matplotlib inline\n",
    "import scipy\n",
    "from scipy import misc, ndimage\n",
    "from scipy.ndimage.interpolation import zoom\n",
    "from scipy.ndimage import imread\n",
    "import helpers\n",
    "from models import DaveModel, DaveVGG, DaveVGG19, SimpleModel\n"
   ]
  },
  {
   "cell_type": "code",
   "execution_count": 10,
   "metadata": {
    "collapsed": true
   },
   "outputs": [],
   "source": [
    "train = pd.read_json(\"_RawData/train.json/data/processed/train.json\")\n",
    "test = pd.read_json(\"_RawData/test.json/data/processed/test.json\")"
   ]
  },
  {
   "cell_type": "code",
   "execution_count": 11,
   "metadata": {
    "collapsed": true
   },
   "outputs": [],
   "source": [
    "X = helpers.get_images(train)"
   ]
  },
  {
   "cell_type": "code",
   "execution_count": 12,
   "metadata": {
    "collapsed": true
   },
   "outputs": [],
   "source": [
    "y = to_categorical(train.is_iceberg.values,num_classes=2)"
   ]
  },
  {
   "cell_type": "code",
   "execution_count": 13,
   "metadata": {
    "collapsed": true
   },
   "outputs": [],
   "source": [
    "Xtr, Xv, ytr, yv = train_test_split(X, y, shuffle=False, test_size=0.20)"
   ]
  },
  {
   "cell_type": "code",
   "execution_count": 32,
   "metadata": {
    "collapsed": true
   },
   "outputs": [],
   "source": [
    "# Create the model and compile\n",
    "model = DaveModel(Xtr, ytr, Xv, yv)"
   ]
  },
  {
   "cell_type": "code",
   "execution_count": 33,
   "metadata": {},
   "outputs": [
    {
     "name": "stdout",
     "output_type": "stream",
     "text": [
      "Batch Size: 32\n",
      "Epochs: 10\n",
      "Epoch 1/10\n",
      "41/40 [==============================] - 3s - loss: 0.5740 - acc: 0.6958 - val_loss: 0.6543 - val_acc: 0.6573\n",
      "Epoch 2/10\n",
      "41/40 [==============================] - 1s - loss: 0.4822 - acc: 0.7529 - val_loss: 0.6414 - val_acc: 0.6573\n",
      "Epoch 3/10\n",
      "41/40 [==============================] - 1s - loss: 0.4507 - acc: 0.7732 - val_loss: 0.6603 - val_acc: 0.6573\n",
      "Epoch 4/10\n",
      "41/40 [==============================] - 1s - loss: 0.4206 - acc: 0.7941 - val_loss: 0.7224 - val_acc: 0.6573\n",
      "Epoch 5/10\n",
      "41/40 [==============================] - 1s - loss: 0.3985 - acc: 0.8025 - val_loss: 0.8164 - val_acc: 0.6573\n",
      "Epoch 6/10\n",
      "41/40 [==============================] - 1s - loss: 0.3969 - acc: 0.8105 - val_loss: 0.8896 - val_acc: 0.6573\n",
      "Epoch 7/10\n",
      "41/40 [==============================] - 1s - loss: 0.3682 - acc: 0.8205 - val_loss: 0.9699 - val_acc: 0.6573\n",
      "Epoch 8/10\n",
      "41/40 [==============================] - 1s - loss: 0.3404 - acc: 0.8452 - val_loss: 1.1193 - val_acc: 0.6573\n",
      "Epoch 9/10\n",
      "41/40 [==============================] - 1s - loss: 0.3455 - acc: 0.8475 - val_loss: 1.1696 - val_acc: 0.6573\n",
      "Epoch 10/10\n",
      "41/40 [==============================] - 1s - loss: 0.3358 - acc: 0.8460 - val_loss: 1.0594 - val_acc: 0.6573\n"
     ]
    }
   ],
   "source": [
    "model.train(32, 10)"
   ]
  },
  {
   "cell_type": "code",
   "execution_count": 124,
   "metadata": {
    "collapsed": true
   },
   "outputs": [],
   "source": [
    "vgg = DaveVGG(Xtr, ytr, Xv, yv)"
   ]
  },
  {
   "cell_type": "code",
   "execution_count": 126,
   "metadata": {},
   "outputs": [
    {
     "name": "stdout",
     "output_type": "stream",
     "text": [
      "Batch Size: 32\n",
      "Epochs: 30\n",
      "Epoch 1/30\n",
      "41/40 [==============================] - 6s - loss: 0.3420 - acc: 0.8498 - val_loss: 0.3445 - val_acc: 0.8411\n",
      "Epoch 2/30\n",
      "41/40 [==============================] - 5s - loss: 0.3286 - acc: 0.8452 - val_loss: 0.3944 - val_acc: 0.8287\n",
      "Epoch 3/30\n",
      "41/40 [==============================] - 5s - loss: 0.3367 - acc: 0.8437 - val_loss: 0.3988 - val_acc: 0.7788\n",
      "Epoch 4/30\n",
      "41/40 [==============================] - 5s - loss: 0.3498 - acc: 0.8388 - val_loss: 0.3956 - val_acc: 0.8629\n",
      "Epoch 5/30\n",
      "41/40 [==============================] - 5s - loss: 0.3293 - acc: 0.8559 - val_loss: 0.3464 - val_acc: 0.8224\n",
      "Epoch 6/30\n",
      "41/40 [==============================] - 5s - loss: 0.3272 - acc: 0.8502 - val_loss: 0.3762 - val_acc: 0.8069\n",
      "Epoch 7/30\n",
      "41/40 [==============================] - 5s - loss: 0.3199 - acc: 0.8456 - val_loss: 0.3523 - val_acc: 0.8660\n",
      "Epoch 8/30\n",
      "41/40 [==============================] - 5s - loss: 0.3450 - acc: 0.8380 - val_loss: 0.3433 - val_acc: 0.8910\n",
      "Epoch 9/30\n",
      "41/40 [==============================] - 5s - loss: 0.3886 - acc: 0.8174 - val_loss: 0.4060 - val_acc: 0.8100\n",
      "Epoch 10/30\n",
      "41/40 [==============================] - 5s - loss: 0.3342 - acc: 0.8380 - val_loss: 0.3848 - val_acc: 0.8816\n",
      "Epoch 11/30\n",
      "41/40 [==============================] - 6s - loss: 0.3432 - acc: 0.8437 - val_loss: 0.3140 - val_acc: 0.8847\n",
      "Epoch 12/30\n",
      "41/40 [==============================] - 5s - loss: 0.3009 - acc: 0.8665 - val_loss: 0.3826 - val_acc: 0.8505\n",
      "Epoch 13/30\n",
      "41/40 [==============================] - 5s - loss: 0.3121 - acc: 0.8601 - val_loss: 0.3306 - val_acc: 0.8287\n",
      "Epoch 14/30\n",
      "41/40 [==============================] - 5s - loss: 0.3102 - acc: 0.8514 - val_loss: 0.3139 - val_acc: 0.8723\n",
      "Epoch 15/30\n",
      "41/40 [==============================] - 6s - loss: 0.2954 - acc: 0.8643 - val_loss: 0.3616 - val_acc: 0.8785\n",
      "Epoch 16/30\n",
      "41/40 [==============================] - 5s - loss: 0.2821 - acc: 0.8688 - val_loss: 0.3068 - val_acc: 0.8567\n",
      "Epoch 17/30\n",
      "41/40 [==============================] - 6s - loss: 0.3163 - acc: 0.8616 - val_loss: 0.3396 - val_acc: 0.8474\n",
      "Epoch 18/30\n",
      "41/40 [==============================] - 5s - loss: 0.2791 - acc: 0.8780 - val_loss: 0.3829 - val_acc: 0.8255\n",
      "Epoch 19/30\n",
      "41/40 [==============================] - 5s - loss: 0.2829 - acc: 0.8604 - val_loss: 0.3411 - val_acc: 0.8847\n",
      "Epoch 20/30\n",
      "41/40 [==============================] - 6s - loss: 0.2890 - acc: 0.8650 - val_loss: 0.3935 - val_acc: 0.8255\n",
      "Epoch 21/30\n",
      "41/40 [==============================] - 6s - loss: 0.2804 - acc: 0.8704 - val_loss: 0.3455 - val_acc: 0.8692\n",
      "Epoch 22/30\n",
      "41/40 [==============================] - 6s - loss: 0.2794 - acc: 0.8662 - val_loss: 0.3503 - val_acc: 0.8941\n",
      "Epoch 23/30\n",
      "41/40 [==============================] - 5s - loss: 0.2717 - acc: 0.8772 - val_loss: 0.3373 - val_acc: 0.8660\n",
      "Epoch 24/30\n",
      "41/40 [==============================] - 5s - loss: 0.3147 - acc: 0.8620 - val_loss: 0.4133 - val_acc: 0.8006\n",
      "Epoch 25/30\n",
      "41/40 [==============================] - 5s - loss: 0.2783 - acc: 0.8757 - val_loss: 0.3800 - val_acc: 0.8910\n",
      "Epoch 26/30\n",
      "41/40 [==============================] - 5s - loss: 0.2873 - acc: 0.8711 - val_loss: 0.3839 - val_acc: 0.8380\n",
      "Epoch 27/30\n",
      "41/40 [==============================] - 5s - loss: 0.2520 - acc: 0.8948 - val_loss: 0.3776 - val_acc: 0.8816\n",
      "Epoch 28/30\n",
      "41/40 [==============================] - 5s - loss: 0.2544 - acc: 0.8917 - val_loss: 0.3797 - val_acc: 0.8349\n",
      "Epoch 29/30\n",
      "41/40 [==============================] - 5s - loss: 0.2502 - acc: 0.8833 - val_loss: 0.3862 - val_acc: 0.8536\n",
      "Epoch 30/30\n",
      "41/40 [==============================] - 5s - loss: 0.2850 - acc: 0.8627 - val_loss: 0.3739 - val_acc: 0.8785\n"
     ]
    }
   ],
   "source": [
    "vgg.train(32, 30, True)"
   ]
  },
  {
   "cell_type": "code",
   "execution_count": 127,
   "metadata": {},
   "outputs": [
    {
     "data": {
      "image/png": "[encoded data removed]",
      "text/plain": [
       "<matplotlib.figure.Figure at 0x1e4743a2d68>"
      ]
     },
     "metadata": {},
     "output_type": "display_data"
    },
    {
     "data": {
      "image/png": "[encoded data removed]",
      "text/plain": [
       "<matplotlib.figure.Figure at 0x1e3fe86b710>"
      ]
     },
     "metadata": {},
     "output_type": "display_data"
    }
   ],
   "source": [
    "vgg.plot_results()"
   ]
  },
  {
   "cell_type": "code",
   "execution_count": 128,
   "metadata": {},
   "outputs": [
    {
     "data": {
      "text/plain": [
       "array([[  3.90024602e-01,   6.09975457e-01],\n",
       "       [  9.93215561e-01,   6.78448053e-03],\n",
       "       [  1.00000000e+00,   7.81740126e-27],\n",
       "       ..., \n",
       "       [  9.22401726e-01,   7.75983259e-02],\n",
       "       [  9.18363966e-03,   9.90816355e-01],\n",
       "       [  1.00000000e+00,   4.76142665e-14]], dtype=float32)"
      ]
     },
     "execution_count": 128,
     "metadata": {},
     "output_type": "execute_result"
    }
   ],
   "source": [
    "X_test = helpers.get_images(test)\n",
    "predict = vgg.predict(X_test)\n",
    "predict"
   ]
  },
  {
   "cell_type": "code",
   "execution_count": 117,
   "metadata": {},
   "outputs": [],
   "source": [
    "simple = SimpleModel(Xtr, ytr, Xv, yv)"
   ]
  },
  {
   "cell_type": "code",
   "execution_count": 112,
   "metadata": {},
   "outputs": [
    {
     "name": "stdout",
     "output_type": "stream",
     "text": [
      "_________________________________________________________________\n",
      "Layer (type)                 Output Shape              Param #   \n",
      "=================================================================\n",
      "lambda_8 (Lambda)            (None, 75, 75, 3)         0         \n",
      "_________________________________________________________________\n",
      "conv2d_21 (Conv2D)           (None, 73, 73, 512)       14336     \n",
      "_________________________________________________________________\n",
      "global_average_pooling2d_8 ( (None, 512)               0         \n",
      "_________________________________________________________________\n",
      "dense_37 (Dense)             (None, 512)               262656    \n",
      "_________________________________________________________________\n",
      "dense_38 (Dense)             (None, 2)                 1026      \n",
      "=================================================================\n",
      "Total params: 278,018\n",
      "Trainable params: 278,018\n",
      "Non-trainable params: 0\n",
      "_________________________________________________________________\n"
     ]
    }
   ],
   "source": [
    "simple.model.summary()"
   ]
  },
  {
   "cell_type": "code",
   "execution_count": 118,
   "metadata": {},
   "outputs": [
    {
     "name": "stdout",
     "output_type": "stream",
     "text": [
      "Batch Size: 32\n",
      "Epochs: 5\n",
      "Epoch 1/5\n",
      "41/40 [==============================] - 3s - loss: 0.6841 - acc: 0.5696 - val_loss: 0.6955 - val_acc: 0.4860\n",
      "Epoch 2/5\n",
      "41/40 [==============================] - 1s - loss: 0.6685 - acc: 0.6446 - val_loss: 0.6660 - val_acc: 0.5888\n",
      "Epoch 3/5\n",
      "41/40 [==============================] - 1s - loss: 0.6574 - acc: 0.6253 - val_loss: 0.6827 - val_acc: 0.5047\n",
      "Epoch 4/5\n",
      "41/40 [==============================] - 1s - loss: 0.6440 - acc: 0.6542 - val_loss: 0.6430 - val_acc: 0.6231\n",
      "Epoch 5/5\n",
      "41/40 [==============================] - 1s - loss: 0.6322 - acc: 0.6603 - val_loss: 0.6485 - val_acc: 0.6044\n"
     ]
    }
   ],
   "source": [
    "simple.train(32, 5, True)"
   ]
  },
  {
   "cell_type": "code",
   "execution_count": 119,
   "metadata": {},
   "outputs": [],
   "source": [
    "X_test = helpers.get_images(test)\n",
    "predict = simple.predict(X_test)"
   ]
  },
  {
   "cell_type": "code",
   "execution_count": 120,
   "metadata": {},
   "outputs": [
    {
     "data": {
      "text/plain": [
       "array([[ 0.34748366,  0.65251637],\n",
       "       [ 0.45657286,  0.54342711],\n",
       "       [ 0.69432497,  0.30567497],\n",
       "       ..., \n",
       "       [ 0.39580071,  0.60419929],\n",
       "       [ 0.48593286,  0.51406711],\n",
       "       [ 0.572124  ,  0.42787597]], dtype=float32)"
      ]
     },
     "execution_count": 120,
     "metadata": {},
     "output_type": "execute_result"
    }
   ],
   "source": [
    "predict"
   ]
  },
  {
   "cell_type": "code",
   "execution_count": 122,
   "metadata": {
    "collapsed": true
   },
   "outputs": [],
   "source": [
    "vgg19 = DaveVGG19(Xtr, ytr, Xv, yv)"
   ]
  },
  {
   "cell_type": "code",
   "execution_count": 123,
   "metadata": {},
   "outputs": [
    {
     "name": "stdout",
     "output_type": "stream",
     "text": [
      "Batch Size: 32\n",
      "Epochs: 50\n",
      "Epoch 1/50\n",
      "41/40 [==============================] - 25s - loss: 0.6939 - acc: 0.4861 - val_loss: 0.6929 - val_acc: 0.6573\n",
      "Epoch 2/50\n",
      "41/40 [==============================] - 6s - loss: 0.6932 - acc: 0.4826 - val_loss: 0.6934 - val_acc: 0.3427\n",
      "Epoch 3/50\n",
      "41/40 [==============================] - 6s - loss: 0.6941 - acc: 0.4929 - val_loss: 0.6928 - val_acc: 0.6573\n",
      "Epoch 4/50\n",
      "41/40 [==============================] - 6s - loss: 0.6940 - acc: 0.4881 - val_loss: 0.6883 - val_acc: 0.6573\n",
      "Epoch 5/50\n",
      "41/40 [==============================] - 6s - loss: 0.6931 - acc: 0.5025 - val_loss: 0.6930 - val_acc: 0.6573\n",
      "Epoch 6/50\n",
      "41/40 [==============================] - 6s - loss: 0.6932 - acc: 0.4754 - val_loss: 0.6931 - val_acc: 0.6573\n",
      "Epoch 7/50\n",
      "41/40 [==============================] - 6s - loss: 0.6932 - acc: 0.4986 - val_loss: 0.6934 - val_acc: 0.3427\n",
      "Epoch 8/50\n",
      "41/40 [==============================] - 6s - loss: 0.6932 - acc: 0.4975 - val_loss: 0.6934 - val_acc: 0.3427\n",
      "Epoch 9/50\n",
      "41/40 [==============================] - 6s - loss: 0.6932 - acc: 0.4975 - val_loss: 0.6934 - val_acc: 0.3427\n",
      "Epoch 10/50\n",
      "41/40 [==============================] - 6s - loss: 0.6932 - acc: 0.4975 - val_loss: 0.6933 - val_acc: 0.3427\n",
      "Epoch 11/50\n",
      "41/40 [==============================] - 6s - loss: 0.6905 - acc: 0.5047 - val_loss: 2.0154 - val_acc: 0.3427\n",
      "Epoch 12/50\n",
      "41/40 [==============================] - 6s - loss: 0.7088 - acc: 0.5075 - val_loss: 0.6929 - val_acc: 0.6573\n",
      "Epoch 13/50\n",
      "41/40 [==============================] - 6s - loss: 0.6932 - acc: 0.4903 - val_loss: 0.6930 - val_acc: 0.6573\n",
      "Epoch 14/50\n",
      "41/40 [==============================] - 6s - loss: 0.6932 - acc: 0.5025 - val_loss: 0.6930 - val_acc: 0.6573\n",
      "Epoch 15/50\n",
      "41/40 [==============================] - 6s - loss: 0.6932 - acc: 0.4953 - val_loss: 0.6929 - val_acc: 0.6573\n",
      "Epoch 16/50\n",
      "41/40 [==============================] - 6s - loss: 0.6931 - acc: 0.5096 - val_loss: 0.6930 - val_acc: 0.6573\n",
      "Epoch 17/50\n",
      "41/40 [==============================] - 6s - loss: 0.6932 - acc: 0.4953 - val_loss: 0.6928 - val_acc: 0.6573\n",
      "Epoch 18/50\n",
      "41/40 [==============================] - 6s - loss: 0.6932 - acc: 0.5096 - val_loss: 0.6930 - val_acc: 0.6573\n",
      "Epoch 19/50\n",
      "41/40 [==============================] - 6s - loss: 0.6931 - acc: 0.5096 - val_loss: 0.6927 - val_acc: 0.6573\n",
      "Epoch 20/50\n",
      "41/40 [==============================] - 6s - loss: 0.6932 - acc: 0.4953 - val_loss: 0.6926 - val_acc: 0.6573\n",
      "Epoch 21/50\n",
      "41/40 [==============================] - 6s - loss: 0.6939 - acc: 0.4953 - val_loss: 0.6926 - val_acc: 0.6573\n",
      "Epoch 22/50\n",
      "41/40 [==============================] - 6s - loss: 0.6932 - acc: 0.4953 - val_loss: 0.6931 - val_acc: 0.6573\n",
      "Epoch 23/50\n",
      "41/40 [==============================] - 6s - loss: 0.6932 - acc: 0.4736 - val_loss: 0.6932 - val_acc: 0.3427\n",
      "Epoch 24/50\n",
      "41/40 [==============================] - 6s - loss: 0.6932 - acc: 0.4994 - val_loss: 0.6929 - val_acc: 0.6573\n",
      "Epoch 25/50\n",
      "41/40 [==============================] - 6s - loss: 0.6931 - acc: 0.5025 - val_loss: 0.6927 - val_acc: 0.6573\n",
      "Epoch 26/50\n",
      "41/40 [==============================] - 6s - loss: 0.6926 - acc: 0.4881 - val_loss: 0.6930 - val_acc: 0.6573\n",
      "Epoch 27/50\n",
      "41/40 [==============================] - 6s - loss: 0.6932 - acc: 0.4675 - val_loss: 0.6932 - val_acc: 0.3427\n",
      "Epoch 28/50\n",
      "41/40 [==============================] - 6s - loss: 0.6932 - acc: 0.4953 - val_loss: 0.6931 - val_acc: 0.6573\n",
      "Epoch 29/50\n",
      "41/40 [==============================] - 6s - loss: 0.6932 - acc: 0.4660 - val_loss: 0.6932 - val_acc: 0.3427\n",
      "Epoch 30/50\n",
      "41/40 [==============================] - 6s - loss: 0.6931 - acc: 0.5025 - val_loss: 0.6930 - val_acc: 0.6573\n",
      "Epoch 31/50\n",
      "41/40 [==============================] - 6s - loss: 0.6932 - acc: 0.5014 - val_loss: 0.6929 - val_acc: 0.6573\n",
      "Epoch 32/50\n",
      "41/40 [==============================] - 6s - loss: 0.6936 - acc: 0.5086 - val_loss: 0.6929 - val_acc: 0.6573\n",
      "Epoch 33/50\n",
      "41/40 [==============================] - 6s - loss: 0.6931 - acc: 0.5025 - val_loss: 0.6928 - val_acc: 0.6573\n",
      "Epoch 34/50\n",
      "41/40 [==============================] - 6s - loss: 0.6931 - acc: 0.5096 - val_loss: 0.6927 - val_acc: 0.6573\n",
      "Epoch 35/50\n",
      "41/40 [==============================] - 6s - loss: 0.6932 - acc: 0.4881 - val_loss: 0.6925 - val_acc: 0.6573\n",
      "Epoch 36/50\n",
      "41/40 [==============================] - 6s - loss: 0.6932 - acc: 0.4953 - val_loss: 0.6928 - val_acc: 0.6573\n",
      "Epoch 37/50\n",
      "18/40 [============>.................] - ETA: 3s - loss: 0.6931 - acc: 0.5330"
     ]
    },
    {
     "ename": "KeyboardInterrupt",
     "evalue": "",
     "output_type": "error",
     "traceback": [
      "\u001b[1;31m---------------------------------------------------------------------------\u001b[0m",
      "\u001b[1;31mKeyboardInterrupt\u001b[0m                         Traceback (most recent call last)",
      "\u001b[1;32m<ipython-input-123-74085e1f96ee>\u001b[0m in \u001b[0;36m<module>\u001b[1;34m()\u001b[0m\n\u001b[1;32m----> 1\u001b[1;33m \u001b[0mvgg19\u001b[0m\u001b[1;33m.\u001b[0m\u001b[0mtrain\u001b[0m\u001b[1;33m(\u001b[0m\u001b[1;36m32\u001b[0m\u001b[1;33m,\u001b[0m \u001b[1;36m50\u001b[0m\u001b[1;33m,\u001b[0m \u001b[1;32mTrue\u001b[0m\u001b[1;33m)\u001b[0m\u001b[1;33m\u001b[0m\u001b[0m\n\u001b[0m",
      "\u001b[1;32mD:\\_GithubTest\\MachineLearning\\Kaggle\\Statoil C-CORE Iceberg Classifier\\models.py\u001b[0m in \u001b[0;36mtrain\u001b[1;34m(self, batch_size, epochs, saveModel)\u001b[0m\n\u001b[0;32m     39\u001b[0m                          \u001b[0mepochs\u001b[0m\u001b[1;33m=\u001b[0m\u001b[0mself\u001b[0m\u001b[1;33m.\u001b[0m\u001b[0mepochs\u001b[0m\u001b[1;33m,\u001b[0m\u001b[1;33m\u001b[0m\u001b[0m\n\u001b[0;32m     40\u001b[0m                          \u001b[0mvalidation_data\u001b[0m\u001b[1;33m=\u001b[0m\u001b[0mself\u001b[0m\u001b[1;33m.\u001b[0m\u001b[0mval_gen\u001b[0m\u001b[1;33m.\u001b[0m\u001b[0mflow\u001b[0m\u001b[1;33m(\u001b[0m\u001b[0mself\u001b[0m\u001b[1;33m.\u001b[0m\u001b[0mXv\u001b[0m\u001b[1;33m,\u001b[0m \u001b[0mself\u001b[0m\u001b[1;33m.\u001b[0m\u001b[0myv\u001b[0m\u001b[1;33m,\u001b[0m \u001b[0mbatch_size\u001b[0m\u001b[1;33m=\u001b[0m\u001b[0mself\u001b[0m\u001b[1;33m.\u001b[0m\u001b[0mbatch_size\u001b[0m\u001b[1;33m,\u001b[0m \u001b[0mshuffle\u001b[0m\u001b[1;33m=\u001b[0m\u001b[1;32mFalse\u001b[0m\u001b[1;33m)\u001b[0m\u001b[1;33m,\u001b[0m\u001b[1;33m\u001b[0m\u001b[0m\n\u001b[1;32m---> 41\u001b[1;33m                          validation_steps = len(self.Xv) / self.batch_size)\n\u001b[0m\u001b[0;32m     42\u001b[0m \u001b[1;33m\u001b[0m\u001b[0m\n\u001b[0;32m     43\u001b[0m         \u001b[0mself\u001b[0m\u001b[1;33m.\u001b[0m\u001b[0mhistory\u001b[0m \u001b[1;33m=\u001b[0m \u001b[0mhistory\u001b[0m\u001b[1;33m.\u001b[0m\u001b[0mhistory\u001b[0m\u001b[1;33m\u001b[0m\u001b[0m\n",
      "\u001b[1;32m~\\Anaconda3\\envs\\tensorflow-gpu\\lib\\site-packages\\keras\\legacy\\interfaces.py\u001b[0m in \u001b[0;36mwrapper\u001b[1;34m(*args, **kwargs)\u001b[0m\n\u001b[0;32m     85\u001b[0m                 warnings.warn('Update your `' + object_name +\n\u001b[0;32m     86\u001b[0m                               '` call to the Keras 2 API: ' + signature, stacklevel=2)\n\u001b[1;32m---> 87\u001b[1;33m             \u001b[1;32mreturn\u001b[0m \u001b[0mfunc\u001b[0m\u001b[1;33m(\u001b[0m\u001b[1;33m*\u001b[0m\u001b[0margs\u001b[0m\u001b[1;33m,\u001b[0m \u001b[1;33m**\u001b[0m\u001b[0mkwargs\u001b[0m\u001b[1;33m)\u001b[0m\u001b[1;33m\u001b[0m\u001b[0m\n\u001b[0m\u001b[0;32m     88\u001b[0m         \u001b[0mwrapper\u001b[0m\u001b[1;33m.\u001b[0m\u001b[0m_original_function\u001b[0m \u001b[1;33m=\u001b[0m \u001b[0mfunc\u001b[0m\u001b[1;33m\u001b[0m\u001b[0m\n\u001b[0;32m     89\u001b[0m         \u001b[1;32mreturn\u001b[0m \u001b[0mwrapper\u001b[0m\u001b[1;33m\u001b[0m\u001b[0m\n",
      "\u001b[1;32m~\\Anaconda3\\envs\\tensorflow-gpu\\lib\\site-packages\\keras\\engine\\training.py\u001b[0m in \u001b[0;36mfit_generator\u001b[1;34m(self, generator, steps_per_epoch, epochs, verbose, callbacks, validation_data, validation_steps, class_weight, max_queue_size, workers, use_multiprocessing, initial_epoch)\u001b[0m\n\u001b[0;32m   1838\u001b[0m                     outs = self.train_on_batch(x, y,\n\u001b[0;32m   1839\u001b[0m                                                \u001b[0msample_weight\u001b[0m\u001b[1;33m=\u001b[0m\u001b[0msample_weight\u001b[0m\u001b[1;33m,\u001b[0m\u001b[1;33m\u001b[0m\u001b[0m\n\u001b[1;32m-> 1840\u001b[1;33m                                                class_weight=class_weight)\n\u001b[0m\u001b[0;32m   1841\u001b[0m \u001b[1;33m\u001b[0m\u001b[0m\n\u001b[0;32m   1842\u001b[0m                     \u001b[1;32mif\u001b[0m \u001b[1;32mnot\u001b[0m \u001b[0misinstance\u001b[0m\u001b[1;33m(\u001b[0m\u001b[0mouts\u001b[0m\u001b[1;33m,\u001b[0m \u001b[0mlist\u001b[0m\u001b[1;33m)\u001b[0m\u001b[1;33m:\u001b[0m\u001b[1;33m\u001b[0m\u001b[0m\n",
      "\u001b[1;32m~\\Anaconda3\\envs\\tensorflow-gpu\\lib\\site-packages\\keras\\engine\\training.py\u001b[0m in \u001b[0;36mtrain_on_batch\u001b[1;34m(self, x, y, sample_weight, class_weight)\u001b[0m\n\u001b[0;32m   1563\u001b[0m             \u001b[0mins\u001b[0m \u001b[1;33m=\u001b[0m \u001b[0mx\u001b[0m \u001b[1;33m+\u001b[0m \u001b[0my\u001b[0m \u001b[1;33m+\u001b[0m \u001b[0msample_weights\u001b[0m\u001b[1;33m\u001b[0m\u001b[0m\n\u001b[0;32m   1564\u001b[0m         \u001b[0mself\u001b[0m\u001b[1;33m.\u001b[0m\u001b[0m_make_train_function\u001b[0m\u001b[1;33m(\u001b[0m\u001b[1;33m)\u001b[0m\u001b[1;33m\u001b[0m\u001b[0m\n\u001b[1;32m-> 1565\u001b[1;33m         \u001b[0moutputs\u001b[0m \u001b[1;33m=\u001b[0m \u001b[0mself\u001b[0m\u001b[1;33m.\u001b[0m\u001b[0mtrain_function\u001b[0m\u001b[1;33m(\u001b[0m\u001b[0mins\u001b[0m\u001b[1;33m)\u001b[0m\u001b[1;33m\u001b[0m\u001b[0m\n\u001b[0m\u001b[0;32m   1566\u001b[0m         \u001b[1;32mif\u001b[0m \u001b[0mlen\u001b[0m\u001b[1;33m(\u001b[0m\u001b[0moutputs\u001b[0m\u001b[1;33m)\u001b[0m \u001b[1;33m==\u001b[0m \u001b[1;36m1\u001b[0m\u001b[1;33m:\u001b[0m\u001b[1;33m\u001b[0m\u001b[0m\n\u001b[0;32m   1567\u001b[0m             \u001b[1;32mreturn\u001b[0m \u001b[0moutputs\u001b[0m\u001b[1;33m[\u001b[0m\u001b[1;36m0\u001b[0m\u001b[1;33m]\u001b[0m\u001b[1;33m\u001b[0m\u001b[0m\n",
      "\u001b[1;32m~\\Anaconda3\\envs\\tensorflow-gpu\\lib\\site-packages\\keras\\backend\\tensorflow_backend.py\u001b[0m in \u001b[0;36m__call__\u001b[1;34m(self, inputs)\u001b[0m\n\u001b[0;32m   2266\u001b[0m         updated = session.run(self.outputs + [self.updates_op],\n\u001b[0;32m   2267\u001b[0m                               \u001b[0mfeed_dict\u001b[0m\u001b[1;33m=\u001b[0m\u001b[0mfeed_dict\u001b[0m\u001b[1;33m,\u001b[0m\u001b[1;33m\u001b[0m\u001b[0m\n\u001b[1;32m-> 2268\u001b[1;33m                               **self.session_kwargs)\n\u001b[0m\u001b[0;32m   2269\u001b[0m         \u001b[1;32mreturn\u001b[0m \u001b[0mupdated\u001b[0m\u001b[1;33m[\u001b[0m\u001b[1;33m:\u001b[0m\u001b[0mlen\u001b[0m\u001b[1;33m(\u001b[0m\u001b[0mself\u001b[0m\u001b[1;33m.\u001b[0m\u001b[0moutputs\u001b[0m\u001b[1;33m)\u001b[0m\u001b[1;33m]\u001b[0m\u001b[1;33m\u001b[0m\u001b[0m\n\u001b[0;32m   2270\u001b[0m \u001b[1;33m\u001b[0m\u001b[0m\n",
      "\u001b[1;32m~\\Anaconda3\\envs\\tensorflow-gpu\\lib\\site-packages\\tensorflow\\python\\client\\session.py\u001b[0m in \u001b[0;36mrun\u001b[1;34m(self, fetches, feed_dict, options, run_metadata)\u001b[0m\n\u001b[0;32m    787\u001b[0m     \u001b[1;32mtry\u001b[0m\u001b[1;33m:\u001b[0m\u001b[1;33m\u001b[0m\u001b[0m\n\u001b[0;32m    788\u001b[0m       result = self._run(None, fetches, feed_dict, options_ptr,\n\u001b[1;32m--> 789\u001b[1;33m                          run_metadata_ptr)\n\u001b[0m\u001b[0;32m    790\u001b[0m       \u001b[1;32mif\u001b[0m \u001b[0mrun_metadata\u001b[0m\u001b[1;33m:\u001b[0m\u001b[1;33m\u001b[0m\u001b[0m\n\u001b[0;32m    791\u001b[0m         \u001b[0mproto_data\u001b[0m \u001b[1;33m=\u001b[0m \u001b[0mtf_session\u001b[0m\u001b[1;33m.\u001b[0m\u001b[0mTF_GetBuffer\u001b[0m\u001b[1;33m(\u001b[0m\u001b[0mrun_metadata_ptr\u001b[0m\u001b[1;33m)\u001b[0m\u001b[1;33m\u001b[0m\u001b[0m\n",
      "\u001b[1;32m~\\Anaconda3\\envs\\tensorflow-gpu\\lib\\site-packages\\tensorflow\\python\\client\\session.py\u001b[0m in \u001b[0;36m_run\u001b[1;34m(self, handle, fetches, feed_dict, options, run_metadata)\u001b[0m\n\u001b[0;32m    995\u001b[0m     \u001b[1;32mif\u001b[0m \u001b[0mfinal_fetches\u001b[0m \u001b[1;32mor\u001b[0m \u001b[0mfinal_targets\u001b[0m\u001b[1;33m:\u001b[0m\u001b[1;33m\u001b[0m\u001b[0m\n\u001b[0;32m    996\u001b[0m       results = self._do_run(handle, final_targets, final_fetches,\n\u001b[1;32m--> 997\u001b[1;33m                              feed_dict_string, options, run_metadata)\n\u001b[0m\u001b[0;32m    998\u001b[0m     \u001b[1;32melse\u001b[0m\u001b[1;33m:\u001b[0m\u001b[1;33m\u001b[0m\u001b[0m\n\u001b[0;32m    999\u001b[0m       \u001b[0mresults\u001b[0m \u001b[1;33m=\u001b[0m \u001b[1;33m[\u001b[0m\u001b[1;33m]\u001b[0m\u001b[1;33m\u001b[0m\u001b[0m\n",
      "\u001b[1;32m~\\Anaconda3\\envs\\tensorflow-gpu\\lib\\site-packages\\tensorflow\\python\\client\\session.py\u001b[0m in \u001b[0;36m_do_run\u001b[1;34m(self, handle, target_list, fetch_list, feed_dict, options, run_metadata)\u001b[0m\n\u001b[0;32m   1130\u001b[0m     \u001b[1;32mif\u001b[0m \u001b[0mhandle\u001b[0m \u001b[1;32mis\u001b[0m \u001b[1;32mNone\u001b[0m\u001b[1;33m:\u001b[0m\u001b[1;33m\u001b[0m\u001b[0m\n\u001b[0;32m   1131\u001b[0m       return self._do_call(_run_fn, self._session, feed_dict, fetch_list,\n\u001b[1;32m-> 1132\u001b[1;33m                            target_list, options, run_metadata)\n\u001b[0m\u001b[0;32m   1133\u001b[0m     \u001b[1;32melse\u001b[0m\u001b[1;33m:\u001b[0m\u001b[1;33m\u001b[0m\u001b[0m\n\u001b[0;32m   1134\u001b[0m       return self._do_call(_prun_fn, self._session, handle, feed_dict,\n",
      "\u001b[1;32m~\\Anaconda3\\envs\\tensorflow-gpu\\lib\\site-packages\\tensorflow\\python\\client\\session.py\u001b[0m in \u001b[0;36m_do_call\u001b[1;34m(self, fn, *args)\u001b[0m\n\u001b[0;32m   1137\u001b[0m   \u001b[1;32mdef\u001b[0m \u001b[0m_do_call\u001b[0m\u001b[1;33m(\u001b[0m\u001b[0mself\u001b[0m\u001b[1;33m,\u001b[0m \u001b[0mfn\u001b[0m\u001b[1;33m,\u001b[0m \u001b[1;33m*\u001b[0m\u001b[0margs\u001b[0m\u001b[1;33m)\u001b[0m\u001b[1;33m:\u001b[0m\u001b[1;33m\u001b[0m\u001b[0m\n\u001b[0;32m   1138\u001b[0m     \u001b[1;32mtry\u001b[0m\u001b[1;33m:\u001b[0m\u001b[1;33m\u001b[0m\u001b[0m\n\u001b[1;32m-> 1139\u001b[1;33m       \u001b[1;32mreturn\u001b[0m \u001b[0mfn\u001b[0m\u001b[1;33m(\u001b[0m\u001b[1;33m*\u001b[0m\u001b[0margs\u001b[0m\u001b[1;33m)\u001b[0m\u001b[1;33m\u001b[0m\u001b[0m\n\u001b[0m\u001b[0;32m   1140\u001b[0m     \u001b[1;32mexcept\u001b[0m \u001b[0merrors\u001b[0m\u001b[1;33m.\u001b[0m\u001b[0mOpError\u001b[0m \u001b[1;32mas\u001b[0m \u001b[0me\u001b[0m\u001b[1;33m:\u001b[0m\u001b[1;33m\u001b[0m\u001b[0m\n\u001b[0;32m   1141\u001b[0m       \u001b[0mmessage\u001b[0m \u001b[1;33m=\u001b[0m \u001b[0mcompat\u001b[0m\u001b[1;33m.\u001b[0m\u001b[0mas_text\u001b[0m\u001b[1;33m(\u001b[0m\u001b[0me\u001b[0m\u001b[1;33m.\u001b[0m\u001b[0mmessage\u001b[0m\u001b[1;33m)\u001b[0m\u001b[1;33m\u001b[0m\u001b[0m\n",
      "\u001b[1;32m~\\Anaconda3\\envs\\tensorflow-gpu\\lib\\site-packages\\tensorflow\\python\\client\\session.py\u001b[0m in \u001b[0;36m_run_fn\u001b[1;34m(session, feed_dict, fetch_list, target_list, options, run_metadata)\u001b[0m\n\u001b[0;32m   1119\u001b[0m         return tf_session.TF_Run(session, options,\n\u001b[0;32m   1120\u001b[0m                                  \u001b[0mfeed_dict\u001b[0m\u001b[1;33m,\u001b[0m \u001b[0mfetch_list\u001b[0m\u001b[1;33m,\u001b[0m \u001b[0mtarget_list\u001b[0m\u001b[1;33m,\u001b[0m\u001b[1;33m\u001b[0m\u001b[0m\n\u001b[1;32m-> 1121\u001b[1;33m                                  status, run_metadata)\n\u001b[0m\u001b[0;32m   1122\u001b[0m \u001b[1;33m\u001b[0m\u001b[0m\n\u001b[0;32m   1123\u001b[0m     \u001b[1;32mdef\u001b[0m \u001b[0m_prun_fn\u001b[0m\u001b[1;33m(\u001b[0m\u001b[0msession\u001b[0m\u001b[1;33m,\u001b[0m \u001b[0mhandle\u001b[0m\u001b[1;33m,\u001b[0m \u001b[0mfeed_dict\u001b[0m\u001b[1;33m,\u001b[0m \u001b[0mfetch_list\u001b[0m\u001b[1;33m)\u001b[0m\u001b[1;33m:\u001b[0m\u001b[1;33m\u001b[0m\u001b[0m\n",
      "\u001b[1;31mKeyboardInterrupt\u001b[0m: "
     ]
    }
   ],
   "source": [
    "vgg19.train(32, 50, True)"
   ]
  }
 ],
 "metadata": {
  "kernelspec": {
   "display_name": "Python 3",
   "language": "python",
   "name": "python3"
  },
  "language_info": {
   "codemirror_mode": {
    "name": "ipython",
    "version": 3
   },
   "file_extension": ".py",
   "mimetype": "text/x-python",
   "name": "python",
   "nbconvert_exporter": "python",
   "pygments_lexer": "ipython3",
   "version": "3.5.2"
  }
 },
 "nbformat": 4,
 "nbformat_minor": 2
}
