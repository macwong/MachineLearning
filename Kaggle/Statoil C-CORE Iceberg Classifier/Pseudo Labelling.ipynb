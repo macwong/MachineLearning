{
 "cells": [
  {
   "cell_type": "markdown",
   "metadata": {},
   "source": [
    "Pseudo labelling and splitting data by angle"
   ]
  },
  {
   "cell_type": "code",
   "execution_count": 1,
   "metadata": {},
   "outputs": [
    {
     "name": "stderr",
     "output_type": "stream",
     "text": [
      "Using TensorFlow backend.\n"
     ]
    }
   ],
   "source": [
    "%load_ext autoreload\n",
    "%autoreload 2\n",
    "\n",
    "import numpy as np # linear algebra\n",
    "import pandas as pd # data processing, CSV file I/O (e.g. pd.read_csv)\n",
    "import pdb\n",
    "from sklearn.model_selection import train_test_split\n",
    "from keras.utils.np_utils import to_categorical\n",
    "from keras import backend as K\n",
    "from matplotlib import pyplot as plt\n",
    "%matplotlib inline\n",
    "import scipy\n",
    "from scipy import misc, ndimage\n",
    "from scipy.ndimage.interpolation import zoom\n",
    "from scipy.ndimage import imread\n",
    "import helpers\n",
    "from models import DaveModel\n"
   ]
  },
  {
   "cell_type": "code",
   "execution_count": 2,
   "metadata": {
    "collapsed": true
   },
   "outputs": [],
   "source": [
    "train = pd.read_json(\"_RawData/train.json/data/processed/train.json\")\n",
    "test = pd.read_json(\"_RawData/test.json/data/processed/test.json\")"
   ]
  },
  {
   "cell_type": "code",
   "execution_count": 3,
   "metadata": {
    "collapsed": true
   },
   "outputs": [],
   "source": [
    "X = helpers.get_images(train)"
   ]
  },
  {
   "cell_type": "code",
   "execution_count": 4,
   "metadata": {
    "collapsed": true
   },
   "outputs": [],
   "source": [
    "y = to_categorical(train.is_iceberg.values,num_classes=2)"
   ]
  },
  {
   "cell_type": "code",
   "execution_count": 5,
   "metadata": {
    "collapsed": true
   },
   "outputs": [],
   "source": [
    "Xtr, Xv, ytr, yv = train_test_split(X, y, shuffle=False, test_size=0.20)"
   ]
  },
  {
   "cell_type": "code",
   "execution_count": 6,
   "metadata": {
    "collapsed": true
   },
   "outputs": [],
   "source": [
    "# Create the model and compile\n",
    "model = DaveModel(Xtr, ytr, Xv, yv)"
   ]
  },
  {
   "cell_type": "code",
   "execution_count": 8,
   "metadata": {},
   "outputs": [
    {
     "name": "stdout",
     "output_type": "stream",
     "text": [
      "Batch Size: 32\n",
      "Epochs: 20\n",
      "Epoch 1/20\n",
      "41/40 [==============================] - 1s - loss: 0.2787 - acc: 0.8700 - val_loss: 0.3098 - val_acc: 0.8349\n",
      "Epoch 2/20\n",
      "41/40 [==============================] - 1s - loss: 0.2772 - acc: 0.8719 - val_loss: 0.3213 - val_acc: 0.8100\n",
      "Epoch 3/20\n",
      "41/40 [==============================] - 1s - loss: 0.2884 - acc: 0.8621 - val_loss: 0.4528 - val_acc: 0.7850\n",
      "Epoch 4/20\n",
      "41/40 [==============================] - 1s - loss: 0.2667 - acc: 0.8810 - val_loss: 0.3625 - val_acc: 0.8037\n",
      "Epoch 5/20\n",
      "41/40 [==============================] - 1s - loss: 0.2834 - acc: 0.8693 - val_loss: 0.3380 - val_acc: 0.8224\n",
      "Epoch 6/20\n",
      "41/40 [==============================] - 1s - loss: 0.2679 - acc: 0.8810 - val_loss: 0.3122 - val_acc: 0.8692\n",
      "Epoch 7/20\n",
      "41/40 [==============================] - 1s - loss: 0.2500 - acc: 0.8940 - val_loss: 0.2891 - val_acc: 0.8629\n",
      "Epoch 8/20\n",
      "41/40 [==============================] - 1s - loss: 0.2442 - acc: 0.8864 - val_loss: 0.3018 - val_acc: 0.8723\n",
      "Epoch 9/20\n",
      "41/40 [==============================] - 1s - loss: 0.2702 - acc: 0.8921 - val_loss: 0.2853 - val_acc: 0.8847\n",
      "Epoch 10/20\n",
      "41/40 [==============================] - 1s - loss: 0.2551 - acc: 0.8826 - val_loss: 0.3241 - val_acc: 0.8411\n",
      "Epoch 11/20\n",
      "41/40 [==============================] - 1s - loss: 0.2479 - acc: 0.8925 - val_loss: 0.2800 - val_acc: 0.8972\n",
      "Epoch 12/20\n",
      "41/40 [==============================] - 1s - loss: 0.2566 - acc: 0.8902 - val_loss: 0.3008 - val_acc: 0.8442\n",
      "Epoch 13/20\n",
      "41/40 [==============================] - 1s - loss: 0.2482 - acc: 0.8819 - val_loss: 0.2715 - val_acc: 0.8941\n",
      "Epoch 14/20\n",
      "41/40 [==============================] - 1s - loss: 0.2591 - acc: 0.8719 - val_loss: 0.3217 - val_acc: 0.8442\n",
      "Epoch 15/20\n",
      "41/40 [==============================] - 1s - loss: 0.2309 - acc: 0.8967 - val_loss: 0.2789 - val_acc: 0.8816\n",
      "Epoch 16/20\n",
      "41/40 [==============================] - 1s - loss: 0.2433 - acc: 0.8978 - val_loss: 0.3031 - val_acc: 0.8567\n",
      "Epoch 17/20\n",
      "41/40 [==============================] - 1s - loss: 0.2500 - acc: 0.8876 - val_loss: 0.3204 - val_acc: 0.8411\n",
      "Epoch 18/20\n",
      "41/40 [==============================] - 1s - loss: 0.2532 - acc: 0.8838 - val_loss: 0.4041 - val_acc: 0.7913\n",
      "Epoch 19/20\n",
      "41/40 [==============================] - 1s - loss: 0.2428 - acc: 0.8833 - val_loss: 0.2814 - val_acc: 0.8723\n",
      "Epoch 20/20\n",
      "41/40 [==============================] - 1s - loss: 0.2310 - acc: 0.8970 - val_loss: 0.2920 - val_acc: 0.8598\n"
     ]
    }
   ],
   "source": [
    "model.train(32, 50)"
   ]
  },
  {
   "cell_type": "code",
   "execution_count": null,
   "metadata": {
    "collapsed": true
   },
   "outputs": [],
   "source": []
  }
 ],
 "metadata": {
  "kernelspec": {
   "display_name": "Python 3",
   "language": "python",
   "name": "python3"
  },
  "language_info": {
   "codemirror_mode": {
    "name": "ipython",
    "version": 3
   },
   "file_extension": ".py",
   "mimetype": "text/x-python",
   "name": "python",
   "nbconvert_exporter": "python",
   "pygments_lexer": "ipython3",
   "version": "3.5.2"
  }
 },
 "nbformat": 4,
 "nbformat_minor": 2
}
