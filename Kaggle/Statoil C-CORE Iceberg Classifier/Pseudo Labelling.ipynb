{
 "cells": [
  {
   "cell_type": "code",
   "execution_count": 1,
   "metadata": {},
   "outputs": [
    {
     "name": "stderr",
     "output_type": "stream",
     "text": [
      "Using TensorFlow backend.\n"
     ]
    }
   ],
   "source": [
    "%load_ext autoreload\n",
    "%autoreload 2\n",
    "\n",
    "import numpy as np # linear algebra\n",
    "import pandas as pd # data processing, CSV file I/O (e.g. pd.read_csv)\n",
    "import pdb\n",
    "from sklearn.model_selection import train_test_split\n",
    "from keras.utils.np_utils import to_categorical\n",
    "from keras import backend as K\n",
    "from matplotlib import pyplot as plt\n",
    "%matplotlib inline\n",
    "import scipy\n",
    "from scipy import misc, ndimage\n",
    "from scipy.ndimage.interpolation import zoom\n",
    "from scipy.ndimage import imread\n",
    "import helpers\n",
    "from models import DaveModel, DaveVGG, DaveVGG19, SimpleModel, LeNetModel\n",
    "from trainer import Trainer"
   ]
  },
  {
   "cell_type": "code",
   "execution_count": 2,
   "metadata": {
    "collapsed": true
   },
   "outputs": [],
   "source": [
    "train = pd.read_json(\"_RawData/train.json/data/processed/train.json\")\n",
    "test = pd.read_json(\"_RawData/test.json/data/processed/test.json\")"
   ]
  },
  {
   "cell_type": "code",
   "execution_count": 3,
   "metadata": {
    "collapsed": true
   },
   "outputs": [],
   "source": [
    "X = helpers.get_images(train)\n",
    "X_test = helpers.get_images(test)"
   ]
  },
  {
   "cell_type": "code",
   "execution_count": 4,
   "metadata": {
    "collapsed": true
   },
   "outputs": [],
   "source": [
    "y = to_categorical(train.is_iceberg.values,num_classes=2)"
   ]
  },
  {
   "cell_type": "code",
   "execution_count": 5,
   "metadata": {
    "collapsed": true
   },
   "outputs": [],
   "source": [
    "Xtr, Xv, ytr, yv = train_test_split(X, y, shuffle=False, test_size=0.20)"
   ]
  },
  {
   "cell_type": "code",
   "execution_count": 6,
   "metadata": {
    "collapsed": true
   },
   "outputs": [],
   "source": [
    "trainRunner = Trainer([\n",
    "    DaveModel(Xtr, ytr, Xv, yv),\n",
    "    DaveVGG(Xtr, ytr, Xv, yv),\n",
    "    DaveVGG19(Xtr, ytr, Xv, yv),\n",
    "    LeNetModel(Xtr, ytr, Xv, yv)\n",
    "])"
   ]
  },
  {
   "cell_type": "code",
   "execution_count": 7,
   "metadata": {
    "collapsed": true
   },
   "outputs": [],
   "source": [
    "trainRunner.models[0].model.load_weights(\"davemodel20171203-181713.h5\")\n",
    "trainRunner.models[1].model.load_weights(\"vgg20171203-182704.h5\")\n",
    "trainRunner.models[2].model.load_weights(\"vgg1920171203-183725.h5\")\n",
    "trainRunner.models[3].model.load_weights(\"lenet20171203-184024.h5\")"
   ]
  },
  {
   "cell_type": "code",
   "execution_count": 18,
   "metadata": {},
   "outputs": [
    {
     "name": "stdout",
     "output_type": "stream",
     "text": [
      "davemodel\n",
      "vgg\n",
      "vgg19\n",
      "lenet\n"
     ]
    }
   ],
   "source": [
    "results = pd.DataFrame()\n",
    "\n",
    "for model in trainRunner.models:\n",
    "    name = model.get_name()\n",
    "    print(name)\n",
    "    test = model.model.predict(X_test)\n",
    "    results[name] = test[:, 0]"
   ]
  },
  {
   "cell_type": "code",
   "execution_count": 53,
   "metadata": {},
   "outputs": [
    {
     "data": {
      "text/html": [
       "<div>\n",
       "<style>\n",
       "    .dataframe thead tr:only-child th {\n",
       "        text-align: right;\n",
       "    }\n",
       "\n",
       "    .dataframe thead th {\n",
       "        text-align: left;\n",
       "    }\n",
       "\n",
       "    .dataframe tbody tr th {\n",
       "        vertical-align: top;\n",
       "    }\n",
       "</style>\n",
       "<table border=\"1\" class=\"dataframe\">\n",
       "  <thead>\n",
       "    <tr style=\"text-align: right;\">\n",
       "      <th></th>\n",
       "      <th>davemodel</th>\n",
       "      <th>vgg</th>\n",
       "      <th>vgg19</th>\n",
       "      <th>lenet</th>\n",
       "    </tr>\n",
       "  </thead>\n",
       "  <tbody>\n",
       "    <tr>\n",
       "      <th>0</th>\n",
       "      <td>0.904778</td>\n",
       "      <td>0.506920</td>\n",
       "      <td>0.729676</td>\n",
       "      <td>0.523765</td>\n",
       "    </tr>\n",
       "    <tr>\n",
       "      <th>1</th>\n",
       "      <td>0.686788</td>\n",
       "      <td>0.277934</td>\n",
       "      <td>0.972092</td>\n",
       "      <td>0.611775</td>\n",
       "    </tr>\n",
       "    <tr>\n",
       "      <th>2</th>\n",
       "      <td>0.994779</td>\n",
       "      <td>0.248336</td>\n",
       "      <td>0.985353</td>\n",
       "      <td>0.991685</td>\n",
       "    </tr>\n",
       "    <tr>\n",
       "      <th>3</th>\n",
       "      <td>0.001994</td>\n",
       "      <td>0.011655</td>\n",
       "      <td>0.003505</td>\n",
       "      <td>0.004780</td>\n",
       "    </tr>\n",
       "    <tr>\n",
       "      <th>4</th>\n",
       "      <td>0.968177</td>\n",
       "      <td>0.280054</td>\n",
       "      <td>0.898017</td>\n",
       "      <td>0.604213</td>\n",
       "    </tr>\n",
       "  </tbody>\n",
       "</table>\n",
       "</div>"
      ],
      "text/plain": [
       "   davemodel       vgg     vgg19     lenet\n",
       "0   0.904778  0.506920  0.729676  0.523765\n",
       "1   0.686788  0.277934  0.972092  0.611775\n",
       "2   0.994779  0.248336  0.985353  0.991685\n",
       "3   0.001994  0.011655  0.003505  0.004780\n",
       "4   0.968177  0.280054  0.898017  0.604213"
      ]
     },
     "execution_count": 53,
     "metadata": {},
     "output_type": "execute_result"
    }
   ],
   "source": [
    "results.head()\n",
    "\n",
    "# results.iloc[:, 0]\n",
    "\n"
   ]
  },
  {
   "cell_type": "code",
   "execution_count": 77,
   "metadata": {},
   "outputs": [],
   "source": [
    "results[\"very_positive\"] = results.apply(lambda x: x[\"davemodel\"] > 0.5 and x[\"vgg\"] > 0.5 and x[\"vgg19\"] > 0.5 and x[\"lenet\"] > 0.5, axis = 1)\n",
    "results[\"very_negative\"] = results.apply(lambda x: x[\"davemodel\"] <= 0.5 and x[\"vgg\"] <= 0.5 and x[\"vgg19\"] <= 0.5 and x[\"lenet\"] <= 0.5, axis = 1)\n",
    "results[\"definitive\"] = results[\"very_positive\"] | results[\"very_negative\"]"
   ]
  },
  {
   "cell_type": "code",
   "execution_count": 102,
   "metadata": {},
   "outputs": [],
   "source": [
    "# results.head()\n",
    "# results[results[\"definitive\"]]\n",
    "# results[results[\"very_positive\"] != True & results[\"very_negative\"] != True]\n",
    "\n",
    "def get_score(value):\n",
    "    score = 0\n",
    "    \n",
    "    if value > 0.5:\n",
    "        score += 1\n",
    "    else:\n",
    "        score -= 1\n",
    "        \n",
    "    return score\n",
    "\n",
    "def get_label(score):\n",
    "    label = -1\n",
    "    \n",
    "    if score > 0:\n",
    "        label = 1\n",
    "    elif score < 0:\n",
    "        label = 0\n",
    "        \n",
    "    return label\n",
    "\n",
    "results[\"score\"] = results.apply(lambda x: get_score(x[\"davemodel\"]) + get_score(x[\"vgg\"]) + get_score(x[\"vgg19\"]) + get_score(x[\"lenet\"]), axis = 1)\n",
    "\n",
    "results[\"label\"] = results.apply(lambda x: get_label(x[\"score\"]), axis = 1)\n"
   ]
  },
  {
   "cell_type": "code",
   "execution_count": 113,
   "metadata": {},
   "outputs": [
    {
     "data": {
      "text/plain": [
       "(6984, 75, 75, 3)"
      ]
     },
     "execution_count": 113,
     "metadata": {},
     "output_type": "execute_result"
    }
   ],
   "source": [
    "X_train_pseudo = X_test[results[\"label\"] >= 0]\n",
    "y_train_pseudo = results[results[\"label\"] >= 0][\"label\"]\n",
    "X_train_pseudo.shape"
   ]
  },
  {
   "cell_type": "code",
   "execution_count": 191,
   "metadata": {},
   "outputs": [],
   "source": [
    "ytr\n",
    "results[results[\"label\"] >= 0][\"label\"]\n",
    "\n",
    "y_train_pseudo = np.array(pd.get_dummies(results[results[\"label\"] >= 0][\"label\"]))\n",
    "# y_train_pseudo = np.zeros((6984, 2))\n",
    "y_train_pseudo\n",
    "results[results[\"label\"] >= 0][\"label\"]\n",
    "# results.iloc[0]\n",
    "# results[results[\"label\"] >= 0][\"label\"]\n",
    "\n",
    "test = []\n",
    "stuff = results[results[\"label\"] >= 0][\"label\"]\n",
    "\n",
    "for record in stuff:\n",
    "    if record == 0:\n",
    "        test.append([0., 1.])\n",
    "    elif record == 1:\n",
    "        test.append([1., 0.])\n",
    "\n",
    "y_train_pseudo = np.array(test)"
   ]
  },
  {
   "cell_type": "code",
   "execution_count": 192,
   "metadata": {},
   "outputs": [
    {
     "name": "stdout",
     "output_type": "stream",
     "text": [
      "(6984, 75, 75, 3)\n",
      "(6984, 2)\n",
      "(1283, 75, 75, 3)\n",
      "(1283, 2)\n"
     ]
    }
   ],
   "source": [
    "print(X_train_pseudo.shape)\n",
    "print(y_train_pseudo.shape)\n",
    "print(Xtr.shape)\n",
    "print(ytr.shape)"
   ]
  },
  {
   "cell_type": "code",
   "execution_count": 194,
   "metadata": {
    "collapsed": true
   },
   "outputs": [],
   "source": [
    "trainRunner = Trainer([\n",
    "    DaveModel(X_train_pseudo, y_train_pseudo, Xv, yv),\n",
    "    DaveVGG(X_train_pseudo, y_train_pseudo, Xv, yv),\n",
    "    DaveVGG19(X_train_pseudo, y_train_pseudo, Xv, yv),\n",
    "    LeNetModel(X_train_pseudo, y_train_pseudo, Xv, yv)\n",
    "])"
   ]
  },
  {
   "cell_type": "code",
   "execution_count": 195,
   "metadata": {
    "scrolled": false
   },
   "outputs": [
    {
     "name": "stdout",
     "output_type": "stream",
     "text": [
      "Model: davemodel\n",
      "Batch Size: 32\n",
      "Epochs: 50\n",
      "Epoch 1/50\n",
      "219/218 [==============================] - 11s - loss: 0.3113 - acc: 0.8499 - val_loss: 0.6549 - val_acc: 0.6542\n",
      "Epoch 2/50\n",
      "219/218 [==============================] - 10s - loss: 0.2277 - acc: 0.8975 - val_loss: 0.5179 - val_acc: 0.7414\n",
      "Epoch 3/50\n",
      "219/218 [==============================] - 10s - loss: 0.1926 - acc: 0.9168 - val_loss: 0.3576 - val_acc: 0.8131\n",
      "Epoch 4/50\n",
      "219/218 [==============================] - 9s - loss: 0.1707 - acc: 0.9249 - val_loss: 0.6313 - val_acc: 0.7072\n",
      "Epoch 5/50\n",
      "219/218 [==============================] - 9s - loss: 0.1644 - acc: 0.9292 - val_loss: 0.3107 - val_acc: 0.8692\n",
      "Epoch 6/50\n",
      "219/218 [==============================] - 9s - loss: 0.1519 - acc: 0.9349 - val_loss: 0.2900 - val_acc: 0.9003\n",
      "Epoch 7/50\n",
      "219/218 [==============================] - 9s - loss: 0.1464 - acc: 0.9368 - val_loss: 0.2867 - val_acc: 0.8847\n",
      "Epoch 8/50\n",
      "219/218 [==============================] - 9s - loss: 0.1456 - acc: 0.9398 - val_loss: 0.3225 - val_acc: 0.8505\n",
      "Epoch 9/50\n",
      "219/218 [==============================] - 9s - loss: 0.1302 - acc: 0.9466 - val_loss: 0.2601 - val_acc: 0.9034\n",
      "Epoch 10/50\n",
      "219/218 [==============================] - 10s - loss: 0.1299 - acc: 0.9463 - val_loss: 0.2868 - val_acc: 0.8941\n",
      "Epoch 11/50\n",
      "219/218 [==============================] - 9s - loss: 0.1285 - acc: 0.9463 - val_loss: 0.2925 - val_acc: 0.8910\n",
      "Epoch 12/50\n",
      "219/218 [==============================] - 10s - loss: 0.1271 - acc: 0.9505 - val_loss: 0.2669 - val_acc: 0.8879\n",
      "Epoch 13/50\n",
      "219/218 [==============================] - 9s - loss: 0.1221 - acc: 0.9489 - val_loss: 0.3140 - val_acc: 0.8692\n",
      "Epoch 14/50\n",
      "219/218 [==============================] - 9s - loss: 0.1220 - acc: 0.9489 - val_loss: 0.3376 - val_acc: 0.8567\n",
      "Epoch 15/50\n",
      "219/218 [==============================] - 9s - loss: 0.1167 - acc: 0.9492 - val_loss: 0.2533 - val_acc: 0.9065\n",
      "Epoch 16/50\n",
      "219/218 [==============================] - 9s - loss: 0.1129 - acc: 0.9551 - val_loss: 0.3607 - val_acc: 0.8505\n",
      "Epoch 17/50\n",
      "219/218 [==============================] - 9s - loss: 0.1083 - acc: 0.9555 - val_loss: 0.3179 - val_acc: 0.8754\n",
      "Epoch 18/50\n",
      "219/218 [==============================] - 9s - loss: 0.1017 - acc: 0.9592 - val_loss: 0.3226 - val_acc: 0.8692\n",
      "Epoch 19/50\n",
      "219/218 [==============================] - 10s - loss: 0.1083 - acc: 0.9538 - val_loss: 0.2977 - val_acc: 0.8972\n",
      "Epoch 20/50\n",
      "219/218 [==============================] - 10s - loss: 0.1044 - acc: 0.9552 - val_loss: 0.3268 - val_acc: 0.8598\n",
      "Epoch 21/50\n",
      "219/218 [==============================] - 9s - loss: 0.1070 - acc: 0.9568 - val_loss: 0.2810 - val_acc: 0.9065\n",
      "Epoch 22/50\n",
      "219/218 [==============================] - 10s - loss: 0.1018 - acc: 0.9573 - val_loss: 0.3289 - val_acc: 0.8816\n",
      "Epoch 23/50\n",
      "219/218 [==============================] - 10s - loss: 0.1008 - acc: 0.9570 - val_loss: 0.2809 - val_acc: 0.8910\n",
      "Epoch 24/50\n",
      "219/218 [==============================] - 10s - loss: 0.0967 - acc: 0.9598 - val_loss: 0.2601 - val_acc: 0.9159\n",
      "Epoch 25/50\n",
      "219/218 [==============================] - 10s - loss: 0.0968 - acc: 0.9605 - val_loss: 0.2861 - val_acc: 0.8879\n",
      "Epoch 26/50\n",
      "219/218 [==============================] - 9s - loss: 0.0943 - acc: 0.9626 - val_loss: 0.2776 - val_acc: 0.8847\n",
      "Epoch 27/50\n",
      "219/218 [==============================] - 10s - loss: 0.1010 - acc: 0.9572 - val_loss: 0.2637 - val_acc: 0.9128\n",
      "Epoch 28/50\n",
      "219/218 [==============================] - 10s - loss: 0.0906 - acc: 0.9625 - val_loss: 0.2682 - val_acc: 0.9034\n",
      "Epoch 29/50\n",
      "219/218 [==============================] - 10s - loss: 0.0973 - acc: 0.9592 - val_loss: 0.2621 - val_acc: 0.9097\n",
      "Epoch 30/50\n",
      "219/218 [==============================] - 9s - loss: 0.0916 - acc: 0.9628 - val_loss: 0.3335 - val_acc: 0.8910\n",
      "Epoch 31/50\n",
      "219/218 [==============================] - 10s - loss: 0.0945 - acc: 0.9642 - val_loss: 0.2451 - val_acc: 0.9065\n",
      "Epoch 32/50\n",
      "219/218 [==============================] - 9s - loss: 0.0905 - acc: 0.9628 - val_loss: 0.2523 - val_acc: 0.9065\n",
      "Epoch 33/50\n",
      "219/218 [==============================] - 9s - loss: 0.0941 - acc: 0.9609 - val_loss: 0.2915 - val_acc: 0.9065\n",
      "Epoch 34/50\n",
      "219/218 [==============================] - 10s - loss: 0.0917 - acc: 0.9648 - val_loss: 0.3134 - val_acc: 0.8910\n",
      "Epoch 35/50\n",
      "219/218 [==============================] - 10s - loss: 0.0872 - acc: 0.9649 - val_loss: 0.2688 - val_acc: 0.8941\n",
      "Epoch 36/50\n",
      "219/218 [==============================] - 10s - loss: 0.0849 - acc: 0.9652 - val_loss: 0.2726 - val_acc: 0.9034\n",
      "Epoch 37/50\n",
      "219/218 [==============================] - 10s - loss: 0.0916 - acc: 0.9623 - val_loss: 0.2237 - val_acc: 0.9221\n",
      "Epoch 38/50\n",
      "219/218 [==============================] - 9s - loss: 0.0852 - acc: 0.9622 - val_loss: 0.3632 - val_acc: 0.8754\n",
      "Epoch 39/50\n",
      "219/218 [==============================] - 9s - loss: 0.0835 - acc: 0.9670 - val_loss: 0.2667 - val_acc: 0.8972\n",
      "Epoch 40/50\n",
      "219/218 [==============================] - 10s - loss: 0.0842 - acc: 0.9665 - val_loss: 0.3026 - val_acc: 0.9003\n",
      "Epoch 41/50\n",
      "219/218 [==============================] - 9s - loss: 0.0883 - acc: 0.9658 - val_loss: 0.3061 - val_acc: 0.8847\n",
      "Epoch 42/50\n",
      "219/218 [==============================] - 10s - loss: 0.0832 - acc: 0.9660 - val_loss: 0.3042 - val_acc: 0.8879\n",
      "Epoch 43/50\n",
      "219/218 [==============================] - 10s - loss: 0.0841 - acc: 0.9669 - val_loss: 0.2841 - val_acc: 0.9034\n",
      "Epoch 44/50\n",
      "219/218 [==============================] - 10s - loss: 0.0813 - acc: 0.9678 - val_loss: 0.2547 - val_acc: 0.9159\n",
      "Epoch 45/50\n",
      "219/218 [==============================] - 10s - loss: 0.0813 - acc: 0.9675 - val_loss: 0.3318 - val_acc: 0.8941\n",
      "Epoch 46/50\n",
      "219/218 [==============================] - 10s - loss: 0.0775 - acc: 0.9690 - val_loss: 0.2848 - val_acc: 0.9128\n",
      "Epoch 47/50\n",
      "219/218 [==============================] - 10s - loss: 0.0721 - acc: 0.9710 - val_loss: 0.4464 - val_acc: 0.8598\n",
      "Epoch 48/50\n",
      "219/218 [==============================] - 10s - loss: 0.0758 - acc: 0.9693 - val_loss: 0.3503 - val_acc: 0.8816\n",
      "Epoch 49/50\n",
      "219/218 [==============================] - 9s - loss: 0.0830 - acc: 0.9680 - val_loss: 0.3116 - val_acc: 0.9003\n",
      "Epoch 50/50\n",
      "219/218 [==============================] - 10s - loss: 0.0732 - acc: 0.9702 - val_loss: 0.3053 - val_acc: 0.8972\n",
      "Model: vgg\n",
      "Batch Size: 32\n",
      "Epochs: 50\n",
      "Epoch 1/50\n",
      "219/218 [==============================] - 32s - loss: 0.5213 - acc: 0.7553 - val_loss: 0.5962 - val_acc: 0.6480\n",
      "Epoch 2/50\n",
      "219/218 [==============================] - 30s - loss: 0.3864 - acc: 0.8095 - val_loss: 0.5689 - val_acc: 0.6417\n",
      "Epoch 3/50\n",
      "219/218 [==============================] - 30s - loss: 0.3484 - acc: 0.8313 - val_loss: 0.5572 - val_acc: 0.6698\n",
      "Epoch 4/50\n",
      "219/218 [==============================] - 30s - loss: 0.3432 - acc: 0.8302 - val_loss: 0.5732 - val_acc: 0.6667\n",
      "Epoch 5/50\n",
      "219/218 [==============================] - 30s - loss: 0.3099 - acc: 0.8610 - val_loss: 0.6590 - val_acc: 0.6106\n",
      "Epoch 6/50\n",
      "219/218 [==============================] - 31s - loss: 0.2580 - acc: 0.8841 - val_loss: 0.5115 - val_acc: 0.7726\n",
      "Epoch 7/50\n",
      "219/218 [==============================] - 31s - loss: 0.2216 - acc: 0.9043 - val_loss: 0.3608 - val_acc: 0.8847\n",
      "Epoch 8/50\n",
      "219/218 [==============================] - 31s - loss: 0.1976 - acc: 0.9167 - val_loss: 0.5537 - val_acc: 0.7321\n",
      "Epoch 9/50\n",
      "219/218 [==============================] - 31s - loss: 0.1853 - acc: 0.9235 - val_loss: 0.3453 - val_acc: 0.8660\n",
      "Epoch 10/50\n",
      "219/218 [==============================] - 31s - loss: 0.1715 - acc: 0.9312 - val_loss: 0.4172 - val_acc: 0.8318\n",
      "Epoch 11/50\n",
      "219/218 [==============================] - 31s - loss: 0.1730 - acc: 0.9304 - val_loss: 0.3422 - val_acc: 0.8692\n",
      "Epoch 12/50\n",
      "219/218 [==============================] - 30s - loss: 0.1635 - acc: 0.9339 - val_loss: 0.2936 - val_acc: 0.9003\n",
      "Epoch 13/50\n",
      "219/218 [==============================] - 30s - loss: 0.1535 - acc: 0.9428 - val_loss: 0.2937 - val_acc: 0.8910\n",
      "Epoch 14/50\n",
      "219/218 [==============================] - 31s - loss: 0.1573 - acc: 0.9385 - val_loss: 0.2857 - val_acc: 0.8567\n",
      "Epoch 15/50\n",
      "219/218 [==============================] - 31s - loss: 0.1472 - acc: 0.9426 - val_loss: 0.3673 - val_acc: 0.8660\n",
      "Epoch 16/50\n"
     ]
    },
    {
     "name": "stdout",
     "output_type": "stream",
     "text": [
      "219/218 [==============================] - 31s - loss: 0.1538 - acc: 0.9382 - val_loss: 0.3215 - val_acc: 0.8941\n",
      "Epoch 17/50\n",
      "219/218 [==============================] - 31s - loss: 0.1422 - acc: 0.9431 - val_loss: 0.3080 - val_acc: 0.8660\n",
      "Epoch 18/50\n",
      "219/218 [==============================] - 31s - loss: 0.1290 - acc: 0.9472 - val_loss: 0.2846 - val_acc: 0.9065\n",
      "Epoch 19/50\n",
      "219/218 [==============================] - 31s - loss: 0.1256 - acc: 0.9502 - val_loss: 0.3326 - val_acc: 0.8910\n",
      "Epoch 20/50\n",
      "219/218 [==============================] - 31s - loss: 0.1275 - acc: 0.9501 - val_loss: 0.3528 - val_acc: 0.8785\n",
      "Epoch 21/50\n",
      "219/218 [==============================] - 31s - loss: 0.1233 - acc: 0.9528 - val_loss: 0.3825 - val_acc: 0.8723\n",
      "Epoch 22/50\n",
      "219/218 [==============================] - 31s - loss: 0.1298 - acc: 0.9498 - val_loss: 0.4606 - val_acc: 0.8692\n",
      "Epoch 23/50\n",
      "219/218 [==============================] - 31s - loss: 0.1210 - acc: 0.9539 - val_loss: 0.3470 - val_acc: 0.8972\n",
      "Epoch 24/50\n",
      "219/218 [==============================] - 31s - loss: 0.1108 - acc: 0.9569 - val_loss: 0.3528 - val_acc: 0.9097\n",
      "Epoch 25/50\n",
      "219/218 [==============================] - 31s - loss: 0.1231 - acc: 0.9526 - val_loss: 0.3616 - val_acc: 0.8972\n",
      "Epoch 26/50\n",
      "219/218 [==============================] - 31s - loss: 0.1304 - acc: 0.9482 - val_loss: 0.3238 - val_acc: 0.9034\n",
      "Epoch 27/50\n",
      "219/218 [==============================] - 31s - loss: 0.1094 - acc: 0.9570 - val_loss: 0.3642 - val_acc: 0.9034\n",
      "Epoch 28/50\n",
      "219/218 [==============================] - 31s - loss: 0.1154 - acc: 0.9555 - val_loss: 0.3146 - val_acc: 0.9097\n",
      "Epoch 29/50\n",
      "219/218 [==============================] - 30s - loss: 0.1091 - acc: 0.9556 - val_loss: 0.4045 - val_acc: 0.8879\n",
      "Epoch 30/50\n",
      "219/218 [==============================] - 31s - loss: 0.1150 - acc: 0.9568 - val_loss: 0.2982 - val_acc: 0.8692\n",
      "Epoch 31/50\n",
      "219/218 [==============================] - 31s - loss: 0.1144 - acc: 0.9528 - val_loss: 0.3838 - val_acc: 0.9003\n",
      "Epoch 32/50\n",
      "219/218 [==============================] - 31s - loss: 0.0994 - acc: 0.9600 - val_loss: 0.3911 - val_acc: 0.8816\n",
      "Epoch 33/50\n",
      "134/218 [=================>............] - ETA: 12s - loss: 0.1085 - acc: 0.9531"
     ]
    },
    {
     "ename": "KeyboardInterrupt",
     "evalue": "",
     "output_type": "error",
     "traceback": [
      "\u001b[1;31m---------------------------------------------------------------------------\u001b[0m",
      "\u001b[1;31mKeyboardInterrupt\u001b[0m                         Traceback (most recent call last)",
      "\u001b[1;32m<ipython-input-195-f4ab345a92d2>\u001b[0m in \u001b[0;36m<module>\u001b[1;34m()\u001b[0m\n\u001b[1;32m----> 1\u001b[1;33m \u001b[0mtrainRunner\u001b[0m\u001b[1;33m.\u001b[0m\u001b[0mtrain\u001b[0m\u001b[1;33m(\u001b[0m\u001b[0mepoch\u001b[0m \u001b[1;33m=\u001b[0m \u001b[1;36m50\u001b[0m\u001b[1;33m)\u001b[0m\u001b[1;33m\u001b[0m\u001b[0m\n\u001b[0m",
      "\u001b[1;32mD:\\_GithubTest\\MachineLearning\\Kaggle\\Statoil C-CORE Iceberg Classifier\\trainer.py\u001b[0m in \u001b[0;36mtrain\u001b[1;34m(self, batch_size, epoch, saveMe)\u001b[0m\n\u001b[0;32m      6\u001b[0m     \u001b[1;32mdef\u001b[0m \u001b[0mtrain\u001b[0m\u001b[1;33m(\u001b[0m\u001b[0mself\u001b[0m\u001b[1;33m,\u001b[0m \u001b[0mbatch_size\u001b[0m \u001b[1;33m=\u001b[0m \u001b[1;36m32\u001b[0m\u001b[1;33m,\u001b[0m \u001b[0mepoch\u001b[0m \u001b[1;33m=\u001b[0m \u001b[1;36m80\u001b[0m\u001b[1;33m,\u001b[0m \u001b[0msaveMe\u001b[0m \u001b[1;33m=\u001b[0m \u001b[1;32mTrue\u001b[0m\u001b[1;33m)\u001b[0m\u001b[1;33m:\u001b[0m\u001b[1;33m\u001b[0m\u001b[0m\n\u001b[0;32m      7\u001b[0m         \u001b[1;32mfor\u001b[0m \u001b[0mmodel\u001b[0m \u001b[1;32min\u001b[0m \u001b[0mself\u001b[0m\u001b[1;33m.\u001b[0m\u001b[0mmodels\u001b[0m\u001b[1;33m:\u001b[0m\u001b[1;33m\u001b[0m\u001b[0m\n\u001b[1;32m----> 8\u001b[1;33m             \u001b[0mmodel\u001b[0m\u001b[1;33m.\u001b[0m\u001b[0mtrain\u001b[0m\u001b[1;33m(\u001b[0m\u001b[0mbatch_size\u001b[0m\u001b[1;33m,\u001b[0m \u001b[0mepoch\u001b[0m\u001b[1;33m,\u001b[0m \u001b[0msaveMe\u001b[0m\u001b[1;33m)\u001b[0m\u001b[1;33m\u001b[0m\u001b[0m\n\u001b[0m\u001b[0;32m      9\u001b[0m \u001b[1;33m\u001b[0m\u001b[0m\n\u001b[0;32m     10\u001b[0m     \u001b[1;32mdef\u001b[0m \u001b[0mpredict\u001b[0m\u001b[1;33m(\u001b[0m\u001b[0mself\u001b[0m\u001b[1;33m,\u001b[0m \u001b[0mX_test\u001b[0m\u001b[1;33m)\u001b[0m\u001b[1;33m:\u001b[0m\u001b[1;33m\u001b[0m\u001b[0m\n",
      "\u001b[1;32mD:\\_GithubTest\\MachineLearning\\Kaggle\\Statoil C-CORE Iceberg Classifier\\models.py\u001b[0m in \u001b[0;36mtrain\u001b[1;34m(self, batch_size, epochs, saveModel)\u001b[0m\n\u001b[0;32m     40\u001b[0m                          \u001b[0mepochs\u001b[0m\u001b[1;33m=\u001b[0m\u001b[0mself\u001b[0m\u001b[1;33m.\u001b[0m\u001b[0mepochs\u001b[0m\u001b[1;33m,\u001b[0m\u001b[1;33m\u001b[0m\u001b[0m\n\u001b[0;32m     41\u001b[0m                          \u001b[0mvalidation_data\u001b[0m\u001b[1;33m=\u001b[0m\u001b[0mself\u001b[0m\u001b[1;33m.\u001b[0m\u001b[0mval_gen\u001b[0m\u001b[1;33m.\u001b[0m\u001b[0mflow\u001b[0m\u001b[1;33m(\u001b[0m\u001b[0mself\u001b[0m\u001b[1;33m.\u001b[0m\u001b[0mXv\u001b[0m\u001b[1;33m,\u001b[0m \u001b[0mself\u001b[0m\u001b[1;33m.\u001b[0m\u001b[0myv\u001b[0m\u001b[1;33m,\u001b[0m \u001b[0mbatch_size\u001b[0m\u001b[1;33m=\u001b[0m\u001b[0mself\u001b[0m\u001b[1;33m.\u001b[0m\u001b[0mbatch_size\u001b[0m\u001b[1;33m,\u001b[0m \u001b[0mshuffle\u001b[0m\u001b[1;33m=\u001b[0m\u001b[1;32mFalse\u001b[0m\u001b[1;33m)\u001b[0m\u001b[1;33m,\u001b[0m\u001b[1;33m\u001b[0m\u001b[0m\n\u001b[1;32m---> 42\u001b[1;33m                          validation_steps = len(self.Xv) / self.batch_size)\n\u001b[0m\u001b[0;32m     43\u001b[0m \u001b[1;33m\u001b[0m\u001b[0m\n\u001b[0;32m     44\u001b[0m         \u001b[0mself\u001b[0m\u001b[1;33m.\u001b[0m\u001b[0mhistory\u001b[0m \u001b[1;33m=\u001b[0m \u001b[0mhistory\u001b[0m\u001b[1;33m.\u001b[0m\u001b[0mhistory\u001b[0m\u001b[1;33m\u001b[0m\u001b[0m\n",
      "\u001b[1;32m~\\Anaconda3\\envs\\tensorflow-gpu\\lib\\site-packages\\keras\\legacy\\interfaces.py\u001b[0m in \u001b[0;36mwrapper\u001b[1;34m(*args, **kwargs)\u001b[0m\n\u001b[0;32m     85\u001b[0m                 warnings.warn('Update your `' + object_name +\n\u001b[0;32m     86\u001b[0m                               '` call to the Keras 2 API: ' + signature, stacklevel=2)\n\u001b[1;32m---> 87\u001b[1;33m             \u001b[1;32mreturn\u001b[0m \u001b[0mfunc\u001b[0m\u001b[1;33m(\u001b[0m\u001b[1;33m*\u001b[0m\u001b[0margs\u001b[0m\u001b[1;33m,\u001b[0m \u001b[1;33m**\u001b[0m\u001b[0mkwargs\u001b[0m\u001b[1;33m)\u001b[0m\u001b[1;33m\u001b[0m\u001b[0m\n\u001b[0m\u001b[0;32m     88\u001b[0m         \u001b[0mwrapper\u001b[0m\u001b[1;33m.\u001b[0m\u001b[0m_original_function\u001b[0m \u001b[1;33m=\u001b[0m \u001b[0mfunc\u001b[0m\u001b[1;33m\u001b[0m\u001b[0m\n\u001b[0;32m     89\u001b[0m         \u001b[1;32mreturn\u001b[0m \u001b[0mwrapper\u001b[0m\u001b[1;33m\u001b[0m\u001b[0m\n",
      "\u001b[1;32m~\\Anaconda3\\envs\\tensorflow-gpu\\lib\\site-packages\\keras\\engine\\training.py\u001b[0m in \u001b[0;36mfit_generator\u001b[1;34m(self, generator, steps_per_epoch, epochs, verbose, callbacks, validation_data, validation_steps, class_weight, max_queue_size, workers, use_multiprocessing, initial_epoch)\u001b[0m\n\u001b[0;32m   1838\u001b[0m                     outs = self.train_on_batch(x, y,\n\u001b[0;32m   1839\u001b[0m                                                \u001b[0msample_weight\u001b[0m\u001b[1;33m=\u001b[0m\u001b[0msample_weight\u001b[0m\u001b[1;33m,\u001b[0m\u001b[1;33m\u001b[0m\u001b[0m\n\u001b[1;32m-> 1840\u001b[1;33m                                                class_weight=class_weight)\n\u001b[0m\u001b[0;32m   1841\u001b[0m \u001b[1;33m\u001b[0m\u001b[0m\n\u001b[0;32m   1842\u001b[0m                     \u001b[1;32mif\u001b[0m \u001b[1;32mnot\u001b[0m \u001b[0misinstance\u001b[0m\u001b[1;33m(\u001b[0m\u001b[0mouts\u001b[0m\u001b[1;33m,\u001b[0m \u001b[0mlist\u001b[0m\u001b[1;33m)\u001b[0m\u001b[1;33m:\u001b[0m\u001b[1;33m\u001b[0m\u001b[0m\n",
      "\u001b[1;32m~\\Anaconda3\\envs\\tensorflow-gpu\\lib\\site-packages\\keras\\engine\\training.py\u001b[0m in \u001b[0;36mtrain_on_batch\u001b[1;34m(self, x, y, sample_weight, class_weight)\u001b[0m\n\u001b[0;32m   1563\u001b[0m             \u001b[0mins\u001b[0m \u001b[1;33m=\u001b[0m \u001b[0mx\u001b[0m \u001b[1;33m+\u001b[0m \u001b[0my\u001b[0m \u001b[1;33m+\u001b[0m \u001b[0msample_weights\u001b[0m\u001b[1;33m\u001b[0m\u001b[0m\n\u001b[0;32m   1564\u001b[0m         \u001b[0mself\u001b[0m\u001b[1;33m.\u001b[0m\u001b[0m_make_train_function\u001b[0m\u001b[1;33m(\u001b[0m\u001b[1;33m)\u001b[0m\u001b[1;33m\u001b[0m\u001b[0m\n\u001b[1;32m-> 1565\u001b[1;33m         \u001b[0moutputs\u001b[0m \u001b[1;33m=\u001b[0m \u001b[0mself\u001b[0m\u001b[1;33m.\u001b[0m\u001b[0mtrain_function\u001b[0m\u001b[1;33m(\u001b[0m\u001b[0mins\u001b[0m\u001b[1;33m)\u001b[0m\u001b[1;33m\u001b[0m\u001b[0m\n\u001b[0m\u001b[0;32m   1566\u001b[0m         \u001b[1;32mif\u001b[0m \u001b[0mlen\u001b[0m\u001b[1;33m(\u001b[0m\u001b[0moutputs\u001b[0m\u001b[1;33m)\u001b[0m \u001b[1;33m==\u001b[0m \u001b[1;36m1\u001b[0m\u001b[1;33m:\u001b[0m\u001b[1;33m\u001b[0m\u001b[0m\n\u001b[0;32m   1567\u001b[0m             \u001b[1;32mreturn\u001b[0m \u001b[0moutputs\u001b[0m\u001b[1;33m[\u001b[0m\u001b[1;36m0\u001b[0m\u001b[1;33m]\u001b[0m\u001b[1;33m\u001b[0m\u001b[0m\n",
      "\u001b[1;32m~\\Anaconda3\\envs\\tensorflow-gpu\\lib\\site-packages\\keras\\backend\\tensorflow_backend.py\u001b[0m in \u001b[0;36m__call__\u001b[1;34m(self, inputs)\u001b[0m\n\u001b[0;32m   2266\u001b[0m         updated = session.run(self.outputs + [self.updates_op],\n\u001b[0;32m   2267\u001b[0m                               \u001b[0mfeed_dict\u001b[0m\u001b[1;33m=\u001b[0m\u001b[0mfeed_dict\u001b[0m\u001b[1;33m,\u001b[0m\u001b[1;33m\u001b[0m\u001b[0m\n\u001b[1;32m-> 2268\u001b[1;33m                               **self.session_kwargs)\n\u001b[0m\u001b[0;32m   2269\u001b[0m         \u001b[1;32mreturn\u001b[0m \u001b[0mupdated\u001b[0m\u001b[1;33m[\u001b[0m\u001b[1;33m:\u001b[0m\u001b[0mlen\u001b[0m\u001b[1;33m(\u001b[0m\u001b[0mself\u001b[0m\u001b[1;33m.\u001b[0m\u001b[0moutputs\u001b[0m\u001b[1;33m)\u001b[0m\u001b[1;33m]\u001b[0m\u001b[1;33m\u001b[0m\u001b[0m\n\u001b[0;32m   2270\u001b[0m \u001b[1;33m\u001b[0m\u001b[0m\n",
      "\u001b[1;32m~\\Anaconda3\\envs\\tensorflow-gpu\\lib\\site-packages\\tensorflow\\python\\client\\session.py\u001b[0m in \u001b[0;36mrun\u001b[1;34m(self, fetches, feed_dict, options, run_metadata)\u001b[0m\n\u001b[0;32m    787\u001b[0m     \u001b[1;32mtry\u001b[0m\u001b[1;33m:\u001b[0m\u001b[1;33m\u001b[0m\u001b[0m\n\u001b[0;32m    788\u001b[0m       result = self._run(None, fetches, feed_dict, options_ptr,\n\u001b[1;32m--> 789\u001b[1;33m                          run_metadata_ptr)\n\u001b[0m\u001b[0;32m    790\u001b[0m       \u001b[1;32mif\u001b[0m \u001b[0mrun_metadata\u001b[0m\u001b[1;33m:\u001b[0m\u001b[1;33m\u001b[0m\u001b[0m\n\u001b[0;32m    791\u001b[0m         \u001b[0mproto_data\u001b[0m \u001b[1;33m=\u001b[0m \u001b[0mtf_session\u001b[0m\u001b[1;33m.\u001b[0m\u001b[0mTF_GetBuffer\u001b[0m\u001b[1;33m(\u001b[0m\u001b[0mrun_metadata_ptr\u001b[0m\u001b[1;33m)\u001b[0m\u001b[1;33m\u001b[0m\u001b[0m\n",
      "\u001b[1;32m~\\Anaconda3\\envs\\tensorflow-gpu\\lib\\site-packages\\tensorflow\\python\\client\\session.py\u001b[0m in \u001b[0;36m_run\u001b[1;34m(self, handle, fetches, feed_dict, options, run_metadata)\u001b[0m\n\u001b[0;32m    995\u001b[0m     \u001b[1;32mif\u001b[0m \u001b[0mfinal_fetches\u001b[0m \u001b[1;32mor\u001b[0m \u001b[0mfinal_targets\u001b[0m\u001b[1;33m:\u001b[0m\u001b[1;33m\u001b[0m\u001b[0m\n\u001b[0;32m    996\u001b[0m       results = self._do_run(handle, final_targets, final_fetches,\n\u001b[1;32m--> 997\u001b[1;33m                              feed_dict_string, options, run_metadata)\n\u001b[0m\u001b[0;32m    998\u001b[0m     \u001b[1;32melse\u001b[0m\u001b[1;33m:\u001b[0m\u001b[1;33m\u001b[0m\u001b[0m\n\u001b[0;32m    999\u001b[0m       \u001b[0mresults\u001b[0m \u001b[1;33m=\u001b[0m \u001b[1;33m[\u001b[0m\u001b[1;33m]\u001b[0m\u001b[1;33m\u001b[0m\u001b[0m\n",
      "\u001b[1;32m~\\Anaconda3\\envs\\tensorflow-gpu\\lib\\site-packages\\tensorflow\\python\\client\\session.py\u001b[0m in \u001b[0;36m_do_run\u001b[1;34m(self, handle, target_list, fetch_list, feed_dict, options, run_metadata)\u001b[0m\n\u001b[0;32m   1130\u001b[0m     \u001b[1;32mif\u001b[0m \u001b[0mhandle\u001b[0m \u001b[1;32mis\u001b[0m \u001b[1;32mNone\u001b[0m\u001b[1;33m:\u001b[0m\u001b[1;33m\u001b[0m\u001b[0m\n\u001b[0;32m   1131\u001b[0m       return self._do_call(_run_fn, self._session, feed_dict, fetch_list,\n\u001b[1;32m-> 1132\u001b[1;33m                            target_list, options, run_metadata)\n\u001b[0m\u001b[0;32m   1133\u001b[0m     \u001b[1;32melse\u001b[0m\u001b[1;33m:\u001b[0m\u001b[1;33m\u001b[0m\u001b[0m\n\u001b[0;32m   1134\u001b[0m       return self._do_call(_prun_fn, self._session, handle, feed_dict,\n",
      "\u001b[1;32m~\\Anaconda3\\envs\\tensorflow-gpu\\lib\\site-packages\\tensorflow\\python\\client\\session.py\u001b[0m in \u001b[0;36m_do_call\u001b[1;34m(self, fn, *args)\u001b[0m\n\u001b[0;32m   1137\u001b[0m   \u001b[1;32mdef\u001b[0m \u001b[0m_do_call\u001b[0m\u001b[1;33m(\u001b[0m\u001b[0mself\u001b[0m\u001b[1;33m,\u001b[0m \u001b[0mfn\u001b[0m\u001b[1;33m,\u001b[0m \u001b[1;33m*\u001b[0m\u001b[0margs\u001b[0m\u001b[1;33m)\u001b[0m\u001b[1;33m:\u001b[0m\u001b[1;33m\u001b[0m\u001b[0m\n\u001b[0;32m   1138\u001b[0m     \u001b[1;32mtry\u001b[0m\u001b[1;33m:\u001b[0m\u001b[1;33m\u001b[0m\u001b[0m\n\u001b[1;32m-> 1139\u001b[1;33m       \u001b[1;32mreturn\u001b[0m \u001b[0mfn\u001b[0m\u001b[1;33m(\u001b[0m\u001b[1;33m*\u001b[0m\u001b[0margs\u001b[0m\u001b[1;33m)\u001b[0m\u001b[1;33m\u001b[0m\u001b[0m\n\u001b[0m\u001b[0;32m   1140\u001b[0m     \u001b[1;32mexcept\u001b[0m \u001b[0merrors\u001b[0m\u001b[1;33m.\u001b[0m\u001b[0mOpError\u001b[0m \u001b[1;32mas\u001b[0m \u001b[0me\u001b[0m\u001b[1;33m:\u001b[0m\u001b[1;33m\u001b[0m\u001b[0m\n\u001b[0;32m   1141\u001b[0m       \u001b[0mmessage\u001b[0m \u001b[1;33m=\u001b[0m \u001b[0mcompat\u001b[0m\u001b[1;33m.\u001b[0m\u001b[0mas_text\u001b[0m\u001b[1;33m(\u001b[0m\u001b[0me\u001b[0m\u001b[1;33m.\u001b[0m\u001b[0mmessage\u001b[0m\u001b[1;33m)\u001b[0m\u001b[1;33m\u001b[0m\u001b[0m\n",
      "\u001b[1;32m~\\Anaconda3\\envs\\tensorflow-gpu\\lib\\site-packages\\tensorflow\\python\\client\\session.py\u001b[0m in \u001b[0;36m_run_fn\u001b[1;34m(session, feed_dict, fetch_list, target_list, options, run_metadata)\u001b[0m\n\u001b[0;32m   1119\u001b[0m         return tf_session.TF_Run(session, options,\n\u001b[0;32m   1120\u001b[0m                                  \u001b[0mfeed_dict\u001b[0m\u001b[1;33m,\u001b[0m \u001b[0mfetch_list\u001b[0m\u001b[1;33m,\u001b[0m \u001b[0mtarget_list\u001b[0m\u001b[1;33m,\u001b[0m\u001b[1;33m\u001b[0m\u001b[0m\n\u001b[1;32m-> 1121\u001b[1;33m                                  status, run_metadata)\n\u001b[0m\u001b[0;32m   1122\u001b[0m \u001b[1;33m\u001b[0m\u001b[0m\n\u001b[0;32m   1123\u001b[0m     \u001b[1;32mdef\u001b[0m \u001b[0m_prun_fn\u001b[0m\u001b[1;33m(\u001b[0m\u001b[0msession\u001b[0m\u001b[1;33m,\u001b[0m \u001b[0mhandle\u001b[0m\u001b[1;33m,\u001b[0m \u001b[0mfeed_dict\u001b[0m\u001b[1;33m,\u001b[0m \u001b[0mfetch_list\u001b[0m\u001b[1;33m)\u001b[0m\u001b[1;33m:\u001b[0m\u001b[1;33m\u001b[0m\u001b[0m\n",
      "\u001b[1;31mKeyboardInterrupt\u001b[0m: "
     ]
    }
   ],
   "source": [
    "trainRunner.train(epoch = 50)"
   ]
  },
  {
   "cell_type": "code",
   "execution_count": null,
   "metadata": {
    "collapsed": true
   },
   "outputs": [],
   "source": []
  }
 ],
 "metadata": {
  "kernelspec": {
   "display_name": "Python 3",
   "language": "python",
   "name": "python3"
  },
  "language_info": {
   "codemirror_mode": {
    "name": "ipython",
    "version": 3
   },
   "file_extension": ".py",
   "mimetype": "text/x-python",
   "name": "python",
   "nbconvert_exporter": "python",
   "pygments_lexer": "ipython3",
   "version": "3.5.2"
  }
 },
 "nbformat": 4,
 "nbformat_minor": 2
}
