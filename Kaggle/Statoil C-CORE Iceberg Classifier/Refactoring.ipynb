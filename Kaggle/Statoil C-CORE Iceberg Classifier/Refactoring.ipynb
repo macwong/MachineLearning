{
 "cells": [
  {
   "cell_type": "code",
   "execution_count": 19,
   "metadata": {},
   "outputs": [
    {
     "name": "stdout",
     "output_type": "stream",
     "text": [
      "The autoreload extension is already loaded. To reload it, use:\n",
      "  %reload_ext autoreload\n"
     ]
    }
   ],
   "source": [
    "%load_ext autoreload\n",
    "%autoreload 2\n",
    "\n",
    "import numpy as np # linear algebra\n",
    "import pandas as pd # data processing, CSV file I/O (e.g. pd.read_csv)\n",
    "import pdb\n",
    "from sklearn.model_selection import train_test_split\n",
    "from keras.utils.np_utils import to_categorical\n",
    "from keras import backend as K\n",
    "from matplotlib import pyplot as plt\n",
    "%matplotlib inline\n",
    "import scipy\n",
    "from scipy import misc, ndimage\n",
    "from scipy.ndimage.interpolation import zoom\n",
    "from scipy.ndimage import imread\n",
    "import helpers\n",
    "from models import DaveModel, DaveVGG, DaveVGG19, SimpleModel, LeNetModel\n",
    "from trainer import Trainer\n",
    "from labeller import PseudoLabeller"
   ]
  },
  {
   "cell_type": "code",
   "execution_count": 2,
   "metadata": {
    "collapsed": true
   },
   "outputs": [],
   "source": [
    "train = pd.read_json(\"_RawData/train.json/data/processed/train.json\")\n",
    "test = pd.read_json(\"_RawData/test.json/data/processed/test.json\")\n",
    "\n",
    "X = helpers.get_images(train)\n",
    "X_test = helpers.get_images(test)\n",
    "\n",
    "y = to_categorical(train.is_iceberg.values,num_classes=2)\n",
    "\n",
    "ids = test[\"id\"]"
   ]
  },
  {
   "cell_type": "code",
   "execution_count": 23,
   "metadata": {
    "collapsed": true
   },
   "outputs": [],
   "source": [
    "trainRunner = Trainer(ids, X, y, X_test, [\n",
    "    DaveModel(ids),\n",
    "    DaveVGG(ids),\n",
    "    DaveVGG19(ids),\n",
    "    LeNetModel(ids)\n",
    "])"
   ]
  },
  {
   "cell_type": "code",
   "execution_count": 24,
   "metadata": {},
   "outputs": [
    {
     "name": "stdout",
     "output_type": "stream",
     "text": [
      "\n",
      "\n",
      "================================================\n",
      "Model: davemodel\n",
      "Batch Size: 32\n",
      "Epochs: 1\n",
      "Epoch 1/1\n",
      "41/40 [==============================] - 3s - loss: 0.5900 - acc: 0.6905 - val_loss: 0.6615 - val_acc: 0.6573\n",
      "\n",
      "\n",
      "================================================\n",
      "Model: vgg\n",
      "Batch Size: 32\n",
      "Epochs: 1\n",
      "Epoch 1/1\n",
      "41/40 [==============================] - 7s - loss: 0.6941 - acc: 0.5631 - val_loss: 0.6869 - val_acc: 0.6573\n",
      "\n",
      "\n",
      "================================================\n",
      "Model: vgg19\n",
      "Batch Size: 32\n",
      "Epochs: 1\n",
      "Epoch 1/1\n",
      "41/40 [==============================] - 7s - loss: 0.6860 - acc: 0.5589 - val_loss: 0.7280 - val_acc: 0.5919\n",
      "\n",
      "\n",
      "================================================\n",
      "Model: lenet\n",
      "Batch Size: 32\n",
      "Epochs: 1\n",
      "Epoch 1/1\n",
      "41/40 [==============================] - 4s - loss: 0.6515 - acc: 0.6138 - val_loss: 0.5804 - val_acc: 0.6729\n",
      "davemodel\n",
      "vgg\n",
      "vgg19\n",
      "lenet\n",
      "      davemodel       vgg     vgg19     lenet\n",
      "0      0.551755  0.510289  0.244644  0.428729\n",
      "1      0.549825  0.510284  0.351416  0.633797\n",
      "2      0.567553  0.510288  0.536220  0.915371\n",
      "3      0.549922  0.510322  0.545917  0.552448\n",
      "4      0.550571  0.510288  0.538486  0.801753\n",
      "5      0.553152  0.510322  0.465313  0.551165\n",
      "6      0.556170  0.510319  0.543129  0.568605\n",
      "7      0.549017  0.510311  0.379246  0.418413\n",
      "8      0.564719  0.510324  0.542371  0.686537\n",
      "9      0.565349  0.510313  0.534481  0.759206\n",
      "10     0.569082  0.510322  0.536045  0.930691\n",
      "11     0.553112  0.510298  0.442186  0.602359\n",
      "12     0.563846  0.510342  0.553643  0.740052\n",
      "13     0.543178  0.510292  0.544625  0.800442\n",
      "14     0.556868  0.510352  0.556339  0.669526\n",
      "15     0.564821  0.510336  0.550257  0.688568\n",
      "16     0.562565  0.510299  0.538389  0.889956\n",
      "17     0.556231  0.510278  0.536751  0.735726\n",
      "18     0.561160  0.510346  0.553668  0.697263\n",
      "19     0.549884  0.510286  0.247342  0.475193\n",
      "20     0.553216  0.510295  0.389463  0.614045\n",
      "21     0.552139  0.510296  0.324769  0.500173\n",
      "22     0.557980  0.510327  0.544534  0.576431\n",
      "23     0.547881  0.510308  0.541202  0.686762\n",
      "24     0.565025  0.510315  0.542873  0.633479\n",
      "25     0.566119  0.510291  0.530498  0.646482\n",
      "26     0.550447  0.510295  0.300309  0.476819\n",
      "27     0.561285  0.510284  0.512127  0.626148\n",
      "28     0.552423  0.510299  0.524510  0.689866\n",
      "29     0.554551  0.510324  0.546118  0.535139\n",
      "...         ...       ...       ...       ...\n",
      "8394   0.558923  0.510322  0.541005  0.563308\n",
      "8395   0.558282  0.510318  0.539691  0.554655\n",
      "8396   0.563818  0.510294  0.536817  0.920808\n",
      "8397   0.543349  0.510296  0.546865  0.804484\n",
      "8398   0.551344  0.510294  0.541869  0.779389\n",
      "8399   0.557627  0.510335  0.546412  0.590852\n",
      "8400   0.557376  0.510320  0.539083  0.680916\n",
      "8401   0.565974  0.510341  0.554156  0.759496\n",
      "8402   0.552968  0.510296  0.542274  0.825514\n",
      "8403   0.551278  0.510280  0.528281  0.759626\n",
      "8404   0.554572  0.510283  0.511743  0.718843\n",
      "8405   0.562408  0.510351  0.556534  0.807328\n",
      "8406   0.566281  0.510328  0.543728  0.698221\n",
      "8407   0.561126  0.510344  0.553690  0.729540\n",
      "8408   0.559622  0.510279  0.538124  0.834828\n",
      "8409   0.559415  0.510309  0.543108  0.480549\n",
      "8410   0.564364  0.510328  0.542461  0.684654\n",
      "8411   0.560776  0.510312  0.538455  0.536760\n",
      "8412   0.555140  0.510300  0.391120  0.431629\n",
      "8413   0.559552  0.510297  0.470780  0.520729\n",
      "8414   0.565699  0.510306  0.529983  0.584474\n",
      "8415   0.553750  0.510306  0.540884  0.629870\n",
      "8416   0.570655  0.510347  0.552173  0.826249\n",
      "8417   0.558897  0.510286  0.537276  0.673114\n",
      "8418   0.550535  0.510297  0.335196  0.477867\n",
      "8419   0.562359  0.510324  0.545532  0.669394\n",
      "8420   0.561536  0.510284  0.533763  0.690487\n",
      "8421   0.557508  0.510304  0.398471  0.496683\n",
      "8422   0.556338  0.510320  0.547902  0.540740\n",
      "8423   0.568357  0.510286  0.528748  0.644877\n",
      "\n",
      "[8424 rows x 4 columns]\n"
     ]
    }
   ],
   "source": [
    "label_maker = PseudoLabeller(trainRunner)"
   ]
  },
  {
   "cell_type": "code",
   "execution_count": 16,
   "metadata": {},
   "outputs": [
    {
     "name": "stdout",
     "output_type": "stream",
     "text": [
      "\n",
      "\n",
      "================================================\n",
      "Model: davemodel\n",
      "Batch Size: 32\n",
      "Epochs: 1\n",
      "Epoch 1/1\n",
      "51/50 [==============================] - 5s - loss: 0.5770 - acc: 0.6930     \n",
      "\n",
      "\n",
      "================================================\n",
      "Model: vgg\n",
      "Batch Size: 32\n",
      "Epochs: 1\n",
      "Epoch 1/1\n",
      "51/50 [==============================] - 8s - loss: 0.6850 - acc: 0.5123     \n",
      "\n",
      "\n",
      "================================================\n",
      "Model: vgg19\n",
      "Batch Size: 32\n",
      "Epochs: 1\n",
      "Epoch 1/1\n",
      "51/50 [==============================] - 8s - loss: 0.6746 - acc: 0.5300     \n",
      "\n",
      "\n",
      "================================================\n",
      "Model: lenet\n",
      "Batch Size: 32\n",
      "Epochs: 1\n",
      "Epoch 1/1\n",
      "51/50 [==============================] - 2s - loss: 0.6647 - acc: 0.5865     \n"
     ]
    }
   ],
   "source": [
    "# trainRunner.train(32, 1, False)\n",
    "trainRunner.train_full(32, 1, False)\n"
   ]
  },
  {
   "cell_type": "code",
   "execution_count": 17,
   "metadata": {},
   "outputs": [],
   "source": [
    "trainRunner.predict()"
   ]
  },
  {
   "cell_type": "code",
   "execution_count": 18,
   "metadata": {},
   "outputs": [
    {
     "data": {
      "text/plain": [
       "[array([[ 0.58547407,  0.41452599],\n",
       "        [ 0.57440114,  0.42559892],\n",
       "        [ 0.60632485,  0.39367515],\n",
       "        ..., \n",
       "        [ 0.59274668,  0.4072533 ],\n",
       "        [ 0.59482783,  0.40517214],\n",
       "        [ 0.62089276,  0.37910724]], dtype=float32),\n",
       " array([[ 0.51180393,  0.48819605],\n",
       "        [ 0.51168621,  0.48831385],\n",
       "        [ 0.51210481,  0.48789516],\n",
       "        ..., \n",
       "        [ 0.5117113 ,  0.4882887 ],\n",
       "        [ 0.51172554,  0.48827448],\n",
       "        [ 0.51198667,  0.48801333]], dtype=float32),\n",
       " array([[ 0.50135714,  0.49864292],\n",
       "        [ 0.50138915,  0.49861091],\n",
       "        [ 0.96230453,  0.03769542],\n",
       "        ..., \n",
       "        [ 0.50137621,  0.49862379],\n",
       "        [ 0.50154185,  0.49845815],\n",
       "        [ 0.50160444,  0.49839562]], dtype=float32),\n",
       " array([[ 0.24273774,  0.75726223],\n",
       "        [ 0.35269514,  0.64730477],\n",
       "        [ 0.88178951,  0.11821055],\n",
       "        ..., \n",
       "        [ 0.28946409,  0.71053594],\n",
       "        [ 0.28727075,  0.71272928],\n",
       "        [ 0.50449407,  0.4955059 ]], dtype=float32)]"
      ]
     },
     "execution_count": 18,
     "metadata": {},
     "output_type": "execute_result"
    }
   ],
   "source": [
    "trainRunner.predictions"
   ]
  },
  {
   "cell_type": "code",
   "execution_count": null,
   "metadata": {
    "collapsed": true
   },
   "outputs": [],
   "source": []
  }
 ],
 "metadata": {
  "kernelspec": {
   "display_name": "Python 3",
   "language": "python",
   "name": "python3"
  },
  "language_info": {
   "codemirror_mode": {
    "name": "ipython",
    "version": 3
   },
   "file_extension": ".py",
   "mimetype": "text/x-python",
   "name": "python",
   "nbconvert_exporter": "python",
   "pygments_lexer": "ipython3",
   "version": "3.5.2"
  }
 },
 "nbformat": 4,
 "nbformat_minor": 2
}
