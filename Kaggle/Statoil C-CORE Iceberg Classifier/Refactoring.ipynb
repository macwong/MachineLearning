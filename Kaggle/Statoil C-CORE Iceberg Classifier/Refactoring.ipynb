{
 "cells": [
  {
   "cell_type": "code",
   "execution_count": 1,
   "metadata": {},
   "outputs": [
    {
     "name": "stderr",
     "output_type": "stream",
     "text": [
      "Using TensorFlow backend.\n"
     ]
    }
   ],
   "source": [
    "%load_ext autoreload\n",
    "%autoreload 2\n",
    "\n",
    "import numpy as np # linear algebra\n",
    "import pandas as pd # data processing, CSV file I/O (e.g. pd.read_csv)\n",
    "import pdb\n",
    "from sklearn.model_selection import train_test_split\n",
    "from keras.utils.np_utils import to_categorical\n",
    "from keras import backend as K\n",
    "from matplotlib import pyplot as plt\n",
    "%matplotlib inline\n",
    "import scipy\n",
    "from scipy import misc, ndimage\n",
    "from scipy.ndimage.interpolation import zoom\n",
    "from scipy.ndimage import imread\n",
    "import helpers\n",
    "from models import DaveModel, DaveVGG, DaveVGG19, SimpleModel, LeNetModel\n",
    "from trainer import Trainer\n",
    "from labeller import PseudoLabeller"
   ]
  },
  {
   "cell_type": "code",
   "execution_count": 2,
   "metadata": {
    "collapsed": true
   },
   "outputs": [],
   "source": [
    "train = pd.read_json(\"_RawData/train.json/data/processed/train.json\")\n",
    "test = pd.read_json(\"_RawData/test.json/data/processed/test.json\")\n",
    "\n",
    "X = helpers.get_images(train)\n",
    "X_test = helpers.get_images(test)\n",
    "\n",
    "y = to_categorical(train.is_iceberg.values,num_classes=2)\n",
    "\n",
    "ids = test[\"id\"]"
   ]
  },
  {
   "cell_type": "code",
   "execution_count": 3,
   "metadata": {
    "collapsed": true
   },
   "outputs": [],
   "source": [
    "trainRunner = Trainer(ids, X, y, X_test, [\n",
    "    DaveModel(ids),\n",
    "    DaveVGG(ids),\n",
    "    DaveVGG19(ids),\n",
    "    LeNetModel(ids)\n",
    "])"
   ]
  },
  {
   "cell_type": "code",
   "execution_count": 4,
   "metadata": {
    "scrolled": false
   },
   "outputs": [
    {
     "name": "stdout",
     "output_type": "stream",
     "text": [
      "\n",
      "\n",
      "================================================\n",
      "Model: davemodel\n",
      "Batch Size: 32\n",
      "Epochs: 5\n",
      "Epoch 1/5\n",
      "41/40 [==============================] - 5s - loss: 0.5497 - acc: 0.7244 - val_loss: 0.6522 - val_acc: 0.6573\n",
      "Epoch 2/5\n",
      "41/40 [==============================] - 1s - loss: 0.4748 - acc: 0.7567 - val_loss: 0.6387 - val_acc: 0.6573\n",
      "Epoch 3/5\n",
      "41/40 [==============================] - 1s - loss: 0.4664 - acc: 0.7454 - val_loss: 0.6429 - val_acc: 0.6573\n",
      "Epoch 4/5\n",
      "41/40 [==============================] - 1s - loss: 0.4379 - acc: 0.7706 - val_loss: 0.6217 - val_acc: 0.6386\n",
      "Epoch 5/5\n",
      "41/40 [==============================] - 1s - loss: 0.4080 - acc: 0.7850 - val_loss: 0.6149 - val_acc: 0.6417\n",
      "\n",
      "\n",
      "================================================\n",
      "Model: vgg\n",
      "Batch Size: 32\n",
      "Epochs: 5\n",
      "Epoch 1/5\n",
      "41/40 [==============================] - 8s - loss: 0.6968 - acc: 0.4846 - val_loss: 0.6930 - val_acc: 0.6573\n",
      "Epoch 2/5\n",
      "41/40 [==============================] - 5s - loss: 0.6952 - acc: 0.4983 - val_loss: 0.6888 - val_acc: 0.6573\n",
      "Epoch 3/5\n",
      "41/40 [==============================] - 5s - loss: 0.6932 - acc: 0.4953 - val_loss: 0.6925 - val_acc: 0.6573\n",
      "Epoch 4/5\n",
      "41/40 [==============================] - 5s - loss: 0.6928 - acc: 0.5211 - val_loss: 0.6941 - val_acc: 0.4206\n",
      "Epoch 5/5\n",
      "41/40 [==============================] - 5s - loss: 0.6665 - acc: 0.6062 - val_loss: 0.6771 - val_acc: 0.4891\n",
      "\n",
      "\n",
      "================================================\n",
      "Model: vgg19\n",
      "Batch Size: 32\n",
      "Epochs: 5\n",
      "Epoch 1/5\n",
      "41/40 [==============================] - 7s - loss: 0.6848 - acc: 0.5392 - val_loss: 0.6837 - val_acc: 0.4891\n",
      "Epoch 2/5\n",
      "41/40 [==============================] - 6s - loss: 0.6914 - acc: 0.5086 - val_loss: 0.6991 - val_acc: 0.3427\n",
      "Epoch 3/5\n",
      "41/40 [==============================] - 6s - loss: 0.6884 - acc: 0.5185 - val_loss: 0.6907 - val_acc: 0.6573\n",
      "Epoch 4/5\n",
      "41/40 [==============================] - 6s - loss: 0.6638 - acc: 0.5600 - val_loss: 0.7657 - val_acc: 0.4548\n",
      "Epoch 5/5\n",
      "41/40 [==============================] - 6s - loss: 0.6190 - acc: 0.6634 - val_loss: 0.7020 - val_acc: 0.5140\n",
      "\n",
      "\n",
      "================================================\n",
      "Model: lenet\n",
      "Batch Size: 32\n",
      "Epochs: 5\n",
      "Epoch 1/5\n",
      "41/40 [==============================] - 1s - loss: 0.6408 - acc: 0.6336 - val_loss: 0.6914 - val_acc: 0.5545\n",
      "Epoch 2/5\n",
      "41/40 [==============================] - 1s - loss: 0.5958 - acc: 0.6809 - val_loss: 0.8245 - val_acc: 0.4984\n",
      "Epoch 3/5\n",
      "41/40 [==============================] - 1s - loss: 0.5959 - acc: 0.6687 - val_loss: 0.6611 - val_acc: 0.5670\n",
      "Epoch 4/5\n",
      "41/40 [==============================] - 1s - loss: 0.5511 - acc: 0.7084 - val_loss: 0.5804 - val_acc: 0.6262\n",
      "Epoch 5/5\n",
      "41/40 [==============================] - 1s - loss: 0.5216 - acc: 0.7346 - val_loss: 0.5882 - val_acc: 0.6355\n",
      "\n",
      "\n",
      "================================================\n",
      "Predict Model: davemodel\n",
      "\n",
      "\n",
      "================================================\n",
      "Predict Model: vgg\n",
      "\n",
      "\n",
      "================================================\n",
      "Predict Model: vgg19\n",
      "\n",
      "\n",
      "================================================\n",
      "Predict Model: lenet\n",
      "davemodel\n",
      "vgg\n",
      "vgg19\n",
      "lenet\n",
      "           ids  definitive  davemodel       vgg     vgg19     lenet  label\n",
      "0     5941774d       False   0.756579  0.469061  0.334755  0.305497      0\n",
      "1     4023181e       False   0.682864  0.467776  0.385172  0.409363      0\n",
      "2     b20200e4       False   0.819415  0.481240  0.991583  0.997009      1\n",
      "3     e7f018bb       False   0.596885  0.469102  0.369424  0.254740      0\n",
      "4     4371c8c3       False   0.644102  0.468465  0.517333  0.635448      1\n",
      "5     a8d9b1fd       False   0.726864  0.471015  0.365400  0.413497      0\n",
      "6     29e7727e       False   0.712506  0.472776  0.382236  0.425781      0\n",
      "7     92a51ffb       False   0.671068  0.468588  0.345744  0.098560      0\n",
      "8     c769ac97       False   0.823272  0.482116  0.424230  0.434114      0\n",
      "9     aee0547d       False   0.855517  0.476413  0.751889  0.848077      1\n",
      "10    565b28ac       False   0.840937  0.483172  0.990861  0.997537      1\n",
      "11    e04e9775       False   0.714122  0.470267  0.400929  0.425544      0\n",
      "12    8e8161d1       False   0.788596  0.544553  0.438278  0.699699      1\n",
      "13    4cf4d256       False   0.527465  0.465530  0.467464  0.761630     -1\n",
      "14    139e5324       False   0.766448  0.520632  0.380742  0.582911      1\n",
      "15    f156976f       False   0.779149  0.508517  0.427748  0.581728      1\n",
      "16    68a117cc       False   0.734236  0.476002  0.981872  0.992495      1\n",
      "17    d9aa7a56       False   0.771534  0.472088  0.622552  0.840429      1\n",
      "18    9005b143       False   0.768277  0.554267  0.471668  0.846546      1\n",
      "19    5f6d3988       False   0.702519  0.467872  0.341592  0.277469      0\n",
      "20    9ad70954       False   0.712590  0.470338  0.398943  0.461601      0\n",
      "21    b9087b9e       False   0.701095  0.468723  0.363189  0.215650      0\n",
      "22    a39a1427       False   0.749962  0.477912  0.388547  0.670495     -1\n",
      "23    82fbe8ed       False   0.639911  0.468954  0.413932  0.564443     -1\n",
      "24    1fae4879       False   0.829747  0.478976  0.398022  0.468790      0\n",
      "25    6dd8f13d       False   0.873605  0.478489  0.563332  0.646137      1\n",
      "26    bbad5958       False   0.711832  0.468495  0.353010  0.244140      0\n",
      "27    54527583       False   0.801991  0.473929  0.482540  0.589236     -1\n",
      "28    be8fa29c       False   0.693405  0.469676  0.425586  0.506153     -1\n",
      "29    81a3328f       False   0.691338  0.471672  0.371641  0.188991      0\n",
      "...        ...         ...        ...       ...       ...       ...    ...\n",
      "8394  8ae30ce6       False   0.780764  0.475506  0.393905  0.564652     -1\n",
      "8395  de27ed88       False   0.761515  0.473311  0.409011  0.361981      0\n",
      "8396  66d5196f       False   0.767758  0.480393  0.991148  0.998003      1\n",
      "8397  d85f1858       False   0.514634  0.464639  0.455555  0.806206     -1\n",
      "8398  16dcb33a       False   0.596167  0.469536  0.524143  0.901486      1\n",
      "8399  eca3158e       False   0.757860  0.482041  0.386106  0.535952     -1\n",
      "8400  08daeee6       False   0.779402  0.474310  0.467500  0.818230     -1\n",
      "8401  e9c513ee       False   0.793179  0.556627  0.430087  0.623116      1\n",
      "8402  b1519fa6       False   0.605013  0.470543  0.698595  0.950930      1\n",
      "8403  dfc89540       False   0.662700  0.468361  0.550005  0.783598      1\n",
      "8404  8fd8c0e9       False   0.681145  0.468901  0.476758  0.784538     -1\n",
      "8405  45df6347        True   0.805468  0.568066  0.519109  0.844847      1\n",
      "8406  bf7928d7        True   0.868608  0.591901  0.624971  0.901149      1\n",
      "8407  7b587c05       False   0.775058  0.501696  0.416962  0.737370      1\n",
      "8408  c2834388       False   0.756553  0.473911  0.937767  0.973924      1\n",
      "8409  146143c3       False   0.758870  0.474515  0.354491  0.134202      0\n",
      "8410  d59aee00       False   0.836024  0.483786  0.437027  0.374784      0\n",
      "8411  cbc0b93b       False   0.785656  0.476089  0.404554  0.627974     -1\n",
      "8412  088e2ff7       False   0.729928  0.471888  0.352165  0.133200      0\n",
      "8413  673d33cd       False   0.772680  0.473619  0.403892  0.518783     -1\n",
      "8414  674b031e       False   0.864885  0.478340  0.466803  0.564302     -1\n",
      "8415  43db4207       False   0.693189  0.470461  0.414970  0.753782     -1\n",
      "8416  156855e1        True   0.837741  0.654910  0.699291  0.877087      1\n",
      "8417  ac96cfb0       False   0.765475  0.472050  0.524100  0.786177      1\n",
      "8418  fe45aef5       False   0.663148  0.467862  0.365121  0.126873      0\n",
      "8419  16ee9b50       False   0.795458  0.482100  0.401483  0.374029      0\n",
      "8420  5a599eb7       False   0.790006  0.474150  0.513842  0.759367      1\n",
      "8421  df30d6dd       False   0.759684  0.472825  0.356293  0.340593      0\n",
      "8422  18af95b1       False   0.720145  0.475310  0.366417  0.124972      0\n",
      "8423  27d788c8       False   0.893430  0.481879  0.559188  0.688539      1\n",
      "\n",
      "[8424 rows x 7 columns]\n"
     ]
    }
   ],
   "source": [
    "label_maker = PseudoLabeller(trainRunner)"
   ]
  },
  {
   "cell_type": "code",
   "execution_count": 16,
   "metadata": {},
   "outputs": [
    {
     "name": "stdout",
     "output_type": "stream",
     "text": [
      "\n",
      "\n",
      "================================================\n",
      "Model: davemodel\n",
      "Batch Size: 32\n",
      "Epochs: 1\n",
      "Epoch 1/1\n",
      "51/50 [==============================] - 5s - loss: 0.5770 - acc: 0.6930     \n",
      "\n",
      "\n",
      "================================================\n",
      "Model: vgg\n",
      "Batch Size: 32\n",
      "Epochs: 1\n",
      "Epoch 1/1\n",
      "51/50 [==============================] - 8s - loss: 0.6850 - acc: 0.5123     \n",
      "\n",
      "\n",
      "================================================\n",
      "Model: vgg19\n",
      "Batch Size: 32\n",
      "Epochs: 1\n",
      "Epoch 1/1\n",
      "51/50 [==============================] - 8s - loss: 0.6746 - acc: 0.5300     \n",
      "\n",
      "\n",
      "================================================\n",
      "Model: lenet\n",
      "Batch Size: 32\n",
      "Epochs: 1\n",
      "Epoch 1/1\n",
      "51/50 [==============================] - 2s - loss: 0.6647 - acc: 0.5865     \n"
     ]
    }
   ],
   "source": [
    "# trainRunner.train(32, 1, False)\n",
    "trainRunner.train_full(32, 1, False)\n"
   ]
  },
  {
   "cell_type": "code",
   "execution_count": 17,
   "metadata": {},
   "outputs": [],
   "source": [
    "trainRunner.predict()"
   ]
  },
  {
   "cell_type": "code",
   "execution_count": 18,
   "metadata": {},
   "outputs": [
    {
     "data": {
      "text/plain": [
       "[array([[ 0.58547407,  0.41452599],\n",
       "        [ 0.57440114,  0.42559892],\n",
       "        [ 0.60632485,  0.39367515],\n",
       "        ..., \n",
       "        [ 0.59274668,  0.4072533 ],\n",
       "        [ 0.59482783,  0.40517214],\n",
       "        [ 0.62089276,  0.37910724]], dtype=float32),\n",
       " array([[ 0.51180393,  0.48819605],\n",
       "        [ 0.51168621,  0.48831385],\n",
       "        [ 0.51210481,  0.48789516],\n",
       "        ..., \n",
       "        [ 0.5117113 ,  0.4882887 ],\n",
       "        [ 0.51172554,  0.48827448],\n",
       "        [ 0.51198667,  0.48801333]], dtype=float32),\n",
       " array([[ 0.50135714,  0.49864292],\n",
       "        [ 0.50138915,  0.49861091],\n",
       "        [ 0.96230453,  0.03769542],\n",
       "        ..., \n",
       "        [ 0.50137621,  0.49862379],\n",
       "        [ 0.50154185,  0.49845815],\n",
       "        [ 0.50160444,  0.49839562]], dtype=float32),\n",
       " array([[ 0.24273774,  0.75726223],\n",
       "        [ 0.35269514,  0.64730477],\n",
       "        [ 0.88178951,  0.11821055],\n",
       "        ..., \n",
       "        [ 0.28946409,  0.71053594],\n",
       "        [ 0.28727075,  0.71272928],\n",
       "        [ 0.50449407,  0.4955059 ]], dtype=float32)]"
      ]
     },
     "execution_count": 18,
     "metadata": {},
     "output_type": "execute_result"
    }
   ],
   "source": [
    "trainRunner.predictions"
   ]
  },
  {
   "cell_type": "code",
   "execution_count": null,
   "metadata": {
    "collapsed": true
   },
   "outputs": [],
   "source": []
  }
 ],
 "metadata": {
  "kernelspec": {
   "display_name": "Python 3",
   "language": "python",
   "name": "python3"
  },
  "language_info": {
   "codemirror_mode": {
    "name": "ipython",
    "version": 3
   },
   "file_extension": ".py",
   "mimetype": "text/x-python",
   "name": "python",
   "nbconvert_exporter": "python",
   "pygments_lexer": "ipython3",
   "version": "3.5.2"
  }
 },
 "nbformat": 4,
 "nbformat_minor": 2
}
