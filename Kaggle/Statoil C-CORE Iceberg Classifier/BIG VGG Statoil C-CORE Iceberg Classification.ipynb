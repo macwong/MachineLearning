{
 "cells": [
  {
   "cell_type": "markdown",
   "metadata": {},
   "source": [
    "# Setup"
   ]
  },
  {
   "cell_type": "code",
   "execution_count": 20,
   "metadata": {},
   "outputs": [],
   "source": [
    "%matplotlib inline\n",
    "import pandas as pd\n",
    "import numpy as np\n",
    "import seaborn as sns\n",
    "import scipy\n",
    "import matplotlib.pyplot as plt\n",
    "from keras.preprocessing.image import ImageDataGenerator\n",
    "from keras.models import Sequential, Model\n",
    "from keras.layers import Dense, Flatten\n",
    "from keras.optimizers import Adam\n",
    "from keras.applications import VGG16\n"
   ]
  },
  {
   "cell_type": "code",
   "execution_count": 2,
   "metadata": {
    "collapsed": true
   },
   "outputs": [],
   "source": [
    "train = pd.read_json(\"_RawData/train.json/data/processed/train.json\")\n",
    "test = pd.read_json(\"_RawData/test.json/data/processed/test.json\")"
   ]
  },
  {
   "cell_type": "code",
   "execution_count": 3,
   "metadata": {},
   "outputs": [
    {
     "data": {
      "text/html": [
       "<div>\n",
       "<style>\n",
       "    .dataframe thead tr:only-child th {\n",
       "        text-align: right;\n",
       "    }\n",
       "\n",
       "    .dataframe thead th {\n",
       "        text-align: left;\n",
       "    }\n",
       "\n",
       "    .dataframe tbody tr th {\n",
       "        vertical-align: top;\n",
       "    }\n",
       "</style>\n",
       "<table border=\"1\" class=\"dataframe\">\n",
       "  <thead>\n",
       "    <tr style=\"text-align: right;\">\n",
       "      <th></th>\n",
       "      <th>band_1</th>\n",
       "      <th>band_2</th>\n",
       "      <th>id</th>\n",
       "      <th>inc_angle</th>\n",
       "      <th>is_iceberg</th>\n",
       "    </tr>\n",
       "  </thead>\n",
       "  <tbody>\n",
       "    <tr>\n",
       "      <th>0</th>\n",
       "      <td>[-27.878360999999998, -27.15416, -28.668615, -...</td>\n",
       "      <td>[-27.154118, -29.537888, -31.0306, -32.190483,...</td>\n",
       "      <td>dfd5f913</td>\n",
       "      <td>43.9239</td>\n",
       "      <td>0</td>\n",
       "    </tr>\n",
       "    <tr>\n",
       "      <th>1</th>\n",
       "      <td>[-12.242375, -14.920304999999999, -14.920363, ...</td>\n",
       "      <td>[-31.506321, -27.984554, -26.645678, -23.76760...</td>\n",
       "      <td>e25388fd</td>\n",
       "      <td>38.1562</td>\n",
       "      <td>0</td>\n",
       "    </tr>\n",
       "    <tr>\n",
       "      <th>2</th>\n",
       "      <td>[-24.603676, -24.603714, -24.871029, -23.15277...</td>\n",
       "      <td>[-24.870956, -24.092632, -20.653963, -19.41104...</td>\n",
       "      <td>58b2aaa0</td>\n",
       "      <td>45.2859</td>\n",
       "      <td>1</td>\n",
       "    </tr>\n",
       "    <tr>\n",
       "      <th>3</th>\n",
       "      <td>[-22.454607, -23.082819, -23.998013, -23.99805...</td>\n",
       "      <td>[-27.889421, -27.519794, -27.165262, -29.10350...</td>\n",
       "      <td>4cfc3a18</td>\n",
       "      <td>43.8306</td>\n",
       "      <td>0</td>\n",
       "    </tr>\n",
       "    <tr>\n",
       "      <th>4</th>\n",
       "      <td>[-26.006956, -23.164886, -23.164886, -26.89116...</td>\n",
       "      <td>[-27.206915, -30.259186, -30.259186, -23.16495...</td>\n",
       "      <td>271f93f4</td>\n",
       "      <td>35.6256</td>\n",
       "      <td>0</td>\n",
       "    </tr>\n",
       "  </tbody>\n",
       "</table>\n",
       "</div>"
      ],
      "text/plain": [
       "                                              band_1  \\\n",
       "0  [-27.878360999999998, -27.15416, -28.668615, -...   \n",
       "1  [-12.242375, -14.920304999999999, -14.920363, ...   \n",
       "2  [-24.603676, -24.603714, -24.871029, -23.15277...   \n",
       "3  [-22.454607, -23.082819, -23.998013, -23.99805...   \n",
       "4  [-26.006956, -23.164886, -23.164886, -26.89116...   \n",
       "\n",
       "                                              band_2        id inc_angle  \\\n",
       "0  [-27.154118, -29.537888, -31.0306, -32.190483,...  dfd5f913   43.9239   \n",
       "1  [-31.506321, -27.984554, -26.645678, -23.76760...  e25388fd   38.1562   \n",
       "2  [-24.870956, -24.092632, -20.653963, -19.41104...  58b2aaa0   45.2859   \n",
       "3  [-27.889421, -27.519794, -27.165262, -29.10350...  4cfc3a18   43.8306   \n",
       "4  [-27.206915, -30.259186, -30.259186, -23.16495...  271f93f4   35.6256   \n",
       "\n",
       "   is_iceberg  \n",
       "0           0  \n",
       "1           0  \n",
       "2           1  \n",
       "3           0  \n",
       "4           0  "
      ]
     },
     "execution_count": 3,
     "metadata": {},
     "output_type": "execute_result"
    }
   ],
   "source": [
    "train.head()"
   ]
  },
  {
   "cell_type": "markdown",
   "metadata": {},
   "source": [
    "# CNN"
   ]
  },
  {
   "cell_type": "code",
   "execution_count": 35,
   "metadata": {
    "collapsed": true
   },
   "outputs": [],
   "source": [
    "def get_channel(band_data):\n",
    "    print(\"get_channel\")\n",
    "    band_data = np.array([np.array(band).astype(np.float32) for band in band_data])\n",
    "    \n",
    "    print(band_data.shape)\n",
    "    band_data_new = np.empty((1604, 150, 150))\n",
    "\n",
    "    for ind in range(band_data.shape[0]):\n",
    "        arr_image = band_data[ind]\n",
    "        band_data_new[ind] = (scipy.misc.fromimage(scipy.misc.toimage(arr_image.reshape(75, 75)).resize((150, 150))))\n",
    "\n",
    "    print(band_data_new.shape)\n",
    "\n",
    "    return band_data_new\n",
    "\n",
    "def concat_data(data):\n",
    "    channel1 = get_channel(data[\"band_1\"])\n",
    "    channel2 = get_channel(data[\"band_2\"])\n",
    "    channel3 = (channel1 + channel2) / 2.\n",
    "\n",
    "    return np.concatenate([channel1[:, :, :, np.newaxis], channel2[:, :, :, np.newaxis],channel3[:, :, :, np.newaxis]], axis=-1)"
   ]
  },
  {
   "cell_type": "code",
   "execution_count": 36,
   "metadata": {
    "scrolled": true
   },
   "outputs": [
    {
     "name": "stdout",
     "output_type": "stream",
     "text": [
      "get_channel\n",
      "(1604, 5625)\n",
      "(1604, 150, 150)\n",
      "get_channel\n",
      "(1604, 5625)\n",
      "(1604, 150, 150)\n"
     ]
    }
   ],
   "source": [
    "X_train = concat_data(train)"
   ]
  },
  {
   "cell_type": "code",
   "execution_count": 58,
   "metadata": {},
   "outputs": [
    {
     "data": {
      "text/plain": [
       "array([[[  69. ,  119. ,   94. ],\n",
       "        [  69. ,  119. ,   94. ],\n",
       "        [  74. ,   99. ,   86.5],\n",
       "        ..., \n",
       "        [  79. ,   99. ,   89. ],\n",
       "        [  52. ,  116. ,   84. ],\n",
       "        [  52. ,  116. ,   84. ]],\n",
       "\n",
       "       [[  69. ,  119. ,   94. ],\n",
       "        [  69. ,  119. ,   94. ],\n",
       "        [  74. ,   99. ,   86.5],\n",
       "        ..., \n",
       "        [  79. ,   99. ,   89. ],\n",
       "        [  52. ,  116. ,   84. ],\n",
       "        [  52. ,  116. ,   84. ]],\n",
       "\n",
       "       [[  64. ,   86. ,   75. ],\n",
       "        [  64. ,   86. ,   75. ],\n",
       "        [  69. ,   65. ,   67. ],\n",
       "        ..., \n",
       "        [  64. ,  110. ,   87. ],\n",
       "        [  44. ,  125. ,   84.5],\n",
       "        [  44. ,  125. ,   84.5]],\n",
       "\n",
       "       ..., \n",
       "       [[  44. ,   99. ,   71.5],\n",
       "        [  44. ,   99. ,   71.5],\n",
       "        [  69. ,   99. ,   84. ],\n",
       "        ..., \n",
       "        [  76. ,  110. ,   93. ],\n",
       "        [  72. ,   65. ,   68.5],\n",
       "        [  72. ,   65. ,   68.5]],\n",
       "\n",
       "       [[  61. ,   95. ,   78. ],\n",
       "        [  61. ,   95. ,   78. ],\n",
       "        [  76. ,  106. ,   91. ],\n",
       "        ..., \n",
       "        [  69. ,  106. ,   87.5],\n",
       "        [  67. ,  103. ,   85. ],\n",
       "        [  67. ,  103. ,   85. ]],\n",
       "\n",
       "       [[  61. ,   95. ,   78. ],\n",
       "        [  61. ,   95. ,   78. ],\n",
       "        [  76. ,  106. ,   91. ],\n",
       "        ..., \n",
       "        [  69. ,  106. ,   87.5],\n",
       "        [  67. ,  103. ,   85. ],\n",
       "        [  67. ,  103. ,   85. ]]])"
      ]
     },
     "execution_count": 58,
     "metadata": {},
     "output_type": "execute_result"
    }
   ],
   "source": [
    "X_train[0]"
   ]
  },
  {
   "cell_type": "code",
   "execution_count": 37,
   "metadata": {},
   "outputs": [
    {
     "name": "stderr",
     "output_type": "stream",
     "text": [
      "C:\\Users\\Dave\\Anaconda3\\envs\\tensorflow-gpu\\lib\\site-packages\\sklearn\\model_selection\\_split.py:2010: FutureWarning: From version 0.21, test_size will always complement train_size unless both are specified.\n",
      "  FutureWarning)\n"
     ]
    }
   ],
   "source": [
    "from sklearn.model_selection import train_test_split\n",
    "\n",
    "y_train=train['is_iceberg']\n",
    "X_train_cv, X_valid, y_train_cv, y_valid = train_test_split(X_train, y_train, random_state=1, train_size=0.75)"
   ]
  },
  {
   "cell_type": "code",
   "execution_count": 38,
   "metadata": {
    "collapsed": true
   },
   "outputs": [],
   "source": [
    "def get_generators(train_data, valid_data):\n",
    "    data_gen = ImageDataGenerator(\n",
    "            rescale=1./255,\n",
    "            shear_range=0.2,\n",
    "            zoom_range=0.2,\n",
    "            rotation_range=180,\n",
    "            vertical_flip=True,\n",
    "            horizontal_flip=True)\n",
    "\n",
    "    data_gen.fit(train_data)\n",
    "\n",
    "    val_gen = ImageDataGenerator(rescale=1./255)\n",
    "    val_gen.fit(valid_data)\n",
    "    \n",
    "    return data_gen, val_gen"
   ]
  },
  {
   "cell_type": "code",
   "execution_count": 39,
   "metadata": {
    "collapsed": true
   },
   "outputs": [],
   "source": [
    "dgen, vgen = get_generators(X_train_cv, X_valid)"
   ]
  },
  {
   "cell_type": "code",
   "execution_count": 59,
   "metadata": {
    "collapsed": true
   },
   "outputs": [],
   "source": [
    "class DaveBaseModel:\n",
    "    def train(self):\n",
    "        self.model.fit_generator(self.dgen.flow(self.X_train, self.y_train, batch_size=32),\n",
    "                            steps_per_epoch=len(self.X_train) / 32, \n",
    "                            validation_data=self.vgen.flow(self.X_valid, self.y_valid, batch_size=32, shuffle=False),\n",
    "                            validation_steps = len(self.X_valid) / 32,\n",
    "                            epochs=10)\n",
    "\n",
    "class DaveVGG(DaveBaseModel):\n",
    "    def __init__(self, X_train, X_valid, y_train, y_valid):\n",
    "        vgg_model = VGG16(include_top=False, weights=None, input_shape=(150, 150, 3))\n",
    "\n",
    "        top_model = Sequential()\n",
    "        top_model.add(Flatten(input_shape=vgg_model.output_shape[1:]))\n",
    "        top_model.add(Dense(512, activation='relu'))\n",
    "        # top_model.add(Dense(512, activation='relu'))\n",
    "        # top_model.add(Dropout(0.5))\n",
    "        top_model.add(Dense(1, activation='sigmoid'))\n",
    "        # top_model.load_weights(top_model_weights_path)\n",
    "\n",
    "        self.model = Model(inputs= vgg_model.input, outputs= top_model(vgg_model.output))\n",
    "\n",
    "        self.model.compile(loss='binary_crossentropy', optimizer=Adam(lr=0.0001), metrics=['accuracy'])\n",
    "        print(self.model.summary())\n",
    "        \n",
    "        self.X_train = X_train\n",
    "        self.y_train = y_train\n",
    "        self.X_valid = X_valid\n",
    "        self.y_valid = y_valid\n",
    "        self.dgen, self.vgen = get_generators(X_train, X_valid)\n",
    "        \n"
   ]
  },
  {
   "cell_type": "code",
   "execution_count": 60,
   "metadata": {},
   "outputs": [
    {
     "name": "stdout",
     "output_type": "stream",
     "text": [
      "_________________________________________________________________\n",
      "Layer (type)                 Output Shape              Param #   \n",
      "=================================================================\n",
      "input_9 (InputLayer)         (None, 150, 150, 3)       0         \n",
      "_________________________________________________________________\n",
      "block1_conv1 (Conv2D)        (None, 150, 150, 64)      1792      \n",
      "_________________________________________________________________\n",
      "block1_conv2 (Conv2D)        (None, 150, 150, 64)      36928     \n",
      "_________________________________________________________________\n",
      "block1_pool (MaxPooling2D)   (None, 75, 75, 64)        0         \n",
      "_________________________________________________________________\n",
      "block2_conv1 (Conv2D)        (None, 75, 75, 128)       73856     \n",
      "_________________________________________________________________\n",
      "block2_conv2 (Conv2D)        (None, 75, 75, 128)       147584    \n",
      "_________________________________________________________________\n",
      "block2_pool (MaxPooling2D)   (None, 37, 37, 128)       0         \n",
      "_________________________________________________________________\n",
      "block3_conv1 (Conv2D)        (None, 37, 37, 256)       295168    \n",
      "_________________________________________________________________\n",
      "block3_conv2 (Conv2D)        (None, 37, 37, 256)       590080    \n",
      "_________________________________________________________________\n",
      "block3_conv3 (Conv2D)        (None, 37, 37, 256)       590080    \n",
      "_________________________________________________________________\n",
      "block3_pool (MaxPooling2D)   (None, 18, 18, 256)       0         \n",
      "_________________________________________________________________\n",
      "block4_conv1 (Conv2D)        (None, 18, 18, 512)       1180160   \n",
      "_________________________________________________________________\n",
      "block4_conv2 (Conv2D)        (None, 18, 18, 512)       2359808   \n",
      "_________________________________________________________________\n",
      "block4_conv3 (Conv2D)        (None, 18, 18, 512)       2359808   \n",
      "_________________________________________________________________\n",
      "block4_pool (MaxPooling2D)   (None, 9, 9, 512)         0         \n",
      "_________________________________________________________________\n",
      "block5_conv1 (Conv2D)        (None, 9, 9, 512)         2359808   \n",
      "_________________________________________________________________\n",
      "block5_conv2 (Conv2D)        (None, 9, 9, 512)         2359808   \n",
      "_________________________________________________________________\n",
      "block5_conv3 (Conv2D)        (None, 9, 9, 512)         2359808   \n",
      "_________________________________________________________________\n",
      "block5_pool (MaxPooling2D)   (None, 4, 4, 512)         0         \n",
      "_________________________________________________________________\n",
      "sequential_9 (Sequential)    (None, 1)                 4195329   \n",
      "=================================================================\n",
      "Total params: 18,910,017\n",
      "Trainable params: 18,910,017\n",
      "Non-trainable params: 0\n",
      "_________________________________________________________________\n",
      "None\n"
     ]
    }
   ],
   "source": [
    "model = DaveVGG(X_train_cv, X_valid, y_train_cv, y_valid)"
   ]
  },
  {
   "cell_type": "code",
   "execution_count": 61,
   "metadata": {},
   "outputs": [
    {
     "name": "stdout",
     "output_type": "stream",
     "text": [
      "Epoch 1/10\n",
      "38/37 [==============================] - 23s - loss: 0.6926 - acc: 0.5300 - val_loss: 0.6864 - val_acc: 0.5312\n",
      "Epoch 2/10\n",
      "38/37 [==============================] - 14s - loss: 0.6883 - acc: 0.5569 - val_loss: 0.6403 - val_acc: 0.6733\n",
      "Epoch 3/10\n",
      "38/37 [==============================] - 15s - loss: 0.6743 - acc: 0.5602 - val_loss: 0.6299 - val_acc: 0.5486\n",
      "Epoch 4/10\n",
      "38/37 [==============================] - 15s - loss: 0.6634 - acc: 0.5794 - val_loss: 0.6922 - val_acc: 0.4688\n",
      "Epoch 5/10\n",
      "38/37 [==============================] - 15s - loss: 0.6915 - acc: 0.5278 - val_loss: 0.6884 - val_acc: 0.5312\n",
      "Epoch 6/10\n",
      "38/37 [==============================] - 15s - loss: 0.6519 - acc: 0.5898 - val_loss: 0.6198 - val_acc: 0.5262\n",
      "Epoch 7/10\n",
      "38/37 [==============================] - 15s - loss: 0.6632 - acc: 0.5975 - val_loss: 0.6232 - val_acc: 0.5536\n",
      "Epoch 8/10\n",
      "38/37 [==============================] - 15s - loss: 0.6277 - acc: 0.6619 - val_loss: 0.6038 - val_acc: 0.6459\n",
      "Epoch 9/10\n",
      "38/37 [==============================] - 15s - loss: 0.5618 - acc: 0.7008 - val_loss: 0.5262 - val_acc: 0.7332\n",
      "Epoch 10/10\n",
      "38/37 [==============================] - 15s - loss: 0.5524 - acc: 0.7310 - val_loss: 0.5349 - val_acc: 0.7357\n"
     ]
    }
   ],
   "source": [
    "model.train()"
   ]
  },
  {
   "cell_type": "code",
   "execution_count": null,
   "metadata": {
    "collapsed": true
   },
   "outputs": [],
   "source": []
  }
 ],
 "metadata": {
  "kernelspec": {
   "display_name": "Python 3",
   "language": "python",
   "name": "python3"
  },
  "language_info": {
   "codemirror_mode": {
    "name": "ipython",
    "version": 3
   },
   "file_extension": ".py",
   "mimetype": "text/x-python",
   "name": "python",
   "nbconvert_exporter": "python",
   "pygments_lexer": "ipython3",
   "version": "3.5.2"
  }
 },
 "nbformat": 4,
 "nbformat_minor": 2
}
