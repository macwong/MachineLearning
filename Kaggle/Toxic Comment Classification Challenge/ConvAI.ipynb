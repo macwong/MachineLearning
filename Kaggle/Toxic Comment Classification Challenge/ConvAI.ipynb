{
 "cells": [
  {
   "cell_type": "code",
   "execution_count": 1,
   "metadata": {
    "collapsed": true
   },
   "outputs": [],
   "source": [
    "import numpy as np # linear algebra\n",
    "import pandas as pd # data processing, CSV file I/O (e.g. pd.read_csv)"
   ]
  },
  {
   "cell_type": "code",
   "execution_count": 2,
   "metadata": {
    "collapsed": true
   },
   "outputs": [],
   "source": [
    "toxic_cmt = pd.read_table('_RawData/ConvAI/toxicity_annotated_comments.tsv')\n",
    "toxic_annot = pd.read_table('_RawData/ConvAI/toxicity_annotations.tsv')\n",
    "aggr_cmt = pd.read_table('_RawData/ConvAI/aggression_annotated_comments.tsv')\n",
    "aggr_annot = pd.read_table('_RawData/ConvAI/aggression_annotations.tsv')\n",
    "attack_cmt = pd.read_table('_RawData/ConvAI/attack_annotated_comments.tsv')\n",
    "attack_annot = pd.read_table('_RawData/ConvAI/attack_annotations.tsv')"
   ]
  },
  {
   "cell_type": "code",
   "execution_count": 3,
   "metadata": {
    "collapsed": true
   },
   "outputs": [],
   "source": [
    "def JoinAndSanitize(cmt, annot):\n",
    "    df = cmt.set_index('rev_id').join(annot.groupby(['rev_id']).mean())\n",
    "    df = Sanitize(df)\n",
    "    return df"
   ]
  },
  {
   "cell_type": "code",
   "execution_count": 4,
   "metadata": {
    "collapsed": true
   },
   "outputs": [],
   "source": [
    "def Sanitize(df):\n",
    "    comment = 'comment' if 'comment' in df else 'comment_text'\n",
    "    df[comment] = df[comment].str.lower().str.replace('newline_token', ' ')\n",
    "    df[comment] = df[comment].fillna('erikov')\n",
    "    return df"
   ]
  },
  {
   "cell_type": "code",
   "execution_count": 5,
   "metadata": {
    "collapsed": true
   },
   "outputs": [],
   "source": [
    "toxic = JoinAndSanitize(toxic_cmt, toxic_annot)\n",
    "attack = JoinAndSanitize(attack_cmt, attack_annot)\n",
    "aggression = JoinAndSanitize(aggr_cmt, aggr_annot)"
   ]
  },
  {
   "cell_type": "code",
   "execution_count": 6,
   "metadata": {},
   "outputs": [
    {
     "data": {
      "text/plain": [
       "(115864, 115864)"
      ]
     },
     "execution_count": 6,
     "metadata": {},
     "output_type": "execute_result"
    }
   ],
   "source": [
    "len(attack), len(aggression)"
   ]
  },
  {
   "cell_type": "code",
   "execution_count": 7,
   "metadata": {},
   "outputs": [
    {
     "data": {
      "text/plain": [
       "True"
      ]
     },
     "execution_count": 7,
     "metadata": {},
     "output_type": "execute_result"
    }
   ],
   "source": [
    "attack['comment'].equals(aggression['comment'])"
   ]
  },
  {
   "cell_type": "code",
   "execution_count": 8,
   "metadata": {},
   "outputs": [
    {
     "data": {
      "text/plain": [
       "0.97181029408703123"
      ]
     },
     "execution_count": 8,
     "metadata": {},
     "output_type": "execute_result"
    }
   ],
   "source": [
    "attack['attack'].corr(aggression['aggression'])"
   ]
  },
  {
   "cell_type": "code",
   "execution_count": 9,
   "metadata": {},
   "outputs": [
    {
     "data": {
      "text/html": [
       "<div>\n",
       "<style>\n",
       "    .dataframe thead tr:only-child th {\n",
       "        text-align: right;\n",
       "    }\n",
       "\n",
       "    .dataframe thead th {\n",
       "        text-align: left;\n",
       "    }\n",
       "\n",
       "    .dataframe tbody tr th {\n",
       "        vertical-align: top;\n",
       "    }\n",
       "</style>\n",
       "<table border=\"1\" class=\"dataframe\">\n",
       "  <thead>\n",
       "    <tr style=\"text-align: right;\">\n",
       "      <th></th>\n",
       "      <th>comment</th>\n",
       "      <th>year</th>\n",
       "      <th>logged_in</th>\n",
       "      <th>ns</th>\n",
       "      <th>sample</th>\n",
       "      <th>split</th>\n",
       "      <th>worker_id</th>\n",
       "      <th>toxicity</th>\n",
       "      <th>toxicity_score</th>\n",
       "    </tr>\n",
       "    <tr>\n",
       "      <th>rev_id</th>\n",
       "      <th></th>\n",
       "      <th></th>\n",
       "      <th></th>\n",
       "      <th></th>\n",
       "      <th></th>\n",
       "      <th></th>\n",
       "      <th></th>\n",
       "      <th></th>\n",
       "      <th></th>\n",
       "    </tr>\n",
       "  </thead>\n",
       "  <tbody>\n",
       "    <tr>\n",
       "      <th>2232.0</th>\n",
       "      <td>this: :one can make an analogy in mathematical...</td>\n",
       "      <td>2002</td>\n",
       "      <td>True</td>\n",
       "      <td>article</td>\n",
       "      <td>random</td>\n",
       "      <td>train</td>\n",
       "      <td>2101.2</td>\n",
       "      <td>0.1</td>\n",
       "      <td>0.4</td>\n",
       "    </tr>\n",
       "    <tr>\n",
       "      <th>4216.0</th>\n",
       "      <td>`  :clarification for you  (and zundark's righ...</td>\n",
       "      <td>2002</td>\n",
       "      <td>True</td>\n",
       "      <td>user</td>\n",
       "      <td>random</td>\n",
       "      <td>train</td>\n",
       "      <td>682.8</td>\n",
       "      <td>0.0</td>\n",
       "      <td>0.5</td>\n",
       "    </tr>\n",
       "    <tr>\n",
       "      <th>8953.0</th>\n",
       "      <td>elected or electoral? jhk</td>\n",
       "      <td>2002</td>\n",
       "      <td>False</td>\n",
       "      <td>article</td>\n",
       "      <td>random</td>\n",
       "      <td>test</td>\n",
       "      <td>2223.3</td>\n",
       "      <td>0.0</td>\n",
       "      <td>0.1</td>\n",
       "    </tr>\n",
       "    <tr>\n",
       "      <th>26547.0</th>\n",
       "      <td>`this is such a fun entry.   devotchka  i once...</td>\n",
       "      <td>2002</td>\n",
       "      <td>True</td>\n",
       "      <td>article</td>\n",
       "      <td>random</td>\n",
       "      <td>train</td>\n",
       "      <td>2617.4</td>\n",
       "      <td>0.0</td>\n",
       "      <td>0.6</td>\n",
       "    </tr>\n",
       "    <tr>\n",
       "      <th>28959.0</th>\n",
       "      <td>please relate the ozone hole to increases in c...</td>\n",
       "      <td>2002</td>\n",
       "      <td>True</td>\n",
       "      <td>article</td>\n",
       "      <td>random</td>\n",
       "      <td>test</td>\n",
       "      <td>2891.8</td>\n",
       "      <td>0.2</td>\n",
       "      <td>0.2</td>\n",
       "    </tr>\n",
       "  </tbody>\n",
       "</table>\n",
       "</div>"
      ],
      "text/plain": [
       "                                                   comment  year  logged_in  \\\n",
       "rev_id                                                                        \n",
       "2232.0   this: :one can make an analogy in mathematical...  2002       True   \n",
       "4216.0   `  :clarification for you  (and zundark's righ...  2002       True   \n",
       "8953.0                           elected or electoral? jhk  2002      False   \n",
       "26547.0  `this is such a fun entry.   devotchka  i once...  2002       True   \n",
       "28959.0  please relate the ozone hole to increases in c...  2002       True   \n",
       "\n",
       "              ns  sample  split  worker_id  toxicity  toxicity_score  \n",
       "rev_id                                                                \n",
       "2232.0   article  random  train     2101.2       0.1             0.4  \n",
       "4216.0      user  random  train      682.8       0.0             0.5  \n",
       "8953.0   article  random   test     2223.3       0.0             0.1  \n",
       "26547.0  article  random  train     2617.4       0.0             0.6  \n",
       "28959.0  article  random   test     2891.8       0.2             0.2  "
      ]
     },
     "execution_count": 9,
     "metadata": {},
     "output_type": "execute_result"
    }
   ],
   "source": [
    "toxic.head()\n",
    "#attack.head()\n",
    "#aggression.head()"
   ]
  },
  {
   "cell_type": "code",
   "execution_count": 10,
   "metadata": {
    "collapsed": true
   },
   "outputs": [],
   "source": [
    "from sklearn.feature_extraction.text import TfidfVectorizer\n",
    "\n",
    "def Tfidfize(df):\n",
    "    # can tweak these as desired\n",
    "    max_vocab = 200000\n",
    "    split = 0.1\n",
    "\n",
    "    comment = 'comment' if 'comment' in df else 'comment_text'\n",
    "    \n",
    "    tfidfer = TfidfVectorizer(ngram_range=(1,2), max_features=max_vocab,\n",
    "                   use_idf=1, stop_words='english',\n",
    "                   smooth_idf=1, sublinear_tf=1 )\n",
    "    tfidf = tfidfer.fit_transform(df[comment])\n",
    "\n",
    "    return tfidf, tfidfer"
   ]
  },
  {
   "cell_type": "code",
   "execution_count": 11,
   "metadata": {
    "collapsed": true
   },
   "outputs": [],
   "source": [
    "X_toxic, tfidfer_toxic = Tfidfize(toxic)\n",
    "y_toxic = toxic['toxicity'].values\n",
    "X_attack, tfidfer_attack = Tfidfize(attack)\n",
    "y_attack = attack['attack'].values\n",
    "X_aggression, tfidfer_aggression = Tfidfize(aggression)\n",
    "y_aggression = aggression['aggression'].values"
   ]
  },
  {
   "cell_type": "code",
   "execution_count": 12,
   "metadata": {
    "collapsed": true
   },
   "outputs": [],
   "source": [
    "from sklearn.linear_model import Ridge\n",
    "from sklearn.model_selection import cross_val_score\n",
    "\n",
    "ridge = Ridge()\n",
    "mse_toxic = -cross_val_score(ridge, X_toxic, y_toxic, scoring='neg_mean_squared_error')\n",
    "mse_attack = -cross_val_score(ridge, X_attack, y_attack, scoring='neg_mean_squared_error')\n",
    "mse_aggression = -cross_val_score(ridge, X_aggression, y_aggression, scoring='neg_mean_squared_error')"
   ]
  },
  {
   "cell_type": "code",
   "execution_count": 13,
   "metadata": {},
   "outputs": [
    {
     "data": {
      "text/plain": [
       "(0.021793672359200312, 0.025567422509219988, 0.027521045602787262)"
      ]
     },
     "execution_count": 13,
     "metadata": {},
     "output_type": "execute_result"
    }
   ],
   "source": [
    "mse_toxic.mean(), mse_attack.mean(), mse_aggression.mean()"
   ]
  },
  {
   "cell_type": "code",
   "execution_count": 14,
   "metadata": {
    "collapsed": true
   },
   "outputs": [],
   "source": [
    "model_toxic = ridge.fit(X_toxic, y_toxic)\n",
    "model_attack = ridge.fit(X_attack, y_attack)\n",
    "model_aggression = ridge.fit(X_aggression, y_aggression)"
   ]
  },
  {
   "cell_type": "code",
   "execution_count": 15,
   "metadata": {
    "collapsed": true
   },
   "outputs": [],
   "source": [
    "train_orig = pd.read_csv('_RawData/train.csv')\n",
    "test_orig = pd.read_csv('_RawData/test.csv')"
   ]
  },
  {
   "cell_type": "code",
   "execution_count": 16,
   "metadata": {
    "collapsed": true
   },
   "outputs": [],
   "source": [
    "train_orig = Sanitize(train_orig)\n",
    "test_orig = Sanitize(test_orig)"
   ]
  },
  {
   "cell_type": "code",
   "execution_count": 17,
   "metadata": {
    "collapsed": true
   },
   "outputs": [],
   "source": [
    "def TfidfAndPredict(tfidfer, model):\n",
    "    tfidf_train = tfidfer.transform(train_orig['comment_text'])\n",
    "    tfidf_test = tfidfer.transform(test_orig['comment_text'])\n",
    "    train_scores = model.predict(tfidf_train)\n",
    "    test_scores = model.predict(tfidf_test)\n",
    "    \n",
    "    return train_scores, test_scores"
   ]
  },
  {
   "cell_type": "code",
   "execution_count": 18,
   "metadata": {
    "collapsed": true
   },
   "outputs": [],
   "source": [
    "toxic_tr_scores, toxic_t_scores = TfidfAndPredict(tfidfer_toxic, model_toxic)"
   ]
  },
  {
   "cell_type": "code",
   "execution_count": 19,
   "metadata": {},
   "outputs": [
    {
     "data": {
      "text/plain": [
       "((95851,), (226998,))"
      ]
     },
     "execution_count": 19,
     "metadata": {},
     "output_type": "execute_result"
    }
   ],
   "source": [
    "toxic_tr_scores.shape, toxic_t_scores.shape"
   ]
  },
  {
   "cell_type": "code",
   "execution_count": 20,
   "metadata": {
    "collapsed": true
   },
   "outputs": [],
   "source": [
    "attack_tr_scores, attack_t_scores = TfidfAndPredict(tfidfer_attack, model_attack)"
   ]
  },
  {
   "cell_type": "code",
   "execution_count": 21,
   "metadata": {},
   "outputs": [
    {
     "data": {
      "text/plain": [
       "((95851,), (226998,))"
      ]
     },
     "execution_count": 21,
     "metadata": {},
     "output_type": "execute_result"
    }
   ],
   "source": [
    "attack_tr_scores.shape, attack_t_scores.shape"
   ]
  },
  {
   "cell_type": "code",
   "execution_count": 22,
   "metadata": {
    "collapsed": true
   },
   "outputs": [],
   "source": [
    "aggression_tr_scores, aggression_t_scores = TfidfAndPredict(tfidfer_aggression, model_aggression)"
   ]
  },
  {
   "cell_type": "code",
   "execution_count": 23,
   "metadata": {},
   "outputs": [
    {
     "data": {
      "text/plain": [
       "((95851,), (226998,))"
      ]
     },
     "execution_count": 23,
     "metadata": {},
     "output_type": "execute_result"
    }
   ],
   "source": [
    "aggression_tr_scores.shape, aggression_t_scores.shape"
   ]
  },
  {
   "cell_type": "code",
   "execution_count": 24,
   "metadata": {
    "collapsed": true
   },
   "outputs": [],
   "source": [
    "# toxic_level, to not be confused with original label 'toxic'\n",
    "train_orig['toxic_level'] = toxic_tr_scores\n",
    "train_orig['attack'] = attack_tr_scores\n",
    "train_orig['aggression'] = aggression_tr_scores\n",
    "test_orig['toxic_level'] = toxic_t_scores\n",
    "test_orig['attack'] = attack_t_scores\n",
    "test_orig['aggression'] = aggression_t_scores"
   ]
  },
  {
   "cell_type": "code",
   "execution_count": 26,
   "metadata": {
    "collapsed": true
   },
   "outputs": [],
   "source": [
    "train_orig.to_csv('_RawData/train_with_convai.csv', index=False)\n",
    "test_orig.to_csv('_RawData/test_with_convai.csv', index=False)"
   ]
  },
  {
   "cell_type": "code",
   "execution_count": null,
   "metadata": {
    "collapsed": true
   },
   "outputs": [],
   "source": []
  }
 ],
 "metadata": {
  "kernelspec": {
   "display_name": "Python 3",
   "language": "python",
   "name": "python3"
  },
  "language_info": {
   "codemirror_mode": {
    "name": "ipython",
    "version": 3
   },
   "file_extension": ".py",
   "mimetype": "text/x-python",
   "name": "python",
   "nbconvert_exporter": "python",
   "pygments_lexer": "ipython3",
   "version": "3.5.2"
  }
 },
 "nbformat": 4,
 "nbformat_minor": 2
}
