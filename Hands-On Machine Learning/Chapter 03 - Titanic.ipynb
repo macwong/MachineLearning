{
 "cells": [
  {
   "cell_type": "markdown",
   "metadata": {},
   "source": [
    "# Kaggle - Titanic"
   ]
  },
  {
   "cell_type": "code",
   "execution_count": 2,
   "metadata": {},
   "outputs": [],
   "source": [
    "from pathlib import Path\n",
    "import kaggle\n",
    "import numpy as np\n",
    "import os\n",
    "import pandas as pd\n",
    "import zipfile\n",
    "import matplotlib.pyplot as plt"
   ]
  },
  {
   "cell_type": "markdown",
   "metadata": {},
   "source": [
    "## Load dataset"
   ]
  },
  {
   "cell_type": "code",
   "execution_count": 3,
   "metadata": {},
   "outputs": [],
   "source": [
    "titanic_path = os.path.join(\"datasets\", \"titanic\")\n",
    "Path(titanic_path).mkdir(parents=True, exist_ok=True)"
   ]
  },
  {
   "cell_type": "code",
   "execution_count": 10,
   "metadata": {},
   "outputs": [
    {
     "data": {
      "text/plain": [
       "0"
      ]
     },
     "execution_count": 10,
     "metadata": {},
     "output_type": "execute_result"
    }
   ],
   "source": [
    "os.system(f\"kaggle competitions download -c titanic -p {titanic_path}\")"
   ]
  },
  {
   "cell_type": "code",
   "execution_count": 1,
   "metadata": {},
   "outputs": [
    {
     "ename": "NameError",
     "evalue": "name 'os' is not defined",
     "output_type": "error",
     "traceback": [
      "\u001b[1;31m---------------------------------------------------------------------------\u001b[0m",
      "\u001b[1;31mNameError\u001b[0m                                 Traceback (most recent call last)",
      "\u001b[1;32m<ipython-input-1-ac772888c661>\u001b[0m in \u001b[0;36m<module>\u001b[1;34m\u001b[0m\n\u001b[1;32m----> 1\u001b[1;33m \u001b[0mfile_path\u001b[0m \u001b[1;33m=\u001b[0m \u001b[0mos\u001b[0m\u001b[1;33m.\u001b[0m\u001b[0mpath\u001b[0m\u001b[1;33m.\u001b[0m\u001b[0mjoin\u001b[0m\u001b[1;33m(\u001b[0m\u001b[0mtitanic_path\u001b[0m\u001b[1;33m,\u001b[0m \u001b[1;34m\"titanic.zip\"\u001b[0m\u001b[1;33m)\u001b[0m\u001b[1;33m\u001b[0m\u001b[1;33m\u001b[0m\u001b[0m\n\u001b[0m\u001b[0;32m      2\u001b[0m \u001b[1;33m\u001b[0m\u001b[0m\n\u001b[0;32m      3\u001b[0m \u001b[1;32mwith\u001b[0m \u001b[0mzipfile\u001b[0m\u001b[1;33m.\u001b[0m\u001b[0mZipFile\u001b[0m\u001b[1;33m(\u001b[0m\u001b[0mfile_path\u001b[0m\u001b[1;33m,\u001b[0m \u001b[1;34m'r'\u001b[0m\u001b[1;33m)\u001b[0m \u001b[1;32mas\u001b[0m \u001b[0mzip_ref\u001b[0m\u001b[1;33m:\u001b[0m\u001b[1;33m\u001b[0m\u001b[1;33m\u001b[0m\u001b[0m\n\u001b[0;32m      4\u001b[0m     \u001b[0mzip_ref\u001b[0m\u001b[1;33m.\u001b[0m\u001b[0mextractall\u001b[0m\u001b[1;33m(\u001b[0m\u001b[0mtitanic_path\u001b[0m\u001b[1;33m)\u001b[0m\u001b[1;33m\u001b[0m\u001b[1;33m\u001b[0m\u001b[0m\n",
      "\u001b[1;31mNameError\u001b[0m: name 'os' is not defined"
     ]
    }
   ],
   "source": [
    "file_path = os.path.join(titanic_path, \"titanic.zip\")\n",
    "\n",
    "with zipfile.ZipFile(file_path, 'r') as zip_ref:\n",
    "    zip_ref.extractall(titanic_path)"
   ]
  },
  {
   "cell_type": "code",
   "execution_count": 236,
   "metadata": {},
   "outputs": [],
   "source": [
    "train_data = pd.read_csv(os.path.join(titanic_path, \"train.csv\"))\n",
    "test_data = pd.read_csv(os.path.join(titanic_path, \"test.csv\"))"
   ]
  },
  {
   "cell_type": "code",
   "execution_count": 237,
   "metadata": {},
   "outputs": [
    {
     "data": {
      "text/html": [
       "<div>\n",
       "<style scoped>\n",
       "    .dataframe tbody tr th:only-of-type {\n",
       "        vertical-align: middle;\n",
       "    }\n",
       "\n",
       "    .dataframe tbody tr th {\n",
       "        vertical-align: top;\n",
       "    }\n",
       "\n",
       "    .dataframe thead th {\n",
       "        text-align: right;\n",
       "    }\n",
       "</style>\n",
       "<table border=\"1\" class=\"dataframe\">\n",
       "  <thead>\n",
       "    <tr style=\"text-align: right;\">\n",
       "      <th></th>\n",
       "      <th>PassengerId</th>\n",
       "      <th>Survived</th>\n",
       "      <th>Pclass</th>\n",
       "      <th>Name</th>\n",
       "      <th>Sex</th>\n",
       "      <th>Age</th>\n",
       "      <th>SibSp</th>\n",
       "      <th>Parch</th>\n",
       "      <th>Ticket</th>\n",
       "      <th>Fare</th>\n",
       "      <th>Cabin</th>\n",
       "      <th>Embarked</th>\n",
       "    </tr>\n",
       "  </thead>\n",
       "  <tbody>\n",
       "    <tr>\n",
       "      <td>0</td>\n",
       "      <td>1</td>\n",
       "      <td>0</td>\n",
       "      <td>3</td>\n",
       "      <td>Braund, Mr. Owen Harris</td>\n",
       "      <td>male</td>\n",
       "      <td>22.0</td>\n",
       "      <td>1</td>\n",
       "      <td>0</td>\n",
       "      <td>A/5 21171</td>\n",
       "      <td>7.2500</td>\n",
       "      <td>NaN</td>\n",
       "      <td>S</td>\n",
       "    </tr>\n",
       "    <tr>\n",
       "      <td>1</td>\n",
       "      <td>2</td>\n",
       "      <td>1</td>\n",
       "      <td>1</td>\n",
       "      <td>Cumings, Mrs. John Bradley (Florence Briggs Th...</td>\n",
       "      <td>female</td>\n",
       "      <td>38.0</td>\n",
       "      <td>1</td>\n",
       "      <td>0</td>\n",
       "      <td>PC 17599</td>\n",
       "      <td>71.2833</td>\n",
       "      <td>C85</td>\n",
       "      <td>C</td>\n",
       "    </tr>\n",
       "    <tr>\n",
       "      <td>2</td>\n",
       "      <td>3</td>\n",
       "      <td>1</td>\n",
       "      <td>3</td>\n",
       "      <td>Heikkinen, Miss. Laina</td>\n",
       "      <td>female</td>\n",
       "      <td>26.0</td>\n",
       "      <td>0</td>\n",
       "      <td>0</td>\n",
       "      <td>STON/O2. 3101282</td>\n",
       "      <td>7.9250</td>\n",
       "      <td>NaN</td>\n",
       "      <td>S</td>\n",
       "    </tr>\n",
       "    <tr>\n",
       "      <td>3</td>\n",
       "      <td>4</td>\n",
       "      <td>1</td>\n",
       "      <td>1</td>\n",
       "      <td>Futrelle, Mrs. Jacques Heath (Lily May Peel)</td>\n",
       "      <td>female</td>\n",
       "      <td>35.0</td>\n",
       "      <td>1</td>\n",
       "      <td>0</td>\n",
       "      <td>113803</td>\n",
       "      <td>53.1000</td>\n",
       "      <td>C123</td>\n",
       "      <td>S</td>\n",
       "    </tr>\n",
       "    <tr>\n",
       "      <td>4</td>\n",
       "      <td>5</td>\n",
       "      <td>0</td>\n",
       "      <td>3</td>\n",
       "      <td>Allen, Mr. William Henry</td>\n",
       "      <td>male</td>\n",
       "      <td>35.0</td>\n",
       "      <td>0</td>\n",
       "      <td>0</td>\n",
       "      <td>373450</td>\n",
       "      <td>8.0500</td>\n",
       "      <td>NaN</td>\n",
       "      <td>S</td>\n",
       "    </tr>\n",
       "  </tbody>\n",
       "</table>\n",
       "</div>"
      ],
      "text/plain": [
       "   PassengerId  Survived  Pclass  \\\n",
       "0            1         0       3   \n",
       "1            2         1       1   \n",
       "2            3         1       3   \n",
       "3            4         1       1   \n",
       "4            5         0       3   \n",
       "\n",
       "                                                Name     Sex   Age  SibSp  \\\n",
       "0                            Braund, Mr. Owen Harris    male  22.0      1   \n",
       "1  Cumings, Mrs. John Bradley (Florence Briggs Th...  female  38.0      1   \n",
       "2                             Heikkinen, Miss. Laina  female  26.0      0   \n",
       "3       Futrelle, Mrs. Jacques Heath (Lily May Peel)  female  35.0      1   \n",
       "4                           Allen, Mr. William Henry    male  35.0      0   \n",
       "\n",
       "   Parch            Ticket     Fare Cabin Embarked  \n",
       "0      0         A/5 21171   7.2500   NaN        S  \n",
       "1      0          PC 17599  71.2833   C85        C  \n",
       "2      0  STON/O2. 3101282   7.9250   NaN        S  \n",
       "3      0            113803  53.1000  C123        S  \n",
       "4      0            373450   8.0500   NaN        S  "
      ]
     },
     "execution_count": 237,
     "metadata": {},
     "output_type": "execute_result"
    }
   ],
   "source": [
    "train_data.head()"
   ]
  },
  {
   "cell_type": "code",
   "execution_count": 238,
   "metadata": {},
   "outputs": [],
   "source": [
    "X_train = train_data[train_data.columns.drop(\"Survived\")]\n",
    "y_train = train_data[\"Survived\"]\n",
    "X_test = test_data"
   ]
  },
  {
   "cell_type": "markdown",
   "metadata": {},
   "source": [
    "## Exploratory data analysis"
   ]
  },
  {
   "cell_type": "code",
   "execution_count": 239,
   "metadata": {},
   "outputs": [
    {
     "data": {
      "text/html": [
       "<div>\n",
       "<style scoped>\n",
       "    .dataframe tbody tr th:only-of-type {\n",
       "        vertical-align: middle;\n",
       "    }\n",
       "\n",
       "    .dataframe tbody tr th {\n",
       "        vertical-align: top;\n",
       "    }\n",
       "\n",
       "    .dataframe thead th {\n",
       "        text-align: right;\n",
       "    }\n",
       "</style>\n",
       "<table border=\"1\" class=\"dataframe\">\n",
       "  <thead>\n",
       "    <tr style=\"text-align: right;\">\n",
       "      <th></th>\n",
       "      <th>PassengerId</th>\n",
       "      <th>Pclass</th>\n",
       "      <th>Name</th>\n",
       "      <th>Sex</th>\n",
       "      <th>Age</th>\n",
       "      <th>SibSp</th>\n",
       "      <th>Parch</th>\n",
       "      <th>Ticket</th>\n",
       "      <th>Fare</th>\n",
       "      <th>Cabin</th>\n",
       "      <th>Embarked</th>\n",
       "    </tr>\n",
       "  </thead>\n",
       "  <tbody>\n",
       "    <tr>\n",
       "      <td>0</td>\n",
       "      <td>1</td>\n",
       "      <td>3</td>\n",
       "      <td>Braund, Mr. Owen Harris</td>\n",
       "      <td>male</td>\n",
       "      <td>22.0</td>\n",
       "      <td>1</td>\n",
       "      <td>0</td>\n",
       "      <td>A/5 21171</td>\n",
       "      <td>7.2500</td>\n",
       "      <td>NaN</td>\n",
       "      <td>S</td>\n",
       "    </tr>\n",
       "    <tr>\n",
       "      <td>1</td>\n",
       "      <td>2</td>\n",
       "      <td>1</td>\n",
       "      <td>Cumings, Mrs. John Bradley (Florence Briggs Th...</td>\n",
       "      <td>female</td>\n",
       "      <td>38.0</td>\n",
       "      <td>1</td>\n",
       "      <td>0</td>\n",
       "      <td>PC 17599</td>\n",
       "      <td>71.2833</td>\n",
       "      <td>C85</td>\n",
       "      <td>C</td>\n",
       "    </tr>\n",
       "    <tr>\n",
       "      <td>2</td>\n",
       "      <td>3</td>\n",
       "      <td>3</td>\n",
       "      <td>Heikkinen, Miss. Laina</td>\n",
       "      <td>female</td>\n",
       "      <td>26.0</td>\n",
       "      <td>0</td>\n",
       "      <td>0</td>\n",
       "      <td>STON/O2. 3101282</td>\n",
       "      <td>7.9250</td>\n",
       "      <td>NaN</td>\n",
       "      <td>S</td>\n",
       "    </tr>\n",
       "    <tr>\n",
       "      <td>3</td>\n",
       "      <td>4</td>\n",
       "      <td>1</td>\n",
       "      <td>Futrelle, Mrs. Jacques Heath (Lily May Peel)</td>\n",
       "      <td>female</td>\n",
       "      <td>35.0</td>\n",
       "      <td>1</td>\n",
       "      <td>0</td>\n",
       "      <td>113803</td>\n",
       "      <td>53.1000</td>\n",
       "      <td>C123</td>\n",
       "      <td>S</td>\n",
       "    </tr>\n",
       "    <tr>\n",
       "      <td>4</td>\n",
       "      <td>5</td>\n",
       "      <td>3</td>\n",
       "      <td>Allen, Mr. William Henry</td>\n",
       "      <td>male</td>\n",
       "      <td>35.0</td>\n",
       "      <td>0</td>\n",
       "      <td>0</td>\n",
       "      <td>373450</td>\n",
       "      <td>8.0500</td>\n",
       "      <td>NaN</td>\n",
       "      <td>S</td>\n",
       "    </tr>\n",
       "  </tbody>\n",
       "</table>\n",
       "</div>"
      ],
      "text/plain": [
       "   PassengerId  Pclass                                               Name  \\\n",
       "0            1       3                            Braund, Mr. Owen Harris   \n",
       "1            2       1  Cumings, Mrs. John Bradley (Florence Briggs Th...   \n",
       "2            3       3                             Heikkinen, Miss. Laina   \n",
       "3            4       1       Futrelle, Mrs. Jacques Heath (Lily May Peel)   \n",
       "4            5       3                           Allen, Mr. William Henry   \n",
       "\n",
       "      Sex   Age  SibSp  Parch            Ticket     Fare Cabin Embarked  \n",
       "0    male  22.0      1      0         A/5 21171   7.2500   NaN        S  \n",
       "1  female  38.0      1      0          PC 17599  71.2833   C85        C  \n",
       "2  female  26.0      0      0  STON/O2. 3101282   7.9250   NaN        S  \n",
       "3  female  35.0      1      0            113803  53.1000  C123        S  \n",
       "4    male  35.0      0      0            373450   8.0500   NaN        S  "
      ]
     },
     "execution_count": 239,
     "metadata": {},
     "output_type": "execute_result"
    }
   ],
   "source": [
    "X_train.head()"
   ]
  },
  {
   "cell_type": "code",
   "execution_count": 240,
   "metadata": {},
   "outputs": [
    {
     "name": "stdout",
     "output_type": "stream",
     "text": [
      "<class 'pandas.core.frame.DataFrame'>\n",
      "RangeIndex: 891 entries, 0 to 890\n",
      "Data columns (total 11 columns):\n",
      "PassengerId    891 non-null int64\n",
      "Pclass         891 non-null int64\n",
      "Name           891 non-null object\n",
      "Sex            891 non-null object\n",
      "Age            714 non-null float64\n",
      "SibSp          891 non-null int64\n",
      "Parch          891 non-null int64\n",
      "Ticket         891 non-null object\n",
      "Fare           891 non-null float64\n",
      "Cabin          204 non-null object\n",
      "Embarked       889 non-null object\n",
      "dtypes: float64(2), int64(4), object(5)\n",
      "memory usage: 76.7+ KB\n"
     ]
    }
   ],
   "source": [
    "X_train.info()"
   ]
  },
  {
   "cell_type": "code",
   "execution_count": 241,
   "metadata": {},
   "outputs": [
    {
     "name": "stdout",
     "output_type": "stream",
     "text": [
      "<class 'pandas.core.frame.DataFrame'>\n",
      "RangeIndex: 418 entries, 0 to 417\n",
      "Data columns (total 11 columns):\n",
      "PassengerId    418 non-null int64\n",
      "Pclass         418 non-null int64\n",
      "Name           418 non-null object\n",
      "Sex            418 non-null object\n",
      "Age            332 non-null float64\n",
      "SibSp          418 non-null int64\n",
      "Parch          418 non-null int64\n",
      "Ticket         418 non-null object\n",
      "Fare           417 non-null float64\n",
      "Cabin          91 non-null object\n",
      "Embarked       418 non-null object\n",
      "dtypes: float64(2), int64(4), object(5)\n",
      "memory usage: 36.0+ KB\n"
     ]
    }
   ],
   "source": [
    "X_test.info()"
   ]
  },
  {
   "cell_type": "code",
   "execution_count": 242,
   "metadata": {},
   "outputs": [],
   "source": [
    "def plot_data(data, column, chart_type=\"bar\", size=(6, 6)):\n",
    "    pclass_values = data[column].value_counts()\n",
    "    y_pos = pclass_values.index\n",
    "    x_pos = list(pclass_values)\n",
    "    fig, ax = plt.subplots(1, 1)\n",
    "    ax.bar(y_pos, x_pos)\n",
    "    fig.set_size_inches(size)\n",
    "    plt.xlabel(column)\n",
    "    plt.ylabel(\"Amount\")\n",
    "    plt.xticks(y_pos)\n",
    "    plt.show()"
   ]
  },
  {
   "cell_type": "code",
   "execution_count": 243,
   "metadata": {},
   "outputs": [
    {
     "data": {
      "image/png": "[encoded data removed]",
      "text/plain": [
       "<Figure size 432x432 with 1 Axes>"
      ]
     },
     "metadata": {
      "needs_background": "light"
     },
     "output_type": "display_data"
    }
   ],
   "source": [
    "plot_data(X_train, \"Pclass\")"
   ]
  },
  {
   "cell_type": "code",
   "execution_count": 244,
   "metadata": {},
   "outputs": [
    {
     "data": {
      "image/png": "[encoded data removed]",
      "text/plain": [
       "<Figure size 432x432 with 1 Axes>"
      ]
     },
     "metadata": {
      "needs_background": "light"
     },
     "output_type": "display_data"
    }
   ],
   "source": [
    "plot_data(X_train, \"Sex\")"
   ]
  },
  {
   "cell_type": "code",
   "execution_count": 245,
   "metadata": {},
   "outputs": [
    {
     "data": {
      "image/png": "[encoded data removed]",
      "text/plain": [
       "<Figure size 1080x432 with 1 Axes>"
      ]
     },
     "metadata": {
      "needs_background": "light"
     },
     "output_type": "display_data"
    }
   ],
   "source": [
    "plot_data(X_train, \"Age\", size=(15, 6))"
   ]
  },
  {
   "cell_type": "code",
   "execution_count": 261,
   "metadata": {},
   "outputs": [
    {
     "data": {
      "text/plain": [
       "array([[<matplotlib.axes._subplots.AxesSubplot object at 0x000002CE05507648>]],\n",
       "      dtype=object)"
      ]
     },
     "execution_count": 261,
     "metadata": {},
     "output_type": "execute_result"
    },
    {
     "data": {
      "image/png": "[encoded data removed]",
      "text/plain": [
       "<Figure size 1080x432 with 1 Axes>"
      ]
     },
     "metadata": {
      "needs_background": "light"
     },
     "output_type": "display_data"
    }
   ],
   "source": [
    "X_train.hist(\"Age\", bins=25, width=3, figsize=(15, 6))"
   ]
  },
  {
   "cell_type": "code",
   "execution_count": 298,
   "metadata": {},
   "outputs": [
    {
     "name": "stdout",
     "output_type": "stream",
     "text": [
      "<class 'pandas.core.frame.DataFrame'>\n",
      "RangeIndex: 891 entries, 0 to 890\n",
      "Data columns (total 2 columns):\n",
      "Age         891 non-null float64\n",
      "Survived    891 non-null int64\n",
      "dtypes: float64(1), int64(1)\n",
      "memory usage: 14.0 KB\n"
     ]
    }
   ],
   "source": [
    "age_data = pd.DataFrame(X_train[\"Age\"].copy())\n",
    "age_data[\"Survived\"] = y_train\n",
    "age_data.fillna(-10, inplace=True)\n",
    "age_data.info()"
   ]
  },
  {
   "cell_type": "code",
   "execution_count": 318,
   "metadata": {},
   "outputs": [
    {
     "data": {
      "text/html": [
       "<div>\n",
       "<style scoped>\n",
       "    .dataframe tbody tr th:only-of-type {\n",
       "        vertical-align: middle;\n",
       "    }\n",
       "\n",
       "    .dataframe tbody tr th {\n",
       "        vertical-align: top;\n",
       "    }\n",
       "\n",
       "    .dataframe thead th {\n",
       "        text-align: right;\n",
       "    }\n",
       "</style>\n",
       "<table border=\"1\" class=\"dataframe\">\n",
       "  <thead>\n",
       "    <tr style=\"text-align: right;\">\n",
       "      <th></th>\n",
       "      <th>Survived</th>\n",
       "      <th>Count</th>\n",
       "    </tr>\n",
       "    <tr>\n",
       "      <th>Age</th>\n",
       "      <th></th>\n",
       "      <th></th>\n",
       "    </tr>\n",
       "  </thead>\n",
       "  <tbody>\n",
       "    <tr>\n",
       "      <td>50.0</td>\n",
       "      <td>0.500000</td>\n",
       "      <td>10</td>\n",
       "    </tr>\n",
       "    <tr>\n",
       "      <td>51.0</td>\n",
       "      <td>0.285714</td>\n",
       "      <td>7</td>\n",
       "    </tr>\n",
       "    <tr>\n",
       "      <td>52.0</td>\n",
       "      <td>0.500000</td>\n",
       "      <td>6</td>\n",
       "    </tr>\n",
       "    <tr>\n",
       "      <td>53.0</td>\n",
       "      <td>1.000000</td>\n",
       "      <td>1</td>\n",
       "    </tr>\n",
       "    <tr>\n",
       "      <td>54.0</td>\n",
       "      <td>0.375000</td>\n",
       "      <td>8</td>\n",
       "    </tr>\n",
       "    <tr>\n",
       "      <td>55.0</td>\n",
       "      <td>0.500000</td>\n",
       "      <td>2</td>\n",
       "    </tr>\n",
       "    <tr>\n",
       "      <td>55.5</td>\n",
       "      <td>0.000000</td>\n",
       "      <td>1</td>\n",
       "    </tr>\n",
       "    <tr>\n",
       "      <td>56.0</td>\n",
       "      <td>0.500000</td>\n",
       "      <td>4</td>\n",
       "    </tr>\n",
       "    <tr>\n",
       "      <td>57.0</td>\n",
       "      <td>0.000000</td>\n",
       "      <td>2</td>\n",
       "    </tr>\n",
       "    <tr>\n",
       "      <td>58.0</td>\n",
       "      <td>0.600000</td>\n",
       "      <td>5</td>\n",
       "    </tr>\n",
       "    <tr>\n",
       "      <td>59.0</td>\n",
       "      <td>0.000000</td>\n",
       "      <td>2</td>\n",
       "    </tr>\n",
       "    <tr>\n",
       "      <td>60.0</td>\n",
       "      <td>0.500000</td>\n",
       "      <td>4</td>\n",
       "    </tr>\n",
       "    <tr>\n",
       "      <td>61.0</td>\n",
       "      <td>0.000000</td>\n",
       "      <td>3</td>\n",
       "    </tr>\n",
       "    <tr>\n",
       "      <td>62.0</td>\n",
       "      <td>0.500000</td>\n",
       "      <td>4</td>\n",
       "    </tr>\n",
       "    <tr>\n",
       "      <td>63.0</td>\n",
       "      <td>1.000000</td>\n",
       "      <td>2</td>\n",
       "    </tr>\n",
       "    <tr>\n",
       "      <td>64.0</td>\n",
       "      <td>0.000000</td>\n",
       "      <td>2</td>\n",
       "    </tr>\n",
       "    <tr>\n",
       "      <td>65.0</td>\n",
       "      <td>0.000000</td>\n",
       "      <td>3</td>\n",
       "    </tr>\n",
       "    <tr>\n",
       "      <td>66.0</td>\n",
       "      <td>0.000000</td>\n",
       "      <td>1</td>\n",
       "    </tr>\n",
       "    <tr>\n",
       "      <td>70.0</td>\n",
       "      <td>0.000000</td>\n",
       "      <td>2</td>\n",
       "    </tr>\n",
       "    <tr>\n",
       "      <td>70.5</td>\n",
       "      <td>0.000000</td>\n",
       "      <td>1</td>\n",
       "    </tr>\n",
       "    <tr>\n",
       "      <td>71.0</td>\n",
       "      <td>0.000000</td>\n",
       "      <td>2</td>\n",
       "    </tr>\n",
       "    <tr>\n",
       "      <td>74.0</td>\n",
       "      <td>0.000000</td>\n",
       "      <td>1</td>\n",
       "    </tr>\n",
       "    <tr>\n",
       "      <td>80.0</td>\n",
       "      <td>1.000000</td>\n",
       "      <td>1</td>\n",
       "    </tr>\n",
       "  </tbody>\n",
       "</table>\n",
       "</div>"
      ],
      "text/plain": [
       "      Survived  Count\n",
       "Age                  \n",
       "50.0  0.500000     10\n",
       "51.0  0.285714      7\n",
       "52.0  0.500000      6\n",
       "53.0  1.000000      1\n",
       "54.0  0.375000      8\n",
       "55.0  0.500000      2\n",
       "55.5  0.000000      1\n",
       "56.0  0.500000      4\n",
       "57.0  0.000000      2\n",
       "58.0  0.600000      5\n",
       "59.0  0.000000      2\n",
       "60.0  0.500000      4\n",
       "61.0  0.000000      3\n",
       "62.0  0.500000      4\n",
       "63.0  1.000000      2\n",
       "64.0  0.000000      2\n",
       "65.0  0.000000      3\n",
       "66.0  0.000000      1\n",
       "70.0  0.000000      2\n",
       "70.5  0.000000      1\n",
       "71.0  0.000000      2\n",
       "74.0  0.000000      1\n",
       "80.0  1.000000      1"
      ]
     },
     "execution_count": 318,
     "metadata": {},
     "output_type": "execute_result"
    }
   ],
   "source": [
    "age_summary = pd.DataFrame(age_data.groupby(by=\"Age\")[\"Survived\"].mean())\n",
    "age_summary[\"Count\"] = age_data.groupby(by=\"Age\")[\"Survived\"].count()\n",
    "age_summary[50:80]"
   ]
  },
  {
   "cell_type": "code",
   "execution_count": 322,
   "metadata": {},
   "outputs": [],
   "source": [
    "age_summary[\"Age Category\"] = pd.cut(age_summary.index, [-np.inf, 0, 1, 6, 13, 17, 25, 35, 45, 55, 65, 75, np.inf])"
   ]
  },
  {
   "cell_type": "code",
   "execution_count": 325,
   "metadata": {},
   "outputs": [
    {
     "data": {
      "text/html": [
       "<div>\n",
       "<style scoped>\n",
       "    .dataframe tbody tr th:only-of-type {\n",
       "        vertical-align: middle;\n",
       "    }\n",
       "\n",
       "    .dataframe tbody tr th {\n",
       "        vertical-align: top;\n",
       "    }\n",
       "\n",
       "    .dataframe thead th {\n",
       "        text-align: right;\n",
       "    }\n",
       "</style>\n",
       "<table border=\"1\" class=\"dataframe\">\n",
       "  <thead>\n",
       "    <tr style=\"text-align: right;\">\n",
       "      <th></th>\n",
       "      <th>Survived</th>\n",
       "      <th>Count</th>\n",
       "      <th>Age Category</th>\n",
       "    </tr>\n",
       "    <tr>\n",
       "      <th>Age</th>\n",
       "      <th></th>\n",
       "      <th></th>\n",
       "      <th></th>\n",
       "    </tr>\n",
       "  </thead>\n",
       "  <tbody>\n",
       "    <tr>\n",
       "      <td>-10.00</td>\n",
       "      <td>0.293785</td>\n",
       "      <td>177</td>\n",
       "      <td>(-inf, 0.0]</td>\n",
       "    </tr>\n",
       "    <tr>\n",
       "      <td>0.42</td>\n",
       "      <td>1.000000</td>\n",
       "      <td>1</td>\n",
       "      <td>(0.0, 1.0]</td>\n",
       "    </tr>\n",
       "    <tr>\n",
       "      <td>0.67</td>\n",
       "      <td>1.000000</td>\n",
       "      <td>1</td>\n",
       "      <td>(0.0, 1.0]</td>\n",
       "    </tr>\n",
       "    <tr>\n",
       "      <td>0.75</td>\n",
       "      <td>1.000000</td>\n",
       "      <td>2</td>\n",
       "      <td>(0.0, 1.0]</td>\n",
       "    </tr>\n",
       "    <tr>\n",
       "      <td>0.83</td>\n",
       "      <td>1.000000</td>\n",
       "      <td>2</td>\n",
       "      <td>(0.0, 1.0]</td>\n",
       "    </tr>\n",
       "    <tr>\n",
       "      <td>0.92</td>\n",
       "      <td>1.000000</td>\n",
       "      <td>1</td>\n",
       "      <td>(0.0, 1.0]</td>\n",
       "    </tr>\n",
       "    <tr>\n",
       "      <td>1.00</td>\n",
       "      <td>0.714286</td>\n",
       "      <td>7</td>\n",
       "      <td>(0.0, 1.0]</td>\n",
       "    </tr>\n",
       "    <tr>\n",
       "      <td>2.00</td>\n",
       "      <td>0.300000</td>\n",
       "      <td>10</td>\n",
       "      <td>(1.0, 6.0]</td>\n",
       "    </tr>\n",
       "    <tr>\n",
       "      <td>3.00</td>\n",
       "      <td>0.833333</td>\n",
       "      <td>6</td>\n",
       "      <td>(1.0, 6.0]</td>\n",
       "    </tr>\n",
       "    <tr>\n",
       "      <td>4.00</td>\n",
       "      <td>0.700000</td>\n",
       "      <td>10</td>\n",
       "      <td>(1.0, 6.0]</td>\n",
       "    </tr>\n",
       "    <tr>\n",
       "      <td>5.00</td>\n",
       "      <td>1.000000</td>\n",
       "      <td>4</td>\n",
       "      <td>(1.0, 6.0]</td>\n",
       "    </tr>\n",
       "    <tr>\n",
       "      <td>6.00</td>\n",
       "      <td>0.666667</td>\n",
       "      <td>3</td>\n",
       "      <td>(1.0, 6.0]</td>\n",
       "    </tr>\n",
       "    <tr>\n",
       "      <td>7.00</td>\n",
       "      <td>0.333333</td>\n",
       "      <td>3</td>\n",
       "      <td>(6.0, 13.0]</td>\n",
       "    </tr>\n",
       "    <tr>\n",
       "      <td>8.00</td>\n",
       "      <td>0.500000</td>\n",
       "      <td>4</td>\n",
       "      <td>(6.0, 13.0]</td>\n",
       "    </tr>\n",
       "    <tr>\n",
       "      <td>9.00</td>\n",
       "      <td>0.250000</td>\n",
       "      <td>8</td>\n",
       "      <td>(6.0, 13.0]</td>\n",
       "    </tr>\n",
       "    <tr>\n",
       "      <td>10.00</td>\n",
       "      <td>0.000000</td>\n",
       "      <td>2</td>\n",
       "      <td>(6.0, 13.0]</td>\n",
       "    </tr>\n",
       "    <tr>\n",
       "      <td>11.00</td>\n",
       "      <td>0.250000</td>\n",
       "      <td>4</td>\n",
       "      <td>(6.0, 13.0]</td>\n",
       "    </tr>\n",
       "    <tr>\n",
       "      <td>12.00</td>\n",
       "      <td>1.000000</td>\n",
       "      <td>1</td>\n",
       "      <td>(6.0, 13.0]</td>\n",
       "    </tr>\n",
       "    <tr>\n",
       "      <td>13.00</td>\n",
       "      <td>1.000000</td>\n",
       "      <td>2</td>\n",
       "      <td>(6.0, 13.0]</td>\n",
       "    </tr>\n",
       "    <tr>\n",
       "      <td>14.00</td>\n",
       "      <td>0.500000</td>\n",
       "      <td>6</td>\n",
       "      <td>(13.0, 17.0]</td>\n",
       "    </tr>\n",
       "  </tbody>\n",
       "</table>\n",
       "</div>"
      ],
      "text/plain": [
       "        Survived  Count  Age Category\n",
       "Age                                  \n",
       "-10.00  0.293785    177   (-inf, 0.0]\n",
       " 0.42   1.000000      1    (0.0, 1.0]\n",
       " 0.67   1.000000      1    (0.0, 1.0]\n",
       " 0.75   1.000000      2    (0.0, 1.0]\n",
       " 0.83   1.000000      2    (0.0, 1.0]\n",
       " 0.92   1.000000      1    (0.0, 1.0]\n",
       " 1.00   0.714286      7    (0.0, 1.0]\n",
       " 2.00   0.300000     10    (1.0, 6.0]\n",
       " 3.00   0.833333      6    (1.0, 6.0]\n",
       " 4.00   0.700000     10    (1.0, 6.0]\n",
       " 5.00   1.000000      4    (1.0, 6.0]\n",
       " 6.00   0.666667      3    (1.0, 6.0]\n",
       " 7.00   0.333333      3   (6.0, 13.0]\n",
       " 8.00   0.500000      4   (6.0, 13.0]\n",
       " 9.00   0.250000      8   (6.0, 13.0]\n",
       " 10.00  0.000000      2   (6.0, 13.0]\n",
       " 11.00  0.250000      4   (6.0, 13.0]\n",
       " 12.00  1.000000      1   (6.0, 13.0]\n",
       " 13.00  1.000000      2   (6.0, 13.0]\n",
       " 14.00  0.500000      6  (13.0, 17.0]"
      ]
     },
     "execution_count": 325,
     "metadata": {},
     "output_type": "execute_result"
    }
   ],
   "source": [
    "age_summary.head(20)"
   ]
  },
  {
   "cell_type": "code",
   "execution_count": 323,
   "metadata": {},
   "outputs": [
    {
     "data": {
      "text/plain": [
       "<matplotlib.axes._subplots.AxesSubplot at 0x2ce06316348>"
      ]
     },
     "execution_count": 323,
     "metadata": {},
     "output_type": "execute_result"
    },
    {
     "data": {
      "image/png": "[encoded data removed]",
      "text/plain": [
       "<Figure size 432x288 with 1 Axes>"
      ]
     },
     "metadata": {
      "needs_background": "light"
     },
     "output_type": "display_data"
    }
   ],
   "source": [
    "import seaborn as sns\n",
    "\n",
    "sns.lineplot(age_summary.index, age_summary[\"Survived\"])"
   ]
  },
  {
   "cell_type": "code",
   "execution_count": 444,
   "metadata": {},
   "outputs": [
    {
     "data": {
      "text/plain": [
       "<BarContainer object of 891 artists>"
      ]
     },
     "execution_count": 444,
     "metadata": {},
     "output_type": "execute_result"
    },
    {
     "data": {
      "image/png": "[encoded data removed]",
      "text/plain": [
       "<Figure size 432x288 with 1 Axes>"
      ]
     },
     "metadata": {
      "needs_background": "light"
     },
     "output_type": "display_data"
    }
   ],
   "source": [
    "import seaborn as sns\n",
    "\n",
    "plt.bar(X_train[\"Age\"], y_train)"
   ]
  },
  {
   "cell_type": "code",
   "execution_count": null,
   "metadata": {},
   "outputs": [],
   "source": [
    "plt.scatter(X_train[\"Age\"], y_train, alpha=0.2)"
   ]
  },
  {
   "cell_type": "code",
   "execution_count": 449,
   "metadata": {},
   "outputs": [
    {
     "data": {
      "text/plain": [
       "<matplotlib.axes._subplots.AxesSubplot at 0x2ce0925e5c8>"
      ]
     },
     "execution_count": 449,
     "metadata": {},
     "output_type": "execute_result"
    },
    {
     "data": {
      "image/png": "[encoded data removed]",
      "text/plain": [
       "<Figure size 432x288 with 1 Axes>"
      ]
     },
     "metadata": {
      "needs_background": "light"
     },
     "output_type": "display_data"
    }
   ],
   "source": [
    "sns.barplot(X_train[\"Pclass\"], y_train)"
   ]
  },
  {
   "cell_type": "code",
   "execution_count": 446,
   "metadata": {},
   "outputs": [
    {
     "data": {
      "text/plain": [
       "<matplotlib.axes._subplots.AxesSubplot at 0x2ce08cda4c8>"
      ]
     },
     "execution_count": 446,
     "metadata": {},
     "output_type": "execute_result"
    },
    {
     "data": {
      "image/png": "[encoded data removed]",
      "text/plain": [
       "<Figure size 432x288 with 1 Axes>"
      ]
     },
     "metadata": {
      "needs_background": "light"
     },
     "output_type": "display_data"
    }
   ],
   "source": [
    "sns.barplot(X_train[\"SibSp\"], y_train)"
   ]
  },
  {
   "cell_type": "code",
   "execution_count": 465,
   "metadata": {},
   "outputs": [
    {
     "data": {
      "image/png": "[encoded data removed]",
      "text/plain": [
       "<Figure size 432x432 with 1 Axes>"
      ]
     },
     "metadata": {
      "needs_background": "light"
     },
     "output_type": "display_data"
    }
   ],
   "source": [
    "plot_data(X_train, \"SibSp\")"
   ]
  },
  {
   "cell_type": "code",
   "execution_count": null,
   "metadata": {},
   "outputs": [],
   "source": [
    "plot_data(X_train, \"Parch\")"
   ]
  },
  {
   "cell_type": "code",
   "execution_count": null,
   "metadata": {},
   "outputs": [],
   "source": [
    "plot_data(X_train, \"Fare\", size=(15, 6))"
   ]
  },
  {
   "cell_type": "code",
   "execution_count": null,
   "metadata": {},
   "outputs": [],
   "source": [
    "X_train.hist(\"Fare\", bins=25, figsize=(15, 6))"
   ]
  },
  {
   "cell_type": "code",
   "execution_count": null,
   "metadata": {},
   "outputs": [],
   "source": [
    "plot_data(X_train, \"Embarked\")"
   ]
  },
  {
   "cell_type": "markdown",
   "metadata": {},
   "source": [
    "## Transform and train"
   ]
  },
  {
   "cell_type": "code",
   "execution_count": 570,
   "metadata": {},
   "outputs": [],
   "source": [
    "from sklearn.base import BaseEstimator, TransformerMixin\n",
    "from sklearn.pipeline import Pipeline\n",
    "from sklearn.preprocessing import LabelEncoder, StandardScaler\n",
    "import math\n",
    "\n",
    "# [(0.04638460022779111, 'SibSp'),\n",
    "#  (0.27040391523121776, 'Fare'),\n",
    "#  (0.1004568388833117, 'Pclass_Label'),\n",
    "#  (0.2586893291579196, 'Sex_Label'),\n",
    "#  (0.03662212174209829, 'Parch'),\n",
    "#  (0.2626130004615573, 'Age'),\n",
    "#  (0.02483019429610427, 'Embarked_S')]\n",
    "\n",
    "columns = [\"Fare\", \"Pclass_Label\", \"Sex_Label\", \"Age\"]\n",
    "#            , \"Age_0\", \"Age_1\", \"Age_2\", \"Age_3\", \"Age_4\", \"Age_5\", \"Age_6\", \"Age_7\", \"Age_8\", \"Age_9\", \"Age_10\", \"Age_11\"]\n",
    "\n",
    "class TransformData(BaseEstimator, TransformerMixin):\n",
    "    def __init__(self):\n",
    "        pass\n",
    "    \n",
    "    def fit(self, X, y=None):\n",
    "        return self\n",
    "    \n",
    "    def transform(self, X, y=None):\n",
    "        X_transformed = X.copy()\n",
    "        \n",
    "#         PassengerId    891 non-null int64\n",
    "#         Pclass         891 non-null int64\n",
    "#         Name           891 non-null object\n",
    "#         Sex            891 non-null object\n",
    "#         Age            714 non-null float64\n",
    "#         SibSp          891 non-null int64\n",
    "#         Parch          891 non-null int64\n",
    "#         Ticket         891 non-null object\n",
    "#         Fare           891 non-null float64\n",
    "#         Cabin          204 non-null object\n",
    "#         Embarked       889 non-null object\n",
    "\n",
    "#         PassengerId    418 non-null int64\n",
    "#         Pclass         418 non-null int64\n",
    "#         Name           418 non-null object\n",
    "#         Sex            418 non-null object\n",
    "#         Age            332 non-null float64\n",
    "#         SibSp          418 non-null int64\n",
    "#         Parch          418 non-null int64\n",
    "#         Ticket         418 non-null object\n",
    "#         Fare           417 non-null float64\n",
    "#         Cabin          91 non-null object\n",
    "#         Embarked       418 non-null object\n",
    "\n",
    "        X_transformed[\"Age\"].fillna(X_transformed[\"Age\"].median(), inplace=True)\n",
    "        \n",
    "        cut = pd.cut(\n",
    "                X_transformed[\"Age\"], \n",
    "                [-np.inf, 0, 1, 6, 13, 17, 25, 35, 45, 55, 65, 75, np.inf],\n",
    "                labels=[0, 1, 2, 3, 4, 5, 6, 7, 8, 9, 10, 11])\n",
    "\n",
    "        X_transformed[\"Age Category\"] = cut\n",
    "        one_hot = pd.get_dummies(X_transformed[\"Age Category\"], prefix=\"Age\")\n",
    "        X_transformed = X_transformed.join(one_hot)\n",
    "\n",
    "        scale = StandardScaler()\n",
    "#         X_transformed[\"Age\"].fillna(-10, inplace=True)\n",
    "        X_transformed[\"Age\"] = scale.fit_transform(X_transformed[[\"Age\"]])\n",
    "#         X_transformed[\"HasAge\"] = np.isnan(X_transformed[\"Age\"]) == False\n",
    "    \n",
    "#         one_hot = pd.get_dummies(X_transformed[\"Pclass\"], prefix=\"Pclass\")\n",
    "#         X_transformed = X_transformed.join(one_hot)\n",
    "\n",
    "        le = LabelEncoder()\n",
    "        pclass = le.fit_transform(X_transformed[\"Pclass\"])\n",
    "        X_transformed[\"Pclass_Label\"] = pclass\n",
    "        \n",
    "        le = LabelEncoder()\n",
    "        sex = le.fit_transform(X_transformed[\"Sex\"])\n",
    "        X_transformed[\"Sex_Label\"] = sex\n",
    "        \n",
    "        X_transformed[\"Embarked\"].fillna(\"NA\", inplace=True)\n",
    "        one_hot = pd.get_dummies(X_transformed[\"Embarked\"], prefix=\"Embarked\")\n",
    "        X_transformed = X_transformed.join(one_hot)\n",
    "        \n",
    "        X_transformed[\"Fare\"].fillna(X_transformed[\"Fare\"].median(), inplace=True)\n",
    "        \n",
    "        scale = StandardScaler()\n",
    "        X_transformed[\"SibSp\"] = scale.fit_transform(X_transformed[[\"SibSp\"]])\n",
    "        \n",
    "#         print(X_transformed)\n",
    "        \n",
    "        return X_transformed\n",
    "\n",
    "class SelectColumns(BaseEstimator, TransformerMixin):\n",
    "    def __init__(self):\n",
    "        pass\n",
    "    \n",
    "    def fit(self, X, y=None):\n",
    "        return self\n",
    "    \n",
    "    def transform(self, X, y=None):\n",
    "#         columns = [\"Pclass_1\", \"Pclass_2\", \"Pclass_3\", \"Sex_Label\", \"Age\", \"Parch\", \"Fare\", \"Embarked_S\", \"Embarked_C\", \"Embarked_Q\"]\n",
    "#         columns = [\"Pclass_1\", \"Pclass_2\", \"Pclass_3\", \"Sex_Label\", \"Parch\", \"Age_0\", \"Age_1\", \"Age_2\", \"Age_3\", \"Age_4\", \"Age_5\", \"Age_6\", \"Age_7\", \"Age_8\", \"Age_9\", \"Age_10\"]\n",
    "#         columns = [\"Pclass_1\", \"Pclass_2\", \"Pclass_3\", \"Sex_Label\", \"Parch\", \"Age\", \"Embarked_S\", \"Embarked_C\", \"Embarked_Q\"]\n",
    "#         columns = [\"SibSp\", \"Fare\", \"Pclass_Label\", \"Sex_Label\", \"Parch\", \"Age\", \"Embarked_S\", \"Embarked_C\", \"Embarked_Q\"]\n",
    "        return X[columns]"
   ]
  },
  {
   "cell_type": "code",
   "execution_count": 571,
   "metadata": {},
   "outputs": [
    {
     "data": {
      "text/html": [
       "<div>\n",
       "<style scoped>\n",
       "    .dataframe tbody tr th:only-of-type {\n",
       "        vertical-align: middle;\n",
       "    }\n",
       "\n",
       "    .dataframe tbody tr th {\n",
       "        vertical-align: top;\n",
       "    }\n",
       "\n",
       "    .dataframe thead th {\n",
       "        text-align: right;\n",
       "    }\n",
       "</style>\n",
       "<table border=\"1\" class=\"dataframe\">\n",
       "  <thead>\n",
       "    <tr style=\"text-align: right;\">\n",
       "      <th></th>\n",
       "      <th>Fare</th>\n",
       "      <th>Pclass_Label</th>\n",
       "      <th>Sex_Label</th>\n",
       "      <th>Age</th>\n",
       "    </tr>\n",
       "  </thead>\n",
       "  <tbody>\n",
       "    <tr>\n",
       "      <td>0</td>\n",
       "      <td>7.2500</td>\n",
       "      <td>2</td>\n",
       "      <td>1</td>\n",
       "      <td>-0.565736</td>\n",
       "    </tr>\n",
       "    <tr>\n",
       "      <td>1</td>\n",
       "      <td>71.2833</td>\n",
       "      <td>0</td>\n",
       "      <td>0</td>\n",
       "      <td>0.663861</td>\n",
       "    </tr>\n",
       "    <tr>\n",
       "      <td>2</td>\n",
       "      <td>7.9250</td>\n",
       "      <td>2</td>\n",
       "      <td>0</td>\n",
       "      <td>-0.258337</td>\n",
       "    </tr>\n",
       "    <tr>\n",
       "      <td>3</td>\n",
       "      <td>53.1000</td>\n",
       "      <td>0</td>\n",
       "      <td>0</td>\n",
       "      <td>0.433312</td>\n",
       "    </tr>\n",
       "    <tr>\n",
       "      <td>4</td>\n",
       "      <td>8.0500</td>\n",
       "      <td>2</td>\n",
       "      <td>1</td>\n",
       "      <td>0.433312</td>\n",
       "    </tr>\n",
       "    <tr>\n",
       "      <td>5</td>\n",
       "      <td>8.4583</td>\n",
       "      <td>2</td>\n",
       "      <td>1</td>\n",
       "      <td>-0.104637</td>\n",
       "    </tr>\n",
       "    <tr>\n",
       "      <td>6</td>\n",
       "      <td>51.8625</td>\n",
       "      <td>0</td>\n",
       "      <td>1</td>\n",
       "      <td>1.893459</td>\n",
       "    </tr>\n",
       "    <tr>\n",
       "      <td>7</td>\n",
       "      <td>21.0750</td>\n",
       "      <td>2</td>\n",
       "      <td>1</td>\n",
       "      <td>-2.102733</td>\n",
       "    </tr>\n",
       "    <tr>\n",
       "      <td>8</td>\n",
       "      <td>11.1333</td>\n",
       "      <td>2</td>\n",
       "      <td>0</td>\n",
       "      <td>-0.181487</td>\n",
       "    </tr>\n",
       "    <tr>\n",
       "      <td>9</td>\n",
       "      <td>30.0708</td>\n",
       "      <td>1</td>\n",
       "      <td>0</td>\n",
       "      <td>-1.180535</td>\n",
       "    </tr>\n",
       "    <tr>\n",
       "      <td>10</td>\n",
       "      <td>16.7000</td>\n",
       "      <td>2</td>\n",
       "      <td>0</td>\n",
       "      <td>-1.949034</td>\n",
       "    </tr>\n",
       "    <tr>\n",
       "      <td>11</td>\n",
       "      <td>26.5500</td>\n",
       "      <td>0</td>\n",
       "      <td>0</td>\n",
       "      <td>2.200858</td>\n",
       "    </tr>\n",
       "    <tr>\n",
       "      <td>12</td>\n",
       "      <td>8.0500</td>\n",
       "      <td>2</td>\n",
       "      <td>1</td>\n",
       "      <td>-0.719436</td>\n",
       "    </tr>\n",
       "    <tr>\n",
       "      <td>13</td>\n",
       "      <td>31.2750</td>\n",
       "      <td>2</td>\n",
       "      <td>1</td>\n",
       "      <td>0.740711</td>\n",
       "    </tr>\n",
       "    <tr>\n",
       "      <td>14</td>\n",
       "      <td>7.8542</td>\n",
       "      <td>2</td>\n",
       "      <td>0</td>\n",
       "      <td>-1.180535</td>\n",
       "    </tr>\n",
       "    <tr>\n",
       "      <td>15</td>\n",
       "      <td>16.0000</td>\n",
       "      <td>1</td>\n",
       "      <td>0</td>\n",
       "      <td>1.970308</td>\n",
       "    </tr>\n",
       "    <tr>\n",
       "      <td>16</td>\n",
       "      <td>29.1250</td>\n",
       "      <td>2</td>\n",
       "      <td>1</td>\n",
       "      <td>-2.102733</td>\n",
       "    </tr>\n",
       "    <tr>\n",
       "      <td>17</td>\n",
       "      <td>13.0000</td>\n",
       "      <td>1</td>\n",
       "      <td>1</td>\n",
       "      <td>-0.104637</td>\n",
       "    </tr>\n",
       "    <tr>\n",
       "      <td>18</td>\n",
       "      <td>18.0000</td>\n",
       "      <td>2</td>\n",
       "      <td>0</td>\n",
       "      <td>0.125912</td>\n",
       "    </tr>\n",
       "    <tr>\n",
       "      <td>19</td>\n",
       "      <td>7.2250</td>\n",
       "      <td>2</td>\n",
       "      <td>0</td>\n",
       "      <td>-0.104637</td>\n",
       "    </tr>\n",
       "    <tr>\n",
       "      <td>20</td>\n",
       "      <td>26.0000</td>\n",
       "      <td>1</td>\n",
       "      <td>1</td>\n",
       "      <td>0.433312</td>\n",
       "    </tr>\n",
       "    <tr>\n",
       "      <td>21</td>\n",
       "      <td>13.0000</td>\n",
       "      <td>1</td>\n",
       "      <td>1</td>\n",
       "      <td>0.356462</td>\n",
       "    </tr>\n",
       "    <tr>\n",
       "      <td>22</td>\n",
       "      <td>8.0292</td>\n",
       "      <td>2</td>\n",
       "      <td>0</td>\n",
       "      <td>-1.103685</td>\n",
       "    </tr>\n",
       "    <tr>\n",
       "      <td>23</td>\n",
       "      <td>35.5000</td>\n",
       "      <td>0</td>\n",
       "      <td>1</td>\n",
       "      <td>-0.104637</td>\n",
       "    </tr>\n",
       "    <tr>\n",
       "      <td>24</td>\n",
       "      <td>21.0750</td>\n",
       "      <td>2</td>\n",
       "      <td>0</td>\n",
       "      <td>-1.641634</td>\n",
       "    </tr>\n",
       "    <tr>\n",
       "      <td>25</td>\n",
       "      <td>31.3875</td>\n",
       "      <td>2</td>\n",
       "      <td>0</td>\n",
       "      <td>0.663861</td>\n",
       "    </tr>\n",
       "    <tr>\n",
       "      <td>26</td>\n",
       "      <td>7.2250</td>\n",
       "      <td>2</td>\n",
       "      <td>1</td>\n",
       "      <td>-0.104637</td>\n",
       "    </tr>\n",
       "    <tr>\n",
       "      <td>27</td>\n",
       "      <td>263.0000</td>\n",
       "      <td>0</td>\n",
       "      <td>1</td>\n",
       "      <td>-0.796286</td>\n",
       "    </tr>\n",
       "    <tr>\n",
       "      <td>28</td>\n",
       "      <td>7.8792</td>\n",
       "      <td>2</td>\n",
       "      <td>0</td>\n",
       "      <td>-0.104637</td>\n",
       "    </tr>\n",
       "    <tr>\n",
       "      <td>29</td>\n",
       "      <td>7.8958</td>\n",
       "      <td>2</td>\n",
       "      <td>1</td>\n",
       "      <td>-0.104637</td>\n",
       "    </tr>\n",
       "  </tbody>\n",
       "</table>\n",
       "</div>"
      ],
      "text/plain": [
       "        Fare  Pclass_Label  Sex_Label       Age\n",
       "0     7.2500             2          1 -0.565736\n",
       "1    71.2833             0          0  0.663861\n",
       "2     7.9250             2          0 -0.258337\n",
       "3    53.1000             0          0  0.433312\n",
       "4     8.0500             2          1  0.433312\n",
       "5     8.4583             2          1 -0.104637\n",
       "6    51.8625             0          1  1.893459\n",
       "7    21.0750             2          1 -2.102733\n",
       "8    11.1333             2          0 -0.181487\n",
       "9    30.0708             1          0 -1.180535\n",
       "10   16.7000             2          0 -1.949034\n",
       "11   26.5500             0          0  2.200858\n",
       "12    8.0500             2          1 -0.719436\n",
       "13   31.2750             2          1  0.740711\n",
       "14    7.8542             2          0 -1.180535\n",
       "15   16.0000             1          0  1.970308\n",
       "16   29.1250             2          1 -2.102733\n",
       "17   13.0000             1          1 -0.104637\n",
       "18   18.0000             2          0  0.125912\n",
       "19    7.2250             2          0 -0.104637\n",
       "20   26.0000             1          1  0.433312\n",
       "21   13.0000             1          1  0.356462\n",
       "22    8.0292             2          0 -1.103685\n",
       "23   35.5000             0          1 -0.104637\n",
       "24   21.0750             2          0 -1.641634\n",
       "25   31.3875             2          0  0.663861\n",
       "26    7.2250             2          1 -0.104637\n",
       "27  263.0000             0          1 -0.796286\n",
       "28    7.8792             2          0 -0.104637\n",
       "29    7.8958             2          1 -0.104637"
      ]
     },
     "execution_count": 571,
     "metadata": {},
     "output_type": "execute_result"
    }
   ],
   "source": [
    "pipeline = Pipeline([\n",
    "    ('transform_data', TransformData()),\n",
    "    ('select_columns', SelectColumns())\n",
    "])\n",
    "\n",
    "X_train_processed = pipeline.fit_transform(X_train)\n",
    "X_train_processed.head(30)"
   ]
  },
  {
   "cell_type": "code",
   "execution_count": 572,
   "metadata": {},
   "outputs": [],
   "source": [
    "from sklearn.linear_model import LogisticRegression\n",
    "from sklearn.ensemble import RandomForestClassifier"
   ]
  },
  {
   "cell_type": "code",
   "execution_count": 573,
   "metadata": {},
   "outputs": [
    {
     "name": "stderr",
     "output_type": "stream",
     "text": [
      "C:\\Users\\ihate\\Anaconda3\\lib\\site-packages\\sklearn\\linear_model\\logistic.py:432: FutureWarning: Default solver will be changed to 'lbfgs' in 0.22. Specify a solver to silence this warning.\n",
      "  FutureWarning)\n"
     ]
    },
    {
     "data": {
      "text/plain": [
       "LogisticRegression(C=1.0, class_weight=None, dual=False, fit_intercept=True,\n",
       "                   intercept_scaling=1, l1_ratio=None, max_iter=100,\n",
       "                   multi_class='warn', n_jobs=None, penalty='l2',\n",
       "                   random_state=None, solver='warn', tol=0.0001, verbose=0,\n",
       "                   warm_start=False)"
      ]
     },
     "execution_count": 573,
     "metadata": {},
     "output_type": "execute_result"
    }
   ],
   "source": [
    "log_clf = LogisticRegression()\n",
    "log_clf.fit(X_train_processed, y_train)"
   ]
  },
  {
   "cell_type": "code",
   "execution_count": 574,
   "metadata": {},
   "outputs": [],
   "source": [
    "from sklearn.model_selection import cross_val_predict\n",
    "from sklearn.metrics import roc_auc_score, roc_curve"
   ]
  },
  {
   "cell_type": "code",
   "execution_count": 575,
   "metadata": {},
   "outputs": [],
   "source": [
    "def predict_results(model, data, actual):\n",
    "    predict = model.predict(data)\n",
    "\n",
    "    predict = cross_val_predict(model, data, actual, cv=3, method=\"predict_proba\")\n",
    "    predict = predict[:, 1] > 0.5\n",
    "\n",
    "    total = len(actual)\n",
    "\n",
    "    correct = sum(predict == actual)\n",
    "    print(f\"\\nAccuracy: {correct} out of {total}... {correct / total * 100}%\")\n",
    "\n",
    "    true_negative = sum((predict == actual) & (predict == 0))\n",
    "    true_positive = sum((predict == actual) & (predict == 1))\n",
    "    false_negative = sum((predict != actual) & (predict == 0))\n",
    "    false_positive = sum((predict != actual) & (predict == 1))\n",
    "    \n",
    "    conf_matrix = np.array([\n",
    "        [true_negative, false_positive],\n",
    "        [false_negative, true_positive]\n",
    "    ])\n",
    "    \n",
    "    print(\"\\nConfusion Matrix:\\n\", conf_matrix)\n",
    "    \n",
    "    precision = true_positive / (true_positive + false_positive)\n",
    "    recall = true_positive / (true_positive + false_negative)\n",
    "    f1_score = true_positive / (true_positive + ((false_negative + false_positive) / 2))\n",
    "    \n",
    "    print(f\"\\nPrecision: {precision}, Recall: {recall}, F1 Score: {f1_score}\")\n",
    "    \n",
    "#     fpr_forest, tpr_forest, thresholds_forest = roc_curve(y_train_5,y_scores_forest)\n",
    "    score = roc_auc_score(actual, predict)\n",
    "    print(\"\\nArea under curve:\", score)\n",
    "    \n",
    "    fpr, tpr, thresholds = roc_curve(actual, predict)\n",
    "\n",
    "    plt.plot(fpr, tpr, \"b:\", label=\"\")\n",
    "#     plot_roc_curve(fpr_forest, tpr_forest, \"Random Forest\")\n",
    "    plt.legend(loc=\"lower right\")\n",
    "    plt.show()\n",
    "\n",
    "    return predict\n"
   ]
  },
  {
   "cell_type": "code",
   "execution_count": 576,
   "metadata": {},
   "outputs": [
    {
     "name": "stderr",
     "output_type": "stream",
     "text": [
      "C:\\Users\\ihate\\Anaconda3\\lib\\site-packages\\sklearn\\linear_model\\logistic.py:432: FutureWarning: Default solver will be changed to 'lbfgs' in 0.22. Specify a solver to silence this warning.\n",
      "  FutureWarning)\n",
      "C:\\Users\\ihate\\Anaconda3\\lib\\site-packages\\sklearn\\linear_model\\logistic.py:432: FutureWarning: Default solver will be changed to 'lbfgs' in 0.22. Specify a solver to silence this warning.\n",
      "  FutureWarning)\n",
      "C:\\Users\\ihate\\Anaconda3\\lib\\site-packages\\sklearn\\linear_model\\logistic.py:432: FutureWarning: Default solver will be changed to 'lbfgs' in 0.22. Specify a solver to silence this warning.\n",
      "  FutureWarning)\n"
     ]
    },
    {
     "name": "stdout",
     "output_type": "stream",
     "text": [
      "\n",
      "Accuracy: 700 out of 891... 78.56341189674522%\n",
      "\n",
      "Confusion Matrix:\n",
      " [[461  88]\n",
      " [103 239]]\n",
      "\n",
      "Precision: 0.7308868501529052, Recall: 0.6988304093567251, F1 Score: 0.7144992526158446\n",
      "\n",
      "Area under curve: 0.7692694851883808\n"
     ]
    },
    {
     "name": "stderr",
     "output_type": "stream",
     "text": [
      "No handles with labels found to put in legend.\n"
     ]
    },
    {
     "data": {
      "image/png": "[encoded data removed]",
      "text/plain": [
       "<Figure size 432x288 with 1 Axes>"
      ]
     },
     "metadata": {
      "needs_background": "light"
     },
     "output_type": "display_data"
    }
   ],
   "source": [
    "a = predict_results(log_clf, pipeline.fit_transform(X_train), y_train)"
   ]
  },
  {
   "cell_type": "code",
   "execution_count": 577,
   "metadata": {},
   "outputs": [
    {
     "name": "stderr",
     "output_type": "stream",
     "text": [
      "C:\\Users\\ihate\\Anaconda3\\lib\\site-packages\\sklearn\\ensemble\\forest.py:245: FutureWarning: The default value of n_estimators will change from 10 in version 0.20 to 100 in 0.22.\n",
      "  \"10 in version 0.20 to 100 in 0.22.\", FutureWarning)\n"
     ]
    },
    {
     "data": {
      "text/plain": [
       "RandomForestClassifier(bootstrap=True, class_weight=None, criterion='gini',\n",
       "                       max_depth=None, max_features='auto', max_leaf_nodes=None,\n",
       "                       min_impurity_decrease=0.0, min_impurity_split=None,\n",
       "                       min_samples_leaf=1, min_samples_split=2,\n",
       "                       min_weight_fraction_leaf=0.0, n_estimators=10,\n",
       "                       n_jobs=None, oob_score=False, random_state=None,\n",
       "                       verbose=0, warm_start=False)"
      ]
     },
     "execution_count": 577,
     "metadata": {},
     "output_type": "execute_result"
    }
   ],
   "source": [
    "forest = RandomForestClassifier()\n",
    "forest.fit(X_train_processed, y_train)"
   ]
  },
  {
   "cell_type": "code",
   "execution_count": 578,
   "metadata": {},
   "outputs": [
    {
     "data": {
      "text/html": [
       "<div>\n",
       "<style scoped>\n",
       "    .dataframe tbody tr th:only-of-type {\n",
       "        vertical-align: middle;\n",
       "    }\n",
       "\n",
       "    .dataframe tbody tr th {\n",
       "        vertical-align: top;\n",
       "    }\n",
       "\n",
       "    .dataframe thead th {\n",
       "        text-align: right;\n",
       "    }\n",
       "</style>\n",
       "<table border=\"1\" class=\"dataframe\">\n",
       "  <thead>\n",
       "    <tr style=\"text-align: right;\">\n",
       "      <th></th>\n",
       "      <th>PassengerId</th>\n",
       "      <th>Pclass</th>\n",
       "      <th>Name</th>\n",
       "      <th>Sex</th>\n",
       "      <th>Age</th>\n",
       "      <th>SibSp</th>\n",
       "      <th>Parch</th>\n",
       "      <th>Ticket</th>\n",
       "      <th>Fare</th>\n",
       "      <th>Cabin</th>\n",
       "      <th>Embarked</th>\n",
       "    </tr>\n",
       "  </thead>\n",
       "  <tbody>\n",
       "    <tr>\n",
       "      <td>0</td>\n",
       "      <td>1</td>\n",
       "      <td>3</td>\n",
       "      <td>Braund, Mr. Owen Harris</td>\n",
       "      <td>male</td>\n",
       "      <td>22.0</td>\n",
       "      <td>1</td>\n",
       "      <td>0</td>\n",
       "      <td>A/5 21171</td>\n",
       "      <td>7.2500</td>\n",
       "      <td>NaN</td>\n",
       "      <td>S</td>\n",
       "    </tr>\n",
       "    <tr>\n",
       "      <td>1</td>\n",
       "      <td>2</td>\n",
       "      <td>1</td>\n",
       "      <td>Cumings, Mrs. John Bradley (Florence Briggs Th...</td>\n",
       "      <td>female</td>\n",
       "      <td>38.0</td>\n",
       "      <td>1</td>\n",
       "      <td>0</td>\n",
       "      <td>PC 17599</td>\n",
       "      <td>71.2833</td>\n",
       "      <td>C85</td>\n",
       "      <td>C</td>\n",
       "    </tr>\n",
       "    <tr>\n",
       "      <td>2</td>\n",
       "      <td>3</td>\n",
       "      <td>3</td>\n",
       "      <td>Heikkinen, Miss. Laina</td>\n",
       "      <td>female</td>\n",
       "      <td>26.0</td>\n",
       "      <td>0</td>\n",
       "      <td>0</td>\n",
       "      <td>STON/O2. 3101282</td>\n",
       "      <td>7.9250</td>\n",
       "      <td>NaN</td>\n",
       "      <td>S</td>\n",
       "    </tr>\n",
       "    <tr>\n",
       "      <td>3</td>\n",
       "      <td>4</td>\n",
       "      <td>1</td>\n",
       "      <td>Futrelle, Mrs. Jacques Heath (Lily May Peel)</td>\n",
       "      <td>female</td>\n",
       "      <td>35.0</td>\n",
       "      <td>1</td>\n",
       "      <td>0</td>\n",
       "      <td>113803</td>\n",
       "      <td>53.1000</td>\n",
       "      <td>C123</td>\n",
       "      <td>S</td>\n",
       "    </tr>\n",
       "    <tr>\n",
       "      <td>4</td>\n",
       "      <td>5</td>\n",
       "      <td>3</td>\n",
       "      <td>Allen, Mr. William Henry</td>\n",
       "      <td>male</td>\n",
       "      <td>35.0</td>\n",
       "      <td>0</td>\n",
       "      <td>0</td>\n",
       "      <td>373450</td>\n",
       "      <td>8.0500</td>\n",
       "      <td>NaN</td>\n",
       "      <td>S</td>\n",
       "    </tr>\n",
       "  </tbody>\n",
       "</table>\n",
       "</div>"
      ],
      "text/plain": [
       "   PassengerId  Pclass                                               Name  \\\n",
       "0            1       3                            Braund, Mr. Owen Harris   \n",
       "1            2       1  Cumings, Mrs. John Bradley (Florence Briggs Th...   \n",
       "2            3       3                             Heikkinen, Miss. Laina   \n",
       "3            4       1       Futrelle, Mrs. Jacques Heath (Lily May Peel)   \n",
       "4            5       3                           Allen, Mr. William Henry   \n",
       "\n",
       "      Sex   Age  SibSp  Parch            Ticket     Fare Cabin Embarked  \n",
       "0    male  22.0      1      0         A/5 21171   7.2500   NaN        S  \n",
       "1  female  38.0      1      0          PC 17599  71.2833   C85        C  \n",
       "2  female  26.0      0      0  STON/O2. 3101282   7.9250   NaN        S  \n",
       "3  female  35.0      1      0            113803  53.1000  C123        S  \n",
       "4    male  35.0      0      0            373450   8.0500   NaN        S  "
      ]
     },
     "execution_count": 578,
     "metadata": {},
     "output_type": "execute_result"
    }
   ],
   "source": [
    "X_train.head()"
   ]
  },
  {
   "cell_type": "code",
   "execution_count": 579,
   "metadata": {},
   "outputs": [
    {
     "name": "stdout",
     "output_type": "stream",
     "text": [
      "\n",
      "Accuracy: 705 out of 891... 79.12457912457911%\n",
      "\n",
      "Confusion Matrix:\n",
      " [[473  76]\n",
      " [110 232]]\n",
      "\n",
      "Precision: 0.7532467532467533, Recall: 0.6783625730994152, F1 Score: 0.7138461538461538\n",
      "\n",
      "Area under curve: 0.7699645288083597\n"
     ]
    },
    {
     "name": "stderr",
     "output_type": "stream",
     "text": [
      "No handles with labels found to put in legend.\n"
     ]
    },
    {
     "data": {
      "image/png": "[encoded data removed]",
      "text/plain": [
       "<Figure size 432x288 with 1 Axes>"
      ]
     },
     "metadata": {
      "needs_background": "light"
     },
     "output_type": "display_data"
    },
    {
     "data": {
      "text/plain": [
       "array([False,  True, False,  True, False, False, False,  True, False,\n",
       "        True,  True,  True, False, False,  True,  True, False, False,\n",
       "        True,  True, False, False, False, False, False, False, False,\n",
       "       False,  True, False, False,  True,  True,  True, False,  True,\n",
       "       False, False,  True,  True, False,  True, False,  True, False,\n",
       "       False, False,  True, False,  True, False,  True,  True,  True,\n",
       "       False, False,  True, False,  True, False,  True,  True, False,\n",
       "       False, False, False,  True, False, False, False, False, False,\n",
       "       False, False,  True, False, False, False,  True, False, False,\n",
       "       False,  True, False,  True, False, False, False,  True, False,\n",
       "       False, False,  True, False, False, False, False,  True,  True,\n",
       "       False,  True, False, False, False, False, False, False, False,\n",
       "       False, False, False,  True, False, False, False, False, False,\n",
       "       False, False, False, False, False, False,  True,  True, False,\n",
       "       False, False,  True, False, False, False, False,  True, False,\n",
       "       False,  True,  True, False,  True,  True, False, False, False,\n",
       "       False, False, False, False, False, False, False,  True, False,\n",
       "       False, False,  True,  True, False, False, False, False,  True,\n",
       "       False, False, False, False,  True, False, False,  True, False,\n",
       "       False,  True, False, False, False, False,  True, False, False,\n",
       "       False, False, False,  True, False, False,  True, False, False,\n",
       "       False,  True, False, False,  True,  True,  True, False, False,\n",
       "        True,  True, False, False, False, False, False,  True, False,\n",
       "       False,  True, False, False,  True, False, False, False,  True,\n",
       "       False, False,  True, False, False, False, False, False, False,\n",
       "       False, False, False, False, False,  True,  True, False, False,\n",
       "       False,  True, False,  True, False, False, False,  True, False,\n",
       "        True, False, False,  True,  True,  True, False, False, False,\n",
       "       False, False, False, False,  True,  True,  True,  True, False,\n",
       "       False,  True, False,  True, False, False, False,  True,  True,\n",
       "       False, False,  True,  True,  True,  True, False, False, False,\n",
       "       False, False, False, False, False, False, False, False, False,\n",
       "       False, False,  True,  True, False, False, False, False, False,\n",
       "        True, False,  True,  True, False, False,  True, False,  True,\n",
       "        True,  True, False,  True,  True,  True,  True, False, False,\n",
       "        True,  True, False,  True,  True, False, False,  True,  True,\n",
       "       False,  True, False,  True, False,  True,  True, False,  True,\n",
       "       False,  True, False, False,  True, False,  True,  True,  True,\n",
       "        True, False, False, False,  True,  True,  True, False, False,\n",
       "        True, False, False, False, False,  True,  True,  True,  True,\n",
       "       False, False, False, False, False, False,  True,  True,  True,\n",
       "        True, False, False,  True, False,  True,  True,  True,  True,\n",
       "       False, False,  True,  True, False,  True, False, False, False,\n",
       "        True, False,  True, False, False, False,  True, False,  True,\n",
       "       False, False, False,  True, False, False, False, False,  True,\n",
       "       False, False,  True, False, False, False, False,  True, False,\n",
       "       False, False,  True, False, False, False, False, False, False,\n",
       "       False, False, False,  True,  True, False, False, False,  True,\n",
       "        True, False,  True,  True, False,  True, False, False,  True,\n",
       "       False,  True,  True, False,  True,  True,  True,  True,  True,\n",
       "       False, False, False, False, False, False, False,  True,  True,\n",
       "       False,  True, False, False, False, False, False, False, False,\n",
       "       False,  True, False, False,  True,  True, False, False, False,\n",
       "       False, False,  True, False, False, False, False, False, False,\n",
       "        True, False, False,  True, False, False, False, False, False,\n",
       "       False,  True, False,  True,  True, False,  True,  True, False,\n",
       "        True, False,  True, False, False, False, False, False,  True,\n",
       "        True, False,  True,  True, False,  True, False,  True, False,\n",
       "       False,  True, False, False,  True, False, False, False,  True,\n",
       "       False, False,  True,  True,  True,  True,  True, False,  True,\n",
       "        True, False, False, False, False, False,  True,  True, False,\n",
       "       False, False, False, False, False, False, False,  True, False,\n",
       "        True, False, False, False,  True, False, False, False, False,\n",
       "        True, False, False, False,  True,  True,  True, False, False,\n",
       "        True,  True, False, False,  True,  True, False,  True, False,\n",
       "        True, False, False, False, False, False,  True, False,  True,\n",
       "       False, False,  True, False, False, False,  True, False, False,\n",
       "        True,  True, False, False,  True,  True,  True,  True, False,\n",
       "        True, False, False,  True, False,  True,  True, False, False,\n",
       "       False, False, False, False, False, False,  True, False, False,\n",
       "       False, False,  True, False, False,  True, False, False, False,\n",
       "       False, False,  True, False, False,  True, False, False, False,\n",
       "       False,  True, False,  True, False,  True,  True, False, False,\n",
       "        True, False, False, False, False, False, False, False, False,\n",
       "       False,  True, False,  True,  True, False, False, False, False,\n",
       "       False, False, False, False, False, False, False, False, False,\n",
       "       False, False, False, False, False,  True, False,  True, False,\n",
       "       False, False, False,  True,  True, False, False,  True,  True,\n",
       "       False, False, False, False,  True,  True, False, False,  True,\n",
       "        True, False,  True, False, False,  True,  True, False, False,\n",
       "        True, False, False, False, False, False,  True,  True, False,\n",
       "        True,  True, False, False, False, False, False, False, False,\n",
       "       False, False, False, False,  True, False, False, False, False,\n",
       "        True,  True, False,  True,  True, False, False,  True,  True,\n",
       "        True, False, False,  True, False, False, False,  True, False,\n",
       "        True, False, False, False, False, False, False,  True, False,\n",
       "        True, False, False,  True, False,  True,  True,  True, False,\n",
       "        True, False, False,  True, False, False, False, False, False,\n",
       "       False,  True, False, False,  True, False, False,  True, False,\n",
       "        True,  True, False, False, False, False,  True, False,  True,\n",
       "       False, False, False, False, False, False,  True, False, False,\n",
       "       False,  True, False, False,  True, False, False, False,  True,\n",
       "       False,  True, False,  True, False, False, False,  True, False,\n",
       "       False,  True, False, False, False,  True, False, False, False,\n",
       "       False, False, False,  True, False, False,  True,  True,  True,\n",
       "       False,  True, False,  True, False, False, False,  True, False,\n",
       "       False,  True,  True, False, False,  True, False,  True, False,\n",
       "       False,  True,  True, False, False, False,  True,  True, False,\n",
       "       False, False, False,  True, False,  True,  True, False, False])"
      ]
     },
     "execution_count": 579,
     "metadata": {},
     "output_type": "execute_result"
    }
   ],
   "source": [
    "predict_results(forest, pipeline.fit_transform(X_train), y_train)"
   ]
  },
  {
   "cell_type": "code",
   "execution_count": 580,
   "metadata": {},
   "outputs": [
    {
     "data": {
      "text/plain": [
       "[(0.334743040851135, 'Fare'),\n",
       " (0.10998024409758896, 'Pclass_Label'),\n",
       " (0.2808954389717655, 'Sex_Label'),\n",
       " (0.2743812760795107, 'Age')]"
      ]
     },
     "execution_count": 580,
     "metadata": {},
     "output_type": "execute_result"
    }
   ],
   "source": [
    "list(zip(forest.feature_importances_, \n",
    "    columns\n",
    "))"
   ]
  },
  {
   "cell_type": "code",
   "execution_count": 557,
   "metadata": {},
   "outputs": [],
   "source": [
    "gender_submission = pd.read_csv(os.path.join(titanic_path, \"gender_submission.csv\"))"
   ]
  },
  {
   "cell_type": "code",
   "execution_count": 558,
   "metadata": {},
   "outputs": [
    {
     "data": {
      "text/html": [
       "<div>\n",
       "<style scoped>\n",
       "    .dataframe tbody tr th:only-of-type {\n",
       "        vertical-align: middle;\n",
       "    }\n",
       "\n",
       "    .dataframe tbody tr th {\n",
       "        vertical-align: top;\n",
       "    }\n",
       "\n",
       "    .dataframe thead th {\n",
       "        text-align: right;\n",
       "    }\n",
       "</style>\n",
       "<table border=\"1\" class=\"dataframe\">\n",
       "  <thead>\n",
       "    <tr style=\"text-align: right;\">\n",
       "      <th></th>\n",
       "      <th>PassengerId</th>\n",
       "      <th>Survived</th>\n",
       "    </tr>\n",
       "  </thead>\n",
       "  <tbody>\n",
       "    <tr>\n",
       "      <td>0</td>\n",
       "      <td>892</td>\n",
       "      <td>0</td>\n",
       "    </tr>\n",
       "    <tr>\n",
       "      <td>1</td>\n",
       "      <td>893</td>\n",
       "      <td>1</td>\n",
       "    </tr>\n",
       "    <tr>\n",
       "      <td>2</td>\n",
       "      <td>894</td>\n",
       "      <td>0</td>\n",
       "    </tr>\n",
       "    <tr>\n",
       "      <td>3</td>\n",
       "      <td>895</td>\n",
       "      <td>0</td>\n",
       "    </tr>\n",
       "    <tr>\n",
       "      <td>4</td>\n",
       "      <td>896</td>\n",
       "      <td>1</td>\n",
       "    </tr>\n",
       "  </tbody>\n",
       "</table>\n",
       "</div>"
      ],
      "text/plain": [
       "   PassengerId  Survived\n",
       "0          892         0\n",
       "1          893         1\n",
       "2          894         0\n",
       "3          895         0\n",
       "4          896         1"
      ]
     },
     "execution_count": 558,
     "metadata": {},
     "output_type": "execute_result"
    }
   ],
   "source": [
    "gender_submission.head()"
   ]
  },
  {
   "cell_type": "code",
   "execution_count": 559,
   "metadata": {},
   "outputs": [
    {
     "name": "stdout",
     "output_type": "stream",
     "text": [
      "<class 'pandas.core.frame.DataFrame'>\n",
      "RangeIndex: 418 entries, 0 to 417\n",
      "Data columns (total 2 columns):\n",
      "PassengerId    418 non-null int64\n",
      "Survived       418 non-null int64\n",
      "dtypes: int64(2)\n",
      "memory usage: 6.7 KB\n"
     ]
    }
   ],
   "source": [
    "gender_submission.info()"
   ]
  },
  {
   "cell_type": "code",
   "execution_count": 560,
   "metadata": {},
   "outputs": [],
   "source": [
    "predict = forest.predict(pipeline.fit_transform(X_test))"
   ]
  },
  {
   "cell_type": "code",
   "execution_count": 561,
   "metadata": {},
   "outputs": [
    {
     "data": {
      "text/plain": [
       "418"
      ]
     },
     "execution_count": 561,
     "metadata": {},
     "output_type": "execute_result"
    }
   ],
   "source": [
    "len(predict)"
   ]
  },
  {
   "cell_type": "code",
   "execution_count": 562,
   "metadata": {},
   "outputs": [],
   "source": [
    "gender_submission[\"Survived\"] = predict"
   ]
  },
  {
   "cell_type": "code",
   "execution_count": 563,
   "metadata": {},
   "outputs": [
    {
     "data": {
      "text/html": [
       "<div>\n",
       "<style scoped>\n",
       "    .dataframe tbody tr th:only-of-type {\n",
       "        vertical-align: middle;\n",
       "    }\n",
       "\n",
       "    .dataframe tbody tr th {\n",
       "        vertical-align: top;\n",
       "    }\n",
       "\n",
       "    .dataframe thead th {\n",
       "        text-align: right;\n",
       "    }\n",
       "</style>\n",
       "<table border=\"1\" class=\"dataframe\">\n",
       "  <thead>\n",
       "    <tr style=\"text-align: right;\">\n",
       "      <th></th>\n",
       "      <th>PassengerId</th>\n",
       "      <th>Survived</th>\n",
       "    </tr>\n",
       "  </thead>\n",
       "  <tbody>\n",
       "    <tr>\n",
       "      <td>0</td>\n",
       "      <td>892</td>\n",
       "      <td>0</td>\n",
       "    </tr>\n",
       "    <tr>\n",
       "      <td>1</td>\n",
       "      <td>893</td>\n",
       "      <td>0</td>\n",
       "    </tr>\n",
       "    <tr>\n",
       "      <td>2</td>\n",
       "      <td>894</td>\n",
       "      <td>1</td>\n",
       "    </tr>\n",
       "    <tr>\n",
       "      <td>3</td>\n",
       "      <td>895</td>\n",
       "      <td>1</td>\n",
       "    </tr>\n",
       "    <tr>\n",
       "      <td>4</td>\n",
       "      <td>896</td>\n",
       "      <td>0</td>\n",
       "    </tr>\n",
       "  </tbody>\n",
       "</table>\n",
       "</div>"
      ],
      "text/plain": [
       "   PassengerId  Survived\n",
       "0          892         0\n",
       "1          893         0\n",
       "2          894         1\n",
       "3          895         1\n",
       "4          896         0"
      ]
     },
     "execution_count": 563,
     "metadata": {},
     "output_type": "execute_result"
    }
   ],
   "source": [
    "gender_submission.head()"
   ]
  },
  {
   "cell_type": "code",
   "execution_count": 564,
   "metadata": {},
   "outputs": [
    {
     "name": "stdout",
     "output_type": "stream",
     "text": [
      "<class 'pandas.core.frame.DataFrame'>\n",
      "RangeIndex: 418 entries, 0 to 417\n",
      "Data columns (total 2 columns):\n",
      "PassengerId    418 non-null int64\n",
      "Survived       418 non-null int64\n",
      "dtypes: int64(2)\n",
      "memory usage: 6.7 KB\n"
     ]
    }
   ],
   "source": [
    "gender_submission.info()"
   ]
  },
  {
   "cell_type": "code",
   "execution_count": 565,
   "metadata": {},
   "outputs": [],
   "source": [
    "submit_path = os.path.join(titanic_path, \"submit.csv\")\n",
    "gender_submission.to_csv(submit_path, index=False)"
   ]
  },
  {
   "cell_type": "code",
   "execution_count": 566,
   "metadata": {},
   "outputs": [
    {
     "data": {
      "text/html": [
       "<div>\n",
       "<style scoped>\n",
       "    .dataframe tbody tr th:only-of-type {\n",
       "        vertical-align: middle;\n",
       "    }\n",
       "\n",
       "    .dataframe tbody tr th {\n",
       "        vertical-align: top;\n",
       "    }\n",
       "\n",
       "    .dataframe thead th {\n",
       "        text-align: right;\n",
       "    }\n",
       "</style>\n",
       "<table border=\"1\" class=\"dataframe\">\n",
       "  <thead>\n",
       "    <tr style=\"text-align: right;\">\n",
       "      <th></th>\n",
       "      <th>PassengerId</th>\n",
       "      <th>Survived</th>\n",
       "    </tr>\n",
       "  </thead>\n",
       "  <tbody>\n",
       "    <tr>\n",
       "      <td>0</td>\n",
       "      <td>892</td>\n",
       "      <td>0</td>\n",
       "    </tr>\n",
       "    <tr>\n",
       "      <td>1</td>\n",
       "      <td>893</td>\n",
       "      <td>0</td>\n",
       "    </tr>\n",
       "    <tr>\n",
       "      <td>2</td>\n",
       "      <td>894</td>\n",
       "      <td>1</td>\n",
       "    </tr>\n",
       "    <tr>\n",
       "      <td>3</td>\n",
       "      <td>895</td>\n",
       "      <td>1</td>\n",
       "    </tr>\n",
       "    <tr>\n",
       "      <td>4</td>\n",
       "      <td>896</td>\n",
       "      <td>0</td>\n",
       "    </tr>\n",
       "  </tbody>\n",
       "</table>\n",
       "</div>"
      ],
      "text/plain": [
       "   PassengerId  Survived\n",
       "0          892         0\n",
       "1          893         0\n",
       "2          894         1\n",
       "3          895         1\n",
       "4          896         0"
      ]
     },
     "execution_count": 566,
     "metadata": {},
     "output_type": "execute_result"
    }
   ],
   "source": [
    "test_submit = pd.read_csv(submit_path)\n",
    "test_submit.head()"
   ]
  },
  {
   "cell_type": "code",
   "execution_count": 567,
   "metadata": {},
   "outputs": [],
   "source": [
    "from subprocess import Popen, check_call, check_output\n",
    "import subprocess"
   ]
  },
  {
   "cell_type": "code",
   "execution_count": 568,
   "metadata": {},
   "outputs": [],
   "source": [
    "def submit(submit_path, message):\n",
    "    try:\n",
    "        print(check_output([\"kaggle\", \"competitions\", \"submit\", \"titanic\", \"-f\", submit_path, \"-m\", message], \n",
    "                           shell=True, text=True, stderr=subprocess.STDOUT))\n",
    "    except subprocess.CalledProcessError as e:\n",
    "        print('error>', e.output, '<')\n"
   ]
  },
  {
   "cell_type": "code",
   "execution_count": 569,
   "metadata": {},
   "outputs": [
    {
     "name": "stdout",
     "output_type": "stream",
     "text": [
      "\n",
      "  0%|          | 0.00/3.18k [00:00<?, ?B/s]\n",
      "100%|##########| 3.18k/3.18k [00:00<00:00, 9.52kB/s]\n",
      "100%|##########| 3.18k/3.18k [00:04<00:00, 680B/s]  \n",
      "Successfully submitted to Titanic: Machine Learning from Disaster\n"
     ]
    }
   ],
   "source": [
    "submit(submit_path, \"Third submission\")"
   ]
  },
  {
   "cell_type": "markdown",
   "metadata": {},
   "source": [
    "## Results"
   ]
  },
  {
   "cell_type": "markdown",
   "metadata": {},
   "source": [
    "First submission:\n",
    "\n",
    "Score: 0.75598\n",
    "\n",
    "Accuracy: 710 out of 891... 79.68574635241302%\n",
    "\n",
    "Confusion Matrix:\n",
    "\n",
    " [[488  61]\n",
    " \n",
    " [120 222]]\n",
    "\n",
    "Precision: 0.784452296819788, Recall: 0.6491228070175439, F1 Score: 0.7104\n",
    "\n",
    "Area under curve: 0.7690058479532164"
   ]
  },
  {
   "cell_type": "code",
   "execution_count": null,
   "metadata": {},
   "outputs": [],
   "source": []
  }
 ],
 "metadata": {
  "kernelspec": {
   "display_name": "Python 3",
   "language": "python",
   "name": "python3"
  },
  "language_info": {
   "codemirror_mode": {
    "name": "ipython",
    "version": 3
   },
   "file_extension": ".py",
   "mimetype": "text/x-python",
   "name": "python",
   "nbconvert_exporter": "python",
   "pygments_lexer": "ipython3",
   "version": "3.7.4"
  }
 },
 "nbformat": 4,
 "nbformat_minor": 2
}
