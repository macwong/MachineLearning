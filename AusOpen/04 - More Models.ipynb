{
 "cells": [
  {
   "cell_type": "code",
   "execution_count": 17,
   "metadata": {
    "collapsed": true
   },
   "outputs": [],
   "source": [
    "import pandas as pd\n",
    "import numpy as np\n",
    "from sklearn.linear_model import LogisticRegression\n",
    "from sklearn.metrics import log_loss\n",
    "from sklearn.model_selection import train_test_split\n",
    "import davemodel\n",
    "from davemodel import MyLogisticRegression, DaveModelBase\n",
    "from importlib import reload\n"
   ]
  },
  {
   "cell_type": "code",
   "execution_count": 2,
   "metadata": {
    "collapsed": true
   },
   "outputs": [],
   "source": [
    "men_train = pd.read_csv(\"_RawData/mens_train_file.csv\")\n",
    "men_test = pd.read_csv(\"_RawData/mens_test_file.csv\")\n",
    "women_train = pd.read_csv(\"_RawData/womens_train_file.csv\")\n",
    "women_test = pd.read_csv(\"_RawData/womens_test_file.csv\")\n"
   ]
  },
  {
   "cell_type": "code",
   "execution_count": 3,
   "metadata": {},
   "outputs": [
    {
     "name": "stdout",
     "output_type": "stream",
     "text": [
      "(5000, 28)\n",
      "(2000, 28)\n",
      "(5000, 28)\n",
      "(1000, 28)\n"
     ]
    }
   ],
   "source": [
    "print(men_train.shape)\n",
    "print(men_test.shape)\n",
    "print(women_train.shape)\n",
    "print(women_test.shape)\n"
   ]
  },
  {
   "cell_type": "code",
   "execution_count": 4,
   "metadata": {},
   "outputs": [
    {
     "data": {
      "text/html": [
       "<div>\n",
       "<style>\n",
       "    .dataframe thead tr:only-child th {\n",
       "        text-align: right;\n",
       "    }\n",
       "\n",
       "    .dataframe thead th {\n",
       "        text-align: left;\n",
       "    }\n",
       "\n",
       "    .dataframe tbody tr th {\n",
       "        vertical-align: top;\n",
       "    }\n",
       "</style>\n",
       "<table border=\"1\" class=\"dataframe\">\n",
       "  <thead>\n",
       "    <tr style=\"text-align: right;\">\n",
       "      <th></th>\n",
       "      <th>Name</th>\n",
       "      <th>Type</th>\n",
       "      <th>Unique</th>\n",
       "      <th>NA</th>\n",
       "    </tr>\n",
       "  </thead>\n",
       "  <tbody>\n",
       "    <tr>\n",
       "      <th>23</th>\n",
       "      <td>server.is.impact.player</td>\n",
       "      <td>bool</td>\n",
       "      <td>2</td>\n",
       "      <td>0</td>\n",
       "    </tr>\n",
       "    <tr>\n",
       "      <th>20</th>\n",
       "      <td>same.side</td>\n",
       "      <td>bool</td>\n",
       "      <td>2</td>\n",
       "      <td>0</td>\n",
       "    </tr>\n",
       "    <tr>\n",
       "      <th>7</th>\n",
       "      <td>outside.sideline</td>\n",
       "      <td>bool</td>\n",
       "      <td>2</td>\n",
       "      <td>0</td>\n",
       "    </tr>\n",
       "    <tr>\n",
       "      <th>8</th>\n",
       "      <td>outside.baseline</td>\n",
       "      <td>bool</td>\n",
       "      <td>2</td>\n",
       "      <td>0</td>\n",
       "    </tr>\n",
       "    <tr>\n",
       "      <th>0</th>\n",
       "      <td>rally</td>\n",
       "      <td>int64</td>\n",
       "      <td>30</td>\n",
       "      <td>0</td>\n",
       "    </tr>\n",
       "    <tr>\n",
       "      <th>1</th>\n",
       "      <td>serve</td>\n",
       "      <td>int64</td>\n",
       "      <td>2</td>\n",
       "      <td>0</td>\n",
       "    </tr>\n",
       "    <tr>\n",
       "      <th>25</th>\n",
       "      <td>train</td>\n",
       "      <td>int64</td>\n",
       "      <td>1</td>\n",
       "      <td>0</td>\n",
       "    </tr>\n",
       "    <tr>\n",
       "      <th>24</th>\n",
       "      <td>id</td>\n",
       "      <td>int64</td>\n",
       "      <td>5000</td>\n",
       "      <td>0</td>\n",
       "    </tr>\n",
       "    <tr>\n",
       "      <th>22</th>\n",
       "      <td>previous.time.to.net</td>\n",
       "      <td>float64</td>\n",
       "      <td>5000</td>\n",
       "      <td>0</td>\n",
       "    </tr>\n",
       "    <tr>\n",
       "      <th>19</th>\n",
       "      <td>opponent.distance.from.center</td>\n",
       "      <td>float64</td>\n",
       "      <td>4505</td>\n",
       "      <td>0</td>\n",
       "    </tr>\n",
       "    <tr>\n",
       "      <th>18</th>\n",
       "      <td>opponent.depth</td>\n",
       "      <td>float64</td>\n",
       "      <td>4605</td>\n",
       "      <td>0</td>\n",
       "    </tr>\n",
       "    <tr>\n",
       "      <th>17</th>\n",
       "      <td>previous.depth</td>\n",
       "      <td>float64</td>\n",
       "      <td>5000</td>\n",
       "      <td>0</td>\n",
       "    </tr>\n",
       "    <tr>\n",
       "      <th>16</th>\n",
       "      <td>previous.distance.from.sideline</td>\n",
       "      <td>float64</td>\n",
       "      <td>5000</td>\n",
       "      <td>0</td>\n",
       "    </tr>\n",
       "    <tr>\n",
       "      <th>15</th>\n",
       "      <td>previous.net.clearance</td>\n",
       "      <td>float64</td>\n",
       "      <td>5000</td>\n",
       "      <td>0</td>\n",
       "    </tr>\n",
       "    <tr>\n",
       "      <th>13</th>\n",
       "      <td>player.distance.from.center</td>\n",
       "      <td>float64</td>\n",
       "      <td>4219</td>\n",
       "      <td>0</td>\n",
       "    </tr>\n",
       "    <tr>\n",
       "      <th>12</th>\n",
       "      <td>player.depth</td>\n",
       "      <td>float64</td>\n",
       "      <td>4582</td>\n",
       "      <td>0</td>\n",
       "    </tr>\n",
       "    <tr>\n",
       "      <th>11</th>\n",
       "      <td>player.impact.distance.from.center</td>\n",
       "      <td>float64</td>\n",
       "      <td>4447</td>\n",
       "      <td>0</td>\n",
       "    </tr>\n",
       "    <tr>\n",
       "      <th>10</th>\n",
       "      <td>player.impact.depth</td>\n",
       "      <td>float64</td>\n",
       "      <td>4686</td>\n",
       "      <td>0</td>\n",
       "    </tr>\n",
       "    <tr>\n",
       "      <th>9</th>\n",
       "      <td>player.distance.travelled</td>\n",
       "      <td>float64</td>\n",
       "      <td>4991</td>\n",
       "      <td>0</td>\n",
       "    </tr>\n",
       "    <tr>\n",
       "      <th>6</th>\n",
       "      <td>depth</td>\n",
       "      <td>float64</td>\n",
       "      <td>5000</td>\n",
       "      <td>0</td>\n",
       "    </tr>\n",
       "    <tr>\n",
       "      <th>5</th>\n",
       "      <td>distance.from.sideline</td>\n",
       "      <td>float64</td>\n",
       "      <td>5000</td>\n",
       "      <td>0</td>\n",
       "    </tr>\n",
       "    <tr>\n",
       "      <th>4</th>\n",
       "      <td>net.clearance</td>\n",
       "      <td>float64</td>\n",
       "      <td>4999</td>\n",
       "      <td>0</td>\n",
       "    </tr>\n",
       "    <tr>\n",
       "      <th>3</th>\n",
       "      <td>speed</td>\n",
       "      <td>float64</td>\n",
       "      <td>5000</td>\n",
       "      <td>0</td>\n",
       "    </tr>\n",
       "    <tr>\n",
       "      <th>14</th>\n",
       "      <td>previous.speed</td>\n",
       "      <td>float64</td>\n",
       "      <td>5000</td>\n",
       "      <td>0</td>\n",
       "    </tr>\n",
       "    <tr>\n",
       "      <th>26</th>\n",
       "      <td>outcome</td>\n",
       "      <td>object</td>\n",
       "      <td>3</td>\n",
       "      <td>0</td>\n",
       "    </tr>\n",
       "    <tr>\n",
       "      <th>21</th>\n",
       "      <td>previous.hitpoint</td>\n",
       "      <td>object</td>\n",
       "      <td>4</td>\n",
       "      <td>0</td>\n",
       "    </tr>\n",
       "    <tr>\n",
       "      <th>2</th>\n",
       "      <td>hitpoint</td>\n",
       "      <td>object</td>\n",
       "      <td>4</td>\n",
       "      <td>0</td>\n",
       "    </tr>\n",
       "    <tr>\n",
       "      <th>27</th>\n",
       "      <td>gender</td>\n",
       "      <td>object</td>\n",
       "      <td>1</td>\n",
       "      <td>0</td>\n",
       "    </tr>\n",
       "  </tbody>\n",
       "</table>\n",
       "</div>"
      ],
      "text/plain": [
       "                                  Name     Type Unique NA\n",
       "23             server.is.impact.player     bool      2  0\n",
       "20                           same.side     bool      2  0\n",
       "7                     outside.sideline     bool      2  0\n",
       "8                     outside.baseline     bool      2  0\n",
       "0                                rally    int64     30  0\n",
       "1                                serve    int64      2  0\n",
       "25                               train    int64      1  0\n",
       "24                                  id    int64   5000  0\n",
       "22                previous.time.to.net  float64   5000  0\n",
       "19       opponent.distance.from.center  float64   4505  0\n",
       "18                      opponent.depth  float64   4605  0\n",
       "17                      previous.depth  float64   5000  0\n",
       "16     previous.distance.from.sideline  float64   5000  0\n",
       "15              previous.net.clearance  float64   5000  0\n",
       "13         player.distance.from.center  float64   4219  0\n",
       "12                        player.depth  float64   4582  0\n",
       "11  player.impact.distance.from.center  float64   4447  0\n",
       "10                 player.impact.depth  float64   4686  0\n",
       "9            player.distance.travelled  float64   4991  0\n",
       "6                                depth  float64   5000  0\n",
       "5               distance.from.sideline  float64   5000  0\n",
       "4                        net.clearance  float64   4999  0\n",
       "3                                speed  float64   5000  0\n",
       "14                      previous.speed  float64   5000  0\n",
       "26                             outcome   object      3  0\n",
       "21                   previous.hitpoint   object      4  0\n",
       "2                             hitpoint   object      4  0\n",
       "27                              gender   object      1  0"
      ]
     },
     "execution_count": 4,
     "metadata": {},
     "output_type": "execute_result"
    }
   ],
   "source": [
    "# Analyse data\n",
    "\n",
    "men_analyse = pd.DataFrame(columns=[\"Name\", \"Type\", \"Unique\", \"NA\"])\n",
    "\n",
    "for col in men_train.columns:\n",
    "    men_data = men_train[col]\n",
    "    men_analyse = men_analyse.append({\n",
    "        \"Name\": col, \n",
    "        \"Type\": men_data.dtype, \n",
    "        \"Unique\": men_data.nunique(), \n",
    "        \"NA\": men_data.isnull().sum()\n",
    "    }, ignore_index=True)\n",
    "\n",
    "men_analyse.sort_values(by = \"Type\")"
   ]
  },
  {
   "cell_type": "code",
   "execution_count": 5,
   "metadata": {},
   "outputs": [
    {
     "name": "stdout",
     "output_type": "stream",
     "text": [
      "35\n",
      "35\n",
      "35\n",
      "35\n",
      "(5000, 35)\n",
      "(5000,)\n",
      "(5000, 35)\n",
      "(5000,)\n",
      "(2000, 35)\n",
      "(1000, 35)\n"
     ]
    }
   ],
   "source": [
    "# Remove unneeded columns\n",
    "def process_data(data, gender):\n",
    "    ids = data[\"id\"].apply(lambda x: str(x) + \"_\" + gender)\n",
    "\n",
    "    cat_cols = [\"server.is.impact.player\", \"same.side\", \"outside.baseline\", \"outside.sideline\", \"serve\", \"hitpoint\", \"previous.hitpoint\"]\n",
    "    drop_cols = [\"id\", \"train\", \"gender\", \"outcome\"]\n",
    "    drop_cols += cat_cols\n",
    "    num_cols = [x for x in data.columns.tolist() if x not in drop_cols]\n",
    "    \n",
    "    print(len(cat_cols) + len(drop_cols) + len(num_cols))\n",
    "    \n",
    "    new_data = data.copy()\n",
    "    new_data = pd.get_dummies(new_data, columns = cat_cols)\n",
    "    \n",
    "    for col in drop_cols:\n",
    "        if new_data.columns.contains(col):\n",
    "            new_data = new_data.drop([col], axis = 1)\n",
    "            \n",
    "    new_data[num_cols] = (new_data[num_cols] - new_data[num_cols].mean()) / new_data[num_cols].std()\n",
    "            \n",
    "    return ids, new_data\n",
    "\n",
    "    \n",
    "def get_train_data(data, gender):\n",
    "    new_label = data[\"outcome\"]\n",
    "    ids, new_data = process_data(data, gender)\n",
    "\n",
    "    return ids, new_data, new_label\n",
    "\n",
    "men_ids, X_men, y_men = get_train_data(men_train, \"mens\")\n",
    "women_ids, X_women, y_women = get_train_data(women_train, \"womens\")\n",
    "\n",
    "men_test_ids, X_men_test = process_data(men_test, \"mens\")\n",
    "women_test_ids, X_women_test = process_data(women_test, \"womens\")\n",
    "\n",
    "print(X_men.shape)\n",
    "print(y_men.shape)\n",
    "print(X_women.shape)\n",
    "print(y_women.shape)\n",
    "print(X_men_test.shape)\n",
    "print(X_women_test.shape)\n"
   ]
  },
  {
   "cell_type": "code",
   "execution_count": 6,
   "metadata": {},
   "outputs": [
    {
     "data": {
      "text/html": [
       "<div>\n",
       "<style>\n",
       "    .dataframe thead tr:only-child th {\n",
       "        text-align: right;\n",
       "    }\n",
       "\n",
       "    .dataframe thead th {\n",
       "        text-align: left;\n",
       "    }\n",
       "\n",
       "    .dataframe tbody tr th {\n",
       "        vertical-align: top;\n",
       "    }\n",
       "</style>\n",
       "<table border=\"1\" class=\"dataframe\">\n",
       "  <thead>\n",
       "    <tr style=\"text-align: right;\">\n",
       "      <th></th>\n",
       "      <th>rally</th>\n",
       "      <th>speed</th>\n",
       "      <th>net.clearance</th>\n",
       "      <th>distance.from.sideline</th>\n",
       "      <th>depth</th>\n",
       "      <th>player.distance.travelled</th>\n",
       "      <th>player.impact.depth</th>\n",
       "      <th>player.impact.distance.from.center</th>\n",
       "      <th>player.depth</th>\n",
       "      <th>player.distance.from.center</th>\n",
       "      <th>previous.speed</th>\n",
       "      <th>previous.net.clearance</th>\n",
       "      <th>previous.distance.from.sideline</th>\n",
       "      <th>previous.depth</th>\n",
       "      <th>opponent.depth</th>\n",
       "      <th>opponent.distance.from.center</th>\n",
       "      <th>previous.time.to.net</th>\n",
       "      <th>server.is.impact.player_False</th>\n",
       "      <th>server.is.impact.player_True</th>\n",
       "      <th>same.side_False</th>\n",
       "      <th>same.side_True</th>\n",
       "      <th>outside.baseline_False</th>\n",
       "      <th>outside.baseline_True</th>\n",
       "      <th>outside.sideline_False</th>\n",
       "      <th>outside.sideline_True</th>\n",
       "      <th>serve_1</th>\n",
       "      <th>serve_2</th>\n",
       "      <th>hitpoint_B</th>\n",
       "      <th>hitpoint_F</th>\n",
       "      <th>hitpoint_U</th>\n",
       "      <th>hitpoint_V</th>\n",
       "      <th>previous.hitpoint_B</th>\n",
       "      <th>previous.hitpoint_F</th>\n",
       "      <th>previous.hitpoint_U</th>\n",
       "      <th>previous.hitpoint_V</th>\n",
       "    </tr>\n",
       "  </thead>\n",
       "  <tbody>\n",
       "    <tr>\n",
       "      <th>0</th>\n",
       "      <td>-0.556070</td>\n",
       "      <td>0.533482</td>\n",
       "      <td>-0.632118</td>\n",
       "      <td>1.830812</td>\n",
       "      <td>0.693324</td>\n",
       "      <td>-0.808756</td>\n",
       "      <td>0.762886</td>\n",
       "      <td>-0.738909</td>\n",
       "      <td>0.612054</td>\n",
       "      <td>-1.042314</td>\n",
       "      <td>0.454678</td>\n",
       "      <td>0.852426</td>\n",
       "      <td>0.330016</td>\n",
       "      <td>-1.699856</td>\n",
       "      <td>-0.018598</td>\n",
       "      <td>-0.292499</td>\n",
       "      <td>-0.516968</td>\n",
       "      <td>1</td>\n",
       "      <td>0</td>\n",
       "      <td>0</td>\n",
       "      <td>1</td>\n",
       "      <td>1</td>\n",
       "      <td>0</td>\n",
       "      <td>1</td>\n",
       "      <td>0</td>\n",
       "      <td>1</td>\n",
       "      <td>0</td>\n",
       "      <td>1</td>\n",
       "      <td>0</td>\n",
       "      <td>0</td>\n",
       "      <td>0</td>\n",
       "      <td>0</td>\n",
       "      <td>1</td>\n",
       "      <td>0</td>\n",
       "      <td>0</td>\n",
       "    </tr>\n",
       "    <tr>\n",
       "      <th>1</th>\n",
       "      <td>-0.556070</td>\n",
       "      <td>0.272181</td>\n",
       "      <td>0.468333</td>\n",
       "      <td>0.987769</td>\n",
       "      <td>-0.617805</td>\n",
       "      <td>-0.345224</td>\n",
       "      <td>0.300325</td>\n",
       "      <td>2.056659</td>\n",
       "      <td>0.166630</td>\n",
       "      <td>0.948868</td>\n",
       "      <td>0.704066</td>\n",
       "      <td>-0.068022</td>\n",
       "      <td>-1.458892</td>\n",
       "      <td>-0.217178</td>\n",
       "      <td>-0.107019</td>\n",
       "      <td>1.965721</td>\n",
       "      <td>-0.584499</td>\n",
       "      <td>1</td>\n",
       "      <td>0</td>\n",
       "      <td>1</td>\n",
       "      <td>0</td>\n",
       "      <td>0</td>\n",
       "      <td>1</td>\n",
       "      <td>1</td>\n",
       "      <td>0</td>\n",
       "      <td>0</td>\n",
       "      <td>1</td>\n",
       "      <td>1</td>\n",
       "      <td>0</td>\n",
       "      <td>0</td>\n",
       "      <td>0</td>\n",
       "      <td>1</td>\n",
       "      <td>0</td>\n",
       "      <td>0</td>\n",
       "      <td>0</td>\n",
       "    </tr>\n",
       "    <tr>\n",
       "      <th>2</th>\n",
       "      <td>4.538600</td>\n",
       "      <td>-1.083820</td>\n",
       "      <td>-0.857184</td>\n",
       "      <td>1.883527</td>\n",
       "      <td>1.519057</td>\n",
       "      <td>0.528630</td>\n",
       "      <td>1.150147</td>\n",
       "      <td>-0.506976</td>\n",
       "      <td>0.624626</td>\n",
       "      <td>0.733424</td>\n",
       "      <td>1.524208</td>\n",
       "      <td>-0.665135</td>\n",
       "      <td>-0.948881</td>\n",
       "      <td>-0.663091</td>\n",
       "      <td>0.532636</td>\n",
       "      <td>-0.601518</td>\n",
       "      <td>-0.767404</td>\n",
       "      <td>0</td>\n",
       "      <td>1</td>\n",
       "      <td>1</td>\n",
       "      <td>0</td>\n",
       "      <td>1</td>\n",
       "      <td>0</td>\n",
       "      <td>1</td>\n",
       "      <td>0</td>\n",
       "      <td>1</td>\n",
       "      <td>0</td>\n",
       "      <td>1</td>\n",
       "      <td>0</td>\n",
       "      <td>0</td>\n",
       "      <td>0</td>\n",
       "      <td>0</td>\n",
       "      <td>1</td>\n",
       "      <td>0</td>\n",
       "      <td>0</td>\n",
       "    </tr>\n",
       "    <tr>\n",
       "      <th>3</th>\n",
       "      <td>0.784633</td>\n",
       "      <td>0.695510</td>\n",
       "      <td>0.131678</td>\n",
       "      <td>-0.775933</td>\n",
       "      <td>-0.388228</td>\n",
       "      <td>-1.293952</td>\n",
       "      <td>0.619564</td>\n",
       "      <td>-1.633234</td>\n",
       "      <td>0.387663</td>\n",
       "      <td>-1.247052</td>\n",
       "      <td>-0.586553</td>\n",
       "      <td>0.678488</td>\n",
       "      <td>1.104211</td>\n",
       "      <td>-1.769436</td>\n",
       "      <td>0.701332</td>\n",
       "      <td>-1.712651</td>\n",
       "      <td>0.671082</td>\n",
       "      <td>0</td>\n",
       "      <td>1</td>\n",
       "      <td>0</td>\n",
       "      <td>1</td>\n",
       "      <td>1</td>\n",
       "      <td>0</td>\n",
       "      <td>0</td>\n",
       "      <td>1</td>\n",
       "      <td>1</td>\n",
       "      <td>0</td>\n",
       "      <td>0</td>\n",
       "      <td>1</td>\n",
       "      <td>0</td>\n",
       "      <td>0</td>\n",
       "      <td>1</td>\n",
       "      <td>0</td>\n",
       "      <td>0</td>\n",
       "      <td>0</td>\n",
       "    </tr>\n",
       "    <tr>\n",
       "      <th>4</th>\n",
       "      <td>-0.556070</td>\n",
       "      <td>0.537056</td>\n",
       "      <td>-0.498538</td>\n",
       "      <td>-0.476397</td>\n",
       "      <td>0.286893</td>\n",
       "      <td>-0.333407</td>\n",
       "      <td>1.092496</td>\n",
       "      <td>-0.245167</td>\n",
       "      <td>0.810355</td>\n",
       "      <td>-0.963936</td>\n",
       "      <td>1.093764</td>\n",
       "      <td>-0.995855</td>\n",
       "      <td>-0.646018</td>\n",
       "      <td>-0.175435</td>\n",
       "      <td>-0.526469</td>\n",
       "      <td>-1.008740</td>\n",
       "      <td>-1.066828</td>\n",
       "      <td>1</td>\n",
       "      <td>0</td>\n",
       "      <td>1</td>\n",
       "      <td>0</td>\n",
       "      <td>1</td>\n",
       "      <td>0</td>\n",
       "      <td>1</td>\n",
       "      <td>0</td>\n",
       "      <td>1</td>\n",
       "      <td>0</td>\n",
       "      <td>1</td>\n",
       "      <td>0</td>\n",
       "      <td>0</td>\n",
       "      <td>0</td>\n",
       "      <td>0</td>\n",
       "      <td>1</td>\n",
       "      <td>0</td>\n",
       "      <td>0</td>\n",
       "    </tr>\n",
       "  </tbody>\n",
       "</table>\n",
       "</div>"
      ],
      "text/plain": [
       "      rally     speed  net.clearance  distance.from.sideline     depth  \\\n",
       "0 -0.556070  0.533482      -0.632118                1.830812  0.693324   \n",
       "1 -0.556070  0.272181       0.468333                0.987769 -0.617805   \n",
       "2  4.538600 -1.083820      -0.857184                1.883527  1.519057   \n",
       "3  0.784633  0.695510       0.131678               -0.775933 -0.388228   \n",
       "4 -0.556070  0.537056      -0.498538               -0.476397  0.286893   \n",
       "\n",
       "   player.distance.travelled  player.impact.depth  \\\n",
       "0                  -0.808756             0.762886   \n",
       "1                  -0.345224             0.300325   \n",
       "2                   0.528630             1.150147   \n",
       "3                  -1.293952             0.619564   \n",
       "4                  -0.333407             1.092496   \n",
       "\n",
       "   player.impact.distance.from.center  player.depth  \\\n",
       "0                           -0.738909      0.612054   \n",
       "1                            2.056659      0.166630   \n",
       "2                           -0.506976      0.624626   \n",
       "3                           -1.633234      0.387663   \n",
       "4                           -0.245167      0.810355   \n",
       "\n",
       "   player.distance.from.center  previous.speed  previous.net.clearance  \\\n",
       "0                    -1.042314        0.454678                0.852426   \n",
       "1                     0.948868        0.704066               -0.068022   \n",
       "2                     0.733424        1.524208               -0.665135   \n",
       "3                    -1.247052       -0.586553                0.678488   \n",
       "4                    -0.963936        1.093764               -0.995855   \n",
       "\n",
       "   previous.distance.from.sideline  previous.depth  opponent.depth  \\\n",
       "0                         0.330016       -1.699856       -0.018598   \n",
       "1                        -1.458892       -0.217178       -0.107019   \n",
       "2                        -0.948881       -0.663091        0.532636   \n",
       "3                         1.104211       -1.769436        0.701332   \n",
       "4                        -0.646018       -0.175435       -0.526469   \n",
       "\n",
       "   opponent.distance.from.center  previous.time.to.net  \\\n",
       "0                      -0.292499             -0.516968   \n",
       "1                       1.965721             -0.584499   \n",
       "2                      -0.601518             -0.767404   \n",
       "3                      -1.712651              0.671082   \n",
       "4                      -1.008740             -1.066828   \n",
       "\n",
       "   server.is.impact.player_False  server.is.impact.player_True  \\\n",
       "0                              1                             0   \n",
       "1                              1                             0   \n",
       "2                              0                             1   \n",
       "3                              0                             1   \n",
       "4                              1                             0   \n",
       "\n",
       "   same.side_False  same.side_True  outside.baseline_False  \\\n",
       "0                0               1                       1   \n",
       "1                1               0                       0   \n",
       "2                1               0                       1   \n",
       "3                0               1                       1   \n",
       "4                1               0                       1   \n",
       "\n",
       "   outside.baseline_True  outside.sideline_False  outside.sideline_True  \\\n",
       "0                      0                       1                      0   \n",
       "1                      1                       1                      0   \n",
       "2                      0                       1                      0   \n",
       "3                      0                       0                      1   \n",
       "4                      0                       1                      0   \n",
       "\n",
       "   serve_1  serve_2  hitpoint_B  hitpoint_F  hitpoint_U  hitpoint_V  \\\n",
       "0        1        0           1           0           0           0   \n",
       "1        0        1           1           0           0           0   \n",
       "2        1        0           1           0           0           0   \n",
       "3        1        0           0           1           0           0   \n",
       "4        1        0           1           0           0           0   \n",
       "\n",
       "   previous.hitpoint_B  previous.hitpoint_F  previous.hitpoint_U  \\\n",
       "0                    0                    1                    0   \n",
       "1                    1                    0                    0   \n",
       "2                    0                    1                    0   \n",
       "3                    1                    0                    0   \n",
       "4                    0                    1                    0   \n",
       "\n",
       "   previous.hitpoint_V  \n",
       "0                    0  \n",
       "1                    0  \n",
       "2                    0  \n",
       "3                    0  \n",
       "4                    0  "
      ]
     },
     "execution_count": 6,
     "metadata": {},
     "output_type": "execute_result"
    }
   ],
   "source": [
    "pd.options.display.max_columns = 50\n",
    "pd.options.display.max_rows = 1000\n",
    "X_men.head()"
   ]
  },
  {
   "cell_type": "code",
   "execution_count": 91,
   "metadata": {
    "collapsed": true
   },
   "outputs": [],
   "source": []
  },
  {
   "cell_type": "code",
   "execution_count": null,
   "metadata": {
    "collapsed": true
   },
   "outputs": [],
   "source": []
  },
  {
   "cell_type": "code",
   "execution_count": null,
   "metadata": {
    "collapsed": true
   },
   "outputs": [],
   "source": []
  },
  {
   "cell_type": "code",
   "execution_count": 89,
   "metadata": {
    "collapsed": true
   },
   "outputs": [],
   "source": [
    "reload(davemodel)\n",
    "from davemodel import MyLogisticRegression, MyRandomForest, MyXGBoost, MyBagging, MyGradientBoosting\n"
   ]
  },
  {
   "cell_type": "code",
   "execution_count": 86,
   "metadata": {},
   "outputs": [
    {
     "data": {
      "text/plain": [
       "LogisticRegression(C=1.0, class_weight=None, dual=False, fit_intercept=True,\n",
       "          intercept_scaling=1, max_iter=100, multi_class='ovr', n_jobs=1,\n",
       "          penalty='l2', random_state=None, solver='liblinear', tol=0.0001,\n",
       "          verbose=0, warm_start=False)"
      ]
     },
     "execution_count": 86,
     "metadata": {},
     "output_type": "execute_result"
    }
   ],
   "source": [
    "blah.model_men"
   ]
  },
  {
   "cell_type": "code",
   "execution_count": 90,
   "metadata": {},
   "outputs": [
    {
     "name": "stdout",
     "output_type": "stream",
     "text": [
      "\n",
      "Training men...\n",
      "{'C': [0.001, 0.01, 0.1, 1, 10, 100, 1000]}\n",
      "Log loss: 0.505158601069\n",
      "\n",
      "Training women...\n",
      "Log loss: 0.495263499068\n",
      "\n",
      "Predicting men...\n"
     ]
    },
    {
     "ename": "NotFittedError",
     "evalue": "Call fit before prediction",
     "output_type": "error",
     "traceback": [
      "\u001b[1;31m---------------------------------------------------------------------------\u001b[0m",
      "\u001b[1;31mNotFittedError\u001b[0m                            Traceback (most recent call last)",
      "\u001b[1;32m<ipython-input-90-677845847f36>\u001b[0m in \u001b[0;36m<module>\u001b[1;34m()\u001b[0m\n\u001b[0;32m      1\u001b[0m \u001b[0mblah\u001b[0m \u001b[1;33m=\u001b[0m \u001b[0mMyLogisticRegression\u001b[0m\u001b[1;33m(\u001b[0m\u001b[0mmen_test_ids\u001b[0m\u001b[1;33m,\u001b[0m \u001b[0mX_men\u001b[0m\u001b[1;33m,\u001b[0m \u001b[0my_men\u001b[0m\u001b[1;33m,\u001b[0m \u001b[0mX_men_test\u001b[0m\u001b[1;33m,\u001b[0m \u001b[0mwomen_test_ids\u001b[0m\u001b[1;33m,\u001b[0m \u001b[0mX_women\u001b[0m\u001b[1;33m,\u001b[0m \u001b[0my_women\u001b[0m\u001b[1;33m,\u001b[0m \u001b[0mX_women_test\u001b[0m\u001b[1;33m)\u001b[0m\u001b[1;33m\u001b[0m\u001b[0m\n\u001b[1;32m----> 2\u001b[1;33m \u001b[0mblah\u001b[0m\u001b[1;33m.\u001b[0m\u001b[0mrun\u001b[0m\u001b[1;33m(\u001b[0m\u001b[1;33m)\u001b[0m\u001b[1;33m\u001b[0m\u001b[0m\n\u001b[0m",
      "\u001b[1;32mD:\\_GithubTest\\MachineLearning\\AusOpen\\davemodel.py\u001b[0m in \u001b[0;36mrun\u001b[1;34m(self)\u001b[0m\n\u001b[0;32m    136\u001b[0m     \u001b[1;32mdef\u001b[0m \u001b[0mrun\u001b[0m\u001b[1;33m(\u001b[0m\u001b[0mself\u001b[0m\u001b[1;33m)\u001b[0m\u001b[1;33m:\u001b[0m\u001b[1;33m\u001b[0m\u001b[0m\n\u001b[0;32m    137\u001b[0m         \u001b[0mself\u001b[0m\u001b[1;33m.\u001b[0m\u001b[0mtrain\u001b[0m\u001b[1;33m(\u001b[0m\u001b[1;33m)\u001b[0m\u001b[1;33m\u001b[0m\u001b[0m\n\u001b[1;32m--> 138\u001b[1;33m         \u001b[0mpred_men\u001b[0m\u001b[1;33m,\u001b[0m \u001b[0mpred_women\u001b[0m \u001b[1;33m=\u001b[0m \u001b[0mself\u001b[0m\u001b[1;33m.\u001b[0m\u001b[0mpredict\u001b[0m\u001b[1;33m(\u001b[0m\u001b[1;33m)\u001b[0m\u001b[1;33m\u001b[0m\u001b[0m\n\u001b[0m\u001b[0;32m    139\u001b[0m         \u001b[0mself\u001b[0m\u001b[1;33m.\u001b[0m\u001b[0mcreate_submission\u001b[0m\u001b[1;33m(\u001b[0m\u001b[0mpred_men\u001b[0m\u001b[1;33m,\u001b[0m \u001b[0mpred_women\u001b[0m\u001b[1;33m)\u001b[0m\u001b[1;33m\u001b[0m\u001b[0m\n\u001b[0;32m    140\u001b[0m         \u001b[0mself\u001b[0m\u001b[1;33m.\u001b[0m\u001b[0msave_model\u001b[0m\u001b[1;33m(\u001b[0m\u001b[1;33m)\u001b[0m\u001b[1;33m\u001b[0m\u001b[0m\n",
      "\u001b[1;32mD:\\_GithubTest\\MachineLearning\\AusOpen\\davemodel.py\u001b[0m in \u001b[0;36mpredict\u001b[1;34m(self)\u001b[0m\n\u001b[0;32m     57\u001b[0m     \u001b[1;32mdef\u001b[0m \u001b[0mpredict\u001b[0m\u001b[1;33m(\u001b[0m\u001b[0mself\u001b[0m\u001b[1;33m)\u001b[0m\u001b[1;33m:\u001b[0m\u001b[1;33m\u001b[0m\u001b[0m\n\u001b[0;32m     58\u001b[0m         \u001b[0mprint\u001b[0m\u001b[1;33m(\u001b[0m\u001b[1;34m\"\\nPredicting men...\"\u001b[0m\u001b[1;33m)\u001b[0m\u001b[1;33m\u001b[0m\u001b[0m\n\u001b[1;32m---> 59\u001b[1;33m         \u001b[0mpred_men\u001b[0m \u001b[1;33m=\u001b[0m \u001b[0mDaveModelBase\u001b[0m\u001b[1;33m.\u001b[0m\u001b[0mpredict_model\u001b[0m\u001b[1;33m(\u001b[0m\u001b[0mself\u001b[0m\u001b[1;33m.\u001b[0m\u001b[0mmodel_men\u001b[0m\u001b[1;33m,\u001b[0m \u001b[0mself\u001b[0m\u001b[1;33m.\u001b[0m\u001b[0mX_test_men\u001b[0m\u001b[1;33m)\u001b[0m\u001b[1;33m\u001b[0m\u001b[0m\n\u001b[0m\u001b[0;32m     60\u001b[0m \u001b[1;33m\u001b[0m\u001b[0m\n\u001b[0;32m     61\u001b[0m         \u001b[0mprint\u001b[0m\u001b[1;33m(\u001b[0m\u001b[1;34m\"\\nPredicting women...\"\u001b[0m\u001b[1;33m)\u001b[0m\u001b[1;33m\u001b[0m\u001b[0m\n",
      "\u001b[1;32mD:\\_GithubTest\\MachineLearning\\AusOpen\\davemodel.py\u001b[0m in \u001b[0;36mpredict_model\u001b[1;34m(model, X_test)\u001b[0m\n\u001b[0;32m     65\u001b[0m \u001b[1;33m\u001b[0m\u001b[0m\n\u001b[0;32m     66\u001b[0m     \u001b[1;32mdef\u001b[0m \u001b[0mpredict_model\u001b[0m\u001b[1;33m(\u001b[0m\u001b[0mmodel\u001b[0m\u001b[1;33m,\u001b[0m \u001b[0mX_test\u001b[0m\u001b[1;33m)\u001b[0m\u001b[1;33m:\u001b[0m\u001b[1;33m\u001b[0m\u001b[0m\n\u001b[1;32m---> 67\u001b[1;33m         \u001b[0mpreds\u001b[0m \u001b[1;33m=\u001b[0m \u001b[0mmodel\u001b[0m\u001b[1;33m.\u001b[0m\u001b[0mpredict_proba\u001b[0m\u001b[1;33m(\u001b[0m\u001b[0mX_test\u001b[0m\u001b[1;33m)\u001b[0m\u001b[1;33m\u001b[0m\u001b[0m\n\u001b[0m\u001b[0;32m     68\u001b[0m         \u001b[0mprint\u001b[0m\u001b[1;33m(\u001b[0m\u001b[1;34m\"Prediction count:\"\u001b[0m\u001b[1;33m,\u001b[0m \u001b[0mpreds\u001b[0m\u001b[1;33m.\u001b[0m\u001b[0mshape\u001b[0m\u001b[1;33m)\u001b[0m\u001b[1;33m\u001b[0m\u001b[0m\n\u001b[0;32m     69\u001b[0m \u001b[1;33m\u001b[0m\u001b[0m\n",
      "\u001b[1;32m~\\Anaconda3\\envs\\tensorflow-gpu\\lib\\site-packages\\sklearn\\linear_model\\logistic.py\u001b[0m in \u001b[0;36mpredict_proba\u001b[1;34m(self, X)\u001b[0m\n\u001b[0;32m   1331\u001b[0m         \"\"\"\n\u001b[0;32m   1332\u001b[0m         \u001b[1;32mif\u001b[0m \u001b[1;32mnot\u001b[0m \u001b[0mhasattr\u001b[0m\u001b[1;33m(\u001b[0m\u001b[0mself\u001b[0m\u001b[1;33m,\u001b[0m \u001b[1;34m\"coef_\"\u001b[0m\u001b[1;33m)\u001b[0m\u001b[1;33m:\u001b[0m\u001b[1;33m\u001b[0m\u001b[0m\n\u001b[1;32m-> 1333\u001b[1;33m             \u001b[1;32mraise\u001b[0m \u001b[0mNotFittedError\u001b[0m\u001b[1;33m(\u001b[0m\u001b[1;34m\"Call fit before prediction\"\u001b[0m\u001b[1;33m)\u001b[0m\u001b[1;33m\u001b[0m\u001b[0m\n\u001b[0m\u001b[0;32m   1334\u001b[0m         \u001b[0mcalculate_ovr\u001b[0m \u001b[1;33m=\u001b[0m \u001b[0mself\u001b[0m\u001b[1;33m.\u001b[0m\u001b[0mcoef_\u001b[0m\u001b[1;33m.\u001b[0m\u001b[0mshape\u001b[0m\u001b[1;33m[\u001b[0m\u001b[1;36m0\u001b[0m\u001b[1;33m]\u001b[0m \u001b[1;33m==\u001b[0m \u001b[1;36m1\u001b[0m \u001b[1;32mor\u001b[0m \u001b[0mself\u001b[0m\u001b[1;33m.\u001b[0m\u001b[0mmulti_class\u001b[0m \u001b[1;33m==\u001b[0m \u001b[1;34m\"ovr\"\u001b[0m\u001b[1;33m\u001b[0m\u001b[0m\n\u001b[0;32m   1335\u001b[0m         \u001b[1;32mif\u001b[0m \u001b[0mcalculate_ovr\u001b[0m\u001b[1;33m:\u001b[0m\u001b[1;33m\u001b[0m\u001b[0m\n",
      "\u001b[1;31mNotFittedError\u001b[0m: Call fit before prediction"
     ]
    }
   ],
   "source": [
    "blah = MyLogisticRegression(men_test_ids, X_men, y_men, X_men_test, women_test_ids, X_women, y_women, X_women_test)\n",
    "blah.run()"
   ]
  },
  {
   "cell_type": "code",
   "execution_count": null,
   "metadata": {
    "collapsed": true
   },
   "outputs": [],
   "source": []
  },
  {
   "cell_type": "code",
   "execution_count": 63,
   "metadata": {},
   "outputs": [],
   "source": [
    "\n",
    "log = MyLogisticRegression(men_test_ids, X_men, y_men, X_men_test, women_test_ids, X_women, y_women, X_women_test)\n",
    "forest = MyRandomForest(men_test_ids, X_men, y_men, X_men_test, women_test_ids, X_women, y_women, X_women_test)\n",
    "xgb = MyXGBoost(men_test_ids, X_men, y_men, X_men_test, women_test_ids, X_women, y_women, X_women_test)\n",
    "bag = MyBagging(men_test_ids, X_men, y_men, X_men_test, women_test_ids, X_women, y_women, X_women_test)\n",
    "grad = MyGradientBoosting(men_test_ids, X_men, y_men, X_men_test, women_test_ids, X_women, y_women, X_women_test)"
   ]
  },
  {
   "cell_type": "code",
   "execution_count": 64,
   "metadata": {},
   "outputs": [
    {
     "name": "stdout",
     "output_type": "stream",
     "text": [
      "\n",
      "Training men...\n",
      "Log loss: 0.50757452405\n",
      "\n",
      "Training women...\n",
      "Log loss: 0.497407190386\n",
      "\n",
      "Predicting men...\n",
      "Prediction count: (2000, 3)\n",
      "\n",
      "Predicting women...\n",
      "Prediction count: (1000, 3)\n",
      "Creating submission...\n",
      "Done!\n",
      "Saved\n",
      "\n",
      "Training men...\n",
      "Log loss: 0.0925285707373\n",
      "\n",
      "Training women...\n",
      "Log loss: 0.0932425495307\n",
      "\n",
      "Predicting men...\n",
      "Prediction count: (2000, 3)\n",
      "\n",
      "Predicting women...\n",
      "Prediction count: (1000, 3)\n",
      "Creating submission...\n",
      "Done!\n",
      "Saved\n",
      "\n",
      "Training men...\n",
      "Log loss: 0.0550823955867\n",
      "\n",
      "Training women...\n",
      "Log loss: 0.0630389453839\n",
      "\n",
      "Predicting men...\n",
      "Prediction count: (2000, 3)\n",
      "\n",
      "Predicting women...\n",
      "Prediction count: (1000, 3)\n",
      "Creating submission...\n",
      "Done!\n",
      "Saved\n",
      "\n",
      "Training men...\n",
      "Log loss: 0.0883779935142\n",
      "\n",
      "Training women...\n",
      "Log loss: 0.0879621731554\n",
      "\n",
      "Predicting men...\n",
      "Prediction count: (2000, 3)\n",
      "\n",
      "Predicting women...\n",
      "Prediction count: (1000, 3)\n",
      "Creating submission...\n",
      "Done!\n",
      "Saved\n",
      "\n",
      "Training men...\n",
      "Log loss: 0.244927089419\n",
      "\n",
      "Training women...\n",
      "Log loss: 0.259421664974\n",
      "\n",
      "Predicting men...\n",
      "Prediction count: (2000, 3)\n",
      "\n",
      "Predicting women...\n",
      "Prediction count: (1000, 3)\n",
      "Creating submission...\n",
      "Done!\n",
      "Saved\n"
     ]
    }
   ],
   "source": [
    "log.run()\n",
    "forest.run()\n",
    "xgb.run()\n",
    "bag.run()\n",
    "grad.run()"
   ]
  },
  {
   "cell_type": "code",
   "execution_count": 65,
   "metadata": {},
   "outputs": [
    {
     "name": "stdout",
     "output_type": "stream",
     "text": [
      "Loaded\n",
      "Loaded\n",
      "Loaded\n",
      "Loaded\n",
      "Loaded\n"
     ]
    }
   ],
   "source": [
    "test_log = DaveModelBase.load_model(log.get_name() + \".pickle\")\n",
    "test_forest = DaveModelBase.load_model(forest.get_name() + \".pickle\")\n",
    "test_xgb = DaveModelBase.load_model(xgb.get_name() + \".pickle\")\n",
    "test_bag = DaveModelBase.load_model(bag.get_name() + \".pickle\")\n",
    "test_grad = DaveModelBase.load_model(grad.get_name() + \".pickle\")\n"
   ]
  },
  {
   "cell_type": "code",
   "execution_count": 66,
   "metadata": {},
   "outputs": [
    {
     "name": "stdout",
     "output_type": "stream",
     "text": [
      "\n",
      "Log Loss: (-0.522) +/- (0.023)\n",
      "\n",
      "Log Loss: (-0.512) +/- (0.026)\n",
      "\n",
      "Log Loss: (-0.381) +/- (0.039)\n",
      "\n",
      "Log Loss: (-0.447) +/- (0.031)\n",
      "\n",
      "Log Loss: (-0.322) +/- (0.039)\n",
      "\n",
      "Log Loss: (-0.341) +/- (0.024)\n",
      "\n",
      "Log Loss: (-0.472) +/- (0.058)\n",
      "\n",
      "Log Loss: (-0.501) +/- (0.082)\n",
      "\n",
      "Log Loss: (-0.338) +/- (0.026)\n",
      "\n",
      "Log Loss: (-0.358) +/- (0.025)\n"
     ]
    }
   ],
   "source": [
    "test_log.evaluate_cv()\n",
    "test_forest.evaluate_cv()\n",
    "test_xgb.evaluate_cv()\n",
    "test_bag.evaluate_cv()\n",
    "test_grad.evaluate_cv()\n"
   ]
  },
  {
   "cell_type": "code",
   "execution_count": 67,
   "metadata": {},
   "outputs": [
    {
     "name": "stdout",
     "output_type": "stream",
     "text": [
      "Log loss: 0.366949887435\n",
      "Log loss: 0.352060539347\n"
     ]
    }
   ],
   "source": [
    "test_forest.evaluate()"
   ]
  },
  {
   "cell_type": "code",
   "execution_count": 68,
   "metadata": {},
   "outputs": [
    {
     "name": "stdout",
     "output_type": "stream",
     "text": [
      "Prediction count: (1250, 3)\n",
      "0.536163023819\n",
      "Prediction count: (1250, 3)\n",
      "0.366922208483\n",
      "Prediction count: (1250, 3)\n",
      "0.337911808214\n",
      "Prediction count: (1250, 3)\n",
      "0.420468145236\n",
      "Prediction count: (1250, 3)\n",
      "0.346595907286\n"
     ]
    }
   ],
   "source": [
    "def train_me(model, X_train, X_test, y_train, y_test):\n",
    "    DaveModelBase.train_model(model, X_train, y_train)\n",
    "    preds = DaveModelBase.predict_model(model, X_test)\n",
    "    print(log_loss(y_test, preds))\n",
    "    return preds\n",
    "\n",
    "X_train, X_test, y_train, y_test = train_test_split(X_men, y_men, test_size = 0.25, random_state = 42)\n",
    "\n",
    "model_log = test_log.get_model()\n",
    "log_preds = train_me(model_log, X_train, X_test, y_train, y_test)\n",
    "\n",
    "model_forest = test_forest.get_model()\n",
    "forest_preds = train_me(model_forest, X_train, X_test, y_train, y_test)\n",
    "\n",
    "model_xgb = test_xgb.get_model()\n",
    "xgb_preds = train_me(model_xgb, X_train, X_test, y_train, y_test)\n",
    "\n",
    "model_bag = test_bag.get_model()\n",
    "bag_preds = train_me(model_bag, X_train, X_test, y_train, y_test)\n",
    "\n",
    "model_grad = test_grad.get_model()\n",
    "grad_preds = train_me(model_grad, X_train, X_test, y_train, y_test)\n",
    "\n",
    "\n"
   ]
  },
  {
   "cell_type": "code",
   "execution_count": 123,
   "metadata": {},
   "outputs": [],
   "source": [
    "from sklearn.svm import SVC\n",
    "model_svc = SVC(probability=True)\n",
    "model_svc.fit(X_train, y_train)\n",
    "svc_preds = model_svc.predict_proba(X_test)\n"
   ]
  },
  {
   "cell_type": "code",
   "execution_count": 287,
   "metadata": {},
   "outputs": [
    {
     "name": "stdout",
     "output_type": "stream",
     "text": [
      "0.337911808214\n",
      "0.3647058751\n",
      "0.332720460214\n",
      "0.329638545346\n"
     ]
    },
    {
     "data": {
      "text/plain": [
       "(7, 1250, 3)"
      ]
     },
     "execution_count": 287,
     "metadata": {},
     "output_type": "execute_result"
    }
   ],
   "source": [
    "# preds = (log_preds + forest_preds + xgb_preds + bag_preds + grad_preds) / 5\n",
    "# print(log_loss(y_test, preds))\n",
    "\n",
    "preds = xgb_preds\n",
    "print(log_loss(y_test, preds))\n",
    "\n",
    "preds = (log_preds + forest_preds + xgb_preds + bag_preds + grad_preds + svc_preds) / 6\n",
    "print(log_loss(y_test, preds))\n",
    "\n",
    "weight_preds = (0.8 * xgb_preds) + (0.2 * forest_preds)\n",
    "print(log_loss(y_test, weight_preds))\n",
    "\n",
    "pred_arr = np.array([log_preds, forest_preds, xgb_preds, bag_preds, grad_preds, svc_preds, weight_preds])\n",
    "preds = np.median(pred_arr, axis=0)\n",
    "print(log_loss(y_test, preds))\n",
    "\n",
    "\n",
    "# pd.DataFrame(pred_arr).shape\n",
    "pred_arr.shape"
   ]
  },
  {
   "cell_type": "code",
   "execution_count": 291,
   "metadata": {},
   "outputs": [],
   "source": [
    "# for pred_value in pred_arr:\n",
    "#     print(pred_value.shape)\n",
    " \n",
    "# print(len(pred_arr))\n",
    "# FE, UE, W\n",
    "\n",
    "pred_all = []\n",
    "\n",
    "for j in range(pred_arr.shape[1]):\n",
    "\n",
    "    fe_count = 0\n",
    "    ue_count = 0\n",
    "    w_count = 0\n",
    "    max_value = len(pred_arr)\n",
    "\n",
    "    for i in range(len(pred_arr)):\n",
    "        fe = pred_arr[i, j, 0]\n",
    "        ue = pred_arr[i, j, 1]\n",
    "        w = pred_arr[i, j, 2]\n",
    "\n",
    "        value = max([fe, ue, w])\n",
    "\n",
    "        if value == fe and value > 0.8:\n",
    "            fe_count += 1\n",
    "        elif value == ue and value > 0.8:\n",
    "            ue_count += 1\n",
    "        elif value == w and value > 0.8:\n",
    "            w_count += 1\n",
    "\n",
    "    found = True\n",
    "    \n",
    "    if fe_count == max_value:\n",
    "        fe_pred = np.clip(max(pred_arr[:, j, 0]), 0.01, 0.99)\n",
    "        leftovers = 1 - fe_pred\n",
    "        ue_pred = leftovers / 2\n",
    "        w_pred = ue_pred\n",
    "    elif ue_count == max_value:\n",
    "        ue_pred = np.clip(max(pred_arr[:, j, 1]), 0.01, 0.99)\n",
    "        leftovers = 1 - ue_pred\n",
    "        fe_pred = leftovers / 2\n",
    "        w_pred = fe_pred\n",
    "    elif w_count == max_value:\n",
    "        w_pred = np.clip(max(pred_arr[:, j, 2]), 0.01, 0.99)\n",
    "        leftovers = 1 - w_pred\n",
    "        ue_pred = leftovers / 2\n",
    "        fe_pred = ue_pred\n",
    "    else:\n",
    "#         fe_pred = pred_arr[6, j, 0]\n",
    "#         ue_pred = pred_arr[6, j, 1]\n",
    "#         w_pred = pred_arr[6, j, 2]\n",
    "        \n",
    "        fe_pred = np.median(pred_arr[:, j, 0])\n",
    "        ue_pred = np.median(pred_arr[:, j, 1])\n",
    "        w_pred = np.median(pred_arr[:, j, 2])\n",
    "        \n",
    "        found = False\n",
    "\n",
    "\n",
    "#     if found:\n",
    "#         print(\"Found!\")\n",
    "#     else:\n",
    "#         print(\"Median!\")\n",
    "        \n",
    "    pred_value = [fe_pred, ue_pred, w_pred]\n",
    "    pred_all.append(pred_value)\n",
    "#     print(pred_value)\n",
    "    # print(fe_count)\n",
    "    # print(ue_count)\n",
    "    # print(w_count)\n"
   ]
  },
  {
   "cell_type": "code",
   "execution_count": 292,
   "metadata": {},
   "outputs": [
    {
     "data": {
      "text/plain": [
       "(1250, 3)"
      ]
     },
     "execution_count": 292,
     "metadata": {},
     "output_type": "execute_result"
    }
   ],
   "source": [
    "pred_all = np.array(pred_all)\n",
    "pred_all.shape"
   ]
  },
  {
   "cell_type": "code",
   "execution_count": 293,
   "metadata": {},
   "outputs": [
    {
     "name": "stdout",
     "output_type": "stream",
     "text": [
      "0.331103808663\n"
     ]
    }
   ],
   "source": [
    "print(log_loss(y_test, pred_all))"
   ]
  },
  {
   "cell_type": "code",
   "execution_count": 249,
   "metadata": {},
   "outputs": [
    {
     "data": {
      "text/plain": [
       "array([ 0.99999998,  1.00000003,  1.00000001,  0.99999998,  1.        ,\n",
       "        0.99999999,  0.99999996,  1.00000002,  0.99999997,  1.00000001,\n",
       "        1.        ,  1.00000001,  1.        ,  1.        ,  0.99999995,\n",
       "        1.00000004,  1.00000007,  1.00000002,  1.00000008,  1.        ,\n",
       "        1.        ,  0.99999998,  1.        ,  1.        ,  1.00000006,\n",
       "        0.99999999,  1.00000004,  0.99999996,  0.99999998,  0.99999997,\n",
       "        0.99999996,  1.        ,  0.99999997,  1.        ,  0.99999999,\n",
       "        1.00000001,  1.00000006,  1.00000002,  1.00000001,  1.00000003,\n",
       "        1.00000006,  1.        ,  1.        ,  1.        ,  1.00000002,\n",
       "        1.        ,  1.        ,  0.99999999,  0.99999997,  0.99999997,\n",
       "        0.99999999,  1.00000001,  1.00000003,  0.99999998,  1.        ,\n",
       "        1.00000004,  1.        ,  0.99999998,  0.99999997,  1.00000001,\n",
       "        0.99999996,  1.00000002,  0.99999998,  0.99999994,  0.99999997,\n",
       "        0.99999996,  1.00000005,  0.99999999,  1.00000002,  1.00000006,\n",
       "        0.99999997,  0.99999998,  1.00000001,  1.        ,  1.        ,\n",
       "        1.        ,  0.99999999,  1.00000002,  1.00000003,  0.99999999,\n",
       "        0.99999997,  0.99999999,  1.00000005,  1.        ,  0.99999994,\n",
       "        0.99999998,  0.99999997,  0.99999997,  1.        ,  1.        ,\n",
       "        1.00000007,  1.00000001,  0.99999998,  1.00000001,  1.00000001,\n",
       "        0.99999997,  0.99999994,  0.99999999,  1.00000005,  1.        ])"
      ]
     },
     "execution_count": 249,
     "metadata": {},
     "output_type": "execute_result"
    }
   ],
   "source": [
    "(pred_all[:, 0] + pred_all[:, 1] + pred_all[:, 2])[0:100]"
   ]
  },
  {
   "cell_type": "code",
   "execution_count": 140,
   "metadata": {},
   "outputs": [
    {
     "data": {
      "text/plain": [
       "array([ 0.99999999,  1.00000001,  1.00000001,  0.99999999,  0.99999999,\n",
       "        0.99999999,  0.99999998,  1.00000001,  0.99999998,  1.00000001,\n",
       "        1.00000003,  1.00000001,  1.        ,  0.99999997,  0.99999998,\n",
       "        1.00000002,  1.00000003,  1.00000001,  1.00000004,  1.        ,\n",
       "        1.        ,  0.99999999,  1.        ,  0.99999999,  1.00000003,\n",
       "        0.99999999,  1.00000002,  0.99999998,  0.99999999,  0.99999999,\n",
       "        0.99999998,  1.        ,  0.99999999,  1.        ,  0.99999999,\n",
       "        1.        ,  1.00000003,  1.00000001,  1.00000001,  1.00000001,\n",
       "        1.00000003,  0.99999998,  0.99999997,  1.00000001,  1.00000001,\n",
       "        1.00000002,  1.        ,  0.99999999,  0.99999998,  0.99999999,\n",
       "        0.99999999,  1.00000001,  1.00000002,  0.99999999,  1.        ,\n",
       "        1.00000002,  1.        ,  0.99999999,  0.99999998,  1.00000001,\n",
       "        0.99999998,  1.00000001,  0.99999999,  0.99999997,  0.99999999,\n",
       "        0.99999998,  1.00000002,  1.        ,  1.00000001,  1.00000003,\n",
       "        0.99999998,  0.99999999,  1.00000001,  1.        ,  1.        ,\n",
       "        1.        ,  0.99999999,  1.00000001,  1.00000002,  1.        ,\n",
       "        0.99999999,  0.99999999,  1.00000003,  0.99999998,  0.99999997,\n",
       "        0.99999999,  0.99999999,  0.99999998,  1.        ,  1.00000001,\n",
       "        1.00000003,  1.00000001,  0.99999999,  1.        ,  1.00000001,\n",
       "        0.99999999,  0.99999997,  0.99999999,  1.00000002,  1.00000001])"
      ]
     },
     "execution_count": 140,
     "metadata": {},
     "output_type": "execute_result"
    }
   ],
   "source": [
    "(preds[:, 0] + preds[:, 1] + preds[:, 2])[0:100]"
   ]
  },
  {
   "cell_type": "code",
   "execution_count": 102,
   "metadata": {},
   "outputs": [
    {
     "name": "stderr",
     "output_type": "stream",
     "text": [
      "C:\\Users\\Dave\\Anaconda3\\envs\\tensorflow-gpu\\lib\\site-packages\\sklearn\\linear_model\\sag.py:326: ConvergenceWarning: The max_iter was reached which means the coef_ did not converge\n",
      "  \"the coef_ did not converge\", ConvergenceWarning)\n",
      "C:\\Users\\Dave\\Anaconda3\\envs\\tensorflow-gpu\\lib\\site-packages\\sklearn\\linear_model\\sag.py:326: ConvergenceWarning: The max_iter was reached which means the coef_ did not converge\n",
      "  \"the coef_ did not converge\", ConvergenceWarning)\n",
      "C:\\Users\\Dave\\Anaconda3\\envs\\tensorflow-gpu\\lib\\site-packages\\sklearn\\linear_model\\sag.py:326: ConvergenceWarning: The max_iter was reached which means the coef_ did not converge\n",
      "  \"the coef_ did not converge\", ConvergenceWarning)\n",
      "C:\\Users\\Dave\\Anaconda3\\envs\\tensorflow-gpu\\lib\\site-packages\\sklearn\\linear_model\\sag.py:326: ConvergenceWarning: The max_iter was reached which means the coef_ did not converge\n",
      "  \"the coef_ did not converge\", ConvergenceWarning)\n",
      "C:\\Users\\Dave\\Anaconda3\\envs\\tensorflow-gpu\\lib\\site-packages\\sklearn\\linear_model\\sag.py:326: ConvergenceWarning: The max_iter was reached which means the coef_ did not converge\n",
      "  \"the coef_ did not converge\", ConvergenceWarning)\n",
      "C:\\Users\\Dave\\Anaconda3\\envs\\tensorflow-gpu\\lib\\site-packages\\sklearn\\linear_model\\sag.py:326: ConvergenceWarning: The max_iter was reached which means the coef_ did not converge\n",
      "  \"the coef_ did not converge\", ConvergenceWarning)\n",
      "C:\\Users\\Dave\\Anaconda3\\envs\\tensorflow-gpu\\lib\\site-packages\\sklearn\\linear_model\\sag.py:326: ConvergenceWarning: The max_iter was reached which means the coef_ did not converge\n",
      "  \"the coef_ did not converge\", ConvergenceWarning)\n",
      "C:\\Users\\Dave\\Anaconda3\\envs\\tensorflow-gpu\\lib\\site-packages\\sklearn\\linear_model\\sag.py:326: ConvergenceWarning: The max_iter was reached which means the coef_ did not converge\n",
      "  \"the coef_ did not converge\", ConvergenceWarning)\n",
      "C:\\Users\\Dave\\Anaconda3\\envs\\tensorflow-gpu\\lib\\site-packages\\sklearn\\linear_model\\sag.py:326: ConvergenceWarning: The max_iter was reached which means the coef_ did not converge\n",
      "  \"the coef_ did not converge\", ConvergenceWarning)\n",
      "C:\\Users\\Dave\\Anaconda3\\envs\\tensorflow-gpu\\lib\\site-packages\\sklearn\\linear_model\\sag.py:326: ConvergenceWarning: The max_iter was reached which means the coef_ did not converge\n",
      "  \"the coef_ did not converge\", ConvergenceWarning)\n",
      "C:\\Users\\Dave\\Anaconda3\\envs\\tensorflow-gpu\\lib\\site-packages\\sklearn\\linear_model\\sag.py:326: ConvergenceWarning: The max_iter was reached which means the coef_ did not converge\n",
      "  \"the coef_ did not converge\", ConvergenceWarning)\n",
      "C:\\Users\\Dave\\Anaconda3\\envs\\tensorflow-gpu\\lib\\site-packages\\sklearn\\linear_model\\sag.py:326: ConvergenceWarning: The max_iter was reached which means the coef_ did not converge\n",
      "  \"the coef_ did not converge\", ConvergenceWarning)\n",
      "C:\\Users\\Dave\\Anaconda3\\envs\\tensorflow-gpu\\lib\\site-packages\\sklearn\\linear_model\\sag.py:326: ConvergenceWarning: The max_iter was reached which means the coef_ did not converge\n",
      "  \"the coef_ did not converge\", ConvergenceWarning)\n",
      "C:\\Users\\Dave\\Anaconda3\\envs\\tensorflow-gpu\\lib\\site-packages\\sklearn\\linear_model\\sag.py:326: ConvergenceWarning: The max_iter was reached which means the coef_ did not converge\n",
      "  \"the coef_ did not converge\", ConvergenceWarning)\n",
      "C:\\Users\\Dave\\Anaconda3\\envs\\tensorflow-gpu\\lib\\site-packages\\sklearn\\linear_model\\sag.py:326: ConvergenceWarning: The max_iter was reached which means the coef_ did not converge\n",
      "  \"the coef_ did not converge\", ConvergenceWarning)\n",
      "C:\\Users\\Dave\\Anaconda3\\envs\\tensorflow-gpu\\lib\\site-packages\\sklearn\\linear_model\\sag.py:326: ConvergenceWarning: The max_iter was reached which means the coef_ did not converge\n",
      "  \"the coef_ did not converge\", ConvergenceWarning)\n",
      "C:\\Users\\Dave\\Anaconda3\\envs\\tensorflow-gpu\\lib\\site-packages\\sklearn\\linear_model\\sag.py:326: ConvergenceWarning: The max_iter was reached which means the coef_ did not converge\n",
      "  \"the coef_ did not converge\", ConvergenceWarning)\n",
      "C:\\Users\\Dave\\Anaconda3\\envs\\tensorflow-gpu\\lib\\site-packages\\sklearn\\linear_model\\sag.py:326: ConvergenceWarning: The max_iter was reached which means the coef_ did not converge\n",
      "  \"the coef_ did not converge\", ConvergenceWarning)\n",
      "C:\\Users\\Dave\\Anaconda3\\envs\\tensorflow-gpu\\lib\\site-packages\\sklearn\\linear_model\\sag.py:326: ConvergenceWarning: The max_iter was reached which means the coef_ did not converge\n",
      "  \"the coef_ did not converge\", ConvergenceWarning)\n",
      "C:\\Users\\Dave\\Anaconda3\\envs\\tensorflow-gpu\\lib\\site-packages\\sklearn\\linear_model\\sag.py:326: ConvergenceWarning: The max_iter was reached which means the coef_ did not converge\n",
      "  \"the coef_ did not converge\", ConvergenceWarning)\n",
      "C:\\Users\\Dave\\Anaconda3\\envs\\tensorflow-gpu\\lib\\site-packages\\sklearn\\linear_model\\sag.py:326: ConvergenceWarning: The max_iter was reached which means the coef_ did not converge\n",
      "  \"the coef_ did not converge\", ConvergenceWarning)\n",
      "C:\\Users\\Dave\\Anaconda3\\envs\\tensorflow-gpu\\lib\\site-packages\\sklearn\\linear_model\\sag.py:326: ConvergenceWarning: The max_iter was reached which means the coef_ did not converge\n",
      "  \"the coef_ did not converge\", ConvergenceWarning)\n",
      "C:\\Users\\Dave\\Anaconda3\\envs\\tensorflow-gpu\\lib\\site-packages\\sklearn\\linear_model\\sag.py:326: ConvergenceWarning: The max_iter was reached which means the coef_ did not converge\n",
      "  \"the coef_ did not converge\", ConvergenceWarning)\n",
      "C:\\Users\\Dave\\Anaconda3\\envs\\tensorflow-gpu\\lib\\site-packages\\sklearn\\linear_model\\sag.py:326: ConvergenceWarning: The max_iter was reached which means the coef_ did not converge\n",
      "  \"the coef_ did not converge\", ConvergenceWarning)\n",
      "C:\\Users\\Dave\\Anaconda3\\envs\\tensorflow-gpu\\lib\\site-packages\\sklearn\\linear_model\\sag.py:326: ConvergenceWarning: The max_iter was reached which means the coef_ did not converge\n",
      "  \"the coef_ did not converge\", ConvergenceWarning)\n",
      "C:\\Users\\Dave\\Anaconda3\\envs\\tensorflow-gpu\\lib\\site-packages\\sklearn\\linear_model\\sag.py:326: ConvergenceWarning: The max_iter was reached which means the coef_ did not converge\n",
      "  \"the coef_ did not converge\", ConvergenceWarning)\n",
      "C:\\Users\\Dave\\Anaconda3\\envs\\tensorflow-gpu\\lib\\site-packages\\sklearn\\linear_model\\sag.py:326: ConvergenceWarning: The max_iter was reached which means the coef_ did not converge\n",
      "  \"the coef_ did not converge\", ConvergenceWarning)\n",
      "C:\\Users\\Dave\\Anaconda3\\envs\\tensorflow-gpu\\lib\\site-packages\\sklearn\\linear_model\\sag.py:326: ConvergenceWarning: The max_iter was reached which means the coef_ did not converge\n",
      "  \"the coef_ did not converge\", ConvergenceWarning)\n",
      "C:\\Users\\Dave\\Anaconda3\\envs\\tensorflow-gpu\\lib\\site-packages\\sklearn\\linear_model\\sag.py:326: ConvergenceWarning: The max_iter was reached which means the coef_ did not converge\n",
      "  \"the coef_ did not converge\", ConvergenceWarning)\n",
      "C:\\Users\\Dave\\Anaconda3\\envs\\tensorflow-gpu\\lib\\site-packages\\sklearn\\linear_model\\sag.py:326: ConvergenceWarning: The max_iter was reached which means the coef_ did not converge\n",
      "  \"the coef_ did not converge\", ConvergenceWarning)\n",
      "C:\\Users\\Dave\\Anaconda3\\envs\\tensorflow-gpu\\lib\\site-packages\\sklearn\\linear_model\\sag.py:326: ConvergenceWarning: The max_iter was reached which means the coef_ did not converge\n",
      "  \"the coef_ did not converge\", ConvergenceWarning)\n",
      "C:\\Users\\Dave\\Anaconda3\\envs\\tensorflow-gpu\\lib\\site-packages\\sklearn\\linear_model\\sag.py:326: ConvergenceWarning: The max_iter was reached which means the coef_ did not converge\n",
      "  \"the coef_ did not converge\", ConvergenceWarning)\n",
      "C:\\Users\\Dave\\Anaconda3\\envs\\tensorflow-gpu\\lib\\site-packages\\sklearn\\linear_model\\sag.py:326: ConvergenceWarning: The max_iter was reached which means the coef_ did not converge\n",
      "  \"the coef_ did not converge\", ConvergenceWarning)\n",
      "C:\\Users\\Dave\\Anaconda3\\envs\\tensorflow-gpu\\lib\\site-packages\\sklearn\\linear_model\\sag.py:326: ConvergenceWarning: The max_iter was reached which means the coef_ did not converge\n",
      "  \"the coef_ did not converge\", ConvergenceWarning)\n",
      "C:\\Users\\Dave\\Anaconda3\\envs\\tensorflow-gpu\\lib\\site-packages\\sklearn\\linear_model\\sag.py:326: ConvergenceWarning: The max_iter was reached which means the coef_ did not converge\n",
      "  \"the coef_ did not converge\", ConvergenceWarning)\n"
     ]
    },
    {
     "data": {
      "text/plain": [
       "GridSearchCV(cv=5, error_score='raise',\n",
       "       estimator=LogisticRegression(C=1.0, class_weight=None, dual=False, fit_intercept=True,\n",
       "          intercept_scaling=1, max_iter=100, multi_class='ovr', n_jobs=1,\n",
       "          penalty='l2', random_state=None, solver='liblinear', tol=0.0001,\n",
       "          verbose=0, warm_start=False),\n",
       "       fit_params=None, iid=True, n_jobs=1,\n",
       "       param_grid={'solver': ['newton-cg', 'sag', 'saga', 'lbfgs', 'liblinear'], 'C': [0.001, 0.01, 0.1, 1, 10, 100, 1000]},\n",
       "       pre_dispatch='2*n_jobs', refit=True, return_train_score=True,\n",
       "       scoring=None, verbose=0)"
      ]
     },
     "execution_count": 102,
     "metadata": {},
     "output_type": "execute_result"
    }
   ],
   "source": [
    "from sklearn.model_selection import GridSearchCV\n",
    "blah = LogisticRegression()\n",
    "params = {\n",
    "            'C': [0.001, 0.01, 0.1, 1, 10, 100, 1000],\n",
    "            'solver': ['newton-cg', 'sag', 'saga', 'lbfgs', 'liblinear']\n",
    "         }\n",
    "\n",
    "gscv = GridSearchCV(blah, params, cv=5)\n",
    "gscv.fit(X_train, y_train)"
   ]
  },
  {
   "cell_type": "code",
   "execution_count": 103,
   "metadata": {},
   "outputs": [
    {
     "name": "stdout",
     "output_type": "stream",
     "text": [
      "0.533708225897\n",
      "{'solver': 'newton-cg', 'C': 10}\n"
     ]
    }
   ],
   "source": [
    "gscv.best_estimator_.predict_proba(X_test)\n",
    "print(log_loss(y_test, pred1))\n",
    "print(gscv.best_params_)"
   ]
  },
  {
   "cell_type": "code",
   "execution_count": 104,
   "metadata": {},
   "outputs": [
    {
     "name": "stdout",
     "output_type": "stream",
     "text": [
      "0.536163023819\n"
     ]
    },
    {
     "data": {
      "text/plain": [
       "1.0"
      ]
     },
     "execution_count": 104,
     "metadata": {},
     "output_type": "execute_result"
    }
   ],
   "source": [
    "blah2 = LogisticRegression()\n",
    "blah2.fit(X_train, y_train)\n",
    "pred2 = blah2.predict_proba(X_test)\n",
    "print(log_loss(y_test, pred2))\n",
    "blah2.C"
   ]
  },
  {
   "cell_type": "code",
   "execution_count": 114,
   "metadata": {},
   "outputs": [
    {
     "data": {
      "text/plain": [
       "SVC(C=1.0, cache_size=200, class_weight=None, coef0=0.0,\n",
       "  decision_function_shape='ovr', degree=3, gamma='auto', kernel='rbf',\n",
       "  max_iter=-1, probability=True, random_state=None, shrinking=True,\n",
       "  tol=0.001, verbose=False)"
      ]
     },
     "execution_count": 114,
     "metadata": {},
     "output_type": "execute_result"
    }
   ],
   "source": [
    "from sklearn.svm import SVC\n",
    "\n",
    "svc = SVC(probability=True)\n",
    "svc.fit(X_train, y_train)\n"
   ]
  },
  {
   "cell_type": "code",
   "execution_count": 115,
   "metadata": {},
   "outputs": [
    {
     "name": "stdout",
     "output_type": "stream",
     "text": [
      "0.434240701383\n"
     ]
    }
   ],
   "source": [
    "svc_pred = svc.predict_proba(X_test)\n",
    "\n",
    "print(log_loss(y_test, svc_pred))\n"
   ]
  },
  {
   "cell_type": "code",
   "execution_count": 116,
   "metadata": {},
   "outputs": [
    {
     "name": "stderr",
     "output_type": "stream",
     "text": [
      "C:\\Users\\Dave\\Anaconda3\\envs\\tensorflow-gpu\\lib\\site-packages\\sklearn\\linear_model\\stochastic_gradient.py:84: FutureWarning: max_iter and tol parameters have been added in <class 'sklearn.linear_model.stochastic_gradient.SGDClassifier'> in 0.19. If both are left unset, they default to max_iter=5 and tol=None. If tol is not None, max_iter defaults to max_iter=1000. From 0.21, default max_iter will be 1000, and default tol will be 1e-3.\n",
      "  \"and default tol will be 1e-3.\" % type(self), FutureWarning)\n",
      "C:\\Users\\Dave\\Anaconda3\\envs\\tensorflow-gpu\\lib\\site-packages\\sklearn\\linear_model\\stochastic_gradient.py:84: FutureWarning: max_iter and tol parameters have been added in <class 'sklearn.linear_model.passive_aggressive.PassiveAggressiveClassifier'> in 0.19. If both are left unset, they default to max_iter=5 and tol=None. If tol is not None, max_iter defaults to max_iter=1000. From 0.21, default max_iter will be 1000, and default tol will be 1e-3.\n",
      "  \"and default tol will be 1e-3.\" % type(self), FutureWarning)\n"
     ]
    },
    {
     "data": {
      "text/plain": [
       "PassiveAggressiveClassifier(C=1.0, average=False, class_weight=None,\n",
       "              fit_intercept=True, loss='hinge', max_iter=5, n_iter=None,\n",
       "              n_jobs=1, random_state=None, shuffle=True, tol=None,\n",
       "              verbose=0, warm_start=False)"
      ]
     },
     "execution_count": 116,
     "metadata": {},
     "output_type": "execute_result"
    }
   ],
   "source": [
    "from sklearn.linear_model import RidgeClassifier, SGDClassifier, PassiveAggressiveClassifier\n",
    "\n",
    "ridge = RidgeClassifier(solver = '')\n",
    "ridge.fit(X_train, y_train)\n",
    "\n",
    "sgd = SGDClassifier()\n",
    "sgd.fit(X_train, y_train)\n",
    "\n",
    "passive = PassiveAggressiveClassifier()\n",
    "passive.fit(X_train, y_train)"
   ]
  },
  {
   "cell_type": "code",
   "execution_count": 121,
   "metadata": {},
   "outputs": [
    {
     "data": {
      "text/plain": [
       "array(['UE', 'W', 'UE', ..., 'UE', 'FE', 'UE'],\n",
       "      dtype='<U2')"
      ]
     },
     "execution_count": 121,
     "metadata": {},
     "output_type": "execute_result"
    }
   ],
   "source": [
    "ridge_pred = ridge.predict(X_test)\n",
    "sgd_pred = sgd.predict(X_test)\n",
    "passive_pred = passive.predict(X_test)\n",
    "\n",
    "ridge_pred\n",
    "# print(log_loss(y_test, ridge_pred))\n",
    "# print(log_loss(y_test, sgd_pred))\n",
    "# print(log_loss(y_test, passive_pred))\n"
   ]
  },
  {
   "cell_type": "code",
   "execution_count": null,
   "metadata": {
    "collapsed": true
   },
   "outputs": [],
   "source": []
  }
 ],
 "metadata": {
  "kernelspec": {
   "display_name": "Python 3",
   "language": "python",
   "name": "python3"
  },
  "language_info": {
   "codemirror_mode": {
    "name": "ipython",
    "version": 3
   },
   "file_extension": ".py",
   "mimetype": "text/x-python",
   "name": "python",
   "nbconvert_exporter": "python",
   "pygments_lexer": "ipython3",
   "version": "3.5.2"
  }
 },
 "nbformat": 4,
 "nbformat_minor": 2
}
