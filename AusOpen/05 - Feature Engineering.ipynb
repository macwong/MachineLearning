{
 "cells": [
  {
   "cell_type": "code",
   "execution_count": 1,
   "metadata": {
    "collapsed": true
   },
   "outputs": [],
   "source": [
    "import pandas as pd\n",
    "import numpy as np\n",
    "from sklearn.linear_model import LogisticRegression\n",
    "from sklearn.metrics import log_loss\n",
    "from sklearn.model_selection import train_test_split\n",
    "import davemodel\n",
    "from davemodel import MyLogisticRegression, DaveModelBase\n",
    "from importlib import reload\n"
   ]
  },
  {
   "cell_type": "code",
   "execution_count": 2,
   "metadata": {
    "collapsed": true
   },
   "outputs": [],
   "source": [
    "men_train = pd.read_csv(\"_RawData/mens_train_file.csv\")\n",
    "men_test = pd.read_csv(\"_RawData/mens_test_file.csv\")\n",
    "women_train = pd.read_csv(\"_RawData/womens_train_file.csv\")\n",
    "women_test = pd.read_csv(\"_RawData/womens_test_file.csv\")\n"
   ]
  },
  {
   "cell_type": "code",
   "execution_count": 3,
   "metadata": {},
   "outputs": [
    {
     "name": "stdout",
     "output_type": "stream",
     "text": [
      "(5000, 28)\n",
      "(2000, 28)\n",
      "(5000, 28)\n",
      "(1000, 28)\n"
     ]
    }
   ],
   "source": [
    "print(men_train.shape)\n",
    "print(men_test.shape)\n",
    "print(women_train.shape)\n",
    "print(women_test.shape)\n"
   ]
  },
  {
   "cell_type": "code",
   "execution_count": 4,
   "metadata": {},
   "outputs": [
    {
     "data": {
      "text/html": [
       "<div>\n",
       "<style>\n",
       "    .dataframe thead tr:only-child th {\n",
       "        text-align: right;\n",
       "    }\n",
       "\n",
       "    .dataframe thead th {\n",
       "        text-align: left;\n",
       "    }\n",
       "\n",
       "    .dataframe tbody tr th {\n",
       "        vertical-align: top;\n",
       "    }\n",
       "</style>\n",
       "<table border=\"1\" class=\"dataframe\">\n",
       "  <thead>\n",
       "    <tr style=\"text-align: right;\">\n",
       "      <th></th>\n",
       "      <th>Name</th>\n",
       "      <th>Type</th>\n",
       "      <th>Unique</th>\n",
       "      <th>NA</th>\n",
       "    </tr>\n",
       "  </thead>\n",
       "  <tbody>\n",
       "    <tr>\n",
       "      <th>23</th>\n",
       "      <td>server.is.impact.player</td>\n",
       "      <td>bool</td>\n",
       "      <td>2</td>\n",
       "      <td>0</td>\n",
       "    </tr>\n",
       "    <tr>\n",
       "      <th>20</th>\n",
       "      <td>same.side</td>\n",
       "      <td>bool</td>\n",
       "      <td>2</td>\n",
       "      <td>0</td>\n",
       "    </tr>\n",
       "    <tr>\n",
       "      <th>7</th>\n",
       "      <td>outside.sideline</td>\n",
       "      <td>bool</td>\n",
       "      <td>2</td>\n",
       "      <td>0</td>\n",
       "    </tr>\n",
       "    <tr>\n",
       "      <th>8</th>\n",
       "      <td>outside.baseline</td>\n",
       "      <td>bool</td>\n",
       "      <td>2</td>\n",
       "      <td>0</td>\n",
       "    </tr>\n",
       "    <tr>\n",
       "      <th>0</th>\n",
       "      <td>rally</td>\n",
       "      <td>int64</td>\n",
       "      <td>30</td>\n",
       "      <td>0</td>\n",
       "    </tr>\n",
       "    <tr>\n",
       "      <th>1</th>\n",
       "      <td>serve</td>\n",
       "      <td>int64</td>\n",
       "      <td>2</td>\n",
       "      <td>0</td>\n",
       "    </tr>\n",
       "    <tr>\n",
       "      <th>25</th>\n",
       "      <td>train</td>\n",
       "      <td>int64</td>\n",
       "      <td>1</td>\n",
       "      <td>0</td>\n",
       "    </tr>\n",
       "    <tr>\n",
       "      <th>24</th>\n",
       "      <td>id</td>\n",
       "      <td>int64</td>\n",
       "      <td>5000</td>\n",
       "      <td>0</td>\n",
       "    </tr>\n",
       "    <tr>\n",
       "      <th>22</th>\n",
       "      <td>previous.time.to.net</td>\n",
       "      <td>float64</td>\n",
       "      <td>5000</td>\n",
       "      <td>0</td>\n",
       "    </tr>\n",
       "    <tr>\n",
       "      <th>19</th>\n",
       "      <td>opponent.distance.from.center</td>\n",
       "      <td>float64</td>\n",
       "      <td>4505</td>\n",
       "      <td>0</td>\n",
       "    </tr>\n",
       "    <tr>\n",
       "      <th>18</th>\n",
       "      <td>opponent.depth</td>\n",
       "      <td>float64</td>\n",
       "      <td>4605</td>\n",
       "      <td>0</td>\n",
       "    </tr>\n",
       "    <tr>\n",
       "      <th>17</th>\n",
       "      <td>previous.depth</td>\n",
       "      <td>float64</td>\n",
       "      <td>5000</td>\n",
       "      <td>0</td>\n",
       "    </tr>\n",
       "    <tr>\n",
       "      <th>16</th>\n",
       "      <td>previous.distance.from.sideline</td>\n",
       "      <td>float64</td>\n",
       "      <td>5000</td>\n",
       "      <td>0</td>\n",
       "    </tr>\n",
       "    <tr>\n",
       "      <th>15</th>\n",
       "      <td>previous.net.clearance</td>\n",
       "      <td>float64</td>\n",
       "      <td>5000</td>\n",
       "      <td>0</td>\n",
       "    </tr>\n",
       "    <tr>\n",
       "      <th>13</th>\n",
       "      <td>player.distance.from.center</td>\n",
       "      <td>float64</td>\n",
       "      <td>4219</td>\n",
       "      <td>0</td>\n",
       "    </tr>\n",
       "    <tr>\n",
       "      <th>12</th>\n",
       "      <td>player.depth</td>\n",
       "      <td>float64</td>\n",
       "      <td>4582</td>\n",
       "      <td>0</td>\n",
       "    </tr>\n",
       "    <tr>\n",
       "      <th>11</th>\n",
       "      <td>player.impact.distance.from.center</td>\n",
       "      <td>float64</td>\n",
       "      <td>4447</td>\n",
       "      <td>0</td>\n",
       "    </tr>\n",
       "    <tr>\n",
       "      <th>10</th>\n",
       "      <td>player.impact.depth</td>\n",
       "      <td>float64</td>\n",
       "      <td>4686</td>\n",
       "      <td>0</td>\n",
       "    </tr>\n",
       "    <tr>\n",
       "      <th>9</th>\n",
       "      <td>player.distance.travelled</td>\n",
       "      <td>float64</td>\n",
       "      <td>4991</td>\n",
       "      <td>0</td>\n",
       "    </tr>\n",
       "    <tr>\n",
       "      <th>6</th>\n",
       "      <td>depth</td>\n",
       "      <td>float64</td>\n",
       "      <td>5000</td>\n",
       "      <td>0</td>\n",
       "    </tr>\n",
       "    <tr>\n",
       "      <th>5</th>\n",
       "      <td>distance.from.sideline</td>\n",
       "      <td>float64</td>\n",
       "      <td>5000</td>\n",
       "      <td>0</td>\n",
       "    </tr>\n",
       "    <tr>\n",
       "      <th>4</th>\n",
       "      <td>net.clearance</td>\n",
       "      <td>float64</td>\n",
       "      <td>4999</td>\n",
       "      <td>0</td>\n",
       "    </tr>\n",
       "    <tr>\n",
       "      <th>3</th>\n",
       "      <td>speed</td>\n",
       "      <td>float64</td>\n",
       "      <td>5000</td>\n",
       "      <td>0</td>\n",
       "    </tr>\n",
       "    <tr>\n",
       "      <th>14</th>\n",
       "      <td>previous.speed</td>\n",
       "      <td>float64</td>\n",
       "      <td>5000</td>\n",
       "      <td>0</td>\n",
       "    </tr>\n",
       "    <tr>\n",
       "      <th>26</th>\n",
       "      <td>outcome</td>\n",
       "      <td>object</td>\n",
       "      <td>3</td>\n",
       "      <td>0</td>\n",
       "    </tr>\n",
       "    <tr>\n",
       "      <th>21</th>\n",
       "      <td>previous.hitpoint</td>\n",
       "      <td>object</td>\n",
       "      <td>4</td>\n",
       "      <td>0</td>\n",
       "    </tr>\n",
       "    <tr>\n",
       "      <th>2</th>\n",
       "      <td>hitpoint</td>\n",
       "      <td>object</td>\n",
       "      <td>4</td>\n",
       "      <td>0</td>\n",
       "    </tr>\n",
       "    <tr>\n",
       "      <th>27</th>\n",
       "      <td>gender</td>\n",
       "      <td>object</td>\n",
       "      <td>1</td>\n",
       "      <td>0</td>\n",
       "    </tr>\n",
       "  </tbody>\n",
       "</table>\n",
       "</div>"
      ],
      "text/plain": [
       "                                  Name     Type Unique NA\n",
       "23             server.is.impact.player     bool      2  0\n",
       "20                           same.side     bool      2  0\n",
       "7                     outside.sideline     bool      2  0\n",
       "8                     outside.baseline     bool      2  0\n",
       "0                                rally    int64     30  0\n",
       "1                                serve    int64      2  0\n",
       "25                               train    int64      1  0\n",
       "24                                  id    int64   5000  0\n",
       "22                previous.time.to.net  float64   5000  0\n",
       "19       opponent.distance.from.center  float64   4505  0\n",
       "18                      opponent.depth  float64   4605  0\n",
       "17                      previous.depth  float64   5000  0\n",
       "16     previous.distance.from.sideline  float64   5000  0\n",
       "15              previous.net.clearance  float64   5000  0\n",
       "13         player.distance.from.center  float64   4219  0\n",
       "12                        player.depth  float64   4582  0\n",
       "11  player.impact.distance.from.center  float64   4447  0\n",
       "10                 player.impact.depth  float64   4686  0\n",
       "9            player.distance.travelled  float64   4991  0\n",
       "6                                depth  float64   5000  0\n",
       "5               distance.from.sideline  float64   5000  0\n",
       "4                        net.clearance  float64   4999  0\n",
       "3                                speed  float64   5000  0\n",
       "14                      previous.speed  float64   5000  0\n",
       "26                             outcome   object      3  0\n",
       "21                   previous.hitpoint   object      4  0\n",
       "2                             hitpoint   object      4  0\n",
       "27                              gender   object      1  0"
      ]
     },
     "execution_count": 4,
     "metadata": {},
     "output_type": "execute_result"
    }
   ],
   "source": [
    "# Analyse data\n",
    "\n",
    "men_analyse = pd.DataFrame(columns=[\"Name\", \"Type\", \"Unique\", \"NA\"])\n",
    "\n",
    "for col in men_train.columns:\n",
    "    men_data = men_train[col]\n",
    "    men_analyse = men_analyse.append({\n",
    "        \"Name\": col, \n",
    "        \"Type\": men_data.dtype, \n",
    "        \"Unique\": men_data.nunique(), \n",
    "        \"NA\": men_data.isnull().sum()\n",
    "    }, ignore_index=True)\n",
    "\n",
    "men_analyse.sort_values(by = \"Type\")"
   ]
  },
  {
   "cell_type": "code",
   "execution_count": 438,
   "metadata": {},
   "outputs": [
    {
     "name": "stdout",
     "output_type": "stream",
     "text": [
      "43\n",
      "43\n",
      "43\n",
      "43\n",
      "(5000, 51)\n",
      "(5000,)\n",
      "(5000, 51)\n",
      "(5000,)\n",
      "(2000, 51)\n",
      "(1000, 51)\n"
     ]
    }
   ],
   "source": [
    "def speed_cat(prev_speed):\n",
    "    speed = 0\n",
    "    \n",
    "    if prev_speed < 20:\n",
    "        speed = 0\n",
    "    elif prev_speed < 25:\n",
    "        speed = 1\n",
    "    elif prev_speed < 30:\n",
    "        speed = 2\n",
    "    elif prev_speed < 35:\n",
    "        speed = 3\n",
    "    elif prev_speed < 40:\n",
    "        speed = 4\n",
    "    else:\n",
    "        speed = 5\n",
    "        \n",
    "    return speed\n",
    "\n",
    "def net_clearance(clearance):\n",
    "    net = 0\n",
    "    \n",
    "    if clearance < 0:\n",
    "        net = 0\n",
    "    elif clearance < 0.5:\n",
    "        net = 1\n",
    "    elif clearance < 1:\n",
    "        net = 2\n",
    "    elif clearance < 2:\n",
    "        net = 3\n",
    "    else:\n",
    "        net = 4\n",
    "        \n",
    "    return net\n",
    "        \n",
    "# Remove unneeded columns\n",
    "def process_data(data, gender):\n",
    "    ids = data[\"id\"].apply(lambda x: str(x) + \"_\" + gender)\n",
    "\n",
    "    cat_cols = [\"server.is.impact.player\", \"same.side\", \"outside.baseline\", \"outside.sideline\", \"serve\", \"hitpoint\", \"previous.hitpoint\"]\n",
    "    cat_cols += [\"easy.shot\", \"net.clearance.group\", \"prev.speed.group\", \"speed.group\"]\n",
    "    drop_cols = [\"id\", \"train\", \"gender\", \"outcome\", \"previous.speed\", \"speed\", \"net.clearance\"]\n",
    "#                  \"previous.speed\", \"opponent.distance.from.center\", \"previous.depth\", \"previous.net.clearance\"]\n",
    "    drop_cols += cat_cols\n",
    "    num_cols = [x for x in data.columns.tolist() if x not in drop_cols]\n",
    "#     num_cols += [\"prev.speed.group\", \"speed.group\"]\n",
    "    print(len(cat_cols) + len(drop_cols) + len(num_cols))\n",
    "    \n",
    "    new_data = data.copy()\n",
    "    \n",
    "    \n",
    "#         (men_train[\"outside.sideline\"] == False) \n",
    "#     & (men_train[\"outside.baseline\"] == False)\n",
    "#     & (men_train[\"net.clearance\"] > 0)\n",
    "\n",
    "    new_data[\"prev.speed.group\"] = new_data[\"previous.speed\"].apply(lambda x: speed_cat(x))\n",
    "    new_data[\"speed.group\"] = new_data[\"speed\"].apply(lambda x: speed_cat(x))\n",
    "#     new_data[\"over.net\"] = new_data[\"net.clearance\"] > 0\n",
    "    new_data[\"net.clearance.group\"] = new_data[\"net.clearance\"].apply(lambda x: net_clearance(x))\n",
    "    \n",
    "#     new_data[\"good.shot\"] = ((new_data[\"outside.sideline\"] == False)\n",
    "#                             & (new_data[\"outside.baseline\"] == False)\n",
    "#                             & (new_data[\"net.clearance\"] > 0))\n",
    "    \n",
    "    new_data[\"easy.shot\"] = ((new_data[\"previous.speed\"] < 30)\n",
    "    & (new_data[\"opponent.distance.from.center\"] > 2)\n",
    "    & (new_data[\"previous.depth\"] > 3)\n",
    "    & (new_data[\"previous.net.clearance\"] > 1)\n",
    "    & (new_data[\"outside.sideline\"] == False) \n",
    "    & (new_data[\"outside.baseline\"] == False)\n",
    "    & (new_data[\"net.clearance\"] > 0))\n",
    "    #     & (men_train[\"depth\"] > 0.2)\n",
    "    #     & (men_train[\"distance.from.sideline\"] > 0.2)\n",
    "    #     & (men_train[\"player.distance.travelled\"] < 4)\n",
    "    #     & (men_train[\"player.distance.from.center\"] < 1)\n",
    "    #     & (men_train[\"hitpoint\"] != \"F\")\n",
    "    \n",
    "    \n",
    "    new_data = pd.get_dummies(new_data, columns = cat_cols)\n",
    "    \n",
    "    for col in drop_cols:\n",
    "        if new_data.columns.contains(col):\n",
    "            new_data = new_data.drop([col], axis = 1)\n",
    "            \n",
    "    new_data[num_cols] = (new_data[num_cols] - new_data[num_cols].mean()) / new_data[num_cols].std()\n",
    "\n",
    "\n",
    "            \n",
    "    return ids, new_data\n",
    "\n",
    "    \n",
    "def get_train_data(data, gender):\n",
    "    new_label = data[\"outcome\"]\n",
    "    ids, new_data = process_data(data, gender)\n",
    "\n",
    "    return ids, new_data, new_label\n",
    "\n",
    "men_ids, X_men, y_men = get_train_data(men_train, \"mens\")\n",
    "women_ids, X_women, y_women = get_train_data(women_train, \"womens\")\n",
    "\n",
    "men_test_ids, X_men_test = process_data(men_test, \"mens\")\n",
    "women_test_ids, X_women_test = process_data(women_test, \"womens\")\n",
    "\n",
    "print(X_men.shape)\n",
    "print(y_men.shape)\n",
    "print(X_women.shape)\n",
    "print(y_women.shape)\n",
    "print(X_men_test.shape)\n",
    "print(X_women_test.shape)\n"
   ]
  },
  {
   "cell_type": "code",
   "execution_count": 439,
   "metadata": {},
   "outputs": [
    {
     "data": {
      "text/html": [
       "<div>\n",
       "<style>\n",
       "    .dataframe thead tr:only-child th {\n",
       "        text-align: right;\n",
       "    }\n",
       "\n",
       "    .dataframe thead th {\n",
       "        text-align: left;\n",
       "    }\n",
       "\n",
       "    .dataframe tbody tr th {\n",
       "        vertical-align: top;\n",
       "    }\n",
       "</style>\n",
       "<table border=\"1\" class=\"dataframe\">\n",
       "  <thead>\n",
       "    <tr style=\"text-align: right;\">\n",
       "      <th></th>\n",
       "      <th>rally</th>\n",
       "      <th>distance.from.sideline</th>\n",
       "      <th>depth</th>\n",
       "      <th>player.distance.travelled</th>\n",
       "      <th>player.impact.depth</th>\n",
       "      <th>player.impact.distance.from.center</th>\n",
       "      <th>player.depth</th>\n",
       "      <th>player.distance.from.center</th>\n",
       "      <th>previous.net.clearance</th>\n",
       "      <th>previous.distance.from.sideline</th>\n",
       "      <th>previous.depth</th>\n",
       "      <th>opponent.depth</th>\n",
       "      <th>opponent.distance.from.center</th>\n",
       "      <th>previous.time.to.net</th>\n",
       "      <th>server.is.impact.player_False</th>\n",
       "      <th>server.is.impact.player_True</th>\n",
       "      <th>same.side_False</th>\n",
       "      <th>same.side_True</th>\n",
       "      <th>outside.baseline_False</th>\n",
       "      <th>outside.baseline_True</th>\n",
       "      <th>outside.sideline_False</th>\n",
       "      <th>outside.sideline_True</th>\n",
       "      <th>serve_1</th>\n",
       "      <th>serve_2</th>\n",
       "      <th>hitpoint_B</th>\n",
       "      <th>...</th>\n",
       "      <th>hitpoint_U</th>\n",
       "      <th>hitpoint_V</th>\n",
       "      <th>previous.hitpoint_B</th>\n",
       "      <th>previous.hitpoint_F</th>\n",
       "      <th>previous.hitpoint_U</th>\n",
       "      <th>previous.hitpoint_V</th>\n",
       "      <th>easy.shot_False</th>\n",
       "      <th>easy.shot_True</th>\n",
       "      <th>net.clearance.group_0</th>\n",
       "      <th>net.clearance.group_1</th>\n",
       "      <th>net.clearance.group_2</th>\n",
       "      <th>net.clearance.group_3</th>\n",
       "      <th>net.clearance.group_4</th>\n",
       "      <th>prev.speed.group_0</th>\n",
       "      <th>prev.speed.group_1</th>\n",
       "      <th>prev.speed.group_2</th>\n",
       "      <th>prev.speed.group_3</th>\n",
       "      <th>prev.speed.group_4</th>\n",
       "      <th>prev.speed.group_5</th>\n",
       "      <th>speed.group_0</th>\n",
       "      <th>speed.group_1</th>\n",
       "      <th>speed.group_2</th>\n",
       "      <th>speed.group_3</th>\n",
       "      <th>speed.group_4</th>\n",
       "      <th>speed.group_5</th>\n",
       "    </tr>\n",
       "  </thead>\n",
       "  <tbody>\n",
       "    <tr>\n",
       "      <th>0</th>\n",
       "      <td>-0.556070</td>\n",
       "      <td>1.830812</td>\n",
       "      <td>0.693324</td>\n",
       "      <td>-0.808756</td>\n",
       "      <td>0.762886</td>\n",
       "      <td>-0.738909</td>\n",
       "      <td>0.612054</td>\n",
       "      <td>-1.042314</td>\n",
       "      <td>0.852426</td>\n",
       "      <td>0.330016</td>\n",
       "      <td>-1.699856</td>\n",
       "      <td>-0.018598</td>\n",
       "      <td>-0.292499</td>\n",
       "      <td>-0.516968</td>\n",
       "      <td>1</td>\n",
       "      <td>0</td>\n",
       "      <td>0</td>\n",
       "      <td>1</td>\n",
       "      <td>1</td>\n",
       "      <td>0</td>\n",
       "      <td>1</td>\n",
       "      <td>0</td>\n",
       "      <td>1</td>\n",
       "      <td>0</td>\n",
       "      <td>1</td>\n",
       "      <td>...</td>\n",
       "      <td>0</td>\n",
       "      <td>0</td>\n",
       "      <td>0</td>\n",
       "      <td>1</td>\n",
       "      <td>0</td>\n",
       "      <td>0</td>\n",
       "      <td>1</td>\n",
       "      <td>0</td>\n",
       "      <td>1</td>\n",
       "      <td>0</td>\n",
       "      <td>0</td>\n",
       "      <td>0</td>\n",
       "      <td>0</td>\n",
       "      <td>0</td>\n",
       "      <td>0</td>\n",
       "      <td>0</td>\n",
       "      <td>1</td>\n",
       "      <td>0</td>\n",
       "      <td>0</td>\n",
       "      <td>0</td>\n",
       "      <td>0</td>\n",
       "      <td>0</td>\n",
       "      <td>0</td>\n",
       "      <td>1</td>\n",
       "      <td>0</td>\n",
       "    </tr>\n",
       "    <tr>\n",
       "      <th>1</th>\n",
       "      <td>-0.556070</td>\n",
       "      <td>0.987769</td>\n",
       "      <td>-0.617805</td>\n",
       "      <td>-0.345224</td>\n",
       "      <td>0.300325</td>\n",
       "      <td>2.056659</td>\n",
       "      <td>0.166630</td>\n",
       "      <td>0.948868</td>\n",
       "      <td>-0.068022</td>\n",
       "      <td>-1.458892</td>\n",
       "      <td>-0.217178</td>\n",
       "      <td>-0.107019</td>\n",
       "      <td>1.965721</td>\n",
       "      <td>-0.584499</td>\n",
       "      <td>1</td>\n",
       "      <td>0</td>\n",
       "      <td>1</td>\n",
       "      <td>0</td>\n",
       "      <td>0</td>\n",
       "      <td>1</td>\n",
       "      <td>1</td>\n",
       "      <td>0</td>\n",
       "      <td>0</td>\n",
       "      <td>1</td>\n",
       "      <td>1</td>\n",
       "      <td>...</td>\n",
       "      <td>0</td>\n",
       "      <td>0</td>\n",
       "      <td>1</td>\n",
       "      <td>0</td>\n",
       "      <td>0</td>\n",
       "      <td>0</td>\n",
       "      <td>1</td>\n",
       "      <td>0</td>\n",
       "      <td>0</td>\n",
       "      <td>0</td>\n",
       "      <td>0</td>\n",
       "      <td>1</td>\n",
       "      <td>0</td>\n",
       "      <td>0</td>\n",
       "      <td>0</td>\n",
       "      <td>0</td>\n",
       "      <td>1</td>\n",
       "      <td>0</td>\n",
       "      <td>0</td>\n",
       "      <td>0</td>\n",
       "      <td>0</td>\n",
       "      <td>0</td>\n",
       "      <td>1</td>\n",
       "      <td>0</td>\n",
       "      <td>0</td>\n",
       "    </tr>\n",
       "    <tr>\n",
       "      <th>2</th>\n",
       "      <td>4.538600</td>\n",
       "      <td>1.883527</td>\n",
       "      <td>1.519057</td>\n",
       "      <td>0.528630</td>\n",
       "      <td>1.150147</td>\n",
       "      <td>-0.506976</td>\n",
       "      <td>0.624626</td>\n",
       "      <td>0.733424</td>\n",
       "      <td>-0.665135</td>\n",
       "      <td>-0.948881</td>\n",
       "      <td>-0.663091</td>\n",
       "      <td>0.532636</td>\n",
       "      <td>-0.601518</td>\n",
       "      <td>-0.767404</td>\n",
       "      <td>0</td>\n",
       "      <td>1</td>\n",
       "      <td>1</td>\n",
       "      <td>0</td>\n",
       "      <td>1</td>\n",
       "      <td>0</td>\n",
       "      <td>1</td>\n",
       "      <td>0</td>\n",
       "      <td>1</td>\n",
       "      <td>0</td>\n",
       "      <td>1</td>\n",
       "      <td>...</td>\n",
       "      <td>0</td>\n",
       "      <td>0</td>\n",
       "      <td>0</td>\n",
       "      <td>1</td>\n",
       "      <td>0</td>\n",
       "      <td>0</td>\n",
       "      <td>1</td>\n",
       "      <td>0</td>\n",
       "      <td>1</td>\n",
       "      <td>0</td>\n",
       "      <td>0</td>\n",
       "      <td>0</td>\n",
       "      <td>0</td>\n",
       "      <td>0</td>\n",
       "      <td>0</td>\n",
       "      <td>0</td>\n",
       "      <td>0</td>\n",
       "      <td>1</td>\n",
       "      <td>0</td>\n",
       "      <td>0</td>\n",
       "      <td>1</td>\n",
       "      <td>0</td>\n",
       "      <td>0</td>\n",
       "      <td>0</td>\n",
       "      <td>0</td>\n",
       "    </tr>\n",
       "    <tr>\n",
       "      <th>3</th>\n",
       "      <td>0.784633</td>\n",
       "      <td>-0.775933</td>\n",
       "      <td>-0.388228</td>\n",
       "      <td>-1.293952</td>\n",
       "      <td>0.619564</td>\n",
       "      <td>-1.633234</td>\n",
       "      <td>0.387663</td>\n",
       "      <td>-1.247052</td>\n",
       "      <td>0.678488</td>\n",
       "      <td>1.104211</td>\n",
       "      <td>-1.769436</td>\n",
       "      <td>0.701332</td>\n",
       "      <td>-1.712651</td>\n",
       "      <td>0.671082</td>\n",
       "      <td>0</td>\n",
       "      <td>1</td>\n",
       "      <td>0</td>\n",
       "      <td>1</td>\n",
       "      <td>1</td>\n",
       "      <td>0</td>\n",
       "      <td>0</td>\n",
       "      <td>1</td>\n",
       "      <td>1</td>\n",
       "      <td>0</td>\n",
       "      <td>0</td>\n",
       "      <td>...</td>\n",
       "      <td>0</td>\n",
       "      <td>0</td>\n",
       "      <td>1</td>\n",
       "      <td>0</td>\n",
       "      <td>0</td>\n",
       "      <td>0</td>\n",
       "      <td>1</td>\n",
       "      <td>0</td>\n",
       "      <td>0</td>\n",
       "      <td>0</td>\n",
       "      <td>1</td>\n",
       "      <td>0</td>\n",
       "      <td>0</td>\n",
       "      <td>0</td>\n",
       "      <td>0</td>\n",
       "      <td>1</td>\n",
       "      <td>0</td>\n",
       "      <td>0</td>\n",
       "      <td>0</td>\n",
       "      <td>0</td>\n",
       "      <td>0</td>\n",
       "      <td>0</td>\n",
       "      <td>0</td>\n",
       "      <td>1</td>\n",
       "      <td>0</td>\n",
       "    </tr>\n",
       "    <tr>\n",
       "      <th>4</th>\n",
       "      <td>-0.556070</td>\n",
       "      <td>-0.476397</td>\n",
       "      <td>0.286893</td>\n",
       "      <td>-0.333407</td>\n",
       "      <td>1.092496</td>\n",
       "      <td>-0.245167</td>\n",
       "      <td>0.810355</td>\n",
       "      <td>-0.963936</td>\n",
       "      <td>-0.995855</td>\n",
       "      <td>-0.646018</td>\n",
       "      <td>-0.175435</td>\n",
       "      <td>-0.526469</td>\n",
       "      <td>-1.008740</td>\n",
       "      <td>-1.066828</td>\n",
       "      <td>1</td>\n",
       "      <td>0</td>\n",
       "      <td>1</td>\n",
       "      <td>0</td>\n",
       "      <td>1</td>\n",
       "      <td>0</td>\n",
       "      <td>1</td>\n",
       "      <td>0</td>\n",
       "      <td>1</td>\n",
       "      <td>0</td>\n",
       "      <td>1</td>\n",
       "      <td>...</td>\n",
       "      <td>0</td>\n",
       "      <td>0</td>\n",
       "      <td>0</td>\n",
       "      <td>1</td>\n",
       "      <td>0</td>\n",
       "      <td>0</td>\n",
       "      <td>1</td>\n",
       "      <td>0</td>\n",
       "      <td>0</td>\n",
       "      <td>1</td>\n",
       "      <td>0</td>\n",
       "      <td>0</td>\n",
       "      <td>0</td>\n",
       "      <td>0</td>\n",
       "      <td>0</td>\n",
       "      <td>0</td>\n",
       "      <td>0</td>\n",
       "      <td>1</td>\n",
       "      <td>0</td>\n",
       "      <td>0</td>\n",
       "      <td>0</td>\n",
       "      <td>0</td>\n",
       "      <td>0</td>\n",
       "      <td>1</td>\n",
       "      <td>0</td>\n",
       "    </tr>\n",
       "  </tbody>\n",
       "</table>\n",
       "<p>5 rows × 51 columns</p>\n",
       "</div>"
      ],
      "text/plain": [
       "      rally  distance.from.sideline     depth  player.distance.travelled  \\\n",
       "0 -0.556070                1.830812  0.693324                  -0.808756   \n",
       "1 -0.556070                0.987769 -0.617805                  -0.345224   \n",
       "2  4.538600                1.883527  1.519057                   0.528630   \n",
       "3  0.784633               -0.775933 -0.388228                  -1.293952   \n",
       "4 -0.556070               -0.476397  0.286893                  -0.333407   \n",
       "\n",
       "   player.impact.depth  player.impact.distance.from.center  player.depth  \\\n",
       "0             0.762886                           -0.738909      0.612054   \n",
       "1             0.300325                            2.056659      0.166630   \n",
       "2             1.150147                           -0.506976      0.624626   \n",
       "3             0.619564                           -1.633234      0.387663   \n",
       "4             1.092496                           -0.245167      0.810355   \n",
       "\n",
       "   player.distance.from.center  previous.net.clearance  \\\n",
       "0                    -1.042314                0.852426   \n",
       "1                     0.948868               -0.068022   \n",
       "2                     0.733424               -0.665135   \n",
       "3                    -1.247052                0.678488   \n",
       "4                    -0.963936               -0.995855   \n",
       "\n",
       "   previous.distance.from.sideline  previous.depth  opponent.depth  \\\n",
       "0                         0.330016       -1.699856       -0.018598   \n",
       "1                        -1.458892       -0.217178       -0.107019   \n",
       "2                        -0.948881       -0.663091        0.532636   \n",
       "3                         1.104211       -1.769436        0.701332   \n",
       "4                        -0.646018       -0.175435       -0.526469   \n",
       "\n",
       "   opponent.distance.from.center  previous.time.to.net  \\\n",
       "0                      -0.292499             -0.516968   \n",
       "1                       1.965721             -0.584499   \n",
       "2                      -0.601518             -0.767404   \n",
       "3                      -1.712651              0.671082   \n",
       "4                      -1.008740             -1.066828   \n",
       "\n",
       "   server.is.impact.player_False  server.is.impact.player_True  \\\n",
       "0                              1                             0   \n",
       "1                              1                             0   \n",
       "2                              0                             1   \n",
       "3                              0                             1   \n",
       "4                              1                             0   \n",
       "\n",
       "   same.side_False  same.side_True  outside.baseline_False  \\\n",
       "0                0               1                       1   \n",
       "1                1               0                       0   \n",
       "2                1               0                       1   \n",
       "3                0               1                       1   \n",
       "4                1               0                       1   \n",
       "\n",
       "   outside.baseline_True  outside.sideline_False  outside.sideline_True  \\\n",
       "0                      0                       1                      0   \n",
       "1                      1                       1                      0   \n",
       "2                      0                       1                      0   \n",
       "3                      0                       0                      1   \n",
       "4                      0                       1                      0   \n",
       "\n",
       "   serve_1  serve_2  hitpoint_B      ...        hitpoint_U  hitpoint_V  \\\n",
       "0        1        0           1      ...                 0           0   \n",
       "1        0        1           1      ...                 0           0   \n",
       "2        1        0           1      ...                 0           0   \n",
       "3        1        0           0      ...                 0           0   \n",
       "4        1        0           1      ...                 0           0   \n",
       "\n",
       "   previous.hitpoint_B  previous.hitpoint_F  previous.hitpoint_U  \\\n",
       "0                    0                    1                    0   \n",
       "1                    1                    0                    0   \n",
       "2                    0                    1                    0   \n",
       "3                    1                    0                    0   \n",
       "4                    0                    1                    0   \n",
       "\n",
       "   previous.hitpoint_V  easy.shot_False  easy.shot_True  \\\n",
       "0                    0                1               0   \n",
       "1                    0                1               0   \n",
       "2                    0                1               0   \n",
       "3                    0                1               0   \n",
       "4                    0                1               0   \n",
       "\n",
       "   net.clearance.group_0  net.clearance.group_1  net.clearance.group_2  \\\n",
       "0                      1                      0                      0   \n",
       "1                      0                      0                      0   \n",
       "2                      1                      0                      0   \n",
       "3                      0                      0                      1   \n",
       "4                      0                      1                      0   \n",
       "\n",
       "   net.clearance.group_3  net.clearance.group_4  prev.speed.group_0  \\\n",
       "0                      0                      0                   0   \n",
       "1                      1                      0                   0   \n",
       "2                      0                      0                   0   \n",
       "3                      0                      0                   0   \n",
       "4                      0                      0                   0   \n",
       "\n",
       "   prev.speed.group_1  prev.speed.group_2  prev.speed.group_3  \\\n",
       "0                   0                   0                   1   \n",
       "1                   0                   0                   1   \n",
       "2                   0                   0                   0   \n",
       "3                   0                   1                   0   \n",
       "4                   0                   0                   0   \n",
       "\n",
       "   prev.speed.group_4  prev.speed.group_5  speed.group_0  speed.group_1  \\\n",
       "0                   0                   0              0              0   \n",
       "1                   0                   0              0              0   \n",
       "2                   1                   0              0              1   \n",
       "3                   0                   0              0              0   \n",
       "4                   1                   0              0              0   \n",
       "\n",
       "   speed.group_2  speed.group_3  speed.group_4  speed.group_5  \n",
       "0              0              0              1              0  \n",
       "1              0              1              0              0  \n",
       "2              0              0              0              0  \n",
       "3              0              0              1              0  \n",
       "4              0              0              1              0  \n",
       "\n",
       "[5 rows x 51 columns]"
      ]
     },
     "execution_count": 439,
     "metadata": {},
     "output_type": "execute_result"
    }
   ],
   "source": [
    "pd.options.display.max_columns = 50\n",
    "pd.options.display.max_rows = 1000\n",
    "# X_men[X_men[\"easy.shot\"] == True].shape\n",
    "X_men.head()"
   ]
  },
  {
   "cell_type": "code",
   "execution_count": 310,
   "metadata": {},
   "outputs": [
    {
     "data": {
      "text/plain": [
       "UE    860\n",
       "FE    536\n",
       "W      30\n",
       "Name: outcome, dtype: int64"
      ]
     },
     "execution_count": 310,
     "metadata": {},
     "output_type": "execute_result"
    }
   ],
   "source": [
    "men_train[men_train[\"net.clearance\"] < 0][\"outcome\"].value_counts()"
   ]
  },
  {
   "cell_type": "code",
   "execution_count": 293,
   "metadata": {},
   "outputs": [
    {
     "data": {
      "text/plain": [
       "7.7462"
      ]
     },
     "execution_count": 293,
     "metadata": {},
     "output_type": "execute_result"
    }
   ],
   "source": [
    "men_train[\"player.impact.distance.from.center\"].max()"
   ]
  },
  {
   "cell_type": "code",
   "execution_count": 1,
   "metadata": {},
   "outputs": [],
   "source": [
    "# men_train[(men_train[\"net.clearance\"] < -0.04)]"
   ]
  },
  {
   "cell_type": "code",
   "execution_count": 244,
   "metadata": {},
   "outputs": [
    {
     "data": {
      "text/plain": [
       "UE    2118\n",
       "W     1684\n",
       "FE    1198\n",
       "Name: outcome, dtype: int64"
      ]
     },
     "execution_count": 244,
     "metadata": {},
     "output_type": "execute_result"
    }
   ],
   "source": [
    "men_train[\"outcome\"].value_counts()"
   ]
  },
  {
   "cell_type": "code",
   "execution_count": 67,
   "metadata": {},
   "outputs": [
    {
     "data": {
      "text/plain": [
       "UE    625\n",
       "FE    337\n",
       "W       4\n",
       "Name: outcome, dtype: int64"
      ]
     },
     "execution_count": 67,
     "metadata": {},
     "output_type": "execute_result"
    }
   ],
   "source": [
    "men_train[(men_train[\"outside.sideline\"] == True)][\"outcome\"].value_counts()"
   ]
  },
  {
   "cell_type": "code",
   "execution_count": 68,
   "metadata": {},
   "outputs": [
    {
     "data": {
      "text/plain": [
       "UE    639\n",
       "FE    315\n",
       "W      15\n",
       "Name: outcome, dtype: int64"
      ]
     },
     "execution_count": 68,
     "metadata": {},
     "output_type": "execute_result"
    }
   ],
   "source": [
    "men_train[(men_train[\"outside.baseline\"] == True)][\"outcome\"].value_counts()"
   ]
  },
  {
   "cell_type": "code",
   "execution_count": 69,
   "metadata": {},
   "outputs": [
    {
     "data": {
      "text/plain": [
       "UE    101\n",
       "FE     55\n",
       "W       2\n",
       "Name: outcome, dtype: int64"
      ]
     },
     "execution_count": 69,
     "metadata": {},
     "output_type": "execute_result"
    }
   ],
   "source": [
    "men_train[(men_train[\"outside.sideline\"] == True) & (men_train[\"outside.baseline\"] == True)][\"outcome\"].value_counts()"
   ]
  },
  {
   "cell_type": "code",
   "execution_count": 70,
   "metadata": {},
   "outputs": [
    {
     "data": {
      "text/plain": [
       "(5000, 28)"
      ]
     },
     "execution_count": 70,
     "metadata": {},
     "output_type": "execute_result"
    }
   ],
   "source": [
    "men_train.shape"
   ]
  },
  {
   "cell_type": "code",
   "execution_count": 75,
   "metadata": {},
   "outputs": [
    {
     "data": {
      "text/plain": [
       "W     1667\n",
       "UE     955\n",
       "FE     601\n",
       "Name: outcome, dtype: int64"
      ]
     },
     "execution_count": 75,
     "metadata": {},
     "output_type": "execute_result"
    }
   ],
   "source": [
    "men_train[(men_train[\"outside.sideline\"] == False) & (men_train[\"outside.baseline\"] == False)][\"outcome\"].value_counts()"
   ]
  },
  {
   "cell_type": "code",
   "execution_count": 77,
   "metadata": {},
   "outputs": [
    {
     "data": {
      "text/plain": [
       "W     1639\n",
       "UE     131\n",
       "FE     111\n",
       "Name: outcome, dtype: int64"
      ]
     },
     "execution_count": 77,
     "metadata": {},
     "output_type": "execute_result"
    }
   ],
   "source": [
    "men_train[(men_train[\"outside.sideline\"] == False) & (men_train[\"outside.baseline\"] == False) & (men_train[\"net.clearance\"] > 0)][\"outcome\"].value_counts()"
   ]
  },
  {
   "cell_type": "code",
   "execution_count": 2,
   "metadata": {},
   "outputs": [],
   "source": [
    "# men_train[(men_train[\"outside.sideline\"] == False) & (men_train[\"outside.baseline\"] == False) & (men_train[\"net.clearance\"] > 0)]"
   ]
  },
  {
   "cell_type": "code",
   "execution_count": 3,
   "metadata": {},
   "outputs": [],
   "source": [
    "# men_train[(men_train[\"outside.sideline\"] == False) & (men_train[\"outside.baseline\"] == False) & (men_train[\"net.clearance\"] > 0) & (men_train[\"outcome\"] != \"W\")]"
   ]
  },
  {
   "cell_type": "code",
   "execution_count": 96,
   "metadata": {},
   "outputs": [
    {
     "data": {
      "text/plain": [
       "W     1639\n",
       "UE     131\n",
       "FE     111\n",
       "Name: outcome, dtype: int64"
      ]
     },
     "execution_count": 96,
     "metadata": {},
     "output_type": "execute_result"
    }
   ],
   "source": [
    "men_train[\n",
    "    (men_train[\"outside.sideline\"] == False) \n",
    "    & (men_train[\"outside.baseline\"] == False) \n",
    "    & (men_train[\"net.clearance\"] > 0)\n",
    "#     & ((men_train[\"distance.from.sideline\"] < 0.02) == False)\n",
    "#     & ((men_train[\"depth\"] < 0.02) == False)\n",
    "][\"outcome\"].value_counts()"
   ]
  },
  {
   "cell_type": "code",
   "execution_count": 99,
   "metadata": {},
   "outputs": [
    {
     "data": {
      "text/plain": [
       "W     139\n",
       "FE    106\n",
       "UE    104\n",
       "Name: outcome, dtype: int64"
      ]
     },
     "execution_count": 99,
     "metadata": {},
     "output_type": "execute_result"
    }
   ],
   "source": [
    "men_train[\n",
    "    men_train[\"hitpoint\"] == \"U\"\n",
    "][\"outcome\"].value_counts()"
   ]
  },
  {
   "cell_type": "code",
   "execution_count": null,
   "metadata": {
    "collapsed": true
   },
   "outputs": [],
   "source": [
    "# Potential features\n",
    "# Good shot\n",
    "# Bad shot\n",
    "# Easy shot\n",
    "# Hard shot"
   ]
  },
  {
   "cell_type": "code",
   "execution_count": 252,
   "metadata": {},
   "outputs": [
    {
     "data": {
      "text/plain": [
       "W     364\n",
       "UE      3\n",
       "Name: outcome, dtype: int64"
      ]
     },
     "execution_count": 252,
     "metadata": {},
     "output_type": "execute_result"
    }
   ],
   "source": [
    "men_train[\n",
    "    (men_train[\"previous.speed\"] < 30)\n",
    "    & (men_train[\"opponent.distance.from.center\"] > 2)\n",
    "    & (men_train[\"previous.depth\"] > 3)\n",
    "    & (men_train[\"previous.net.clearance\"] > 1)\n",
    "    & (men_train[\"outside.sideline\"] == False) \n",
    "    & (men_train[\"outside.baseline\"] == False)\n",
    "    & (men_train[\"net.clearance\"] > 0)\n",
    "#     & (men_train[\"depth\"] > 0.2)\n",
    "#     & (men_train[\"distance.from.sideline\"] > 0.2)\n",
    "#     & (men_train[\"player.distance.travelled\"] < 4)\n",
    "#     & (men_train[\"player.distance.from.center\"] < 1)\n",
    "#     & (men_train[\"hitpoint\"] != \"F\")\n",
    "][\"outcome\"].value_counts()"
   ]
  },
  {
   "cell_type": "code",
   "execution_count": 307,
   "metadata": {},
   "outputs": [
    {
     "data": {
      "text/plain": [
       "W     1639\n",
       "UE     131\n",
       "FE     111\n",
       "Name: outcome, dtype: int64"
      ]
     },
     "execution_count": 307,
     "metadata": {},
     "output_type": "execute_result"
    }
   ],
   "source": [
    "men_train[\n",
    "    (men_train[\"outside.sideline\"] == False) \n",
    "    & (men_train[\"outside.baseline\"] == False)\n",
    "    & (men_train[\"net.clearance\"] > 0)\n",
    "#     & (men_train[\"depth\"] > 0.2)\n",
    "#     & (men_train[\"distance.from.sideline\"] > 0.2)\n",
    "#     & (men_train[\"player.distance.travelled\"] < 4)\n",
    "#     & (men_train[\"player.distance.from.center\"] < 1)\n",
    "#     & (men_train[\"hitpoint\"] != \"F\")\n",
    "][\"outcome\"].value_counts()"
   ]
  },
  {
   "cell_type": "code",
   "execution_count": 220,
   "metadata": {},
   "outputs": [
    {
     "data": {
      "text/plain": [
       "<matplotlib.axes._subplots.AxesSubplot at 0x1743c009d68>"
      ]
     },
     "execution_count": 220,
     "metadata": {},
     "output_type": "execute_result"
    },
    {
     "data": {
      "image/png": "[encoded data removed]",
      "text/plain": [
       "<matplotlib.figure.Figure at 0x1743bf8af28>"
      ]
     },
     "metadata": {},
     "output_type": "display_data"
    }
   ],
   "source": [
    "import seaborn as sns\n",
    "%matplotlib inline\n",
    "sns.distplot(men_train[\"previous.speed\"])\n",
    "# men_train[\"previous.speed\"] < 30\n",
    "# sns.regplot(men_train[\"previous.speed\"], men_train[\"outcome\"])"
   ]
  },
  {
   "cell_type": "code",
   "execution_count": 4,
   "metadata": {},
   "outputs": [],
   "source": [
    "# men_train[(men_train[\"previous.speed\"] < 25) & (men_train[\"outcome\"] == \"UE\")]"
   ]
  },
  {
   "cell_type": "code",
   "execution_count": 416,
   "metadata": {},
   "outputs": [
    {
     "data": {
      "text/plain": [
       "<matplotlib.axes._subplots.AxesSubplot at 0x174443f39e8>"
      ]
     },
     "execution_count": 416,
     "metadata": {},
     "output_type": "execute_result"
    },
    {
     "data": {
      "image/png": "[encoded data removed]",
      "text/plain": [
       "<matplotlib.figure.Figure at 0x17443d2aef0>"
      ]
     },
     "metadata": {},
     "output_type": "display_data"
    }
   ],
   "source": [
    "sns.violinplot(men_train[\"net.clearance\"], men_train[\"outcome\"])"
   ]
  },
  {
   "cell_type": "code",
   "execution_count": 322,
   "metadata": {},
   "outputs": [
    {
     "data": {
      "text/plain": [
       "UE    589\n",
       "W     549\n",
       "FE    181\n",
       "Name: outcome, dtype: int64"
      ]
     },
     "execution_count": 322,
     "metadata": {},
     "output_type": "execute_result"
    }
   ],
   "source": [
    "men_train[(men_train[\"rally\"] < 4) & (men_train[\"server.is.impact.player\"] == True)][\"outcome\"].value_counts()"
   ]
  },
  {
   "cell_type": "code",
   "execution_count": 380,
   "metadata": {},
   "outputs": [
    {
     "data": {
      "text/plain": [
       "FE    125\n",
       "UE     18\n",
       "W      13\n",
       "Name: outcome, dtype: int64"
      ]
     },
     "execution_count": 380,
     "metadata": {},
     "output_type": "execute_result"
    }
   ],
   "source": [
    "men_train[\n",
    "    (men_train[\"previous.speed\"] > 35)\n",
    "    & ((men_train[\"previous.depth\"] < 1)\n",
    "    | (men_train[\"previous.distance.from.sideline\"] < 1))\n",
    "    & (men_train[\"previous.net.clearance\"] < 1)\n",
    "    & (men_train[\"player.distance.travelled\"] > 3)\n",
    "][\"outcome\"].value_counts()"
   ]
  },
  {
   "cell_type": "code",
   "execution_count": null,
   "metadata": {
    "collapsed": true
   },
   "outputs": [],
   "source": []
  },
  {
   "cell_type": "code",
   "execution_count": null,
   "metadata": {
    "collapsed": true
   },
   "outputs": [],
   "source": []
  },
  {
   "cell_type": "code",
   "execution_count": null,
   "metadata": {
    "collapsed": true
   },
   "outputs": [],
   "source": []
  },
  {
   "cell_type": "code",
   "execution_count": null,
   "metadata": {
    "collapsed": true
   },
   "outputs": [],
   "source": []
  },
  {
   "cell_type": "code",
   "execution_count": 440,
   "metadata": {
    "collapsed": true
   },
   "outputs": [],
   "source": [
    "reload(davemodel)\n",
    "from davemodel import MyLogisticRegression, MyRandomForest, MyXGBoost, MyBagging, MyGradientBoosting\n"
   ]
  },
  {
   "cell_type": "code",
   "execution_count": 441,
   "metadata": {
    "collapsed": true
   },
   "outputs": [],
   "source": [
    "xgb = MyXGBoost(men_test_ids, X_men, y_men, X_men_test, women_test_ids, X_women, y_women, X_women_test)"
   ]
  },
  {
   "cell_type": "code",
   "execution_count": 442,
   "metadata": {},
   "outputs": [
    {
     "name": "stdout",
     "output_type": "stream",
     "text": [
      "\n",
      "Training men...\n",
      "Log loss: 0.0655140158704\n",
      "\n",
      "Training women...\n",
      "Log loss: 0.0717281517376\n",
      "\n",
      "Predicting men...\n",
      "Prediction count: (2000, 3)\n",
      "\n",
      "Predicting women...\n",
      "Prediction count: (1000, 3)\n",
      "Creating submission...\n",
      "Done!\n",
      "Saved\n"
     ]
    }
   ],
   "source": [
    "xgb.run()"
   ]
  },
  {
   "cell_type": "code",
   "execution_count": 443,
   "metadata": {},
   "outputs": [
    {
     "name": "stdout",
     "output_type": "stream",
     "text": [
      "Log loss: 0.347882771873\n",
      "Log loss: 0.322999404865\n"
     ]
    }
   ],
   "source": [
    "xgb.evaluate()"
   ]
  },
  {
   "cell_type": "code",
   "execution_count": 446,
   "metadata": {},
   "outputs": [
    {
     "name": "stdout",
     "output_type": "stream",
     "text": [
      "\n",
      "Predicting men...\n",
      "Prediction count: (2000, 3)\n",
      "\n",
      "Predicting women...\n",
      "Prediction count: (1000, 3)\n"
     ]
    }
   ],
   "source": [
    "pred_men, pred_women = xgb.predict()"
   ]
  },
  {
   "cell_type": "code",
   "execution_count": 447,
   "metadata": {},
   "outputs": [
    {
     "name": "stdout",
     "output_type": "stream",
     "text": [
      "Creating submission...\n",
      "Done!\n"
     ]
    }
   ],
   "source": [
    "xgb.create_submission(pred_men, pred_women)"
   ]
  },
  {
   "cell_type": "code",
   "execution_count": null,
   "metadata": {
    "collapsed": true
   },
   "outputs": [],
   "source": []
  },
  {
   "cell_type": "code",
   "execution_count": null,
   "metadata": {
    "collapsed": true
   },
   "outputs": [],
   "source": []
  },
  {
   "cell_type": "code",
   "execution_count": 299,
   "metadata": {
    "collapsed": true
   },
   "outputs": [],
   "source": [
    "forest = MyRandomForest(men_test_ids, X_men, y_men, X_men_test, women_test_ids, X_women, y_women, X_women_test)"
   ]
  },
  {
   "cell_type": "code",
   "execution_count": 300,
   "metadata": {},
   "outputs": [
    {
     "name": "stdout",
     "output_type": "stream",
     "text": [
      "\n",
      "Training men...\n",
      "Log loss: 0.113053191619\n",
      "\n",
      "Training women...\n",
      "Log loss: 0.115107020642\n",
      "\n",
      "Predicting men...\n",
      "Prediction count: (2000, 3)\n",
      "\n",
      "Predicting women...\n",
      "Prediction count: (1000, 3)\n",
      "Creating submission...\n",
      "Done!\n",
      "Saved\n"
     ]
    }
   ],
   "source": [
    "forest.run()"
   ]
  },
  {
   "cell_type": "code",
   "execution_count": 301,
   "metadata": {},
   "outputs": [
    {
     "data": {
      "text/plain": [
       "{'max_depth': 13, 'max_features': 10, 'n_estimators': 60}"
      ]
     },
     "execution_count": 301,
     "metadata": {},
     "output_type": "execute_result"
    }
   ],
   "source": [
    "# forest.evaluate\n",
    "forest.model_men.best_params_"
   ]
  },
  {
   "cell_type": "code",
   "execution_count": 302,
   "metadata": {},
   "outputs": [
    {
     "data": {
      "text/plain": [
       "{'max_depth': 13, 'max_features': 20, 'n_estimators': 60}"
      ]
     },
     "execution_count": 302,
     "metadata": {},
     "output_type": "execute_result"
    }
   ],
   "source": [
    "forest.model_women.best_params_"
   ]
  },
  {
   "cell_type": "code",
   "execution_count": 303,
   "metadata": {},
   "outputs": [
    {
     "name": "stdout",
     "output_type": "stream",
     "text": [
      "Log loss: 0.381428495174\n",
      "Log loss: 0.357969562564\n"
     ]
    }
   ],
   "source": [
    "forest.evaluate()"
   ]
  },
  {
   "cell_type": "code",
   "execution_count": null,
   "metadata": {
    "collapsed": true
   },
   "outputs": [],
   "source": []
  }
 ],
 "metadata": {
  "kernelspec": {
   "display_name": "Python 3",
   "language": "python",
   "name": "python3"
  },
  "language_info": {
   "codemirror_mode": {
    "name": "ipython",
    "version": 3
   },
   "file_extension": ".py",
   "mimetype": "text/x-python",
   "name": "python",
   "nbconvert_exporter": "python",
   "pygments_lexer": "ipython3",
   "version": "3.5.2"
  }
 },
 "nbformat": 4,
 "nbformat_minor": 2
}
